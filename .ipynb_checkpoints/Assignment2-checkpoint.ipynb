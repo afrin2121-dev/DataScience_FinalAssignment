{
 "cells": [
  {
   "cell_type": "code",
   "execution_count": 2,
   "metadata": {},
   "outputs": [
    {
     "name": "stdout",
     "output_type": "stream",
     "text": [
      "Please enter your Friends Name: Afrin\n",
      "Afrinis in number: 0\n",
      "You have total friends:  10\n",
      "Afrinborn in: 1971\n"
     ]
    }
   ],
   "source": [
    "friendsName = str(input(\"Please enter your Friends Name: \"))\n",
    "friend_list = ['Afrin','Airen','Erin','Arefin','Nazifa','Momo','Priyanka','Mily','lucky','Sumaiya']\n",
    "BirthYear_list = ['1971','1899','1703','2050','1540','1220','2089','3050','2048','2040']\n",
    "\n",
    "if friendsName in friend_list:\n",
    "    print(friendsName + \"is in number: \"+str(friend_list.index(friendsName)))\n",
    "    print( \"You have total friends: \",len(friend_list))\n",
    "    print(friendsName + \"born in: \"+str(BirthYear_list[friend_list.index(friendsName)]))\n",
    "else:\n",
    "    print(\"Your freind isn't in the list\")"
   ]
  },
  {
   "cell_type": "raw",
   "metadata": {},
   "source": []
  },
  {
   "cell_type": "code",
   "execution_count": 20,
   "metadata": {},
   "outputs": [
    {
     "name": "stdout",
     "output_type": "stream",
     "text": [
      "Enter a number-543\n",
      "-345\n"
     ]
    }
   ],
   "source": [
    "\n",
    "def reverse(val):\n",
    "    flag = False\n",
    "    if val < 0:\n",
    "        val = 0 - val\n",
    "        flag = True\n",
    "    res = 0\n",
    "    p = val\n",
    "    while p > 0:\n",
    "        mod = p % 10\n",
    "        p = p // 10\n",
    "        res = res * 10 + mod\n",
    "    if flag:\n",
    "        res = 0 - res\n",
    "    return res\n",
    "\n",
    "x =int(input(\"Enter a number\"))\n",
    "output = reverse(x)\n",
    "print(output)\n"
   ]
  },
  {
   "cell_type": "code",
   "execution_count": 24,
   "metadata": {},
   "outputs": [
    {
     "name": "stdout",
     "output_type": "stream",
     "text": [
      "My name is Miushy\n"
     ]
    }
   ],
   "source": [
    "list_1 = [\"M\", \"na\", \"i\", \"Miu\"]\n",
    "list_2 = [\"y\", \"me\", \"s\", \"shy\"]\n",
    "list_3 = []\n",
    "if len(list_1) == len(list_2):\n",
    "    len1 = len(list1)\n",
    "    for i in range(0, len1):\n",
    "        list_3.append(list1[i] + list2[i])\n",
    "my_name = ' '.join(map(str, list_3))\n",
    "print(my_name)\n"
   ]
  },
  {
   "cell_type": "code",
   "execution_count": null,
   "metadata": {},
   "outputs": [],
   "source": []
  }
 ],
 "metadata": {
  "kernelspec": {
   "display_name": "Python 3",
   "language": "python",
   "name": "python3"
  },
  "language_info": {
   "codemirror_mode": {
    "name": "ipython",
    "version": 3
   },
   "file_extension": ".py",
   "mimetype": "text/x-python",
   "name": "python",
   "nbconvert_exporter": "python",
   "pygments_lexer": "ipython3",
   "version": "3.8.5"
  }
 },
 "nbformat": 4,
 "nbformat_minor": 4
}
