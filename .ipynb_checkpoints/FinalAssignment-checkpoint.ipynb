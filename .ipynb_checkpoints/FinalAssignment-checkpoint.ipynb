{
 "cells": [
  {
   "cell_type": "code",
   "execution_count": 25,
   "metadata": {},
   "outputs": [],
   "source": [
    "import pandas as pd\n",
    "import numpy as np\n",
    "import datetime\n",
    "from os import listdir\n",
    "from os.path import isfile, join\n",
    "import glob \n",
    "import re\n",
    "import plotly.graph_objects as go\n",
    "import matplotlib.pyplot as plt # Use for plotting. \"plt\" is an alias for calling matplotlib.pyplot\n",
    "from matplotlib import style # to set the grid style \n",
    "import matplotlib.animation as animation\n",
    "%matplotlib inline"
   ]
  },
  {
   "cell_type": "code",
   "execution_count": 26,
   "metadata": {},
   "outputs": [
    {
     "data": {
      "text/html": [
       "<div>\n",
       "<style scoped>\n",
       "    .dataframe tbody tr th:only-of-type {\n",
       "        vertical-align: middle;\n",
       "    }\n",
       "\n",
       "    .dataframe tbody tr th {\n",
       "        vertical-align: top;\n",
       "    }\n",
       "\n",
       "    .dataframe thead th {\n",
       "        text-align: right;\n",
       "    }\n",
       "</style>\n",
       "<table border=\"1\" class=\"dataframe\">\n",
       "  <thead>\n",
       "    <tr style=\"text-align: right;\">\n",
       "      <th></th>\n",
       "      <th>Time Stamp</th>\n",
       "      <th>Name of the candidate</th>\n",
       "      <th>Contact</th>\n",
       "      <th>Email id</th>\n",
       "      <th>College name</th>\n",
       "      <th>Brach</th>\n",
       "      <th>People having laptop</th>\n",
       "      <th>Souce of communication</th>\n",
       "      <th>Unnamed: 8</th>\n",
       "      <th>Unnamed: 9</th>\n",
       "      <th>Country</th>\n",
       "    </tr>\n",
       "  </thead>\n",
       "  <tbody>\n",
       "    <tr>\n",
       "      <th>0</th>\n",
       "      <td>8/24/2020 17:01:39</td>\n",
       "      <td>A.S.M. Raquibul Hasan</td>\n",
       "      <td>01722577922</td>\n",
       "      <td>raquibul.nsu@gmail.com</td>\n",
       "      <td>United International University</td>\n",
       "      <td>others</td>\n",
       "      <td>Yes</td>\n",
       "      <td>Facebook</td>\n",
       "      <td>NaN</td>\n",
       "      <td>NaN</td>\n",
       "      <td>Bangladesh</td>\n",
       "    </tr>\n",
       "    <tr>\n",
       "      <th>1</th>\n",
       "      <td>8/24/2020 10:08:54</td>\n",
       "      <td>Abdullah</td>\n",
       "      <td>NaN</td>\n",
       "      <td>sharif3abdullah@gmail.com</td>\n",
       "      <td>IIT</td>\n",
       "      <td>Engineering</td>\n",
       "      <td>NaN</td>\n",
       "      <td>NaN</td>\n",
       "      <td>NaN</td>\n",
       "      <td>NaN</td>\n",
       "      <td>Bangladesh</td>\n",
       "    </tr>\n",
       "    <tr>\n",
       "      <th>2</th>\n",
       "      <td>8/24/2020 9:20:28</td>\n",
       "      <td>Abdullah Bin Murad</td>\n",
       "      <td>01552443554</td>\n",
       "      <td>abmrifat54@gmail.com</td>\n",
       "      <td>Shahjalal University of Science and Technology</td>\n",
       "      <td>Engineering</td>\n",
       "      <td>Yes</td>\n",
       "      <td>NaN</td>\n",
       "      <td>NaN</td>\n",
       "      <td>NaN</td>\n",
       "      <td>Bangladesh</td>\n",
       "    </tr>\n",
       "    <tr>\n",
       "      <th>3</th>\n",
       "      <td>7/28/2020 12:16:30</td>\n",
       "      <td>Abhijoy Mukherjee</td>\n",
       "      <td>7003206060</td>\n",
       "      <td>abhijoymukherjee01@gmail.com</td>\n",
       "      <td>Asutosh College</td>\n",
       "      <td>Statistics</td>\n",
       "      <td>Yes</td>\n",
       "      <td>Friend</td>\n",
       "      <td>4.0</td>\n",
       "      <td>NaN</td>\n",
       "      <td>India</td>\n",
       "    </tr>\n",
       "    <tr>\n",
       "      <th>4</th>\n",
       "      <td>7/10/2020 13:56:14</td>\n",
       "      <td>Abhipreeti Acharjee</td>\n",
       "      <td>8274839744</td>\n",
       "      <td>deepamandal007@gmail.com</td>\n",
       "      <td>DEPARTMENT OF PURE MATHEMATICS, UNIVERSITY OF ...</td>\n",
       "      <td>PURE MATHEMATICS</td>\n",
       "      <td>Yes</td>\n",
       "      <td>NaN</td>\n",
       "      <td>2.0</td>\n",
       "      <td>NaN</td>\n",
       "      <td>India</td>\n",
       "    </tr>\n",
       "    <tr>\n",
       "      <th>...</th>\n",
       "      <td>...</td>\n",
       "      <td>...</td>\n",
       "      <td>...</td>\n",
       "      <td>...</td>\n",
       "      <td>...</td>\n",
       "      <td>...</td>\n",
       "      <td>...</td>\n",
       "      <td>...</td>\n",
       "      <td>...</td>\n",
       "      <td>...</td>\n",
       "      <td>...</td>\n",
       "    </tr>\n",
       "    <tr>\n",
       "      <th>963</th>\n",
       "      <td>1/22/2021 22:06:24</td>\n",
       "      <td>Ramanish Banerjee</td>\n",
       "      <td>8017179702</td>\n",
       "      <td>banerjeeramanish@gmail.com</td>\n",
       "      <td>MAULANA AZAD COLLEGE</td>\n",
       "      <td>Honors (BSC/MSC)</td>\n",
       "      <td>Yes</td>\n",
       "      <td>NaN</td>\n",
       "      <td>NaN</td>\n",
       "      <td>NaN</td>\n",
       "      <td>NaN</td>\n",
       "    </tr>\n",
       "    <tr>\n",
       "      <th>964</th>\n",
       "      <td>1/22/2021 22:46:21</td>\n",
       "      <td>Jinia Banerjee</td>\n",
       "      <td>6289719175</td>\n",
       "      <td>jiniabanerjee9727@gmail.com</td>\n",
       "      <td>Maulona Azad College</td>\n",
       "      <td>Honors (BSC/MSC)</td>\n",
       "      <td>No</td>\n",
       "      <td>NaN</td>\n",
       "      <td>NaN</td>\n",
       "      <td>NaN</td>\n",
       "      <td>NaN</td>\n",
       "    </tr>\n",
       "    <tr>\n",
       "      <th>965</th>\n",
       "      <td>1/23/2021 10:57:08</td>\n",
       "      <td>Md Safiqul Islam</td>\n",
       "      <td>8250955315</td>\n",
       "      <td>safiqulislam6006@gmail.com</td>\n",
       "      <td>Maulana Azad College</td>\n",
       "      <td>Honors (BSC/MSC)</td>\n",
       "      <td>Yes</td>\n",
       "      <td>NaN</td>\n",
       "      <td>NaN</td>\n",
       "      <td>NaN</td>\n",
       "      <td>NaN</td>\n",
       "    </tr>\n",
       "    <tr>\n",
       "      <th>966</th>\n",
       "      <td>1/23/2021 12:27:32</td>\n",
       "      <td>Soumojit Chatterjee</td>\n",
       "      <td>8101726672</td>\n",
       "      <td>imsoumojit@yahoo.com</td>\n",
       "      <td>Maulana Azad College</td>\n",
       "      <td>Honors (BSC/MSC)</td>\n",
       "      <td>Yes</td>\n",
       "      <td>NaN</td>\n",
       "      <td>NaN</td>\n",
       "      <td>NaN</td>\n",
       "      <td>NaN</td>\n",
       "    </tr>\n",
       "    <tr>\n",
       "      <th>967</th>\n",
       "      <td>1/23/2021 17:37:35</td>\n",
       "      <td>Debanjan Bhattacharjee</td>\n",
       "      <td>6290909245</td>\n",
       "      <td>debanjanbhattacharjee2002@gmail.com</td>\n",
       "      <td>Maulana Azad College</td>\n",
       "      <td>Honors (BSC/MSC)</td>\n",
       "      <td>Yes</td>\n",
       "      <td>NaN</td>\n",
       "      <td>NaN</td>\n",
       "      <td>NaN</td>\n",
       "      <td>NaN</td>\n",
       "    </tr>\n",
       "  </tbody>\n",
       "</table>\n",
       "<p>968 rows × 11 columns</p>\n",
       "</div>"
      ],
      "text/plain": [
       "            Time Stamp   Name of the candidate      Contact   \\\n",
       "0    8/24/2020 17:01:39  A.S.M. Raquibul Hasan   01722577922   \n",
       "1    8/24/2020 10:08:54                Abdullah          NaN   \n",
       "2     8/24/2020 9:20:28    Abdullah Bin Murad    01552443554   \n",
       "3    7/28/2020 12:16:30       Abhijoy Mukherjee   7003206060   \n",
       "4    7/10/2020 13:56:14     Abhipreeti Acharjee   8274839744   \n",
       "..                  ...                     ...          ...   \n",
       "963  1/22/2021 22:06:24       Ramanish Banerjee   8017179702   \n",
       "964  1/22/2021 22:46:21          Jinia Banerjee   6289719175   \n",
       "965  1/23/2021 10:57:08        Md Safiqul Islam   8250955315   \n",
       "966  1/23/2021 12:27:32     Soumojit Chatterjee   8101726672   \n",
       "967  1/23/2021 17:37:35  Debanjan Bhattacharjee   6290909245   \n",
       "\n",
       "                               Email id   \\\n",
       "0                 raquibul.nsu@gmail.com   \n",
       "1              sharif3abdullah@gmail.com   \n",
       "2                   abmrifat54@gmail.com   \n",
       "3           abhijoymukherjee01@gmail.com   \n",
       "4               deepamandal007@gmail.com   \n",
       "..                                   ...   \n",
       "963           banerjeeramanish@gmail.com   \n",
       "964          jiniabanerjee9727@gmail.com   \n",
       "965           safiqulislam6006@gmail.com   \n",
       "966                 imsoumojit@yahoo.com   \n",
       "967  debanjanbhattacharjee2002@gmail.com   \n",
       "\n",
       "                                         College name             Brach   \\\n",
       "0                     United International University             others   \n",
       "1                                                  IIT       Engineering   \n",
       "2       Shahjalal University of Science and Technology       Engineering   \n",
       "3                                      Asutosh College        Statistics   \n",
       "4    DEPARTMENT OF PURE MATHEMATICS, UNIVERSITY OF ...  PURE MATHEMATICS   \n",
       "..                                                 ...               ...   \n",
       "963                               MAULANA AZAD COLLEGE  Honors (BSC/MSC)   \n",
       "964                               Maulona Azad College  Honors (BSC/MSC)   \n",
       "965                               Maulana Azad College  Honors (BSC/MSC)   \n",
       "966                               Maulana Azad College  Honors (BSC/MSC)   \n",
       "967                               Maulana Azad College  Honors (BSC/MSC)   \n",
       "\n",
       "    People having laptop  Souce of communication   Unnamed: 8  Unnamed: 9  \\\n",
       "0                     Yes               Facebook          NaN         NaN   \n",
       "1                     NaN                     NaN         NaN         NaN   \n",
       "2                     Yes                     NaN         NaN         NaN   \n",
       "3                     Yes                  Friend         4.0         NaN   \n",
       "4                     Yes                     NaN         2.0         NaN   \n",
       "..                    ...                     ...         ...         ...   \n",
       "963                   Yes                     NaN         NaN         NaN   \n",
       "964                    No                     NaN         NaN         NaN   \n",
       "965                   Yes                     NaN         NaN         NaN   \n",
       "966                   Yes                     NaN         NaN         NaN   \n",
       "967                   Yes                     NaN         NaN         NaN   \n",
       "\n",
       "       Country   \n",
       "0    Bangladesh  \n",
       "1    Bangladesh  \n",
       "2    Bangladesh  \n",
       "3         India  \n",
       "4         India  \n",
       "..          ...  \n",
       "963         NaN  \n",
       "964         NaN  \n",
       "965         NaN  \n",
       "966         NaN  \n",
       "967         NaN  \n",
       "\n",
       "[968 rows x 11 columns]"
      ]
     },
     "execution_count": 26,
     "metadata": {},
     "output_type": "execute_result"
    }
   ],
   "source": [
    "df = pd.read_csv(\"Miushy Afrin - free_session_information.csv\")\n",
    "df"
   ]
  },
  {
   "cell_type": "code",
   "execution_count": 27,
   "metadata": {},
   "outputs": [
    {
     "data": {
      "text/plain": [
       "pandas.core.frame.DataFrame"
      ]
     },
     "execution_count": 27,
     "metadata": {},
     "output_type": "execute_result"
    }
   ],
   "source": [
    "type(df)"
   ]
  },
  {
   "cell_type": "code",
   "execution_count": 28,
   "metadata": {},
   "outputs": [
    {
     "data": {
      "text/plain": [
       "(968, 11)"
      ]
     },
     "execution_count": 28,
     "metadata": {},
     "output_type": "execute_result"
    }
   ],
   "source": [
    "df.shape"
   ]
  },
  {
   "cell_type": "code",
   "execution_count": 29,
   "metadata": {},
   "outputs": [
    {
     "name": "stdout",
     "output_type": "stream",
     "text": [
      "<class 'pandas.core.frame.DataFrame'>\n",
      "RangeIndex: 968 entries, 0 to 967\n",
      "Data columns (total 11 columns):\n",
      " #   Column                   Non-Null Count  Dtype  \n",
      "---  ------                   --------------  -----  \n",
      " 0   Time Stamp               948 non-null    object \n",
      " 1   Name of the candidate    947 non-null    object \n",
      " 2   Contact                  909 non-null    object \n",
      " 3   Email id                 946 non-null    object \n",
      " 4   College name             940 non-null    object \n",
      " 5   Brach                    933 non-null    object \n",
      " 6   People having laptop     940 non-null    object \n",
      " 7   Souce of communication   432 non-null    object \n",
      " 8   Unnamed: 8               318 non-null    float64\n",
      " 9   Unnamed: 9               0 non-null      float64\n",
      " 10  Country                  476 non-null    object \n",
      "dtypes: float64(2), object(9)\n",
      "memory usage: 83.3+ KB\n"
     ]
    }
   ],
   "source": [
    "df.info()\n",
    "#missing value"
   ]
  },
  {
   "cell_type": "code",
   "execution_count": 30,
   "metadata": {},
   "outputs": [
    {
     "data": {
      "text/plain": [
       "Index(['Unnamed: 8', 'Unnamed: 9'], dtype='object')"
      ]
     },
     "execution_count": 30,
     "metadata": {},
     "output_type": "execute_result"
    }
   ],
   "source": [
    "df.columns[[8,9]]"
   ]
  },
  {
   "cell_type": "code",
   "execution_count": 31,
   "metadata": {},
   "outputs": [
    {
     "data": {
      "text/plain": [
       "Time Stamp                  20\n",
       "Name of the candidate       21\n",
       "Contact                     59\n",
       "Email id                    22\n",
       "College name                28\n",
       "Brach                       35\n",
       "People having laptop        28\n",
       "Souce of communication     536\n",
       "Unnamed: 8                 650\n",
       "Unnamed: 9                 968\n",
       "Country                    492\n",
       "dtype: int64"
      ]
     },
     "execution_count": 31,
     "metadata": {},
     "output_type": "execute_result"
    }
   ],
   "source": [
    "df.isna().sum()"
   ]
  },
  {
   "cell_type": "code",
   "execution_count": 32,
   "metadata": {},
   "outputs": [
    {
     "data": {
      "text/html": [
       "<div>\n",
       "<style scoped>\n",
       "    .dataframe tbody tr th:only-of-type {\n",
       "        vertical-align: middle;\n",
       "    }\n",
       "\n",
       "    .dataframe tbody tr th {\n",
       "        vertical-align: top;\n",
       "    }\n",
       "\n",
       "    .dataframe thead th {\n",
       "        text-align: right;\n",
       "    }\n",
       "</style>\n",
       "<table border=\"1\" class=\"dataframe\">\n",
       "  <thead>\n",
       "    <tr style=\"text-align: right;\">\n",
       "      <th></th>\n",
       "      <th>Time Stamp</th>\n",
       "      <th>Name of the candidate</th>\n",
       "      <th>Contact</th>\n",
       "      <th>Email id</th>\n",
       "      <th>College name</th>\n",
       "      <th>Brach</th>\n",
       "      <th>People having laptop</th>\n",
       "      <th>Souce of communication</th>\n",
       "      <th>Country</th>\n",
       "    </tr>\n",
       "  </thead>\n",
       "  <tbody>\n",
       "    <tr>\n",
       "      <th>0</th>\n",
       "      <td>8/24/2020 17:01:39</td>\n",
       "      <td>A.S.M. Raquibul Hasan</td>\n",
       "      <td>01722577922</td>\n",
       "      <td>raquibul.nsu@gmail.com</td>\n",
       "      <td>United International University</td>\n",
       "      <td>others</td>\n",
       "      <td>Yes</td>\n",
       "      <td>Facebook</td>\n",
       "      <td>Bangladesh</td>\n",
       "    </tr>\n",
       "    <tr>\n",
       "      <th>1</th>\n",
       "      <td>8/24/2020 10:08:54</td>\n",
       "      <td>Abdullah</td>\n",
       "      <td>NaN</td>\n",
       "      <td>sharif3abdullah@gmail.com</td>\n",
       "      <td>IIT</td>\n",
       "      <td>Engineering</td>\n",
       "      <td>NaN</td>\n",
       "      <td>NaN</td>\n",
       "      <td>Bangladesh</td>\n",
       "    </tr>\n",
       "    <tr>\n",
       "      <th>2</th>\n",
       "      <td>8/24/2020 9:20:28</td>\n",
       "      <td>Abdullah Bin Murad</td>\n",
       "      <td>01552443554</td>\n",
       "      <td>abmrifat54@gmail.com</td>\n",
       "      <td>Shahjalal University of Science and Technology</td>\n",
       "      <td>Engineering</td>\n",
       "      <td>Yes</td>\n",
       "      <td>NaN</td>\n",
       "      <td>Bangladesh</td>\n",
       "    </tr>\n",
       "    <tr>\n",
       "      <th>3</th>\n",
       "      <td>7/28/2020 12:16:30</td>\n",
       "      <td>Abhijoy Mukherjee</td>\n",
       "      <td>7003206060</td>\n",
       "      <td>abhijoymukherjee01@gmail.com</td>\n",
       "      <td>Asutosh College</td>\n",
       "      <td>Statistics</td>\n",
       "      <td>Yes</td>\n",
       "      <td>Friend</td>\n",
       "      <td>India</td>\n",
       "    </tr>\n",
       "    <tr>\n",
       "      <th>4</th>\n",
       "      <td>7/10/2020 13:56:14</td>\n",
       "      <td>Abhipreeti Acharjee</td>\n",
       "      <td>8274839744</td>\n",
       "      <td>deepamandal007@gmail.com</td>\n",
       "      <td>DEPARTMENT OF PURE MATHEMATICS, UNIVERSITY OF ...</td>\n",
       "      <td>PURE MATHEMATICS</td>\n",
       "      <td>Yes</td>\n",
       "      <td>NaN</td>\n",
       "      <td>India</td>\n",
       "    </tr>\n",
       "    <tr>\n",
       "      <th>...</th>\n",
       "      <td>...</td>\n",
       "      <td>...</td>\n",
       "      <td>...</td>\n",
       "      <td>...</td>\n",
       "      <td>...</td>\n",
       "      <td>...</td>\n",
       "      <td>...</td>\n",
       "      <td>...</td>\n",
       "      <td>...</td>\n",
       "    </tr>\n",
       "    <tr>\n",
       "      <th>963</th>\n",
       "      <td>1/22/2021 22:06:24</td>\n",
       "      <td>Ramanish Banerjee</td>\n",
       "      <td>8017179702</td>\n",
       "      <td>banerjeeramanish@gmail.com</td>\n",
       "      <td>MAULANA AZAD COLLEGE</td>\n",
       "      <td>Honors (BSC/MSC)</td>\n",
       "      <td>Yes</td>\n",
       "      <td>NaN</td>\n",
       "      <td>NaN</td>\n",
       "    </tr>\n",
       "    <tr>\n",
       "      <th>964</th>\n",
       "      <td>1/22/2021 22:46:21</td>\n",
       "      <td>Jinia Banerjee</td>\n",
       "      <td>6289719175</td>\n",
       "      <td>jiniabanerjee9727@gmail.com</td>\n",
       "      <td>Maulona Azad College</td>\n",
       "      <td>Honors (BSC/MSC)</td>\n",
       "      <td>No</td>\n",
       "      <td>NaN</td>\n",
       "      <td>NaN</td>\n",
       "    </tr>\n",
       "    <tr>\n",
       "      <th>965</th>\n",
       "      <td>1/23/2021 10:57:08</td>\n",
       "      <td>Md Safiqul Islam</td>\n",
       "      <td>8250955315</td>\n",
       "      <td>safiqulislam6006@gmail.com</td>\n",
       "      <td>Maulana Azad College</td>\n",
       "      <td>Honors (BSC/MSC)</td>\n",
       "      <td>Yes</td>\n",
       "      <td>NaN</td>\n",
       "      <td>NaN</td>\n",
       "    </tr>\n",
       "    <tr>\n",
       "      <th>966</th>\n",
       "      <td>1/23/2021 12:27:32</td>\n",
       "      <td>Soumojit Chatterjee</td>\n",
       "      <td>8101726672</td>\n",
       "      <td>imsoumojit@yahoo.com</td>\n",
       "      <td>Maulana Azad College</td>\n",
       "      <td>Honors (BSC/MSC)</td>\n",
       "      <td>Yes</td>\n",
       "      <td>NaN</td>\n",
       "      <td>NaN</td>\n",
       "    </tr>\n",
       "    <tr>\n",
       "      <th>967</th>\n",
       "      <td>1/23/2021 17:37:35</td>\n",
       "      <td>Debanjan Bhattacharjee</td>\n",
       "      <td>6290909245</td>\n",
       "      <td>debanjanbhattacharjee2002@gmail.com</td>\n",
       "      <td>Maulana Azad College</td>\n",
       "      <td>Honors (BSC/MSC)</td>\n",
       "      <td>Yes</td>\n",
       "      <td>NaN</td>\n",
       "      <td>NaN</td>\n",
       "    </tr>\n",
       "  </tbody>\n",
       "</table>\n",
       "<p>968 rows × 9 columns</p>\n",
       "</div>"
      ],
      "text/plain": [
       "            Time Stamp   Name of the candidate      Contact   \\\n",
       "0    8/24/2020 17:01:39  A.S.M. Raquibul Hasan   01722577922   \n",
       "1    8/24/2020 10:08:54                Abdullah          NaN   \n",
       "2     8/24/2020 9:20:28    Abdullah Bin Murad    01552443554   \n",
       "3    7/28/2020 12:16:30       Abhijoy Mukherjee   7003206060   \n",
       "4    7/10/2020 13:56:14     Abhipreeti Acharjee   8274839744   \n",
       "..                  ...                     ...          ...   \n",
       "963  1/22/2021 22:06:24       Ramanish Banerjee   8017179702   \n",
       "964  1/22/2021 22:46:21          Jinia Banerjee   6289719175   \n",
       "965  1/23/2021 10:57:08        Md Safiqul Islam   8250955315   \n",
       "966  1/23/2021 12:27:32     Soumojit Chatterjee   8101726672   \n",
       "967  1/23/2021 17:37:35  Debanjan Bhattacharjee   6290909245   \n",
       "\n",
       "                               Email id   \\\n",
       "0                 raquibul.nsu@gmail.com   \n",
       "1              sharif3abdullah@gmail.com   \n",
       "2                   abmrifat54@gmail.com   \n",
       "3           abhijoymukherjee01@gmail.com   \n",
       "4               deepamandal007@gmail.com   \n",
       "..                                   ...   \n",
       "963           banerjeeramanish@gmail.com   \n",
       "964          jiniabanerjee9727@gmail.com   \n",
       "965           safiqulislam6006@gmail.com   \n",
       "966                 imsoumojit@yahoo.com   \n",
       "967  debanjanbhattacharjee2002@gmail.com   \n",
       "\n",
       "                                         College name             Brach   \\\n",
       "0                     United International University             others   \n",
       "1                                                  IIT       Engineering   \n",
       "2       Shahjalal University of Science and Technology       Engineering   \n",
       "3                                      Asutosh College        Statistics   \n",
       "4    DEPARTMENT OF PURE MATHEMATICS, UNIVERSITY OF ...  PURE MATHEMATICS   \n",
       "..                                                 ...               ...   \n",
       "963                               MAULANA AZAD COLLEGE  Honors (BSC/MSC)   \n",
       "964                               Maulona Azad College  Honors (BSC/MSC)   \n",
       "965                               Maulana Azad College  Honors (BSC/MSC)   \n",
       "966                               Maulana Azad College  Honors (BSC/MSC)   \n",
       "967                               Maulana Azad College  Honors (BSC/MSC)   \n",
       "\n",
       "    People having laptop  Souce of communication     Country   \n",
       "0                     Yes               Facebook   Bangladesh  \n",
       "1                     NaN                     NaN  Bangladesh  \n",
       "2                     Yes                     NaN  Bangladesh  \n",
       "3                     Yes                  Friend       India  \n",
       "4                     Yes                     NaN       India  \n",
       "..                    ...                     ...         ...  \n",
       "963                   Yes                     NaN         NaN  \n",
       "964                    No                     NaN         NaN  \n",
       "965                   Yes                     NaN         NaN  \n",
       "966                   Yes                     NaN         NaN  \n",
       "967                   Yes                     NaN         NaN  \n",
       "\n",
       "[968 rows x 9 columns]"
      ]
     },
     "execution_count": 32,
     "metadata": {},
     "output_type": "execute_result"
    }
   ],
   "source": [
    "#dropping unnamed columns\n",
    "cols = [8,9]\n",
    "df1=df.drop(df.columns[cols],axis=1)\n",
    "df1"
   ]
  },
  {
   "cell_type": "code",
   "execution_count": 33,
   "metadata": {},
   "outputs": [
    {
     "data": {
      "text/html": [
       "<div>\n",
       "<style scoped>\n",
       "    .dataframe tbody tr th:only-of-type {\n",
       "        vertical-align: middle;\n",
       "    }\n",
       "\n",
       "    .dataframe tbody tr th {\n",
       "        vertical-align: top;\n",
       "    }\n",
       "\n",
       "    .dataframe thead th {\n",
       "        text-align: right;\n",
       "    }\n",
       "</style>\n",
       "<table border=\"1\" class=\"dataframe\">\n",
       "  <thead>\n",
       "    <tr style=\"text-align: right;\">\n",
       "      <th></th>\n",
       "      <th>Time Stamp</th>\n",
       "      <th>Name of the candidate</th>\n",
       "      <th>Contact</th>\n",
       "      <th>Email id</th>\n",
       "      <th>College name</th>\n",
       "      <th>Brach</th>\n",
       "      <th>People having laptop</th>\n",
       "      <th>Souce of communication</th>\n",
       "      <th>Country</th>\n",
       "    </tr>\n",
       "  </thead>\n",
       "  <tbody>\n",
       "    <tr>\n",
       "      <th>0</th>\n",
       "      <td>8/24/2020 17:01:39</td>\n",
       "      <td>A.S.M. Raquibul Hasan</td>\n",
       "      <td>01722577922</td>\n",
       "      <td>raquibul.nsu@gmail.com</td>\n",
       "      <td>United International University</td>\n",
       "      <td>others</td>\n",
       "      <td>Yes</td>\n",
       "      <td>Facebook</td>\n",
       "      <td>Bangladesh</td>\n",
       "    </tr>\n",
       "    <tr>\n",
       "      <th>1</th>\n",
       "      <td>8/24/2020 10:08:54</td>\n",
       "      <td>Abdullah</td>\n",
       "      <td>NaN</td>\n",
       "      <td>sharif3abdullah@gmail.com</td>\n",
       "      <td>IIT</td>\n",
       "      <td>Engineering</td>\n",
       "      <td>NaN</td>\n",
       "      <td>NaN</td>\n",
       "      <td>Bangladesh</td>\n",
       "    </tr>\n",
       "    <tr>\n",
       "      <th>2</th>\n",
       "      <td>8/24/2020 9:20:28</td>\n",
       "      <td>Abdullah Bin Murad</td>\n",
       "      <td>01552443554</td>\n",
       "      <td>abmrifat54@gmail.com</td>\n",
       "      <td>Shahjalal University of Science and Technology</td>\n",
       "      <td>Engineering</td>\n",
       "      <td>Yes</td>\n",
       "      <td>NaN</td>\n",
       "      <td>Bangladesh</td>\n",
       "    </tr>\n",
       "    <tr>\n",
       "      <th>3</th>\n",
       "      <td>7/28/2020 12:16:30</td>\n",
       "      <td>Abhijoy Mukherjee</td>\n",
       "      <td>7003206060</td>\n",
       "      <td>abhijoymukherjee01@gmail.com</td>\n",
       "      <td>Asutosh College</td>\n",
       "      <td>Statistics</td>\n",
       "      <td>Yes</td>\n",
       "      <td>Friend</td>\n",
       "      <td>India</td>\n",
       "    </tr>\n",
       "    <tr>\n",
       "      <th>4</th>\n",
       "      <td>7/10/2020 13:56:14</td>\n",
       "      <td>Abhipreeti Acharjee</td>\n",
       "      <td>8274839744</td>\n",
       "      <td>deepamandal007@gmail.com</td>\n",
       "      <td>DEPARTMENT OF PURE MATHEMATICS, UNIVERSITY OF ...</td>\n",
       "      <td>PURE MATHEMATICS</td>\n",
       "      <td>Yes</td>\n",
       "      <td>NaN</td>\n",
       "      <td>India</td>\n",
       "    </tr>\n",
       "    <tr>\n",
       "      <th>...</th>\n",
       "      <td>...</td>\n",
       "      <td>...</td>\n",
       "      <td>...</td>\n",
       "      <td>...</td>\n",
       "      <td>...</td>\n",
       "      <td>...</td>\n",
       "      <td>...</td>\n",
       "      <td>...</td>\n",
       "      <td>...</td>\n",
       "    </tr>\n",
       "    <tr>\n",
       "      <th>963</th>\n",
       "      <td>1/22/2021 22:06:24</td>\n",
       "      <td>Ramanish Banerjee</td>\n",
       "      <td>8017179702</td>\n",
       "      <td>banerjeeramanish@gmail.com</td>\n",
       "      <td>MAULANA AZAD COLLEGE</td>\n",
       "      <td>Honors (BSC/MSC)</td>\n",
       "      <td>Yes</td>\n",
       "      <td>NaN</td>\n",
       "      <td>NaN</td>\n",
       "    </tr>\n",
       "    <tr>\n",
       "      <th>964</th>\n",
       "      <td>1/22/2021 22:46:21</td>\n",
       "      <td>Jinia Banerjee</td>\n",
       "      <td>6289719175</td>\n",
       "      <td>jiniabanerjee9727@gmail.com</td>\n",
       "      <td>Maulona Azad College</td>\n",
       "      <td>Honors (BSC/MSC)</td>\n",
       "      <td>No</td>\n",
       "      <td>NaN</td>\n",
       "      <td>NaN</td>\n",
       "    </tr>\n",
       "    <tr>\n",
       "      <th>965</th>\n",
       "      <td>1/23/2021 10:57:08</td>\n",
       "      <td>Md Safiqul Islam</td>\n",
       "      <td>8250955315</td>\n",
       "      <td>safiqulislam6006@gmail.com</td>\n",
       "      <td>Maulana Azad College</td>\n",
       "      <td>Honors (BSC/MSC)</td>\n",
       "      <td>Yes</td>\n",
       "      <td>NaN</td>\n",
       "      <td>NaN</td>\n",
       "    </tr>\n",
       "    <tr>\n",
       "      <th>966</th>\n",
       "      <td>1/23/2021 12:27:32</td>\n",
       "      <td>Soumojit Chatterjee</td>\n",
       "      <td>8101726672</td>\n",
       "      <td>imsoumojit@yahoo.com</td>\n",
       "      <td>Maulana Azad College</td>\n",
       "      <td>Honors (BSC/MSC)</td>\n",
       "      <td>Yes</td>\n",
       "      <td>NaN</td>\n",
       "      <td>NaN</td>\n",
       "    </tr>\n",
       "    <tr>\n",
       "      <th>967</th>\n",
       "      <td>1/23/2021 17:37:35</td>\n",
       "      <td>Debanjan Bhattacharjee</td>\n",
       "      <td>6290909245</td>\n",
       "      <td>debanjanbhattacharjee2002@gmail.com</td>\n",
       "      <td>Maulana Azad College</td>\n",
       "      <td>Honors (BSC/MSC)</td>\n",
       "      <td>Yes</td>\n",
       "      <td>NaN</td>\n",
       "      <td>NaN</td>\n",
       "    </tr>\n",
       "  </tbody>\n",
       "</table>\n",
       "<p>948 rows × 9 columns</p>\n",
       "</div>"
      ],
      "text/plain": [
       "            Time Stamp   Name of the candidate      Contact   \\\n",
       "0    8/24/2020 17:01:39  A.S.M. Raquibul Hasan   01722577922   \n",
       "1    8/24/2020 10:08:54                Abdullah          NaN   \n",
       "2     8/24/2020 9:20:28    Abdullah Bin Murad    01552443554   \n",
       "3    7/28/2020 12:16:30       Abhijoy Mukherjee   7003206060   \n",
       "4    7/10/2020 13:56:14     Abhipreeti Acharjee   8274839744   \n",
       "..                  ...                     ...          ...   \n",
       "963  1/22/2021 22:06:24       Ramanish Banerjee   8017179702   \n",
       "964  1/22/2021 22:46:21          Jinia Banerjee   6289719175   \n",
       "965  1/23/2021 10:57:08        Md Safiqul Islam   8250955315   \n",
       "966  1/23/2021 12:27:32     Soumojit Chatterjee   8101726672   \n",
       "967  1/23/2021 17:37:35  Debanjan Bhattacharjee   6290909245   \n",
       "\n",
       "                               Email id   \\\n",
       "0                 raquibul.nsu@gmail.com   \n",
       "1              sharif3abdullah@gmail.com   \n",
       "2                   abmrifat54@gmail.com   \n",
       "3           abhijoymukherjee01@gmail.com   \n",
       "4               deepamandal007@gmail.com   \n",
       "..                                   ...   \n",
       "963           banerjeeramanish@gmail.com   \n",
       "964          jiniabanerjee9727@gmail.com   \n",
       "965           safiqulislam6006@gmail.com   \n",
       "966                 imsoumojit@yahoo.com   \n",
       "967  debanjanbhattacharjee2002@gmail.com   \n",
       "\n",
       "                                         College name             Brach   \\\n",
       "0                     United International University             others   \n",
       "1                                                  IIT       Engineering   \n",
       "2       Shahjalal University of Science and Technology       Engineering   \n",
       "3                                      Asutosh College        Statistics   \n",
       "4    DEPARTMENT OF PURE MATHEMATICS, UNIVERSITY OF ...  PURE MATHEMATICS   \n",
       "..                                                 ...               ...   \n",
       "963                               MAULANA AZAD COLLEGE  Honors (BSC/MSC)   \n",
       "964                               Maulona Azad College  Honors (BSC/MSC)   \n",
       "965                               Maulana Azad College  Honors (BSC/MSC)   \n",
       "966                               Maulana Azad College  Honors (BSC/MSC)   \n",
       "967                               Maulana Azad College  Honors (BSC/MSC)   \n",
       "\n",
       "    People having laptop  Souce of communication     Country   \n",
       "0                     Yes               Facebook   Bangladesh  \n",
       "1                     NaN                     NaN  Bangladesh  \n",
       "2                     Yes                     NaN  Bangladesh  \n",
       "3                     Yes                  Friend       India  \n",
       "4                     Yes                     NaN       India  \n",
       "..                    ...                     ...         ...  \n",
       "963                   Yes                     NaN         NaN  \n",
       "964                    No                     NaN         NaN  \n",
       "965                   Yes                     NaN         NaN  \n",
       "966                   Yes                     NaN         NaN  \n",
       "967                   Yes                     NaN         NaN  \n",
       "\n",
       "[948 rows x 9 columns]"
      ]
     },
     "execution_count": 33,
     "metadata": {},
     "output_type": "execute_result"
    }
   ],
   "source": [
    "#Droping all the rows where all values are nan\n",
    "df1.dropna(how='all')"
   ]
  },
  {
   "cell_type": "code",
   "execution_count": 34,
   "metadata": {},
   "outputs": [
    {
     "data": {
      "text/plain": [
       "Time Stamp                  20\n",
       "Name of the candidate       21\n",
       "Contact                     59\n",
       "Email id                    22\n",
       "College name                28\n",
       "Brach                       35\n",
       "People having laptop        28\n",
       "Souce of communication     536\n",
       "Country                    492\n",
       "dtype: int64"
      ]
     },
     "execution_count": 34,
     "metadata": {},
     "output_type": "execute_result"
    }
   ],
   "source": [
    "df1.isna().sum()"
   ]
  },
  {
   "cell_type": "code",
   "execution_count": 35,
   "metadata": {},
   "outputs": [],
   "source": [
    "#Saving Clean data of Free Session\n",
    "df2=df1.to_csv('cleanfile1.csv') "
   ]
  },
  {
   "cell_type": "code",
   "execution_count": 36,
   "metadata": {},
   "outputs": [],
   "source": [
    "\n",
    "df2"
   ]
  },
  {
   "cell_type": "markdown",
   "metadata": {},
   "source": [
    "# Batch Information Data cleaning"
   ]
  },
  {
   "cell_type": "code",
   "execution_count": 37,
   "metadata": {},
   "outputs": [
    {
     "data": {
      "text/html": [
       "<div>\n",
       "<style scoped>\n",
       "    .dataframe tbody tr th:only-of-type {\n",
       "        vertical-align: middle;\n",
       "    }\n",
       "\n",
       "    .dataframe tbody tr th {\n",
       "        vertical-align: top;\n",
       "    }\n",
       "\n",
       "    .dataframe thead th {\n",
       "        text-align: right;\n",
       "    }\n",
       "</style>\n",
       "<table border=\"1\" class=\"dataframe\">\n",
       "  <thead>\n",
       "    <tr style=\"text-align: right;\">\n",
       "      <th></th>\n",
       "      <th>Time</th>\n",
       "      <th>Email Address</th>\n",
       "      <th>Name</th>\n",
       "      <th>How well you guys are understanding the covered topics ?</th>\n",
       "      <th>Rate our way of training</th>\n",
       "      <th>How well your queries are getting solved</th>\n",
       "      <th>Would you like to join our full time course ?</th>\n",
       "      <th>Would you like to recommend this course to others ?</th>\n",
       "      <th>Would you like to apply for paid internship programme by Softanbees  ?</th>\n",
       "      <th>Your suggestion for improving the training programme (Any other queries)</th>\n",
       "      <th>Please describe Here</th>\n",
       "      <th>Please describe here</th>\n",
       "      <th>Would you like to recommend this course to others ?.1</th>\n",
       "    </tr>\n",
       "  </thead>\n",
       "  <tbody>\n",
       "    <tr>\n",
       "      <th>0</th>\n",
       "      <td>8/1/20 23:05</td>\n",
       "      <td>deepanjan325@gmail.com</td>\n",
       "      <td>Deepanjan Biswas</td>\n",
       "      <td>5.0</td>\n",
       "      <td>5.0</td>\n",
       "      <td>5.0</td>\n",
       "      <td>Yes</td>\n",
       "      <td>Yes</td>\n",
       "      <td>Yes</td>\n",
       "      <td>NaN</td>\n",
       "      <td>NaN</td>\n",
       "      <td>NaN</td>\n",
       "      <td>NaN</td>\n",
       "    </tr>\n",
       "    <tr>\n",
       "      <th>1</th>\n",
       "      <td>8/1/20 23:06</td>\n",
       "      <td>ranubanerjee1984@gmail.com</td>\n",
       "      <td>RANU BANERJEE</td>\n",
       "      <td>5.0</td>\n",
       "      <td>5.0</td>\n",
       "      <td>5.0</td>\n",
       "      <td>Maybe</td>\n",
       "      <td>Yes</td>\n",
       "      <td>Maybe</td>\n",
       "      <td>NO</td>\n",
       "      <td>No</td>\n",
       "      <td>NaN</td>\n",
       "      <td>NaN</td>\n",
       "    </tr>\n",
       "    <tr>\n",
       "      <th>2</th>\n",
       "      <td>8/1/20 23:08</td>\n",
       "      <td>sharmisthaad@gmail.com</td>\n",
       "      <td>Sharmistha Adhikari</td>\n",
       "      <td>1.0</td>\n",
       "      <td>1.0</td>\n",
       "      <td>1.0</td>\n",
       "      <td>Maybe</td>\n",
       "      <td>Yes</td>\n",
       "      <td>Maybe</td>\n",
       "      <td>NaN</td>\n",
       "      <td>NaN</td>\n",
       "      <td>NaN</td>\n",
       "      <td>NaN</td>\n",
       "    </tr>\n",
       "    <tr>\n",
       "      <th>3</th>\n",
       "      <td>8/1/20 23:10</td>\n",
       "      <td>saikat20171@gmail.com</td>\n",
       "      <td>Saikat Mitra</td>\n",
       "      <td>4.0</td>\n",
       "      <td>5.0</td>\n",
       "      <td>5.0</td>\n",
       "      <td>Maybe</td>\n",
       "      <td>Yes</td>\n",
       "      <td>Yes</td>\n",
       "      <td>All is well</td>\n",
       "      <td>NaN</td>\n",
       "      <td>NaN</td>\n",
       "      <td>NaN</td>\n",
       "    </tr>\n",
       "    <tr>\n",
       "      <th>4</th>\n",
       "      <td>8/1/20 23:10</td>\n",
       "      <td>rahulroystat36@gmail.com</td>\n",
       "      <td>Rahul Roy</td>\n",
       "      <td>5.0</td>\n",
       "      <td>5.0</td>\n",
       "      <td>5.0</td>\n",
       "      <td>Yes</td>\n",
       "      <td>Yes</td>\n",
       "      <td>Yes</td>\n",
       "      <td>I want to know if you r going to tell us how t...</td>\n",
       "      <td>NaN</td>\n",
       "      <td>NaN</td>\n",
       "      <td>NaN</td>\n",
       "    </tr>\n",
       "    <tr>\n",
       "      <th>...</th>\n",
       "      <td>...</td>\n",
       "      <td>...</td>\n",
       "      <td>...</td>\n",
       "      <td>...</td>\n",
       "      <td>...</td>\n",
       "      <td>...</td>\n",
       "      <td>...</td>\n",
       "      <td>...</td>\n",
       "      <td>...</td>\n",
       "      <td>...</td>\n",
       "      <td>...</td>\n",
       "      <td>...</td>\n",
       "      <td>...</td>\n",
       "    </tr>\n",
       "    <tr>\n",
       "      <th>160</th>\n",
       "      <td>8/28/2020 12:15:37</td>\n",
       "      <td>souravkr2025@gmail.com</td>\n",
       "      <td>Sourav Kumar Dan</td>\n",
       "      <td>3.0</td>\n",
       "      <td>4.0</td>\n",
       "      <td>4.0</td>\n",
       "      <td>Yes</td>\n",
       "      <td>NaN</td>\n",
       "      <td>No</td>\n",
       "      <td>NaN</td>\n",
       "      <td>NaN</td>\n",
       "      <td>No</td>\n",
       "      <td>No</td>\n",
       "    </tr>\n",
       "    <tr>\n",
       "      <th>161</th>\n",
       "      <td>8/28/2020 20:45:00</td>\n",
       "      <td>srijani.adhikary13@gmail.com</td>\n",
       "      <td>Srijani Adhikary</td>\n",
       "      <td>5.0</td>\n",
       "      <td>5.0</td>\n",
       "      <td>5.0</td>\n",
       "      <td>Maybe</td>\n",
       "      <td>NaN</td>\n",
       "      <td>Maybe</td>\n",
       "      <td>No</td>\n",
       "      <td>NaN</td>\n",
       "      <td>NaN</td>\n",
       "      <td>Yes</td>\n",
       "    </tr>\n",
       "    <tr>\n",
       "      <th>162</th>\n",
       "      <td>8/28/2020 20:45:07</td>\n",
       "      <td>suvargha2000@gmail.com</td>\n",
       "      <td>Suvargha Ghosh Dastidar</td>\n",
       "      <td>4.0</td>\n",
       "      <td>5.0</td>\n",
       "      <td>5.0</td>\n",
       "      <td>Maybe</td>\n",
       "      <td>NaN</td>\n",
       "      <td>Maybe</td>\n",
       "      <td>The training programme was quite good.</td>\n",
       "      <td>NaN</td>\n",
       "      <td>NaN</td>\n",
       "      <td>Yes</td>\n",
       "    </tr>\n",
       "    <tr>\n",
       "      <th>163</th>\n",
       "      <td>8/28/2020 21:19:05</td>\n",
       "      <td>titutitasdey@gmail.com</td>\n",
       "      <td>Titas Dey</td>\n",
       "      <td>5.0</td>\n",
       "      <td>5.0</td>\n",
       "      <td>5.0</td>\n",
       "      <td>Maybe</td>\n",
       "      <td>NaN</td>\n",
       "      <td>Maybe</td>\n",
       "      <td>NaN</td>\n",
       "      <td>NaN</td>\n",
       "      <td>NaN</td>\n",
       "      <td>Yes</td>\n",
       "    </tr>\n",
       "    <tr>\n",
       "      <th>164</th>\n",
       "      <td>8/28/2020 21:58:42</td>\n",
       "      <td>trishadutta25042001@gmail.com</td>\n",
       "      <td>Trisha Dutta</td>\n",
       "      <td>4.0</td>\n",
       "      <td>4.0</td>\n",
       "      <td>5.0</td>\n",
       "      <td>Yes</td>\n",
       "      <td>NaN</td>\n",
       "      <td>Maybe</td>\n",
       "      <td>Training program is good</td>\n",
       "      <td>NaN</td>\n",
       "      <td>NaN</td>\n",
       "      <td>Yes</td>\n",
       "    </tr>\n",
       "  </tbody>\n",
       "</table>\n",
       "<p>165 rows × 13 columns</p>\n",
       "</div>"
      ],
      "text/plain": [
       "                   Time                  Email Address  \\\n",
       "0          8/1/20 23:05         deepanjan325@gmail.com   \n",
       "1          8/1/20 23:06     ranubanerjee1984@gmail.com   \n",
       "2          8/1/20 23:08         sharmisthaad@gmail.com   \n",
       "3          8/1/20 23:10          saikat20171@gmail.com   \n",
       "4          8/1/20 23:10       rahulroystat36@gmail.com   \n",
       "..                  ...                            ...   \n",
       "160  8/28/2020 12:15:37         souravkr2025@gmail.com   \n",
       "161  8/28/2020 20:45:00   srijani.adhikary13@gmail.com   \n",
       "162  8/28/2020 20:45:07         suvargha2000@gmail.com   \n",
       "163  8/28/2020 21:19:05         titutitasdey@gmail.com   \n",
       "164  8/28/2020 21:58:42  trishadutta25042001@gmail.com   \n",
       "\n",
       "                        Name  \\\n",
       "0           Deepanjan Biswas   \n",
       "1              RANU BANERJEE   \n",
       "2        Sharmistha Adhikari   \n",
       "3               Saikat Mitra   \n",
       "4                  Rahul Roy   \n",
       "..                       ...   \n",
       "160         Sourav Kumar Dan   \n",
       "161         Srijani Adhikary   \n",
       "162  Suvargha Ghosh Dastidar   \n",
       "163                Titas Dey   \n",
       "164             Trisha Dutta   \n",
       "\n",
       "     How well you guys are understanding the covered topics ?  \\\n",
       "0                                                  5.0          \n",
       "1                                                  5.0          \n",
       "2                                                  1.0          \n",
       "3                                                  4.0          \n",
       "4                                                  5.0          \n",
       "..                                                 ...          \n",
       "160                                                3.0          \n",
       "161                                                5.0          \n",
       "162                                                4.0          \n",
       "163                                                5.0          \n",
       "164                                                4.0          \n",
       "\n",
       "     Rate our way of training  How well your queries are getting solved   \\\n",
       "0                         5.0                                        5.0   \n",
       "1                         5.0                                        5.0   \n",
       "2                         1.0                                        1.0   \n",
       "3                         5.0                                        5.0   \n",
       "4                         5.0                                        5.0   \n",
       "..                        ...                                        ...   \n",
       "160                       4.0                                        4.0   \n",
       "161                       5.0                                        5.0   \n",
       "162                       5.0                                        5.0   \n",
       "163                       5.0                                        5.0   \n",
       "164                       4.0                                        5.0   \n",
       "\n",
       "    Would you like to join our full time course ?  \\\n",
       "0                                             Yes   \n",
       "1                                           Maybe   \n",
       "2                                           Maybe   \n",
       "3                                           Maybe   \n",
       "4                                             Yes   \n",
       "..                                            ...   \n",
       "160                                           Yes   \n",
       "161                                         Maybe   \n",
       "162                                         Maybe   \n",
       "163                                         Maybe   \n",
       "164                                           Yes   \n",
       "\n",
       "    Would you like to recommend this course to others ?  \\\n",
       "0                                                  Yes    \n",
       "1                                                  Yes    \n",
       "2                                                  Yes    \n",
       "3                                                  Yes    \n",
       "4                                                  Yes    \n",
       "..                                                 ...    \n",
       "160                                                NaN    \n",
       "161                                                NaN    \n",
       "162                                                NaN    \n",
       "163                                                NaN    \n",
       "164                                                NaN    \n",
       "\n",
       "    Would you like to apply for paid internship programme by Softanbees  ?  \\\n",
       "0                                                  Yes                       \n",
       "1                                                Maybe                       \n",
       "2                                                Maybe                       \n",
       "3                                                  Yes                       \n",
       "4                                                  Yes                       \n",
       "..                                                 ...                       \n",
       "160                                                 No                       \n",
       "161                                              Maybe                       \n",
       "162                                              Maybe                       \n",
       "163                                              Maybe                       \n",
       "164                                              Maybe                       \n",
       "\n",
       "    Your suggestion for improving the training programme (Any other queries)  \\\n",
       "0                                                  NaN                         \n",
       "1                                                   NO                         \n",
       "2                                                  NaN                         \n",
       "3                                          All is well                         \n",
       "4    I want to know if you r going to tell us how t...                         \n",
       "..                                                 ...                         \n",
       "160                                                NaN                         \n",
       "161                                                No                          \n",
       "162            The training programme was quite good.                          \n",
       "163                                                NaN                         \n",
       "164                           Training program is good                         \n",
       "\n",
       "    Please describe Here Please describe here  \\\n",
       "0                    NaN                  NaN   \n",
       "1                     No                  NaN   \n",
       "2                    NaN                  NaN   \n",
       "3                    NaN                  NaN   \n",
       "4                    NaN                  NaN   \n",
       "..                   ...                  ...   \n",
       "160                  NaN                   No   \n",
       "161                  NaN                  NaN   \n",
       "162                  NaN                  NaN   \n",
       "163                  NaN                  NaN   \n",
       "164                  NaN                  NaN   \n",
       "\n",
       "    Would you like to recommend this course to others ?.1  \n",
       "0                                                  NaN     \n",
       "1                                                  NaN     \n",
       "2                                                  NaN     \n",
       "3                                                  NaN     \n",
       "4                                                  NaN     \n",
       "..                                                 ...     \n",
       "160                                                 No     \n",
       "161                                                Yes     \n",
       "162                                                Yes     \n",
       "163                                                Yes     \n",
       "164                                                Yes     \n",
       "\n",
       "[165 rows x 13 columns]"
      ]
     },
     "execution_count": 37,
     "metadata": {},
     "output_type": "execute_result"
    }
   ],
   "source": [
    "df3 = pd.read_csv(\"Miushy Afrin - batch_inforamtion.csv\")\n",
    "df3"
   ]
  },
  {
   "cell_type": "code",
   "execution_count": 38,
   "metadata": {},
   "outputs": [
    {
     "data": {
      "text/plain": [
       "pandas.core.frame.DataFrame"
      ]
     },
     "execution_count": 38,
     "metadata": {},
     "output_type": "execute_result"
    }
   ],
   "source": [
    "type(df3)"
   ]
  },
  {
   "cell_type": "code",
   "execution_count": 39,
   "metadata": {},
   "outputs": [
    {
     "data": {
      "text/plain": [
       "(165, 13)"
      ]
     },
     "execution_count": 39,
     "metadata": {},
     "output_type": "execute_result"
    }
   ],
   "source": [
    "df3.shape"
   ]
  },
  {
   "cell_type": "code",
   "execution_count": 40,
   "metadata": {},
   "outputs": [
    {
     "name": "stdout",
     "output_type": "stream",
     "text": [
      "<class 'pandas.core.frame.DataFrame'>\n",
      "RangeIndex: 165 entries, 0 to 164\n",
      "Data columns (total 13 columns):\n",
      " #   Column                                                                    Non-Null Count  Dtype  \n",
      "---  ------                                                                    --------------  -----  \n",
      " 0    Time                                                                     163 non-null    object \n",
      " 1   Email Address                                                             163 non-null    object \n",
      " 2   Name                                                                      163 non-null    object \n",
      " 3   How well you guys are understanding the covered topics ?                  163 non-null    float64\n",
      " 4   Rate our way of training                                                  163 non-null    float64\n",
      " 5   How well your queries are getting solved                                  163 non-null    float64\n",
      " 6   Would you like to join our full time course ?                             163 non-null    object \n",
      " 7   Would you like to recommend this course to others ?                       67 non-null     object \n",
      " 8   Would you like to apply for paid internship programme by Softanbees  ?    163 non-null    object \n",
      " 9   Your suggestion for improving the training programme (Any other queries)  77 non-null     object \n",
      " 10  Please describe Here                                                      34 non-null     object \n",
      " 11  Please describe here                                                      2 non-null      object \n",
      " 12  Would you like to recommend this course to others ?.1                     96 non-null     object \n",
      "dtypes: float64(3), object(10)\n",
      "memory usage: 16.9+ KB\n"
     ]
    }
   ],
   "source": [
    "df3.info()"
   ]
  },
  {
   "cell_type": "code",
   "execution_count": 41,
   "metadata": {},
   "outputs": [
    {
     "data": {
      "text/plain": [
       " Time                                                                         2\n",
       "Email Address                                                                 2\n",
       "Name                                                                          2\n",
       "How well you guys are understanding the covered topics ?                      2\n",
       "Rate our way of training                                                      2\n",
       "How well your queries are getting solved                                      2\n",
       "Would you like to join our full time course ?                                 2\n",
       "Would you like to recommend this course to others ?                          98\n",
       "Would you like to apply for paid internship programme by Softanbees  ?        2\n",
       "Your suggestion for improving the training programme (Any other queries)     88\n",
       "Please describe Here                                                        131\n",
       "Please describe here                                                        163\n",
       "Would you like to recommend this course to others ?.1                        69\n",
       "dtype: int64"
      ]
     },
     "execution_count": 41,
     "metadata": {},
     "output_type": "execute_result"
    }
   ],
   "source": [
    "df3.isna().sum()"
   ]
  },
  {
   "cell_type": "code",
   "execution_count": 42,
   "metadata": {},
   "outputs": [
    {
     "data": {
      "text/plain": [
       "Index(['Please describe Here', 'Please describe here'], dtype='object')"
      ]
     },
     "execution_count": 42,
     "metadata": {},
     "output_type": "execute_result"
    }
   ],
   "source": [
    "df3.columns[[10,11]]\n",
    "#This two column is repeatative.And also has highest number of null value that is 131 & 163."
   ]
  },
  {
   "cell_type": "code",
   "execution_count": 43,
   "metadata": {},
   "outputs": [
    {
     "data": {
      "text/plain": [
       "Index(['Would you like to recommend this course to others ?', 'Would you like to recommend this course to others ?.1'], dtype='object')"
      ]
     },
     "execution_count": 43,
     "metadata": {},
     "output_type": "execute_result"
    }
   ],
   "source": [
    "df3.columns[[7,12]]"
   ]
  },
  {
   "cell_type": "code",
   "execution_count": null,
   "metadata": {},
   "outputs": [],
   "source": [
    "#This two column are same but column 7 has more nan value. "
   ]
  },
  {
   "cell_type": "code",
   "execution_count": 44,
   "metadata": {
    "scrolled": true
   },
   "outputs": [
    {
     "data": {
      "text/html": [
       "<div>\n",
       "<style scoped>\n",
       "    .dataframe tbody tr th:only-of-type {\n",
       "        vertical-align: middle;\n",
       "    }\n",
       "\n",
       "    .dataframe tbody tr th {\n",
       "        vertical-align: top;\n",
       "    }\n",
       "\n",
       "    .dataframe thead th {\n",
       "        text-align: right;\n",
       "    }\n",
       "</style>\n",
       "<table border=\"1\" class=\"dataframe\">\n",
       "  <thead>\n",
       "    <tr style=\"text-align: right;\">\n",
       "      <th></th>\n",
       "      <th>Time</th>\n",
       "      <th>Email Address</th>\n",
       "      <th>Name</th>\n",
       "      <th>How well you guys are understanding the covered topics ?</th>\n",
       "      <th>Rate our way of training</th>\n",
       "      <th>How well your queries are getting solved</th>\n",
       "      <th>Would you like to join our full time course ?</th>\n",
       "      <th>Would you like to recommend this course to others ?</th>\n",
       "      <th>Would you like to apply for paid internship programme by Softanbees  ?</th>\n",
       "      <th>Your suggestion for improving the training programme (Any other queries)</th>\n",
       "      <th>Would you like to recommend this course to others ?.1</th>\n",
       "    </tr>\n",
       "  </thead>\n",
       "  <tbody>\n",
       "    <tr>\n",
       "      <th>0</th>\n",
       "      <td>8/1/20 23:05</td>\n",
       "      <td>deepanjan325@gmail.com</td>\n",
       "      <td>Deepanjan Biswas</td>\n",
       "      <td>5.0</td>\n",
       "      <td>5.0</td>\n",
       "      <td>5.0</td>\n",
       "      <td>Yes</td>\n",
       "      <td>Yes</td>\n",
       "      <td>Yes</td>\n",
       "      <td>NaN</td>\n",
       "      <td>NaN</td>\n",
       "    </tr>\n",
       "    <tr>\n",
       "      <th>1</th>\n",
       "      <td>8/1/20 23:06</td>\n",
       "      <td>ranubanerjee1984@gmail.com</td>\n",
       "      <td>RANU BANERJEE</td>\n",
       "      <td>5.0</td>\n",
       "      <td>5.0</td>\n",
       "      <td>5.0</td>\n",
       "      <td>Maybe</td>\n",
       "      <td>Yes</td>\n",
       "      <td>Maybe</td>\n",
       "      <td>NO</td>\n",
       "      <td>NaN</td>\n",
       "    </tr>\n",
       "    <tr>\n",
       "      <th>2</th>\n",
       "      <td>8/1/20 23:08</td>\n",
       "      <td>sharmisthaad@gmail.com</td>\n",
       "      <td>Sharmistha Adhikari</td>\n",
       "      <td>1.0</td>\n",
       "      <td>1.0</td>\n",
       "      <td>1.0</td>\n",
       "      <td>Maybe</td>\n",
       "      <td>Yes</td>\n",
       "      <td>Maybe</td>\n",
       "      <td>NaN</td>\n",
       "      <td>NaN</td>\n",
       "    </tr>\n",
       "    <tr>\n",
       "      <th>3</th>\n",
       "      <td>8/1/20 23:10</td>\n",
       "      <td>saikat20171@gmail.com</td>\n",
       "      <td>Saikat Mitra</td>\n",
       "      <td>4.0</td>\n",
       "      <td>5.0</td>\n",
       "      <td>5.0</td>\n",
       "      <td>Maybe</td>\n",
       "      <td>Yes</td>\n",
       "      <td>Yes</td>\n",
       "      <td>All is well</td>\n",
       "      <td>NaN</td>\n",
       "    </tr>\n",
       "    <tr>\n",
       "      <th>4</th>\n",
       "      <td>8/1/20 23:10</td>\n",
       "      <td>rahulroystat36@gmail.com</td>\n",
       "      <td>Rahul Roy</td>\n",
       "      <td>5.0</td>\n",
       "      <td>5.0</td>\n",
       "      <td>5.0</td>\n",
       "      <td>Yes</td>\n",
       "      <td>Yes</td>\n",
       "      <td>Yes</td>\n",
       "      <td>I want to know if you r going to tell us how t...</td>\n",
       "      <td>NaN</td>\n",
       "    </tr>\n",
       "    <tr>\n",
       "      <th>...</th>\n",
       "      <td>...</td>\n",
       "      <td>...</td>\n",
       "      <td>...</td>\n",
       "      <td>...</td>\n",
       "      <td>...</td>\n",
       "      <td>...</td>\n",
       "      <td>...</td>\n",
       "      <td>...</td>\n",
       "      <td>...</td>\n",
       "      <td>...</td>\n",
       "      <td>...</td>\n",
       "    </tr>\n",
       "    <tr>\n",
       "      <th>160</th>\n",
       "      <td>8/28/2020 12:15:37</td>\n",
       "      <td>souravkr2025@gmail.com</td>\n",
       "      <td>Sourav Kumar Dan</td>\n",
       "      <td>3.0</td>\n",
       "      <td>4.0</td>\n",
       "      <td>4.0</td>\n",
       "      <td>Yes</td>\n",
       "      <td>NaN</td>\n",
       "      <td>No</td>\n",
       "      <td>NaN</td>\n",
       "      <td>No</td>\n",
       "    </tr>\n",
       "    <tr>\n",
       "      <th>161</th>\n",
       "      <td>8/28/2020 20:45:00</td>\n",
       "      <td>srijani.adhikary13@gmail.com</td>\n",
       "      <td>Srijani Adhikary</td>\n",
       "      <td>5.0</td>\n",
       "      <td>5.0</td>\n",
       "      <td>5.0</td>\n",
       "      <td>Maybe</td>\n",
       "      <td>NaN</td>\n",
       "      <td>Maybe</td>\n",
       "      <td>No</td>\n",
       "      <td>Yes</td>\n",
       "    </tr>\n",
       "    <tr>\n",
       "      <th>162</th>\n",
       "      <td>8/28/2020 20:45:07</td>\n",
       "      <td>suvargha2000@gmail.com</td>\n",
       "      <td>Suvargha Ghosh Dastidar</td>\n",
       "      <td>4.0</td>\n",
       "      <td>5.0</td>\n",
       "      <td>5.0</td>\n",
       "      <td>Maybe</td>\n",
       "      <td>NaN</td>\n",
       "      <td>Maybe</td>\n",
       "      <td>The training programme was quite good.</td>\n",
       "      <td>Yes</td>\n",
       "    </tr>\n",
       "    <tr>\n",
       "      <th>163</th>\n",
       "      <td>8/28/2020 21:19:05</td>\n",
       "      <td>titutitasdey@gmail.com</td>\n",
       "      <td>Titas Dey</td>\n",
       "      <td>5.0</td>\n",
       "      <td>5.0</td>\n",
       "      <td>5.0</td>\n",
       "      <td>Maybe</td>\n",
       "      <td>NaN</td>\n",
       "      <td>Maybe</td>\n",
       "      <td>NaN</td>\n",
       "      <td>Yes</td>\n",
       "    </tr>\n",
       "    <tr>\n",
       "      <th>164</th>\n",
       "      <td>8/28/2020 21:58:42</td>\n",
       "      <td>trishadutta25042001@gmail.com</td>\n",
       "      <td>Trisha Dutta</td>\n",
       "      <td>4.0</td>\n",
       "      <td>4.0</td>\n",
       "      <td>5.0</td>\n",
       "      <td>Yes</td>\n",
       "      <td>NaN</td>\n",
       "      <td>Maybe</td>\n",
       "      <td>Training program is good</td>\n",
       "      <td>Yes</td>\n",
       "    </tr>\n",
       "  </tbody>\n",
       "</table>\n",
       "<p>165 rows × 11 columns</p>\n",
       "</div>"
      ],
      "text/plain": [
       "                   Time                  Email Address  \\\n",
       "0          8/1/20 23:05         deepanjan325@gmail.com   \n",
       "1          8/1/20 23:06     ranubanerjee1984@gmail.com   \n",
       "2          8/1/20 23:08         sharmisthaad@gmail.com   \n",
       "3          8/1/20 23:10          saikat20171@gmail.com   \n",
       "4          8/1/20 23:10       rahulroystat36@gmail.com   \n",
       "..                  ...                            ...   \n",
       "160  8/28/2020 12:15:37         souravkr2025@gmail.com   \n",
       "161  8/28/2020 20:45:00   srijani.adhikary13@gmail.com   \n",
       "162  8/28/2020 20:45:07         suvargha2000@gmail.com   \n",
       "163  8/28/2020 21:19:05         titutitasdey@gmail.com   \n",
       "164  8/28/2020 21:58:42  trishadutta25042001@gmail.com   \n",
       "\n",
       "                        Name  \\\n",
       "0           Deepanjan Biswas   \n",
       "1              RANU BANERJEE   \n",
       "2        Sharmistha Adhikari   \n",
       "3               Saikat Mitra   \n",
       "4                  Rahul Roy   \n",
       "..                       ...   \n",
       "160         Sourav Kumar Dan   \n",
       "161         Srijani Adhikary   \n",
       "162  Suvargha Ghosh Dastidar   \n",
       "163                Titas Dey   \n",
       "164             Trisha Dutta   \n",
       "\n",
       "     How well you guys are understanding the covered topics ?  \\\n",
       "0                                                  5.0          \n",
       "1                                                  5.0          \n",
       "2                                                  1.0          \n",
       "3                                                  4.0          \n",
       "4                                                  5.0          \n",
       "..                                                 ...          \n",
       "160                                                3.0          \n",
       "161                                                5.0          \n",
       "162                                                4.0          \n",
       "163                                                5.0          \n",
       "164                                                4.0          \n",
       "\n",
       "     Rate our way of training  How well your queries are getting solved   \\\n",
       "0                         5.0                                        5.0   \n",
       "1                         5.0                                        5.0   \n",
       "2                         1.0                                        1.0   \n",
       "3                         5.0                                        5.0   \n",
       "4                         5.0                                        5.0   \n",
       "..                        ...                                        ...   \n",
       "160                       4.0                                        4.0   \n",
       "161                       5.0                                        5.0   \n",
       "162                       5.0                                        5.0   \n",
       "163                       5.0                                        5.0   \n",
       "164                       4.0                                        5.0   \n",
       "\n",
       "    Would you like to join our full time course ?  \\\n",
       "0                                             Yes   \n",
       "1                                           Maybe   \n",
       "2                                           Maybe   \n",
       "3                                           Maybe   \n",
       "4                                             Yes   \n",
       "..                                            ...   \n",
       "160                                           Yes   \n",
       "161                                         Maybe   \n",
       "162                                         Maybe   \n",
       "163                                         Maybe   \n",
       "164                                           Yes   \n",
       "\n",
       "    Would you like to recommend this course to others ?  \\\n",
       "0                                                  Yes    \n",
       "1                                                  Yes    \n",
       "2                                                  Yes    \n",
       "3                                                  Yes    \n",
       "4                                                  Yes    \n",
       "..                                                 ...    \n",
       "160                                                NaN    \n",
       "161                                                NaN    \n",
       "162                                                NaN    \n",
       "163                                                NaN    \n",
       "164                                                NaN    \n",
       "\n",
       "    Would you like to apply for paid internship programme by Softanbees  ?  \\\n",
       "0                                                  Yes                       \n",
       "1                                                Maybe                       \n",
       "2                                                Maybe                       \n",
       "3                                                  Yes                       \n",
       "4                                                  Yes                       \n",
       "..                                                 ...                       \n",
       "160                                                 No                       \n",
       "161                                              Maybe                       \n",
       "162                                              Maybe                       \n",
       "163                                              Maybe                       \n",
       "164                                              Maybe                       \n",
       "\n",
       "    Your suggestion for improving the training programme (Any other queries)  \\\n",
       "0                                                  NaN                         \n",
       "1                                                   NO                         \n",
       "2                                                  NaN                         \n",
       "3                                          All is well                         \n",
       "4    I want to know if you r going to tell us how t...                         \n",
       "..                                                 ...                         \n",
       "160                                                NaN                         \n",
       "161                                                No                          \n",
       "162            The training programme was quite good.                          \n",
       "163                                                NaN                         \n",
       "164                           Training program is good                         \n",
       "\n",
       "    Would you like to recommend this course to others ?.1  \n",
       "0                                                  NaN     \n",
       "1                                                  NaN     \n",
       "2                                                  NaN     \n",
       "3                                                  NaN     \n",
       "4                                                  NaN     \n",
       "..                                                 ...     \n",
       "160                                                 No     \n",
       "161                                                Yes     \n",
       "162                                                Yes     \n",
       "163                                                Yes     \n",
       "164                                                Yes     \n",
       "\n",
       "[165 rows x 11 columns]"
      ]
     },
     "execution_count": 44,
     "metadata": {},
     "output_type": "execute_result"
    }
   ],
   "source": [
    "cols1 = [10,11]\n",
    "df4=df3.drop(df3.columns[cols1],axis=1)\n",
    "df4"
   ]
  },
  {
   "cell_type": "code",
   "execution_count": 45,
   "metadata": {},
   "outputs": [
    {
     "data": {
      "text/html": [
       "<div>\n",
       "<style scoped>\n",
       "    .dataframe tbody tr th:only-of-type {\n",
       "        vertical-align: middle;\n",
       "    }\n",
       "\n",
       "    .dataframe tbody tr th {\n",
       "        vertical-align: top;\n",
       "    }\n",
       "\n",
       "    .dataframe thead th {\n",
       "        text-align: right;\n",
       "    }\n",
       "</style>\n",
       "<table border=\"1\" class=\"dataframe\">\n",
       "  <thead>\n",
       "    <tr style=\"text-align: right;\">\n",
       "      <th></th>\n",
       "      <th>Time</th>\n",
       "      <th>Email Address</th>\n",
       "      <th>Name</th>\n",
       "      <th>How well you guys are understanding the covered topics ?</th>\n",
       "      <th>Rate our way of training</th>\n",
       "      <th>How well your queries are getting solved</th>\n",
       "      <th>Would you like to join our full time course ?</th>\n",
       "      <th>Would you like to recommend this course to others ?</th>\n",
       "      <th>Would you like to apply for paid internship programme by Softanbees  ?</th>\n",
       "      <th>Your suggestion for improving the training programme (Any other queries)</th>\n",
       "      <th>Would you like to recommend this course to others ?.1</th>\n",
       "    </tr>\n",
       "  </thead>\n",
       "  <tbody>\n",
       "    <tr>\n",
       "      <th>0</th>\n",
       "      <td>8/1/20 23:05</td>\n",
       "      <td>deepanjan325@gmail.com</td>\n",
       "      <td>Deepanjan Biswas</td>\n",
       "      <td>5.0</td>\n",
       "      <td>5.0</td>\n",
       "      <td>5.0</td>\n",
       "      <td>Yes</td>\n",
       "      <td>Yes</td>\n",
       "      <td>Yes</td>\n",
       "      <td>NaN</td>\n",
       "      <td>NaN</td>\n",
       "    </tr>\n",
       "    <tr>\n",
       "      <th>1</th>\n",
       "      <td>8/1/20 23:06</td>\n",
       "      <td>ranubanerjee1984@gmail.com</td>\n",
       "      <td>RANU BANERJEE</td>\n",
       "      <td>5.0</td>\n",
       "      <td>5.0</td>\n",
       "      <td>5.0</td>\n",
       "      <td>Maybe</td>\n",
       "      <td>Yes</td>\n",
       "      <td>Maybe</td>\n",
       "      <td>NO</td>\n",
       "      <td>NaN</td>\n",
       "    </tr>\n",
       "    <tr>\n",
       "      <th>2</th>\n",
       "      <td>8/1/20 23:08</td>\n",
       "      <td>sharmisthaad@gmail.com</td>\n",
       "      <td>Sharmistha Adhikari</td>\n",
       "      <td>1.0</td>\n",
       "      <td>1.0</td>\n",
       "      <td>1.0</td>\n",
       "      <td>Maybe</td>\n",
       "      <td>Yes</td>\n",
       "      <td>Maybe</td>\n",
       "      <td>NaN</td>\n",
       "      <td>NaN</td>\n",
       "    </tr>\n",
       "    <tr>\n",
       "      <th>3</th>\n",
       "      <td>8/1/20 23:10</td>\n",
       "      <td>saikat20171@gmail.com</td>\n",
       "      <td>Saikat Mitra</td>\n",
       "      <td>4.0</td>\n",
       "      <td>5.0</td>\n",
       "      <td>5.0</td>\n",
       "      <td>Maybe</td>\n",
       "      <td>Yes</td>\n",
       "      <td>Yes</td>\n",
       "      <td>All is well</td>\n",
       "      <td>NaN</td>\n",
       "    </tr>\n",
       "    <tr>\n",
       "      <th>4</th>\n",
       "      <td>8/1/20 23:10</td>\n",
       "      <td>rahulroystat36@gmail.com</td>\n",
       "      <td>Rahul Roy</td>\n",
       "      <td>5.0</td>\n",
       "      <td>5.0</td>\n",
       "      <td>5.0</td>\n",
       "      <td>Yes</td>\n",
       "      <td>Yes</td>\n",
       "      <td>Yes</td>\n",
       "      <td>I want to know if you r going to tell us how t...</td>\n",
       "      <td>NaN</td>\n",
       "    </tr>\n",
       "    <tr>\n",
       "      <th>...</th>\n",
       "      <td>...</td>\n",
       "      <td>...</td>\n",
       "      <td>...</td>\n",
       "      <td>...</td>\n",
       "      <td>...</td>\n",
       "      <td>...</td>\n",
       "      <td>...</td>\n",
       "      <td>...</td>\n",
       "      <td>...</td>\n",
       "      <td>...</td>\n",
       "      <td>...</td>\n",
       "    </tr>\n",
       "    <tr>\n",
       "      <th>160</th>\n",
       "      <td>8/28/2020 12:15:37</td>\n",
       "      <td>souravkr2025@gmail.com</td>\n",
       "      <td>Sourav Kumar Dan</td>\n",
       "      <td>3.0</td>\n",
       "      <td>4.0</td>\n",
       "      <td>4.0</td>\n",
       "      <td>Yes</td>\n",
       "      <td>NaN</td>\n",
       "      <td>No</td>\n",
       "      <td>NaN</td>\n",
       "      <td>No</td>\n",
       "    </tr>\n",
       "    <tr>\n",
       "      <th>161</th>\n",
       "      <td>8/28/2020 20:45:00</td>\n",
       "      <td>srijani.adhikary13@gmail.com</td>\n",
       "      <td>Srijani Adhikary</td>\n",
       "      <td>5.0</td>\n",
       "      <td>5.0</td>\n",
       "      <td>5.0</td>\n",
       "      <td>Maybe</td>\n",
       "      <td>NaN</td>\n",
       "      <td>Maybe</td>\n",
       "      <td>No</td>\n",
       "      <td>Yes</td>\n",
       "    </tr>\n",
       "    <tr>\n",
       "      <th>162</th>\n",
       "      <td>8/28/2020 20:45:07</td>\n",
       "      <td>suvargha2000@gmail.com</td>\n",
       "      <td>Suvargha Ghosh Dastidar</td>\n",
       "      <td>4.0</td>\n",
       "      <td>5.0</td>\n",
       "      <td>5.0</td>\n",
       "      <td>Maybe</td>\n",
       "      <td>NaN</td>\n",
       "      <td>Maybe</td>\n",
       "      <td>The training programme was quite good.</td>\n",
       "      <td>Yes</td>\n",
       "    </tr>\n",
       "    <tr>\n",
       "      <th>163</th>\n",
       "      <td>8/28/2020 21:19:05</td>\n",
       "      <td>titutitasdey@gmail.com</td>\n",
       "      <td>Titas Dey</td>\n",
       "      <td>5.0</td>\n",
       "      <td>5.0</td>\n",
       "      <td>5.0</td>\n",
       "      <td>Maybe</td>\n",
       "      <td>NaN</td>\n",
       "      <td>Maybe</td>\n",
       "      <td>NaN</td>\n",
       "      <td>Yes</td>\n",
       "    </tr>\n",
       "    <tr>\n",
       "      <th>164</th>\n",
       "      <td>8/28/2020 21:58:42</td>\n",
       "      <td>trishadutta25042001@gmail.com</td>\n",
       "      <td>Trisha Dutta</td>\n",
       "      <td>4.0</td>\n",
       "      <td>4.0</td>\n",
       "      <td>5.0</td>\n",
       "      <td>Yes</td>\n",
       "      <td>NaN</td>\n",
       "      <td>Maybe</td>\n",
       "      <td>Training program is good</td>\n",
       "      <td>Yes</td>\n",
       "    </tr>\n",
       "  </tbody>\n",
       "</table>\n",
       "<p>163 rows × 11 columns</p>\n",
       "</div>"
      ],
      "text/plain": [
       "                   Time                  Email Address  \\\n",
       "0          8/1/20 23:05         deepanjan325@gmail.com   \n",
       "1          8/1/20 23:06     ranubanerjee1984@gmail.com   \n",
       "2          8/1/20 23:08         sharmisthaad@gmail.com   \n",
       "3          8/1/20 23:10          saikat20171@gmail.com   \n",
       "4          8/1/20 23:10       rahulroystat36@gmail.com   \n",
       "..                  ...                            ...   \n",
       "160  8/28/2020 12:15:37         souravkr2025@gmail.com   \n",
       "161  8/28/2020 20:45:00   srijani.adhikary13@gmail.com   \n",
       "162  8/28/2020 20:45:07         suvargha2000@gmail.com   \n",
       "163  8/28/2020 21:19:05         titutitasdey@gmail.com   \n",
       "164  8/28/2020 21:58:42  trishadutta25042001@gmail.com   \n",
       "\n",
       "                        Name  \\\n",
       "0           Deepanjan Biswas   \n",
       "1              RANU BANERJEE   \n",
       "2        Sharmistha Adhikari   \n",
       "3               Saikat Mitra   \n",
       "4                  Rahul Roy   \n",
       "..                       ...   \n",
       "160         Sourav Kumar Dan   \n",
       "161         Srijani Adhikary   \n",
       "162  Suvargha Ghosh Dastidar   \n",
       "163                Titas Dey   \n",
       "164             Trisha Dutta   \n",
       "\n",
       "     How well you guys are understanding the covered topics ?  \\\n",
       "0                                                  5.0          \n",
       "1                                                  5.0          \n",
       "2                                                  1.0          \n",
       "3                                                  4.0          \n",
       "4                                                  5.0          \n",
       "..                                                 ...          \n",
       "160                                                3.0          \n",
       "161                                                5.0          \n",
       "162                                                4.0          \n",
       "163                                                5.0          \n",
       "164                                                4.0          \n",
       "\n",
       "     Rate our way of training  How well your queries are getting solved   \\\n",
       "0                         5.0                                        5.0   \n",
       "1                         5.0                                        5.0   \n",
       "2                         1.0                                        1.0   \n",
       "3                         5.0                                        5.0   \n",
       "4                         5.0                                        5.0   \n",
       "..                        ...                                        ...   \n",
       "160                       4.0                                        4.0   \n",
       "161                       5.0                                        5.0   \n",
       "162                       5.0                                        5.0   \n",
       "163                       5.0                                        5.0   \n",
       "164                       4.0                                        5.0   \n",
       "\n",
       "    Would you like to join our full time course ?  \\\n",
       "0                                             Yes   \n",
       "1                                           Maybe   \n",
       "2                                           Maybe   \n",
       "3                                           Maybe   \n",
       "4                                             Yes   \n",
       "..                                            ...   \n",
       "160                                           Yes   \n",
       "161                                         Maybe   \n",
       "162                                         Maybe   \n",
       "163                                         Maybe   \n",
       "164                                           Yes   \n",
       "\n",
       "    Would you like to recommend this course to others ?  \\\n",
       "0                                                  Yes    \n",
       "1                                                  Yes    \n",
       "2                                                  Yes    \n",
       "3                                                  Yes    \n",
       "4                                                  Yes    \n",
       "..                                                 ...    \n",
       "160                                                NaN    \n",
       "161                                                NaN    \n",
       "162                                                NaN    \n",
       "163                                                NaN    \n",
       "164                                                NaN    \n",
       "\n",
       "    Would you like to apply for paid internship programme by Softanbees  ?  \\\n",
       "0                                                  Yes                       \n",
       "1                                                Maybe                       \n",
       "2                                                Maybe                       \n",
       "3                                                  Yes                       \n",
       "4                                                  Yes                       \n",
       "..                                                 ...                       \n",
       "160                                                 No                       \n",
       "161                                              Maybe                       \n",
       "162                                              Maybe                       \n",
       "163                                              Maybe                       \n",
       "164                                              Maybe                       \n",
       "\n",
       "    Your suggestion for improving the training programme (Any other queries)  \\\n",
       "0                                                  NaN                         \n",
       "1                                                   NO                         \n",
       "2                                                  NaN                         \n",
       "3                                          All is well                         \n",
       "4    I want to know if you r going to tell us how t...                         \n",
       "..                                                 ...                         \n",
       "160                                                NaN                         \n",
       "161                                                No                          \n",
       "162            The training programme was quite good.                          \n",
       "163                                                NaN                         \n",
       "164                           Training program is good                         \n",
       "\n",
       "    Would you like to recommend this course to others ?.1  \n",
       "0                                                  NaN     \n",
       "1                                                  NaN     \n",
       "2                                                  NaN     \n",
       "3                                                  NaN     \n",
       "4                                                  NaN     \n",
       "..                                                 ...     \n",
       "160                                                 No     \n",
       "161                                                Yes     \n",
       "162                                                Yes     \n",
       "163                                                Yes     \n",
       "164                                                Yes     \n",
       "\n",
       "[163 rows x 11 columns]"
      ]
     },
     "execution_count": 45,
     "metadata": {},
     "output_type": "execute_result"
    }
   ],
   "source": [
    "df4.dropna(how='all')"
   ]
  },
  {
   "cell_type": "code",
   "execution_count": 46,
   "metadata": {},
   "outputs": [],
   "source": [
    "df4.rename(columns={\"Time\": \"Timestamp\", \"Email Address\": \"Email\",\"How well you guys are understanding the covered topics ?\": \"RateUderstandingTopic(0-5)\",\"Rate our way of training\":\"TrainingRating(0-5)\",\"How well your queries are getting solved \":\"queries_sloved(0-5)\",\"Would you like to join our full time course ?\":\"join full time courses?\",\"Would you like to recommend this course to others ?\":\"Recommend_course\",\"Would you like to apply for paid internship programme by Softanbees  ?\":\"want to apply paid intership?\",\"Your suggestion for improving the training programme (Any other queries)\":\"suggestions for improving program\"},inplace=True)"
   ]
  },
  {
   "cell_type": "code",
   "execution_count": 47,
   "metadata": {},
   "outputs": [
    {
     "data": {
      "text/plain": [
       "Index([' Time', 'Email', 'Name', 'RateUderstandingTopic(0-5)',\n",
       "       'TrainingRating(0-5)', 'queries_sloved(0-5)', 'join full time courses?',\n",
       "       'Recommend_course', 'want to apply paid intership?',\n",
       "       'suggestions for improving program',\n",
       "       'Would you like to recommend this course to others ?.1'],\n",
       "      dtype='object')"
      ]
     },
     "execution_count": 47,
     "metadata": {},
     "output_type": "execute_result"
    }
   ],
   "source": [
    "df4.columns"
   ]
  },
  {
   "cell_type": "code",
   "execution_count": 48,
   "metadata": {},
   "outputs": [
    {
     "data": {
      "text/html": [
       "<div>\n",
       "<style scoped>\n",
       "    .dataframe tbody tr th:only-of-type {\n",
       "        vertical-align: middle;\n",
       "    }\n",
       "\n",
       "    .dataframe tbody tr th {\n",
       "        vertical-align: top;\n",
       "    }\n",
       "\n",
       "    .dataframe thead th {\n",
       "        text-align: right;\n",
       "    }\n",
       "</style>\n",
       "<table border=\"1\" class=\"dataframe\">\n",
       "  <thead>\n",
       "    <tr style=\"text-align: right;\">\n",
       "      <th></th>\n",
       "      <th>Time</th>\n",
       "      <th>Email</th>\n",
       "      <th>Name</th>\n",
       "      <th>RateUderstandingTopic(0-5)</th>\n",
       "      <th>TrainingRating(0-5)</th>\n",
       "      <th>queries_sloved(0-5)</th>\n",
       "      <th>join full time courses?</th>\n",
       "      <th>Recommend_course</th>\n",
       "      <th>want to apply paid intership?</th>\n",
       "      <th>suggestions for improving program</th>\n",
       "      <th>Would you like to recommend this course to others ?.1</th>\n",
       "    </tr>\n",
       "  </thead>\n",
       "  <tbody>\n",
       "    <tr>\n",
       "      <th>0</th>\n",
       "      <td>8/1/20 23:05</td>\n",
       "      <td>deepanjan325@gmail.com</td>\n",
       "      <td>Deepanjan Biswas</td>\n",
       "      <td>5.0</td>\n",
       "      <td>5.0</td>\n",
       "      <td>5.0</td>\n",
       "      <td>Yes</td>\n",
       "      <td>Yes</td>\n",
       "      <td>Yes</td>\n",
       "      <td>NaN</td>\n",
       "      <td>NaN</td>\n",
       "    </tr>\n",
       "    <tr>\n",
       "      <th>1</th>\n",
       "      <td>8/1/20 23:06</td>\n",
       "      <td>ranubanerjee1984@gmail.com</td>\n",
       "      <td>RANU BANERJEE</td>\n",
       "      <td>5.0</td>\n",
       "      <td>5.0</td>\n",
       "      <td>5.0</td>\n",
       "      <td>Maybe</td>\n",
       "      <td>Yes</td>\n",
       "      <td>Maybe</td>\n",
       "      <td>NO</td>\n",
       "      <td>NaN</td>\n",
       "    </tr>\n",
       "    <tr>\n",
       "      <th>2</th>\n",
       "      <td>8/1/20 23:08</td>\n",
       "      <td>sharmisthaad@gmail.com</td>\n",
       "      <td>Sharmistha Adhikari</td>\n",
       "      <td>1.0</td>\n",
       "      <td>1.0</td>\n",
       "      <td>1.0</td>\n",
       "      <td>Maybe</td>\n",
       "      <td>Yes</td>\n",
       "      <td>Maybe</td>\n",
       "      <td>NaN</td>\n",
       "      <td>NaN</td>\n",
       "    </tr>\n",
       "    <tr>\n",
       "      <th>3</th>\n",
       "      <td>8/1/20 23:10</td>\n",
       "      <td>saikat20171@gmail.com</td>\n",
       "      <td>Saikat Mitra</td>\n",
       "      <td>4.0</td>\n",
       "      <td>5.0</td>\n",
       "      <td>5.0</td>\n",
       "      <td>Maybe</td>\n",
       "      <td>Yes</td>\n",
       "      <td>Yes</td>\n",
       "      <td>All is well</td>\n",
       "      <td>NaN</td>\n",
       "    </tr>\n",
       "    <tr>\n",
       "      <th>4</th>\n",
       "      <td>8/1/20 23:10</td>\n",
       "      <td>rahulroystat36@gmail.com</td>\n",
       "      <td>Rahul Roy</td>\n",
       "      <td>5.0</td>\n",
       "      <td>5.0</td>\n",
       "      <td>5.0</td>\n",
       "      <td>Yes</td>\n",
       "      <td>Yes</td>\n",
       "      <td>Yes</td>\n",
       "      <td>I want to know if you r going to tell us how t...</td>\n",
       "      <td>NaN</td>\n",
       "    </tr>\n",
       "  </tbody>\n",
       "</table>\n",
       "</div>"
      ],
      "text/plain": [
       "           Time                       Email                 Name  \\\n",
       "0  8/1/20 23:05      deepanjan325@gmail.com     Deepanjan Biswas   \n",
       "1  8/1/20 23:06  ranubanerjee1984@gmail.com        RANU BANERJEE   \n",
       "2  8/1/20 23:08      sharmisthaad@gmail.com  Sharmistha Adhikari   \n",
       "3  8/1/20 23:10       saikat20171@gmail.com         Saikat Mitra   \n",
       "4  8/1/20 23:10    rahulroystat36@gmail.com            Rahul Roy   \n",
       "\n",
       "   RateUderstandingTopic(0-5)  TrainingRating(0-5)  queries_sloved(0-5)  \\\n",
       "0                         5.0                  5.0                  5.0   \n",
       "1                         5.0                  5.0                  5.0   \n",
       "2                         1.0                  1.0                  1.0   \n",
       "3                         4.0                  5.0                  5.0   \n",
       "4                         5.0                  5.0                  5.0   \n",
       "\n",
       "  join full time courses? Recommend_course want to apply paid intership?  \\\n",
       "0                     Yes              Yes                           Yes   \n",
       "1                   Maybe              Yes                         Maybe   \n",
       "2                   Maybe              Yes                         Maybe   \n",
       "3                   Maybe              Yes                           Yes   \n",
       "4                     Yes              Yes                           Yes   \n",
       "\n",
       "                   suggestions for improving program  \\\n",
       "0                                                NaN   \n",
       "1                                                 NO   \n",
       "2                                                NaN   \n",
       "3                                        All is well   \n",
       "4  I want to know if you r going to tell us how t...   \n",
       "\n",
       "  Would you like to recommend this course to others ?.1  \n",
       "0                                                NaN     \n",
       "1                                                NaN     \n",
       "2                                                NaN     \n",
       "3                                                NaN     \n",
       "4                                                NaN     "
      ]
     },
     "execution_count": 48,
     "metadata": {},
     "output_type": "execute_result"
    }
   ],
   "source": [
    "df4.head()"
   ]
  },
  {
   "cell_type": "code",
   "execution_count": 49,
   "metadata": {},
   "outputs": [
    {
     "data": {
      "text/html": [
       "<div>\n",
       "<style scoped>\n",
       "    .dataframe tbody tr th:only-of-type {\n",
       "        vertical-align: middle;\n",
       "    }\n",
       "\n",
       "    .dataframe tbody tr th {\n",
       "        vertical-align: top;\n",
       "    }\n",
       "\n",
       "    .dataframe thead th {\n",
       "        text-align: right;\n",
       "    }\n",
       "</style>\n",
       "<table border=\"1\" class=\"dataframe\">\n",
       "  <thead>\n",
       "    <tr style=\"text-align: right;\">\n",
       "      <th></th>\n",
       "      <th>Time</th>\n",
       "      <th>Email</th>\n",
       "      <th>Name</th>\n",
       "      <th>RateUderstandingTopic(0-5)</th>\n",
       "      <th>TrainingRating(0-5)</th>\n",
       "      <th>queries_sloved(0-5)</th>\n",
       "      <th>join full time courses?</th>\n",
       "      <th>Recommend_course</th>\n",
       "      <th>want to apply paid intership?</th>\n",
       "      <th>suggestions for improving program</th>\n",
       "      <th>Would you like to recommend this course to others ?.1</th>\n",
       "    </tr>\n",
       "  </thead>\n",
       "  <tbody>\n",
       "    <tr>\n",
       "      <th>0</th>\n",
       "      <td>8/1/20 23:05</td>\n",
       "      <td>deepanjan325@gmail.com</td>\n",
       "      <td>Deepanjan Biswas</td>\n",
       "      <td>5.0</td>\n",
       "      <td>5.0</td>\n",
       "      <td>5.0</td>\n",
       "      <td>Yes</td>\n",
       "      <td>Yes</td>\n",
       "      <td>Yes</td>\n",
       "      <td>NaN</td>\n",
       "      <td>NaN</td>\n",
       "    </tr>\n",
       "    <tr>\n",
       "      <th>1</th>\n",
       "      <td>8/1/20 23:06</td>\n",
       "      <td>ranubanerjee1984@gmail.com</td>\n",
       "      <td>RANU BANERJEE</td>\n",
       "      <td>5.0</td>\n",
       "      <td>5.0</td>\n",
       "      <td>5.0</td>\n",
       "      <td>Maybe</td>\n",
       "      <td>Yes</td>\n",
       "      <td>Maybe</td>\n",
       "      <td>NO</td>\n",
       "      <td>NaN</td>\n",
       "    </tr>\n",
       "    <tr>\n",
       "      <th>2</th>\n",
       "      <td>8/1/20 23:08</td>\n",
       "      <td>sharmisthaad@gmail.com</td>\n",
       "      <td>Sharmistha Adhikari</td>\n",
       "      <td>1.0</td>\n",
       "      <td>1.0</td>\n",
       "      <td>1.0</td>\n",
       "      <td>Maybe</td>\n",
       "      <td>Yes</td>\n",
       "      <td>Maybe</td>\n",
       "      <td>NaN</td>\n",
       "      <td>NaN</td>\n",
       "    </tr>\n",
       "    <tr>\n",
       "      <th>3</th>\n",
       "      <td>8/1/20 23:10</td>\n",
       "      <td>saikat20171@gmail.com</td>\n",
       "      <td>Saikat Mitra</td>\n",
       "      <td>4.0</td>\n",
       "      <td>5.0</td>\n",
       "      <td>5.0</td>\n",
       "      <td>Maybe</td>\n",
       "      <td>Yes</td>\n",
       "      <td>Yes</td>\n",
       "      <td>All is well</td>\n",
       "      <td>NaN</td>\n",
       "    </tr>\n",
       "    <tr>\n",
       "      <th>4</th>\n",
       "      <td>8/1/20 23:10</td>\n",
       "      <td>rahulroystat36@gmail.com</td>\n",
       "      <td>Rahul Roy</td>\n",
       "      <td>5.0</td>\n",
       "      <td>5.0</td>\n",
       "      <td>5.0</td>\n",
       "      <td>Yes</td>\n",
       "      <td>Yes</td>\n",
       "      <td>Yes</td>\n",
       "      <td>I want to know if you r going to tell us how t...</td>\n",
       "      <td>NaN</td>\n",
       "    </tr>\n",
       "    <tr>\n",
       "      <th>...</th>\n",
       "      <td>...</td>\n",
       "      <td>...</td>\n",
       "      <td>...</td>\n",
       "      <td>...</td>\n",
       "      <td>...</td>\n",
       "      <td>...</td>\n",
       "      <td>...</td>\n",
       "      <td>...</td>\n",
       "      <td>...</td>\n",
       "      <td>...</td>\n",
       "      <td>...</td>\n",
       "    </tr>\n",
       "    <tr>\n",
       "      <th>64</th>\n",
       "      <td>8/4/20 11:01</td>\n",
       "      <td>anupriyahalder99@gmail.com</td>\n",
       "      <td>Anupriya Halder</td>\n",
       "      <td>4.0</td>\n",
       "      <td>4.0</td>\n",
       "      <td>4.0</td>\n",
       "      <td>No</td>\n",
       "      <td>Yes</td>\n",
       "      <td>No</td>\n",
       "      <td>NaN</td>\n",
       "      <td>NaN</td>\n",
       "    </tr>\n",
       "    <tr>\n",
       "      <th>65</th>\n",
       "      <td>8/4/20 12:32</td>\n",
       "      <td>sakshi90500@gmail.com</td>\n",
       "      <td>Kumari Sakshi</td>\n",
       "      <td>5.0</td>\n",
       "      <td>5.0</td>\n",
       "      <td>5.0</td>\n",
       "      <td>Maybe</td>\n",
       "      <td>Yes</td>\n",
       "      <td>Maybe</td>\n",
       "      <td>Tgere's no suggestion as it was teally nice an...</td>\n",
       "      <td>NaN</td>\n",
       "    </tr>\n",
       "    <tr>\n",
       "      <th>66</th>\n",
       "      <td>8/4/20 17:50</td>\n",
       "      <td>sharmagautam990@gmail.com</td>\n",
       "      <td>Gautam Kumar Sharma</td>\n",
       "      <td>4.0</td>\n",
       "      <td>5.0</td>\n",
       "      <td>4.0</td>\n",
       "      <td>Yes</td>\n",
       "      <td>Yes</td>\n",
       "      <td>Yes</td>\n",
       "      <td>No</td>\n",
       "      <td>NaN</td>\n",
       "    </tr>\n",
       "    <tr>\n",
       "      <th>67</th>\n",
       "      <td>NaN</td>\n",
       "      <td>NaN</td>\n",
       "      <td>NaN</td>\n",
       "      <td>NaN</td>\n",
       "      <td>NaN</td>\n",
       "      <td>NaN</td>\n",
       "      <td>NaN</td>\n",
       "      <td>NaN</td>\n",
       "      <td>NaN</td>\n",
       "      <td>NaN</td>\n",
       "      <td>NaN</td>\n",
       "    </tr>\n",
       "    <tr>\n",
       "      <th>125</th>\n",
       "      <td>NaN</td>\n",
       "      <td>NaN</td>\n",
       "      <td>NaN</td>\n",
       "      <td>NaN</td>\n",
       "      <td>NaN</td>\n",
       "      <td>NaN</td>\n",
       "      <td>NaN</td>\n",
       "      <td>NaN</td>\n",
       "      <td>NaN</td>\n",
       "      <td>NaN</td>\n",
       "      <td>NaN</td>\n",
       "    </tr>\n",
       "  </tbody>\n",
       "</table>\n",
       "<p>69 rows × 11 columns</p>\n",
       "</div>"
      ],
      "text/plain": [
       "             Time                       Email                 Name  \\\n",
       "0    8/1/20 23:05      deepanjan325@gmail.com     Deepanjan Biswas   \n",
       "1    8/1/20 23:06  ranubanerjee1984@gmail.com        RANU BANERJEE   \n",
       "2    8/1/20 23:08      sharmisthaad@gmail.com  Sharmistha Adhikari   \n",
       "3    8/1/20 23:10       saikat20171@gmail.com         Saikat Mitra   \n",
       "4    8/1/20 23:10    rahulroystat36@gmail.com            Rahul Roy   \n",
       "..            ...                         ...                  ...   \n",
       "64   8/4/20 11:01  anupriyahalder99@gmail.com      Anupriya Halder   \n",
       "65   8/4/20 12:32       sakshi90500@gmail.com        Kumari Sakshi   \n",
       "66   8/4/20 17:50   sharmagautam990@gmail.com  Gautam Kumar Sharma   \n",
       "67            NaN                         NaN                  NaN   \n",
       "125           NaN                         NaN                  NaN   \n",
       "\n",
       "     RateUderstandingTopic(0-5)  TrainingRating(0-5)  queries_sloved(0-5)  \\\n",
       "0                           5.0                  5.0                  5.0   \n",
       "1                           5.0                  5.0                  5.0   \n",
       "2                           1.0                  1.0                  1.0   \n",
       "3                           4.0                  5.0                  5.0   \n",
       "4                           5.0                  5.0                  5.0   \n",
       "..                          ...                  ...                  ...   \n",
       "64                          4.0                  4.0                  4.0   \n",
       "65                          5.0                  5.0                  5.0   \n",
       "66                          4.0                  5.0                  4.0   \n",
       "67                          NaN                  NaN                  NaN   \n",
       "125                         NaN                  NaN                  NaN   \n",
       "\n",
       "    join full time courses? Recommend_course want to apply paid intership?  \\\n",
       "0                       Yes              Yes                           Yes   \n",
       "1                     Maybe              Yes                         Maybe   \n",
       "2                     Maybe              Yes                         Maybe   \n",
       "3                     Maybe              Yes                           Yes   \n",
       "4                       Yes              Yes                           Yes   \n",
       "..                      ...              ...                           ...   \n",
       "64                       No              Yes                            No   \n",
       "65                    Maybe              Yes                         Maybe   \n",
       "66                      Yes              Yes                           Yes   \n",
       "67                      NaN              NaN                           NaN   \n",
       "125                     NaN              NaN                           NaN   \n",
       "\n",
       "                     suggestions for improving program  \\\n",
       "0                                                  NaN   \n",
       "1                                                   NO   \n",
       "2                                                  NaN   \n",
       "3                                          All is well   \n",
       "4    I want to know if you r going to tell us how t...   \n",
       "..                                                 ...   \n",
       "64                                                 NaN   \n",
       "65   Tgere's no suggestion as it was teally nice an...   \n",
       "66                                                  No   \n",
       "67                                                 NaN   \n",
       "125                                                NaN   \n",
       "\n",
       "    Would you like to recommend this course to others ?.1  \n",
       "0                                                  NaN     \n",
       "1                                                  NaN     \n",
       "2                                                  NaN     \n",
       "3                                                  NaN     \n",
       "4                                                  NaN     \n",
       "..                                                 ...     \n",
       "64                                                 NaN     \n",
       "65                                                 NaN     \n",
       "66                                                 NaN     \n",
       "67                                                 NaN     \n",
       "125                                                NaN     \n",
       "\n",
       "[69 rows x 11 columns]"
      ]
     },
     "execution_count": 49,
     "metadata": {},
     "output_type": "execute_result"
    }
   ],
   "source": [
    "df4[df4['Would you like to recommend this course to others ?.1'].isnull()]"
   ]
  },
  {
   "cell_type": "code",
   "execution_count": 50,
   "metadata": {},
   "outputs": [
    {
     "data": {
      "text/html": [
       "<div>\n",
       "<style scoped>\n",
       "    .dataframe tbody tr th:only-of-type {\n",
       "        vertical-align: middle;\n",
       "    }\n",
       "\n",
       "    .dataframe tbody tr th {\n",
       "        vertical-align: top;\n",
       "    }\n",
       "\n",
       "    .dataframe thead th {\n",
       "        text-align: right;\n",
       "    }\n",
       "</style>\n",
       "<table border=\"1\" class=\"dataframe\">\n",
       "  <thead>\n",
       "    <tr style=\"text-align: right;\">\n",
       "      <th></th>\n",
       "      <th>Time</th>\n",
       "      <th>Email</th>\n",
       "      <th>Name</th>\n",
       "      <th>RateUderstandingTopic(0-5)</th>\n",
       "      <th>TrainingRating(0-5)</th>\n",
       "      <th>queries_sloved(0-5)</th>\n",
       "      <th>join full time courses?</th>\n",
       "      <th>Recommend_course</th>\n",
       "      <th>want to apply paid intership?</th>\n",
       "      <th>suggestions for improving program</th>\n",
       "      <th>Would you like to recommend this course to others ?.1</th>\n",
       "    </tr>\n",
       "  </thead>\n",
       "  <tbody>\n",
       "    <tr>\n",
       "      <th>67</th>\n",
       "      <td>NaN</td>\n",
       "      <td>NaN</td>\n",
       "      <td>NaN</td>\n",
       "      <td>NaN</td>\n",
       "      <td>NaN</td>\n",
       "      <td>NaN</td>\n",
       "      <td>NaN</td>\n",
       "      <td>NaN</td>\n",
       "      <td>NaN</td>\n",
       "      <td>NaN</td>\n",
       "      <td>NaN</td>\n",
       "    </tr>\n",
       "    <tr>\n",
       "      <th>68</th>\n",
       "      <td>8/5/20 22:50</td>\n",
       "      <td>snehaguha2017@gmail.com</td>\n",
       "      <td>Sneha Guha</td>\n",
       "      <td>5.0</td>\n",
       "      <td>5.0</td>\n",
       "      <td>5.0</td>\n",
       "      <td>Maybe</td>\n",
       "      <td>NaN</td>\n",
       "      <td>qt</td>\n",
       "      <td>NaN</td>\n",
       "      <td>Yes</td>\n",
       "    </tr>\n",
       "    <tr>\n",
       "      <th>69</th>\n",
       "      <td>8/5/20 22:53</td>\n",
       "      <td>mayuridharmegha@gmail.com</td>\n",
       "      <td>Mayuri Dhar</td>\n",
       "      <td>5.0</td>\n",
       "      <td>5.0</td>\n",
       "      <td>5.0</td>\n",
       "      <td>No</td>\n",
       "      <td>NaN</td>\n",
       "      <td>No</td>\n",
       "      <td>NaN</td>\n",
       "      <td>Yes</td>\n",
       "    </tr>\n",
       "    <tr>\n",
       "      <th>70</th>\n",
       "      <td>8/5/20 22:55</td>\n",
       "      <td>srijanim75@gmail.com</td>\n",
       "      <td>Srijani Mondal</td>\n",
       "      <td>5.0</td>\n",
       "      <td>5.0</td>\n",
       "      <td>5.0</td>\n",
       "      <td>No</td>\n",
       "      <td>NaN</td>\n",
       "      <td>No</td>\n",
       "      <td>NaN</td>\n",
       "      <td>Yes</td>\n",
       "    </tr>\n",
       "    <tr>\n",
       "      <th>71</th>\n",
       "      <td>8/5/20 22:55</td>\n",
       "      <td>sanchitachowdhury02@gmail.com</td>\n",
       "      <td>Sanchita Chowdhury</td>\n",
       "      <td>5.0</td>\n",
       "      <td>5.0</td>\n",
       "      <td>5.0</td>\n",
       "      <td>No</td>\n",
       "      <td>NaN</td>\n",
       "      <td>No</td>\n",
       "      <td>It's really good...so for me there is nothing ...</td>\n",
       "      <td>Yes</td>\n",
       "    </tr>\n",
       "    <tr>\n",
       "      <th>...</th>\n",
       "      <td>...</td>\n",
       "      <td>...</td>\n",
       "      <td>...</td>\n",
       "      <td>...</td>\n",
       "      <td>...</td>\n",
       "      <td>...</td>\n",
       "      <td>...</td>\n",
       "      <td>...</td>\n",
       "      <td>...</td>\n",
       "      <td>...</td>\n",
       "      <td>...</td>\n",
       "    </tr>\n",
       "    <tr>\n",
       "      <th>160</th>\n",
       "      <td>8/28/2020 12:15:37</td>\n",
       "      <td>souravkr2025@gmail.com</td>\n",
       "      <td>Sourav Kumar Dan</td>\n",
       "      <td>3.0</td>\n",
       "      <td>4.0</td>\n",
       "      <td>4.0</td>\n",
       "      <td>Yes</td>\n",
       "      <td>NaN</td>\n",
       "      <td>No</td>\n",
       "      <td>NaN</td>\n",
       "      <td>No</td>\n",
       "    </tr>\n",
       "    <tr>\n",
       "      <th>161</th>\n",
       "      <td>8/28/2020 20:45:00</td>\n",
       "      <td>srijani.adhikary13@gmail.com</td>\n",
       "      <td>Srijani Adhikary</td>\n",
       "      <td>5.0</td>\n",
       "      <td>5.0</td>\n",
       "      <td>5.0</td>\n",
       "      <td>Maybe</td>\n",
       "      <td>NaN</td>\n",
       "      <td>Maybe</td>\n",
       "      <td>No</td>\n",
       "      <td>Yes</td>\n",
       "    </tr>\n",
       "    <tr>\n",
       "      <th>162</th>\n",
       "      <td>8/28/2020 20:45:07</td>\n",
       "      <td>suvargha2000@gmail.com</td>\n",
       "      <td>Suvargha Ghosh Dastidar</td>\n",
       "      <td>4.0</td>\n",
       "      <td>5.0</td>\n",
       "      <td>5.0</td>\n",
       "      <td>Maybe</td>\n",
       "      <td>NaN</td>\n",
       "      <td>Maybe</td>\n",
       "      <td>The training programme was quite good.</td>\n",
       "      <td>Yes</td>\n",
       "    </tr>\n",
       "    <tr>\n",
       "      <th>163</th>\n",
       "      <td>8/28/2020 21:19:05</td>\n",
       "      <td>titutitasdey@gmail.com</td>\n",
       "      <td>Titas Dey</td>\n",
       "      <td>5.0</td>\n",
       "      <td>5.0</td>\n",
       "      <td>5.0</td>\n",
       "      <td>Maybe</td>\n",
       "      <td>NaN</td>\n",
       "      <td>Maybe</td>\n",
       "      <td>NaN</td>\n",
       "      <td>Yes</td>\n",
       "    </tr>\n",
       "    <tr>\n",
       "      <th>164</th>\n",
       "      <td>8/28/2020 21:58:42</td>\n",
       "      <td>trishadutta25042001@gmail.com</td>\n",
       "      <td>Trisha Dutta</td>\n",
       "      <td>4.0</td>\n",
       "      <td>4.0</td>\n",
       "      <td>5.0</td>\n",
       "      <td>Yes</td>\n",
       "      <td>NaN</td>\n",
       "      <td>Maybe</td>\n",
       "      <td>Training program is good</td>\n",
       "      <td>Yes</td>\n",
       "    </tr>\n",
       "  </tbody>\n",
       "</table>\n",
       "<p>98 rows × 11 columns</p>\n",
       "</div>"
      ],
      "text/plain": [
       "                   Time                          Email  \\\n",
       "67                  NaN                            NaN   \n",
       "68         8/5/20 22:50        snehaguha2017@gmail.com   \n",
       "69         8/5/20 22:53      mayuridharmegha@gmail.com   \n",
       "70         8/5/20 22:55           srijanim75@gmail.com   \n",
       "71         8/5/20 22:55  sanchitachowdhury02@gmail.com   \n",
       "..                  ...                            ...   \n",
       "160  8/28/2020 12:15:37         souravkr2025@gmail.com   \n",
       "161  8/28/2020 20:45:00   srijani.adhikary13@gmail.com   \n",
       "162  8/28/2020 20:45:07         suvargha2000@gmail.com   \n",
       "163  8/28/2020 21:19:05         titutitasdey@gmail.com   \n",
       "164  8/28/2020 21:58:42  trishadutta25042001@gmail.com   \n",
       "\n",
       "                        Name  RateUderstandingTopic(0-5)  TrainingRating(0-5)  \\\n",
       "67                       NaN                         NaN                  NaN   \n",
       "68                Sneha Guha                         5.0                  5.0   \n",
       "69               Mayuri Dhar                         5.0                  5.0   \n",
       "70           Srijani Mondal                          5.0                  5.0   \n",
       "71        Sanchita Chowdhury                         5.0                  5.0   \n",
       "..                       ...                         ...                  ...   \n",
       "160         Sourav Kumar Dan                         3.0                  4.0   \n",
       "161         Srijani Adhikary                         5.0                  5.0   \n",
       "162  Suvargha Ghosh Dastidar                         4.0                  5.0   \n",
       "163                Titas Dey                         5.0                  5.0   \n",
       "164             Trisha Dutta                         4.0                  4.0   \n",
       "\n",
       "     queries_sloved(0-5) join full time courses? Recommend_course  \\\n",
       "67                   NaN                     NaN              NaN   \n",
       "68                   5.0                   Maybe              NaN   \n",
       "69                   5.0                      No              NaN   \n",
       "70                   5.0                      No              NaN   \n",
       "71                   5.0                      No              NaN   \n",
       "..                   ...                     ...              ...   \n",
       "160                  4.0                     Yes              NaN   \n",
       "161                  5.0                   Maybe              NaN   \n",
       "162                  5.0                   Maybe              NaN   \n",
       "163                  5.0                   Maybe              NaN   \n",
       "164                  5.0                     Yes              NaN   \n",
       "\n",
       "    want to apply paid intership?  \\\n",
       "67                            NaN   \n",
       "68                             qt   \n",
       "69                             No   \n",
       "70                             No   \n",
       "71                             No   \n",
       "..                            ...   \n",
       "160                            No   \n",
       "161                         Maybe   \n",
       "162                         Maybe   \n",
       "163                         Maybe   \n",
       "164                         Maybe   \n",
       "\n",
       "                     suggestions for improving program  \\\n",
       "67                                                 NaN   \n",
       "68                                                 NaN   \n",
       "69                                                 NaN   \n",
       "70                                                 NaN   \n",
       "71   It's really good...so for me there is nothing ...   \n",
       "..                                                 ...   \n",
       "160                                                NaN   \n",
       "161                                                No    \n",
       "162            The training programme was quite good.    \n",
       "163                                                NaN   \n",
       "164                           Training program is good   \n",
       "\n",
       "    Would you like to recommend this course to others ?.1  \n",
       "67                                                 NaN     \n",
       "68                                                 Yes     \n",
       "69                                                 Yes     \n",
       "70                                                 Yes     \n",
       "71                                                 Yes     \n",
       "..                                                 ...     \n",
       "160                                                 No     \n",
       "161                                                Yes     \n",
       "162                                                Yes     \n",
       "163                                                Yes     \n",
       "164                                                Yes     \n",
       "\n",
       "[98 rows x 11 columns]"
      ]
     },
     "execution_count": 50,
     "metadata": {},
     "output_type": "execute_result"
    }
   ],
   "source": [
    "df4[df4['Recommend_course'].isnull()]"
   ]
  },
  {
   "cell_type": "code",
   "execution_count": 51,
   "metadata": {},
   "outputs": [
    {
     "data": {
      "text/plain": [
       " Time                                                     2\n",
       "Email                                                     2\n",
       "Name                                                      2\n",
       "RateUderstandingTopic(0-5)                                2\n",
       "TrainingRating(0-5)                                       2\n",
       "queries_sloved(0-5)                                       2\n",
       "join full time courses?                                   2\n",
       "Recommend_course                                         98\n",
       "want to apply paid intership?                             2\n",
       "suggestions for improving program                        88\n",
       "Would you like to recommend this course to others ?.1    69\n",
       "dtype: int64"
      ]
     },
     "execution_count": 51,
     "metadata": {},
     "output_type": "execute_result"
    }
   ],
   "source": [
    "#Missing Data \n",
    "df4.isna().sum()"
   ]
  },
  {
   "cell_type": "code",
   "execution_count": 37,
   "metadata": {},
   "outputs": [],
   "source": [
    "#\"Would you like to recommend this course to others\" this question was asked two times. \n",
    "#So we named one as Recommend_course. Though this are same column but Recommend_course has 98 nan valus wheres \n",
    "#Would you like to recommend this course to others ?\"has 69 nan values. "
   ]
  },
  {
   "cell_type": "code",
   "execution_count": 52,
   "metadata": {},
   "outputs": [
    {
     "data": {
      "text/html": [
       "<div>\n",
       "<style scoped>\n",
       "    .dataframe tbody tr th:only-of-type {\n",
       "        vertical-align: middle;\n",
       "    }\n",
       "\n",
       "    .dataframe tbody tr th {\n",
       "        vertical-align: top;\n",
       "    }\n",
       "\n",
       "    .dataframe thead th {\n",
       "        text-align: right;\n",
       "    }\n",
       "</style>\n",
       "<table border=\"1\" class=\"dataframe\">\n",
       "  <thead>\n",
       "    <tr style=\"text-align: right;\">\n",
       "      <th></th>\n",
       "      <th>Time</th>\n",
       "      <th>Email</th>\n",
       "      <th>Name</th>\n",
       "      <th>RateUderstandingTopic(0-5)</th>\n",
       "      <th>TrainingRating(0-5)</th>\n",
       "      <th>queries_sloved(0-5)</th>\n",
       "      <th>join full time courses?</th>\n",
       "      <th>Recommend_course</th>\n",
       "      <th>want to apply paid intership?</th>\n",
       "      <th>suggestions for improving program</th>\n",
       "    </tr>\n",
       "  </thead>\n",
       "  <tbody>\n",
       "    <tr>\n",
       "      <th>0</th>\n",
       "      <td>8/1/20 23:05</td>\n",
       "      <td>deepanjan325@gmail.com</td>\n",
       "      <td>Deepanjan Biswas</td>\n",
       "      <td>5.0</td>\n",
       "      <td>5.0</td>\n",
       "      <td>5.0</td>\n",
       "      <td>Yes</td>\n",
       "      <td>Yes</td>\n",
       "      <td>Yes</td>\n",
       "      <td>NaN</td>\n",
       "    </tr>\n",
       "    <tr>\n",
       "      <th>1</th>\n",
       "      <td>8/1/20 23:06</td>\n",
       "      <td>ranubanerjee1984@gmail.com</td>\n",
       "      <td>RANU BANERJEE</td>\n",
       "      <td>5.0</td>\n",
       "      <td>5.0</td>\n",
       "      <td>5.0</td>\n",
       "      <td>Maybe</td>\n",
       "      <td>Yes</td>\n",
       "      <td>Maybe</td>\n",
       "      <td>NO</td>\n",
       "    </tr>\n",
       "    <tr>\n",
       "      <th>2</th>\n",
       "      <td>8/1/20 23:08</td>\n",
       "      <td>sharmisthaad@gmail.com</td>\n",
       "      <td>Sharmistha Adhikari</td>\n",
       "      <td>1.0</td>\n",
       "      <td>1.0</td>\n",
       "      <td>1.0</td>\n",
       "      <td>Maybe</td>\n",
       "      <td>Yes</td>\n",
       "      <td>Maybe</td>\n",
       "      <td>NaN</td>\n",
       "    </tr>\n",
       "    <tr>\n",
       "      <th>3</th>\n",
       "      <td>8/1/20 23:10</td>\n",
       "      <td>saikat20171@gmail.com</td>\n",
       "      <td>Saikat Mitra</td>\n",
       "      <td>4.0</td>\n",
       "      <td>5.0</td>\n",
       "      <td>5.0</td>\n",
       "      <td>Maybe</td>\n",
       "      <td>Yes</td>\n",
       "      <td>Yes</td>\n",
       "      <td>All is well</td>\n",
       "    </tr>\n",
       "    <tr>\n",
       "      <th>4</th>\n",
       "      <td>8/1/20 23:10</td>\n",
       "      <td>rahulroystat36@gmail.com</td>\n",
       "      <td>Rahul Roy</td>\n",
       "      <td>5.0</td>\n",
       "      <td>5.0</td>\n",
       "      <td>5.0</td>\n",
       "      <td>Yes</td>\n",
       "      <td>Yes</td>\n",
       "      <td>Yes</td>\n",
       "      <td>I want to know if you r going to tell us how t...</td>\n",
       "    </tr>\n",
       "    <tr>\n",
       "      <th>...</th>\n",
       "      <td>...</td>\n",
       "      <td>...</td>\n",
       "      <td>...</td>\n",
       "      <td>...</td>\n",
       "      <td>...</td>\n",
       "      <td>...</td>\n",
       "      <td>...</td>\n",
       "      <td>...</td>\n",
       "      <td>...</td>\n",
       "      <td>...</td>\n",
       "    </tr>\n",
       "    <tr>\n",
       "      <th>160</th>\n",
       "      <td>8/28/2020 12:15:37</td>\n",
       "      <td>souravkr2025@gmail.com</td>\n",
       "      <td>Sourav Kumar Dan</td>\n",
       "      <td>3.0</td>\n",
       "      <td>4.0</td>\n",
       "      <td>4.0</td>\n",
       "      <td>Yes</td>\n",
       "      <td>NaN</td>\n",
       "      <td>No</td>\n",
       "      <td>NaN</td>\n",
       "    </tr>\n",
       "    <tr>\n",
       "      <th>161</th>\n",
       "      <td>8/28/2020 20:45:00</td>\n",
       "      <td>srijani.adhikary13@gmail.com</td>\n",
       "      <td>Srijani Adhikary</td>\n",
       "      <td>5.0</td>\n",
       "      <td>5.0</td>\n",
       "      <td>5.0</td>\n",
       "      <td>Maybe</td>\n",
       "      <td>NaN</td>\n",
       "      <td>Maybe</td>\n",
       "      <td>No</td>\n",
       "    </tr>\n",
       "    <tr>\n",
       "      <th>162</th>\n",
       "      <td>8/28/2020 20:45:07</td>\n",
       "      <td>suvargha2000@gmail.com</td>\n",
       "      <td>Suvargha Ghosh Dastidar</td>\n",
       "      <td>4.0</td>\n",
       "      <td>5.0</td>\n",
       "      <td>5.0</td>\n",
       "      <td>Maybe</td>\n",
       "      <td>NaN</td>\n",
       "      <td>Maybe</td>\n",
       "      <td>The training programme was quite good.</td>\n",
       "    </tr>\n",
       "    <tr>\n",
       "      <th>163</th>\n",
       "      <td>8/28/2020 21:19:05</td>\n",
       "      <td>titutitasdey@gmail.com</td>\n",
       "      <td>Titas Dey</td>\n",
       "      <td>5.0</td>\n",
       "      <td>5.0</td>\n",
       "      <td>5.0</td>\n",
       "      <td>Maybe</td>\n",
       "      <td>NaN</td>\n",
       "      <td>Maybe</td>\n",
       "      <td>NaN</td>\n",
       "    </tr>\n",
       "    <tr>\n",
       "      <th>164</th>\n",
       "      <td>8/28/2020 21:58:42</td>\n",
       "      <td>trishadutta25042001@gmail.com</td>\n",
       "      <td>Trisha Dutta</td>\n",
       "      <td>4.0</td>\n",
       "      <td>4.0</td>\n",
       "      <td>5.0</td>\n",
       "      <td>Yes</td>\n",
       "      <td>NaN</td>\n",
       "      <td>Maybe</td>\n",
       "      <td>Training program is good</td>\n",
       "    </tr>\n",
       "  </tbody>\n",
       "</table>\n",
       "<p>165 rows × 10 columns</p>\n",
       "</div>"
      ],
      "text/plain": [
       "                   Time                          Email  \\\n",
       "0          8/1/20 23:05         deepanjan325@gmail.com   \n",
       "1          8/1/20 23:06     ranubanerjee1984@gmail.com   \n",
       "2          8/1/20 23:08         sharmisthaad@gmail.com   \n",
       "3          8/1/20 23:10          saikat20171@gmail.com   \n",
       "4          8/1/20 23:10       rahulroystat36@gmail.com   \n",
       "..                  ...                            ...   \n",
       "160  8/28/2020 12:15:37         souravkr2025@gmail.com   \n",
       "161  8/28/2020 20:45:00   srijani.adhikary13@gmail.com   \n",
       "162  8/28/2020 20:45:07         suvargha2000@gmail.com   \n",
       "163  8/28/2020 21:19:05         titutitasdey@gmail.com   \n",
       "164  8/28/2020 21:58:42  trishadutta25042001@gmail.com   \n",
       "\n",
       "                        Name  RateUderstandingTopic(0-5)  TrainingRating(0-5)  \\\n",
       "0           Deepanjan Biswas                         5.0                  5.0   \n",
       "1              RANU BANERJEE                         5.0                  5.0   \n",
       "2        Sharmistha Adhikari                         1.0                  1.0   \n",
       "3               Saikat Mitra                         4.0                  5.0   \n",
       "4                  Rahul Roy                         5.0                  5.0   \n",
       "..                       ...                         ...                  ...   \n",
       "160         Sourav Kumar Dan                         3.0                  4.0   \n",
       "161         Srijani Adhikary                         5.0                  5.0   \n",
       "162  Suvargha Ghosh Dastidar                         4.0                  5.0   \n",
       "163                Titas Dey                         5.0                  5.0   \n",
       "164             Trisha Dutta                         4.0                  4.0   \n",
       "\n",
       "     queries_sloved(0-5) join full time courses? Recommend_course  \\\n",
       "0                    5.0                     Yes              Yes   \n",
       "1                    5.0                   Maybe              Yes   \n",
       "2                    1.0                   Maybe              Yes   \n",
       "3                    5.0                   Maybe              Yes   \n",
       "4                    5.0                     Yes              Yes   \n",
       "..                   ...                     ...              ...   \n",
       "160                  4.0                     Yes              NaN   \n",
       "161                  5.0                   Maybe              NaN   \n",
       "162                  5.0                   Maybe              NaN   \n",
       "163                  5.0                   Maybe              NaN   \n",
       "164                  5.0                     Yes              NaN   \n",
       "\n",
       "    want to apply paid intership?  \\\n",
       "0                             Yes   \n",
       "1                           Maybe   \n",
       "2                           Maybe   \n",
       "3                             Yes   \n",
       "4                             Yes   \n",
       "..                            ...   \n",
       "160                            No   \n",
       "161                         Maybe   \n",
       "162                         Maybe   \n",
       "163                         Maybe   \n",
       "164                         Maybe   \n",
       "\n",
       "                     suggestions for improving program  \n",
       "0                                                  NaN  \n",
       "1                                                   NO  \n",
       "2                                                  NaN  \n",
       "3                                          All is well  \n",
       "4    I want to know if you r going to tell us how t...  \n",
       "..                                                 ...  \n",
       "160                                                NaN  \n",
       "161                                                No   \n",
       "162            The training programme was quite good.   \n",
       "163                                                NaN  \n",
       "164                           Training program is good  \n",
       "\n",
       "[165 rows x 10 columns]"
      ]
     },
     "execution_count": 52,
     "metadata": {},
     "output_type": "execute_result"
    }
   ],
   "source": [
    "df4.drop(['Would you like to recommend this course to others ?.1',], axis = 1)"
   ]
  },
  {
   "cell_type": "code",
   "execution_count": 53,
   "metadata": {},
   "outputs": [],
   "source": [
    "\n",
    "df4['RateUderstandingTopic(0-5)'] = df4['RateUderstandingTopic(0-5)'].astype(\"category\")\n",
    "df4['TrainingRating(0-5)'] = df4['TrainingRating(0-5)'].astype(\"category\")\n",
    "df4['queries_sloved(0-5)'] = df4['queries_sloved(0-5)'].astype(\"category\")"
   ]
  },
  {
   "cell_type": "code",
   "execution_count": 54,
   "metadata": {},
   "outputs": [
    {
     "data": {
      "text/plain": [
       " Time                                                      object\n",
       "Email                                                      object\n",
       "Name                                                       object\n",
       "RateUderstandingTopic(0-5)                               category\n",
       "TrainingRating(0-5)                                      category\n",
       "queries_sloved(0-5)                                      category\n",
       "join full time courses?                                    object\n",
       "Recommend_course                                           object\n",
       "want to apply paid intership?                              object\n",
       "suggestions for improving program                          object\n",
       "Would you like to recommend this course to others ?.1      object\n",
       "dtype: object"
      ]
     },
     "execution_count": 54,
     "metadata": {},
     "output_type": "execute_result"
    }
   ],
   "source": [
    "df4.dtypes"
   ]
  },
  {
   "cell_type": "code",
   "execution_count": 45,
   "metadata": {},
   "outputs": [],
   "source": [
    "#Saving the new Data"
   ]
  },
  {
   "cell_type": "code",
   "execution_count": 55,
   "metadata": {},
   "outputs": [],
   "source": [
    "df4.to_csv('CleanFile_batch_inforamtion.csv')\n"
   ]
  },
  {
   "cell_type": "markdown",
   "metadata": {},
   "source": [
    "# Data visualaization"
   ]
  },
  {
   "cell_type": "code",
   "execution_count": 56,
   "metadata": {},
   "outputs": [
    {
     "data": {
      "text/html": [
       "<div>\n",
       "<style scoped>\n",
       "    .dataframe tbody tr th:only-of-type {\n",
       "        vertical-align: middle;\n",
       "    }\n",
       "\n",
       "    .dataframe tbody tr th {\n",
       "        vertical-align: top;\n",
       "    }\n",
       "\n",
       "    .dataframe thead th {\n",
       "        text-align: right;\n",
       "    }\n",
       "</style>\n",
       "<table border=\"1\" class=\"dataframe\">\n",
       "  <thead>\n",
       "    <tr style=\"text-align: right;\">\n",
       "      <th></th>\n",
       "      <th>Unnamed: 0</th>\n",
       "      <th>Time Stamp</th>\n",
       "      <th>Name of the candidate</th>\n",
       "      <th>Contact</th>\n",
       "      <th>Email id</th>\n",
       "      <th>College name</th>\n",
       "      <th>Brach</th>\n",
       "      <th>People having laptop</th>\n",
       "      <th>Souce of communication</th>\n",
       "      <th>Country</th>\n",
       "    </tr>\n",
       "  </thead>\n",
       "  <tbody>\n",
       "    <tr>\n",
       "      <th>0</th>\n",
       "      <td>0</td>\n",
       "      <td>8/24/2020 17:01:39</td>\n",
       "      <td>A.S.M. Raquibul Hasan</td>\n",
       "      <td>01722577922</td>\n",
       "      <td>raquibul.nsu@gmail.com</td>\n",
       "      <td>United International University</td>\n",
       "      <td>others</td>\n",
       "      <td>Yes</td>\n",
       "      <td>Facebook</td>\n",
       "      <td>Bangladesh</td>\n",
       "    </tr>\n",
       "    <tr>\n",
       "      <th>1</th>\n",
       "      <td>1</td>\n",
       "      <td>8/24/2020 10:08:54</td>\n",
       "      <td>Abdullah</td>\n",
       "      <td>NaN</td>\n",
       "      <td>sharif3abdullah@gmail.com</td>\n",
       "      <td>IIT</td>\n",
       "      <td>Engineering</td>\n",
       "      <td>NaN</td>\n",
       "      <td>NaN</td>\n",
       "      <td>Bangladesh</td>\n",
       "    </tr>\n",
       "    <tr>\n",
       "      <th>2</th>\n",
       "      <td>2</td>\n",
       "      <td>8/24/2020 9:20:28</td>\n",
       "      <td>Abdullah Bin Murad</td>\n",
       "      <td>01552443554</td>\n",
       "      <td>abmrifat54@gmail.com</td>\n",
       "      <td>Shahjalal University of Science and Technology</td>\n",
       "      <td>Engineering</td>\n",
       "      <td>Yes</td>\n",
       "      <td>NaN</td>\n",
       "      <td>Bangladesh</td>\n",
       "    </tr>\n",
       "    <tr>\n",
       "      <th>3</th>\n",
       "      <td>3</td>\n",
       "      <td>7/28/2020 12:16:30</td>\n",
       "      <td>Abhijoy Mukherjee</td>\n",
       "      <td>7003206060</td>\n",
       "      <td>abhijoymukherjee01@gmail.com</td>\n",
       "      <td>Asutosh College</td>\n",
       "      <td>Statistics</td>\n",
       "      <td>Yes</td>\n",
       "      <td>Friend</td>\n",
       "      <td>India</td>\n",
       "    </tr>\n",
       "    <tr>\n",
       "      <th>4</th>\n",
       "      <td>4</td>\n",
       "      <td>7/10/2020 13:56:14</td>\n",
       "      <td>Abhipreeti Acharjee</td>\n",
       "      <td>8274839744</td>\n",
       "      <td>deepamandal007@gmail.com</td>\n",
       "      <td>DEPARTMENT OF PURE MATHEMATICS, UNIVERSITY OF ...</td>\n",
       "      <td>PURE MATHEMATICS</td>\n",
       "      <td>Yes</td>\n",
       "      <td>NaN</td>\n",
       "      <td>India</td>\n",
       "    </tr>\n",
       "    <tr>\n",
       "      <th>...</th>\n",
       "      <td>...</td>\n",
       "      <td>...</td>\n",
       "      <td>...</td>\n",
       "      <td>...</td>\n",
       "      <td>...</td>\n",
       "      <td>...</td>\n",
       "      <td>...</td>\n",
       "      <td>...</td>\n",
       "      <td>...</td>\n",
       "      <td>...</td>\n",
       "    </tr>\n",
       "    <tr>\n",
       "      <th>963</th>\n",
       "      <td>963</td>\n",
       "      <td>1/22/2021 22:06:24</td>\n",
       "      <td>Ramanish Banerjee</td>\n",
       "      <td>8017179702</td>\n",
       "      <td>banerjeeramanish@gmail.com</td>\n",
       "      <td>MAULANA AZAD COLLEGE</td>\n",
       "      <td>Honors (BSC/MSC)</td>\n",
       "      <td>Yes</td>\n",
       "      <td>NaN</td>\n",
       "      <td>NaN</td>\n",
       "    </tr>\n",
       "    <tr>\n",
       "      <th>964</th>\n",
       "      <td>964</td>\n",
       "      <td>1/22/2021 22:46:21</td>\n",
       "      <td>Jinia Banerjee</td>\n",
       "      <td>6289719175</td>\n",
       "      <td>jiniabanerjee9727@gmail.com</td>\n",
       "      <td>Maulona Azad College</td>\n",
       "      <td>Honors (BSC/MSC)</td>\n",
       "      <td>No</td>\n",
       "      <td>NaN</td>\n",
       "      <td>NaN</td>\n",
       "    </tr>\n",
       "    <tr>\n",
       "      <th>965</th>\n",
       "      <td>965</td>\n",
       "      <td>1/23/2021 10:57:08</td>\n",
       "      <td>Md Safiqul Islam</td>\n",
       "      <td>8250955315</td>\n",
       "      <td>safiqulislam6006@gmail.com</td>\n",
       "      <td>Maulana Azad College</td>\n",
       "      <td>Honors (BSC/MSC)</td>\n",
       "      <td>Yes</td>\n",
       "      <td>NaN</td>\n",
       "      <td>NaN</td>\n",
       "    </tr>\n",
       "    <tr>\n",
       "      <th>966</th>\n",
       "      <td>966</td>\n",
       "      <td>1/23/2021 12:27:32</td>\n",
       "      <td>Soumojit Chatterjee</td>\n",
       "      <td>8101726672</td>\n",
       "      <td>imsoumojit@yahoo.com</td>\n",
       "      <td>Maulana Azad College</td>\n",
       "      <td>Honors (BSC/MSC)</td>\n",
       "      <td>Yes</td>\n",
       "      <td>NaN</td>\n",
       "      <td>NaN</td>\n",
       "    </tr>\n",
       "    <tr>\n",
       "      <th>967</th>\n",
       "      <td>967</td>\n",
       "      <td>1/23/2021 17:37:35</td>\n",
       "      <td>Debanjan Bhattacharjee</td>\n",
       "      <td>6290909245</td>\n",
       "      <td>debanjanbhattacharjee2002@gmail.com</td>\n",
       "      <td>Maulana Azad College</td>\n",
       "      <td>Honors (BSC/MSC)</td>\n",
       "      <td>Yes</td>\n",
       "      <td>NaN</td>\n",
       "      <td>NaN</td>\n",
       "    </tr>\n",
       "  </tbody>\n",
       "</table>\n",
       "<p>968 rows × 10 columns</p>\n",
       "</div>"
      ],
      "text/plain": [
       "     Unnamed: 0         Time Stamp   Name of the candidate      Contact   \\\n",
       "0             0  8/24/2020 17:01:39  A.S.M. Raquibul Hasan   01722577922   \n",
       "1             1  8/24/2020 10:08:54                Abdullah          NaN   \n",
       "2             2   8/24/2020 9:20:28    Abdullah Bin Murad    01552443554   \n",
       "3             3  7/28/2020 12:16:30       Abhijoy Mukherjee   7003206060   \n",
       "4             4  7/10/2020 13:56:14     Abhipreeti Acharjee   8274839744   \n",
       "..          ...                 ...                     ...          ...   \n",
       "963         963  1/22/2021 22:06:24       Ramanish Banerjee   8017179702   \n",
       "964         964  1/22/2021 22:46:21          Jinia Banerjee   6289719175   \n",
       "965         965  1/23/2021 10:57:08        Md Safiqul Islam   8250955315   \n",
       "966         966  1/23/2021 12:27:32     Soumojit Chatterjee   8101726672   \n",
       "967         967  1/23/2021 17:37:35  Debanjan Bhattacharjee   6290909245   \n",
       "\n",
       "                               Email id   \\\n",
       "0                 raquibul.nsu@gmail.com   \n",
       "1              sharif3abdullah@gmail.com   \n",
       "2                   abmrifat54@gmail.com   \n",
       "3           abhijoymukherjee01@gmail.com   \n",
       "4               deepamandal007@gmail.com   \n",
       "..                                   ...   \n",
       "963           banerjeeramanish@gmail.com   \n",
       "964          jiniabanerjee9727@gmail.com   \n",
       "965           safiqulislam6006@gmail.com   \n",
       "966                 imsoumojit@yahoo.com   \n",
       "967  debanjanbhattacharjee2002@gmail.com   \n",
       "\n",
       "                                         College name             Brach   \\\n",
       "0                     United International University             others   \n",
       "1                                                  IIT       Engineering   \n",
       "2       Shahjalal University of Science and Technology       Engineering   \n",
       "3                                      Asutosh College        Statistics   \n",
       "4    DEPARTMENT OF PURE MATHEMATICS, UNIVERSITY OF ...  PURE MATHEMATICS   \n",
       "..                                                 ...               ...   \n",
       "963                               MAULANA AZAD COLLEGE  Honors (BSC/MSC)   \n",
       "964                               Maulona Azad College  Honors (BSC/MSC)   \n",
       "965                               Maulana Azad College  Honors (BSC/MSC)   \n",
       "966                               Maulana Azad College  Honors (BSC/MSC)   \n",
       "967                               Maulana Azad College  Honors (BSC/MSC)   \n",
       "\n",
       "    People having laptop  Souce of communication     Country   \n",
       "0                     Yes               Facebook   Bangladesh  \n",
       "1                     NaN                     NaN  Bangladesh  \n",
       "2                     Yes                     NaN  Bangladesh  \n",
       "3                     Yes                  Friend       India  \n",
       "4                     Yes                     NaN       India  \n",
       "..                    ...                     ...         ...  \n",
       "963                   Yes                     NaN         NaN  \n",
       "964                    No                     NaN         NaN  \n",
       "965                   Yes                     NaN         NaN  \n",
       "966                   Yes                     NaN         NaN  \n",
       "967                   Yes                     NaN         NaN  \n",
       "\n",
       "[968 rows x 10 columns]"
      ]
     },
     "execution_count": 56,
     "metadata": {},
     "output_type": "execute_result"
    }
   ],
   "source": [
    "df5 = pd.read_csv(\"cleanfile1.csv\")\n",
    "df5"
   ]
  },
  {
   "cell_type": "code",
   "execution_count": 57,
   "metadata": {},
   "outputs": [
    {
     "data": {
      "text/html": [
       "<div>\n",
       "<style scoped>\n",
       "    .dataframe tbody tr th:only-of-type {\n",
       "        vertical-align: middle;\n",
       "    }\n",
       "\n",
       "    .dataframe tbody tr th {\n",
       "        vertical-align: top;\n",
       "    }\n",
       "\n",
       "    .dataframe thead th {\n",
       "        text-align: right;\n",
       "    }\n",
       "</style>\n",
       "<table border=\"1\" class=\"dataframe\">\n",
       "  <thead>\n",
       "    <tr style=\"text-align: right;\">\n",
       "      <th></th>\n",
       "      <th>Unnamed: 0</th>\n",
       "      <th>Time Stamp</th>\n",
       "      <th>Name of the candidate</th>\n",
       "      <th>Contact</th>\n",
       "      <th>Email id</th>\n",
       "      <th>College name</th>\n",
       "      <th>Brach</th>\n",
       "      <th>People having laptop</th>\n",
       "      <th>Souce of communication</th>\n",
       "      <th>Country</th>\n",
       "    </tr>\n",
       "  </thead>\n",
       "  <tbody>\n",
       "    <tr>\n",
       "      <th>0</th>\n",
       "      <td>0</td>\n",
       "      <td>8/24/2020 17:01:39</td>\n",
       "      <td>A.S.M. Raquibul Hasan</td>\n",
       "      <td>01722577922</td>\n",
       "      <td>raquibul.nsu@gmail.com</td>\n",
       "      <td>United International University</td>\n",
       "      <td>others</td>\n",
       "      <td>Yes</td>\n",
       "      <td>Facebook</td>\n",
       "      <td>Bangladesh</td>\n",
       "    </tr>\n",
       "    <tr>\n",
       "      <th>1</th>\n",
       "      <td>1</td>\n",
       "      <td>8/24/2020 10:08:54</td>\n",
       "      <td>Abdullah</td>\n",
       "      <td>NaN</td>\n",
       "      <td>sharif3abdullah@gmail.com</td>\n",
       "      <td>IIT</td>\n",
       "      <td>Engineering</td>\n",
       "      <td>NaN</td>\n",
       "      <td>NaN</td>\n",
       "      <td>Bangladesh</td>\n",
       "    </tr>\n",
       "    <tr>\n",
       "      <th>2</th>\n",
       "      <td>2</td>\n",
       "      <td>8/24/2020 9:20:28</td>\n",
       "      <td>Abdullah Bin Murad</td>\n",
       "      <td>01552443554</td>\n",
       "      <td>abmrifat54@gmail.com</td>\n",
       "      <td>Shahjalal University of Science and Technology</td>\n",
       "      <td>Engineering</td>\n",
       "      <td>Yes</td>\n",
       "      <td>NaN</td>\n",
       "      <td>Bangladesh</td>\n",
       "    </tr>\n",
       "    <tr>\n",
       "      <th>3</th>\n",
       "      <td>3</td>\n",
       "      <td>7/28/2020 12:16:30</td>\n",
       "      <td>Abhijoy Mukherjee</td>\n",
       "      <td>7003206060</td>\n",
       "      <td>abhijoymukherjee01@gmail.com</td>\n",
       "      <td>Asutosh College</td>\n",
       "      <td>Statistics</td>\n",
       "      <td>Yes</td>\n",
       "      <td>Friend</td>\n",
       "      <td>India</td>\n",
       "    </tr>\n",
       "    <tr>\n",
       "      <th>4</th>\n",
       "      <td>4</td>\n",
       "      <td>7/10/2020 13:56:14</td>\n",
       "      <td>Abhipreeti Acharjee</td>\n",
       "      <td>8274839744</td>\n",
       "      <td>deepamandal007@gmail.com</td>\n",
       "      <td>DEPARTMENT OF PURE MATHEMATICS, UNIVERSITY OF ...</td>\n",
       "      <td>PURE MATHEMATICS</td>\n",
       "      <td>Yes</td>\n",
       "      <td>NaN</td>\n",
       "      <td>India</td>\n",
       "    </tr>\n",
       "    <tr>\n",
       "      <th>...</th>\n",
       "      <td>...</td>\n",
       "      <td>...</td>\n",
       "      <td>...</td>\n",
       "      <td>...</td>\n",
       "      <td>...</td>\n",
       "      <td>...</td>\n",
       "      <td>...</td>\n",
       "      <td>...</td>\n",
       "      <td>...</td>\n",
       "      <td>...</td>\n",
       "    </tr>\n",
       "    <tr>\n",
       "      <th>963</th>\n",
       "      <td>963</td>\n",
       "      <td>1/22/2021 22:06:24</td>\n",
       "      <td>Ramanish Banerjee</td>\n",
       "      <td>8017179702</td>\n",
       "      <td>banerjeeramanish@gmail.com</td>\n",
       "      <td>MAULANA AZAD COLLEGE</td>\n",
       "      <td>Honors (BSC/MSC)</td>\n",
       "      <td>Yes</td>\n",
       "      <td>NaN</td>\n",
       "      <td>NaN</td>\n",
       "    </tr>\n",
       "    <tr>\n",
       "      <th>964</th>\n",
       "      <td>964</td>\n",
       "      <td>1/22/2021 22:46:21</td>\n",
       "      <td>Jinia Banerjee</td>\n",
       "      <td>6289719175</td>\n",
       "      <td>jiniabanerjee9727@gmail.com</td>\n",
       "      <td>Maulona Azad College</td>\n",
       "      <td>Honors (BSC/MSC)</td>\n",
       "      <td>No</td>\n",
       "      <td>NaN</td>\n",
       "      <td>NaN</td>\n",
       "    </tr>\n",
       "    <tr>\n",
       "      <th>965</th>\n",
       "      <td>965</td>\n",
       "      <td>1/23/2021 10:57:08</td>\n",
       "      <td>Md Safiqul Islam</td>\n",
       "      <td>8250955315</td>\n",
       "      <td>safiqulislam6006@gmail.com</td>\n",
       "      <td>Maulana Azad College</td>\n",
       "      <td>Honors (BSC/MSC)</td>\n",
       "      <td>Yes</td>\n",
       "      <td>NaN</td>\n",
       "      <td>NaN</td>\n",
       "    </tr>\n",
       "    <tr>\n",
       "      <th>966</th>\n",
       "      <td>966</td>\n",
       "      <td>1/23/2021 12:27:32</td>\n",
       "      <td>Soumojit Chatterjee</td>\n",
       "      <td>8101726672</td>\n",
       "      <td>imsoumojit@yahoo.com</td>\n",
       "      <td>Maulana Azad College</td>\n",
       "      <td>Honors (BSC/MSC)</td>\n",
       "      <td>Yes</td>\n",
       "      <td>NaN</td>\n",
       "      <td>NaN</td>\n",
       "    </tr>\n",
       "    <tr>\n",
       "      <th>967</th>\n",
       "      <td>967</td>\n",
       "      <td>1/23/2021 17:37:35</td>\n",
       "      <td>Debanjan Bhattacharjee</td>\n",
       "      <td>6290909245</td>\n",
       "      <td>debanjanbhattacharjee2002@gmail.com</td>\n",
       "      <td>Maulana Azad College</td>\n",
       "      <td>Honors (BSC/MSC)</td>\n",
       "      <td>Yes</td>\n",
       "      <td>NaN</td>\n",
       "      <td>NaN</td>\n",
       "    </tr>\n",
       "  </tbody>\n",
       "</table>\n",
       "<p>968 rows × 10 columns</p>\n",
       "</div>"
      ],
      "text/plain": [
       "     Unnamed: 0         Time Stamp   Name of the candidate      Contact   \\\n",
       "0             0  8/24/2020 17:01:39  A.S.M. Raquibul Hasan   01722577922   \n",
       "1             1  8/24/2020 10:08:54                Abdullah          NaN   \n",
       "2             2   8/24/2020 9:20:28    Abdullah Bin Murad    01552443554   \n",
       "3             3  7/28/2020 12:16:30       Abhijoy Mukherjee   7003206060   \n",
       "4             4  7/10/2020 13:56:14     Abhipreeti Acharjee   8274839744   \n",
       "..          ...                 ...                     ...          ...   \n",
       "963         963  1/22/2021 22:06:24       Ramanish Banerjee   8017179702   \n",
       "964         964  1/22/2021 22:46:21          Jinia Banerjee   6289719175   \n",
       "965         965  1/23/2021 10:57:08        Md Safiqul Islam   8250955315   \n",
       "966         966  1/23/2021 12:27:32     Soumojit Chatterjee   8101726672   \n",
       "967         967  1/23/2021 17:37:35  Debanjan Bhattacharjee   6290909245   \n",
       "\n",
       "                               Email id   \\\n",
       "0                 raquibul.nsu@gmail.com   \n",
       "1              sharif3abdullah@gmail.com   \n",
       "2                   abmrifat54@gmail.com   \n",
       "3           abhijoymukherjee01@gmail.com   \n",
       "4               deepamandal007@gmail.com   \n",
       "..                                   ...   \n",
       "963           banerjeeramanish@gmail.com   \n",
       "964          jiniabanerjee9727@gmail.com   \n",
       "965           safiqulislam6006@gmail.com   \n",
       "966                 imsoumojit@yahoo.com   \n",
       "967  debanjanbhattacharjee2002@gmail.com   \n",
       "\n",
       "                                         College name             Brach   \\\n",
       "0                     United International University             others   \n",
       "1                                                  IIT       Engineering   \n",
       "2       Shahjalal University of Science and Technology       Engineering   \n",
       "3                                      Asutosh College        Statistics   \n",
       "4    DEPARTMENT OF PURE MATHEMATICS, UNIVERSITY OF ...  PURE MATHEMATICS   \n",
       "..                                                 ...               ...   \n",
       "963                               MAULANA AZAD COLLEGE  Honors (BSC/MSC)   \n",
       "964                               Maulona Azad College  Honors (BSC/MSC)   \n",
       "965                               Maulana Azad College  Honors (BSC/MSC)   \n",
       "966                               Maulana Azad College  Honors (BSC/MSC)   \n",
       "967                               Maulana Azad College  Honors (BSC/MSC)   \n",
       "\n",
       "    People having laptop  Souce of communication     Country   \n",
       "0                     Yes               Facebook   Bangladesh  \n",
       "1                     NaN                     NaN  Bangladesh  \n",
       "2                     Yes                     NaN  Bangladesh  \n",
       "3                     Yes                  Friend       India  \n",
       "4                     Yes                     NaN       India  \n",
       "..                    ...                     ...         ...  \n",
       "963                   Yes                     NaN         NaN  \n",
       "964                    No                     NaN         NaN  \n",
       "965                   Yes                     NaN         NaN  \n",
       "966                   Yes                     NaN         NaN  \n",
       "967                   Yes                     NaN         NaN  \n",
       "\n",
       "[968 rows x 10 columns]"
      ]
     },
     "execution_count": 57,
     "metadata": {},
     "output_type": "execute_result"
    }
   ],
   "source": [
    "df5.reset_index(drop=True)\n"
   ]
  },
  {
   "cell_type": "code",
   "execution_count": 58,
   "metadata": {},
   "outputs": [
    {
     "data": {
      "text/plain": [
       "Unnamed: 0                   0\n",
       "Time Stamp                  20\n",
       "Name of the candidate       21\n",
       "Contact                     59\n",
       "Email id                    22\n",
       "College name                28\n",
       "Brach                       35\n",
       "People having laptop        28\n",
       "Souce of communication     536\n",
       "Country                    492\n",
       "dtype: int64"
      ]
     },
     "execution_count": 58,
     "metadata": {},
     "output_type": "execute_result"
    }
   ],
   "source": [
    "#total null values sum\n",
    "df5.isna().sum()"
   ]
  },
  {
   "cell_type": "code",
   "execution_count": 59,
   "metadata": {},
   "outputs": [
    {
     "data": {
      "text/plain": [
       "Index(['Unnamed: 0', 'Time Stamp ', 'Name', 'Contact', 'Email', 'College',\n",
       "       'Department', 'HavingLaptop', 'Source', 'Country'],\n",
       "      dtype='object')"
      ]
     },
     "execution_count": 59,
     "metadata": {},
     "output_type": "execute_result"
    }
   ],
   "source": [
    "df5.rename(columns={\"TimeStamp \": \"Timestamp\", \"Name of the candidate \": \"Name\",\"Contact \":\"Contact\",\"Email id \": \"Email\",\"College name \":\"College\",\"Brach \":\"Department\",\"People having laptop \":\"HavingLaptop\",\"Souce of communication \":\"Source\",\"Country \":\"Country\"},inplace=True)\n",
    "df5.columns"
   ]
  },
  {
   "cell_type": "code",
   "execution_count": 60,
   "metadata": {},
   "outputs": [
    {
     "data": {
      "text/html": [
       "<div>\n",
       "<style scoped>\n",
       "    .dataframe tbody tr th:only-of-type {\n",
       "        vertical-align: middle;\n",
       "    }\n",
       "\n",
       "    .dataframe tbody tr th {\n",
       "        vertical-align: top;\n",
       "    }\n",
       "\n",
       "    .dataframe thead th {\n",
       "        text-align: right;\n",
       "    }\n",
       "</style>\n",
       "<table border=\"1\" class=\"dataframe\">\n",
       "  <thead>\n",
       "    <tr style=\"text-align: right;\">\n",
       "      <th></th>\n",
       "      <th>Unnamed: 0</th>\n",
       "      <th>Time Stamp</th>\n",
       "      <th>Name</th>\n",
       "      <th>Contact</th>\n",
       "      <th>Email</th>\n",
       "      <th>College</th>\n",
       "      <th>Department</th>\n",
       "      <th>HavingLaptop</th>\n",
       "      <th>Source</th>\n",
       "      <th>Country</th>\n",
       "    </tr>\n",
       "  </thead>\n",
       "  <tbody>\n",
       "    <tr>\n",
       "      <th>0</th>\n",
       "      <td>0</td>\n",
       "      <td>8/24/2020 17:01:39</td>\n",
       "      <td>A.S.M. Raquibul Hasan</td>\n",
       "      <td>01722577922</td>\n",
       "      <td>raquibul.nsu@gmail.com</td>\n",
       "      <td>United International University</td>\n",
       "      <td>others</td>\n",
       "      <td>Yes</td>\n",
       "      <td>Facebook</td>\n",
       "      <td>Bangladesh</td>\n",
       "    </tr>\n",
       "    <tr>\n",
       "      <th>1</th>\n",
       "      <td>1</td>\n",
       "      <td>8/24/2020 10:08:54</td>\n",
       "      <td>Abdullah</td>\n",
       "      <td>NaN</td>\n",
       "      <td>sharif3abdullah@gmail.com</td>\n",
       "      <td>IIT</td>\n",
       "      <td>Engineering</td>\n",
       "      <td>NaN</td>\n",
       "      <td>NaN</td>\n",
       "      <td>Bangladesh</td>\n",
       "    </tr>\n",
       "    <tr>\n",
       "      <th>2</th>\n",
       "      <td>2</td>\n",
       "      <td>8/24/2020 9:20:28</td>\n",
       "      <td>Abdullah Bin Murad</td>\n",
       "      <td>01552443554</td>\n",
       "      <td>abmrifat54@gmail.com</td>\n",
       "      <td>Shahjalal University of Science and Technology</td>\n",
       "      <td>Engineering</td>\n",
       "      <td>Yes</td>\n",
       "      <td>NaN</td>\n",
       "      <td>Bangladesh</td>\n",
       "    </tr>\n",
       "    <tr>\n",
       "      <th>3</th>\n",
       "      <td>3</td>\n",
       "      <td>7/28/2020 12:16:30</td>\n",
       "      <td>Abhijoy Mukherjee</td>\n",
       "      <td>7003206060</td>\n",
       "      <td>abhijoymukherjee01@gmail.com</td>\n",
       "      <td>Asutosh College</td>\n",
       "      <td>Statistics</td>\n",
       "      <td>Yes</td>\n",
       "      <td>Friend</td>\n",
       "      <td>India</td>\n",
       "    </tr>\n",
       "    <tr>\n",
       "      <th>4</th>\n",
       "      <td>4</td>\n",
       "      <td>7/10/2020 13:56:14</td>\n",
       "      <td>Abhipreeti Acharjee</td>\n",
       "      <td>8274839744</td>\n",
       "      <td>deepamandal007@gmail.com</td>\n",
       "      <td>DEPARTMENT OF PURE MATHEMATICS, UNIVERSITY OF ...</td>\n",
       "      <td>PURE MATHEMATICS</td>\n",
       "      <td>Yes</td>\n",
       "      <td>NaN</td>\n",
       "      <td>India</td>\n",
       "    </tr>\n",
       "    <tr>\n",
       "      <th>...</th>\n",
       "      <td>...</td>\n",
       "      <td>...</td>\n",
       "      <td>...</td>\n",
       "      <td>...</td>\n",
       "      <td>...</td>\n",
       "      <td>...</td>\n",
       "      <td>...</td>\n",
       "      <td>...</td>\n",
       "      <td>...</td>\n",
       "      <td>...</td>\n",
       "    </tr>\n",
       "    <tr>\n",
       "      <th>963</th>\n",
       "      <td>963</td>\n",
       "      <td>1/22/2021 22:06:24</td>\n",
       "      <td>Ramanish Banerjee</td>\n",
       "      <td>8017179702</td>\n",
       "      <td>banerjeeramanish@gmail.com</td>\n",
       "      <td>MAULANA AZAD COLLEGE</td>\n",
       "      <td>Honors (BSC/MSC)</td>\n",
       "      <td>Yes</td>\n",
       "      <td>NaN</td>\n",
       "      <td>NaN</td>\n",
       "    </tr>\n",
       "    <tr>\n",
       "      <th>964</th>\n",
       "      <td>964</td>\n",
       "      <td>1/22/2021 22:46:21</td>\n",
       "      <td>Jinia Banerjee</td>\n",
       "      <td>6289719175</td>\n",
       "      <td>jiniabanerjee9727@gmail.com</td>\n",
       "      <td>Maulona Azad College</td>\n",
       "      <td>Honors (BSC/MSC)</td>\n",
       "      <td>No</td>\n",
       "      <td>NaN</td>\n",
       "      <td>NaN</td>\n",
       "    </tr>\n",
       "    <tr>\n",
       "      <th>965</th>\n",
       "      <td>965</td>\n",
       "      <td>1/23/2021 10:57:08</td>\n",
       "      <td>Md Safiqul Islam</td>\n",
       "      <td>8250955315</td>\n",
       "      <td>safiqulislam6006@gmail.com</td>\n",
       "      <td>Maulana Azad College</td>\n",
       "      <td>Honors (BSC/MSC)</td>\n",
       "      <td>Yes</td>\n",
       "      <td>NaN</td>\n",
       "      <td>NaN</td>\n",
       "    </tr>\n",
       "    <tr>\n",
       "      <th>966</th>\n",
       "      <td>966</td>\n",
       "      <td>1/23/2021 12:27:32</td>\n",
       "      <td>Soumojit Chatterjee</td>\n",
       "      <td>8101726672</td>\n",
       "      <td>imsoumojit@yahoo.com</td>\n",
       "      <td>Maulana Azad College</td>\n",
       "      <td>Honors (BSC/MSC)</td>\n",
       "      <td>Yes</td>\n",
       "      <td>NaN</td>\n",
       "      <td>NaN</td>\n",
       "    </tr>\n",
       "    <tr>\n",
       "      <th>967</th>\n",
       "      <td>967</td>\n",
       "      <td>1/23/2021 17:37:35</td>\n",
       "      <td>Debanjan Bhattacharjee</td>\n",
       "      <td>6290909245</td>\n",
       "      <td>debanjanbhattacharjee2002@gmail.com</td>\n",
       "      <td>Maulana Azad College</td>\n",
       "      <td>Honors (BSC/MSC)</td>\n",
       "      <td>Yes</td>\n",
       "      <td>NaN</td>\n",
       "      <td>NaN</td>\n",
       "    </tr>\n",
       "  </tbody>\n",
       "</table>\n",
       "<p>968 rows × 10 columns</p>\n",
       "</div>"
      ],
      "text/plain": [
       "     Unnamed: 0         Time Stamp                     Name      Contact  \\\n",
       "0             0  8/24/2020 17:01:39  A.S.M. Raquibul Hasan   01722577922   \n",
       "1             1  8/24/2020 10:08:54                Abdullah          NaN   \n",
       "2             2   8/24/2020 9:20:28    Abdullah Bin Murad    01552443554   \n",
       "3             3  7/28/2020 12:16:30       Abhijoy Mukherjee   7003206060   \n",
       "4             4  7/10/2020 13:56:14     Abhipreeti Acharjee   8274839744   \n",
       "..          ...                 ...                     ...          ...   \n",
       "963         963  1/22/2021 22:06:24       Ramanish Banerjee   8017179702   \n",
       "964         964  1/22/2021 22:46:21          Jinia Banerjee   6289719175   \n",
       "965         965  1/23/2021 10:57:08        Md Safiqul Islam   8250955315   \n",
       "966         966  1/23/2021 12:27:32     Soumojit Chatterjee   8101726672   \n",
       "967         967  1/23/2021 17:37:35  Debanjan Bhattacharjee   6290909245   \n",
       "\n",
       "                                   Email  \\\n",
       "0                 raquibul.nsu@gmail.com   \n",
       "1              sharif3abdullah@gmail.com   \n",
       "2                   abmrifat54@gmail.com   \n",
       "3           abhijoymukherjee01@gmail.com   \n",
       "4               deepamandal007@gmail.com   \n",
       "..                                   ...   \n",
       "963           banerjeeramanish@gmail.com   \n",
       "964          jiniabanerjee9727@gmail.com   \n",
       "965           safiqulislam6006@gmail.com   \n",
       "966                 imsoumojit@yahoo.com   \n",
       "967  debanjanbhattacharjee2002@gmail.com   \n",
       "\n",
       "                                               College        Department  \\\n",
       "0                     United International University             others   \n",
       "1                                                  IIT       Engineering   \n",
       "2       Shahjalal University of Science and Technology       Engineering   \n",
       "3                                      Asutosh College        Statistics   \n",
       "4    DEPARTMENT OF PURE MATHEMATICS, UNIVERSITY OF ...  PURE MATHEMATICS   \n",
       "..                                                 ...               ...   \n",
       "963                               MAULANA AZAD COLLEGE  Honors (BSC/MSC)   \n",
       "964                               Maulona Azad College  Honors (BSC/MSC)   \n",
       "965                               Maulana Azad College  Honors (BSC/MSC)   \n",
       "966                               Maulana Azad College  Honors (BSC/MSC)   \n",
       "967                               Maulana Azad College  Honors (BSC/MSC)   \n",
       "\n",
       "    HavingLaptop     Source     Country  \n",
       "0            Yes  Facebook   Bangladesh  \n",
       "1            NaN        NaN  Bangladesh  \n",
       "2            Yes        NaN  Bangladesh  \n",
       "3            Yes     Friend       India  \n",
       "4            Yes        NaN       India  \n",
       "..           ...        ...         ...  \n",
       "963          Yes        NaN         NaN  \n",
       "964           No        NaN         NaN  \n",
       "965          Yes        NaN         NaN  \n",
       "966          Yes        NaN         NaN  \n",
       "967          Yes        NaN         NaN  \n",
       "\n",
       "[968 rows x 10 columns]"
      ]
     },
     "execution_count": 60,
     "metadata": {},
     "output_type": "execute_result"
    }
   ],
   "source": [
    "df5"
   ]
  },
  {
   "cell_type": "code",
   "execution_count": 61,
   "metadata": {},
   "outputs": [
    {
     "data": {
      "text/html": [
       "<div>\n",
       "<style scoped>\n",
       "    .dataframe tbody tr th:only-of-type {\n",
       "        vertical-align: middle;\n",
       "    }\n",
       "\n",
       "    .dataframe tbody tr th {\n",
       "        vertical-align: top;\n",
       "    }\n",
       "\n",
       "    .dataframe thead th {\n",
       "        text-align: right;\n",
       "    }\n",
       "</style>\n",
       "<table border=\"1\" class=\"dataframe\">\n",
       "  <thead>\n",
       "    <tr style=\"text-align: right;\">\n",
       "      <th></th>\n",
       "      <th>Unnamed: 0</th>\n",
       "      <th>Time Stamp</th>\n",
       "      <th>Name</th>\n",
       "      <th>Contact</th>\n",
       "      <th>Email</th>\n",
       "      <th>College</th>\n",
       "      <th>Department</th>\n",
       "      <th>HavingLaptop</th>\n",
       "      <th>Source</th>\n",
       "      <th>Country</th>\n",
       "    </tr>\n",
       "  </thead>\n",
       "  <tbody>\n",
       "    <tr>\n",
       "      <th>0</th>\n",
       "      <td>0</td>\n",
       "      <td>8/24/2020 17:01:39</td>\n",
       "      <td>A.S.M. Raquibul Hasan</td>\n",
       "      <td>01722577922</td>\n",
       "      <td>raquibul.nsu@gmail.com</td>\n",
       "      <td>United International University</td>\n",
       "      <td>others</td>\n",
       "      <td>Yes</td>\n",
       "      <td>Facebook</td>\n",
       "      <td>Bangladesh</td>\n",
       "    </tr>\n",
       "    <tr>\n",
       "      <th>1</th>\n",
       "      <td>1</td>\n",
       "      <td>8/24/2020 10:08:54</td>\n",
       "      <td>Abdullah</td>\n",
       "      <td>NaN</td>\n",
       "      <td>sharif3abdullah@gmail.com</td>\n",
       "      <td>IIT</td>\n",
       "      <td>Engineering</td>\n",
       "      <td>NaN</td>\n",
       "      <td>NaN</td>\n",
       "      <td>Bangladesh</td>\n",
       "    </tr>\n",
       "    <tr>\n",
       "      <th>2</th>\n",
       "      <td>2</td>\n",
       "      <td>8/24/2020 9:20:28</td>\n",
       "      <td>Abdullah Bin Murad</td>\n",
       "      <td>01552443554</td>\n",
       "      <td>abmrifat54@gmail.com</td>\n",
       "      <td>Shahjalal University of Science and Technology</td>\n",
       "      <td>Engineering</td>\n",
       "      <td>Yes</td>\n",
       "      <td>NaN</td>\n",
       "      <td>Bangladesh</td>\n",
       "    </tr>\n",
       "    <tr>\n",
       "      <th>3</th>\n",
       "      <td>3</td>\n",
       "      <td>7/28/2020 12:16:30</td>\n",
       "      <td>Abhijoy Mukherjee</td>\n",
       "      <td>7003206060</td>\n",
       "      <td>abhijoymukherjee01@gmail.com</td>\n",
       "      <td>Asutosh College</td>\n",
       "      <td>Statistics</td>\n",
       "      <td>Yes</td>\n",
       "      <td>Friend</td>\n",
       "      <td>India</td>\n",
       "    </tr>\n",
       "    <tr>\n",
       "      <th>4</th>\n",
       "      <td>4</td>\n",
       "      <td>7/10/2020 13:56:14</td>\n",
       "      <td>Abhipreeti Acharjee</td>\n",
       "      <td>8274839744</td>\n",
       "      <td>deepamandal007@gmail.com</td>\n",
       "      <td>DEPARTMENT OF PURE MATHEMATICS, UNIVERSITY OF ...</td>\n",
       "      <td>PURE MATHEMATICS</td>\n",
       "      <td>Yes</td>\n",
       "      <td>NaN</td>\n",
       "      <td>India</td>\n",
       "    </tr>\n",
       "    <tr>\n",
       "      <th>...</th>\n",
       "      <td>...</td>\n",
       "      <td>...</td>\n",
       "      <td>...</td>\n",
       "      <td>...</td>\n",
       "      <td>...</td>\n",
       "      <td>...</td>\n",
       "      <td>...</td>\n",
       "      <td>...</td>\n",
       "      <td>...</td>\n",
       "      <td>...</td>\n",
       "    </tr>\n",
       "    <tr>\n",
       "      <th>963</th>\n",
       "      <td>963</td>\n",
       "      <td>1/22/2021 22:06:24</td>\n",
       "      <td>Ramanish Banerjee</td>\n",
       "      <td>8017179702</td>\n",
       "      <td>banerjeeramanish@gmail.com</td>\n",
       "      <td>MAULANA AZAD COLLEGE</td>\n",
       "      <td>Honors (BSC/MSC)</td>\n",
       "      <td>Yes</td>\n",
       "      <td>NaN</td>\n",
       "      <td>NaN</td>\n",
       "    </tr>\n",
       "    <tr>\n",
       "      <th>964</th>\n",
       "      <td>964</td>\n",
       "      <td>1/22/2021 22:46:21</td>\n",
       "      <td>Jinia Banerjee</td>\n",
       "      <td>6289719175</td>\n",
       "      <td>jiniabanerjee9727@gmail.com</td>\n",
       "      <td>Maulona Azad College</td>\n",
       "      <td>Honors (BSC/MSC)</td>\n",
       "      <td>No</td>\n",
       "      <td>NaN</td>\n",
       "      <td>NaN</td>\n",
       "    </tr>\n",
       "    <tr>\n",
       "      <th>965</th>\n",
       "      <td>965</td>\n",
       "      <td>1/23/2021 10:57:08</td>\n",
       "      <td>Md Safiqul Islam</td>\n",
       "      <td>8250955315</td>\n",
       "      <td>safiqulislam6006@gmail.com</td>\n",
       "      <td>Maulana Azad College</td>\n",
       "      <td>Honors (BSC/MSC)</td>\n",
       "      <td>Yes</td>\n",
       "      <td>NaN</td>\n",
       "      <td>NaN</td>\n",
       "    </tr>\n",
       "    <tr>\n",
       "      <th>966</th>\n",
       "      <td>966</td>\n",
       "      <td>1/23/2021 12:27:32</td>\n",
       "      <td>Soumojit Chatterjee</td>\n",
       "      <td>8101726672</td>\n",
       "      <td>imsoumojit@yahoo.com</td>\n",
       "      <td>Maulana Azad College</td>\n",
       "      <td>Honors (BSC/MSC)</td>\n",
       "      <td>Yes</td>\n",
       "      <td>NaN</td>\n",
       "      <td>NaN</td>\n",
       "    </tr>\n",
       "    <tr>\n",
       "      <th>967</th>\n",
       "      <td>967</td>\n",
       "      <td>1/23/2021 17:37:35</td>\n",
       "      <td>Debanjan Bhattacharjee</td>\n",
       "      <td>6290909245</td>\n",
       "      <td>debanjanbhattacharjee2002@gmail.com</td>\n",
       "      <td>Maulana Azad College</td>\n",
       "      <td>Honors (BSC/MSC)</td>\n",
       "      <td>Yes</td>\n",
       "      <td>NaN</td>\n",
       "      <td>NaN</td>\n",
       "    </tr>\n",
       "  </tbody>\n",
       "</table>\n",
       "<p>968 rows × 10 columns</p>\n",
       "</div>"
      ],
      "text/plain": [
       "     Unnamed: 0         Time Stamp                     Name      Contact  \\\n",
       "0             0  8/24/2020 17:01:39  A.S.M. Raquibul Hasan   01722577922   \n",
       "1             1  8/24/2020 10:08:54                Abdullah          NaN   \n",
       "2             2   8/24/2020 9:20:28    Abdullah Bin Murad    01552443554   \n",
       "3             3  7/28/2020 12:16:30       Abhijoy Mukherjee   7003206060   \n",
       "4             4  7/10/2020 13:56:14     Abhipreeti Acharjee   8274839744   \n",
       "..          ...                 ...                     ...          ...   \n",
       "963         963  1/22/2021 22:06:24       Ramanish Banerjee   8017179702   \n",
       "964         964  1/22/2021 22:46:21          Jinia Banerjee   6289719175   \n",
       "965         965  1/23/2021 10:57:08        Md Safiqul Islam   8250955315   \n",
       "966         966  1/23/2021 12:27:32     Soumojit Chatterjee   8101726672   \n",
       "967         967  1/23/2021 17:37:35  Debanjan Bhattacharjee   6290909245   \n",
       "\n",
       "                                   Email  \\\n",
       "0                 raquibul.nsu@gmail.com   \n",
       "1              sharif3abdullah@gmail.com   \n",
       "2                   abmrifat54@gmail.com   \n",
       "3           abhijoymukherjee01@gmail.com   \n",
       "4               deepamandal007@gmail.com   \n",
       "..                                   ...   \n",
       "963           banerjeeramanish@gmail.com   \n",
       "964          jiniabanerjee9727@gmail.com   \n",
       "965           safiqulislam6006@gmail.com   \n",
       "966                 imsoumojit@yahoo.com   \n",
       "967  debanjanbhattacharjee2002@gmail.com   \n",
       "\n",
       "                                               College        Department  \\\n",
       "0                     United International University             others   \n",
       "1                                                  IIT       Engineering   \n",
       "2       Shahjalal University of Science and Technology       Engineering   \n",
       "3                                      Asutosh College        Statistics   \n",
       "4    DEPARTMENT OF PURE MATHEMATICS, UNIVERSITY OF ...  PURE MATHEMATICS   \n",
       "..                                                 ...               ...   \n",
       "963                               MAULANA AZAD COLLEGE  Honors (BSC/MSC)   \n",
       "964                               Maulona Azad College  Honors (BSC/MSC)   \n",
       "965                               Maulana Azad College  Honors (BSC/MSC)   \n",
       "966                               Maulana Azad College  Honors (BSC/MSC)   \n",
       "967                               Maulana Azad College  Honors (BSC/MSC)   \n",
       "\n",
       "    HavingLaptop     Source     Country  \n",
       "0            Yes  Facebook   Bangladesh  \n",
       "1            NaN        NaN  Bangladesh  \n",
       "2            Yes        NaN  Bangladesh  \n",
       "3            Yes     Friend       India  \n",
       "4            Yes        NaN       India  \n",
       "..           ...        ...         ...  \n",
       "963          Yes        NaN         NaN  \n",
       "964           No        NaN         NaN  \n",
       "965          Yes        NaN         NaN  \n",
       "966          Yes        NaN         NaN  \n",
       "967          Yes        NaN         NaN  \n",
       "\n",
       "[968 rows x 10 columns]"
      ]
     },
     "execution_count": 61,
     "metadata": {},
     "output_type": "execute_result"
    }
   ],
   "source": [
    "#Droping all the rows where all values are nan\n",
    "df6=df5.dropna(how = 'all')\n",
    "df6"
   ]
  },
  {
   "cell_type": "code",
   "execution_count": 62,
   "metadata": {},
   "outputs": [
    {
     "data": {
      "text/plain": [
       "(968, 10)"
      ]
     },
     "execution_count": 62,
     "metadata": {},
     "output_type": "execute_result"
    }
   ],
   "source": [
    "df6.shape"
   ]
  },
  {
   "cell_type": "code",
   "execution_count": 63,
   "metadata": {},
   "outputs": [
    {
     "data": {
      "text/html": [
       "<div>\n",
       "<style scoped>\n",
       "    .dataframe tbody tr th:only-of-type {\n",
       "        vertical-align: middle;\n",
       "    }\n",
       "\n",
       "    .dataframe tbody tr th {\n",
       "        vertical-align: top;\n",
       "    }\n",
       "\n",
       "    .dataframe thead th {\n",
       "        text-align: right;\n",
       "    }\n",
       "</style>\n",
       "<table border=\"1\" class=\"dataframe\">\n",
       "  <thead>\n",
       "    <tr style=\"text-align: right;\">\n",
       "      <th></th>\n",
       "      <th>Unnamed: 0</th>\n",
       "      <th>Time Stamp</th>\n",
       "      <th>Name</th>\n",
       "      <th>Contact</th>\n",
       "      <th>Email</th>\n",
       "      <th>College</th>\n",
       "      <th>Department</th>\n",
       "      <th>HavingLaptop</th>\n",
       "      <th>Source</th>\n",
       "      <th>Country</th>\n",
       "    </tr>\n",
       "  </thead>\n",
       "  <tbody>\n",
       "    <tr>\n",
       "      <th>0</th>\n",
       "      <td>0</td>\n",
       "      <td>8/24/2020 17:01:39</td>\n",
       "      <td>A.S.M. Raquibul Hasan</td>\n",
       "      <td>01722577922</td>\n",
       "      <td>raquibul.nsu@gmail.com</td>\n",
       "      <td>United International University</td>\n",
       "      <td>others</td>\n",
       "      <td>Yes</td>\n",
       "      <td>Facebook</td>\n",
       "      <td>Bangladesh</td>\n",
       "    </tr>\n",
       "    <tr>\n",
       "      <th>1</th>\n",
       "      <td>1</td>\n",
       "      <td>8/24/2020 10:08:54</td>\n",
       "      <td>Abdullah</td>\n",
       "      <td>NaN</td>\n",
       "      <td>sharif3abdullah@gmail.com</td>\n",
       "      <td>IIT</td>\n",
       "      <td>Engineering</td>\n",
       "      <td>NaN</td>\n",
       "      <td>NaN</td>\n",
       "      <td>Bangladesh</td>\n",
       "    </tr>\n",
       "    <tr>\n",
       "      <th>2</th>\n",
       "      <td>2</td>\n",
       "      <td>8/24/2020 9:20:28</td>\n",
       "      <td>Abdullah Bin Murad</td>\n",
       "      <td>01552443554</td>\n",
       "      <td>abmrifat54@gmail.com</td>\n",
       "      <td>Shahjalal University of Science and Technology</td>\n",
       "      <td>Engineering</td>\n",
       "      <td>Yes</td>\n",
       "      <td>NaN</td>\n",
       "      <td>Bangladesh</td>\n",
       "    </tr>\n",
       "    <tr>\n",
       "      <th>3</th>\n",
       "      <td>3</td>\n",
       "      <td>7/28/2020 12:16:30</td>\n",
       "      <td>Abhijoy Mukherjee</td>\n",
       "      <td>7003206060</td>\n",
       "      <td>abhijoymukherjee01@gmail.com</td>\n",
       "      <td>Asutosh College</td>\n",
       "      <td>Statistics</td>\n",
       "      <td>Yes</td>\n",
       "      <td>Friend</td>\n",
       "      <td>India</td>\n",
       "    </tr>\n",
       "    <tr>\n",
       "      <th>4</th>\n",
       "      <td>4</td>\n",
       "      <td>7/10/2020 13:56:14</td>\n",
       "      <td>Abhipreeti Acharjee</td>\n",
       "      <td>8274839744</td>\n",
       "      <td>deepamandal007@gmail.com</td>\n",
       "      <td>DEPARTMENT OF PURE MATHEMATICS, UNIVERSITY OF ...</td>\n",
       "      <td>PURE MATHEMATICS</td>\n",
       "      <td>Yes</td>\n",
       "      <td>NaN</td>\n",
       "      <td>India</td>\n",
       "    </tr>\n",
       "    <tr>\n",
       "      <th>...</th>\n",
       "      <td>...</td>\n",
       "      <td>...</td>\n",
       "      <td>...</td>\n",
       "      <td>...</td>\n",
       "      <td>...</td>\n",
       "      <td>...</td>\n",
       "      <td>...</td>\n",
       "      <td>...</td>\n",
       "      <td>...</td>\n",
       "      <td>...</td>\n",
       "    </tr>\n",
       "    <tr>\n",
       "      <th>963</th>\n",
       "      <td>963</td>\n",
       "      <td>1/22/2021 22:06:24</td>\n",
       "      <td>Ramanish Banerjee</td>\n",
       "      <td>8017179702</td>\n",
       "      <td>banerjeeramanish@gmail.com</td>\n",
       "      <td>MAULANA AZAD COLLEGE</td>\n",
       "      <td>Honors (BSC/MSC)</td>\n",
       "      <td>Yes</td>\n",
       "      <td>NaN</td>\n",
       "      <td>NaN</td>\n",
       "    </tr>\n",
       "    <tr>\n",
       "      <th>964</th>\n",
       "      <td>964</td>\n",
       "      <td>1/22/2021 22:46:21</td>\n",
       "      <td>Jinia Banerjee</td>\n",
       "      <td>6289719175</td>\n",
       "      <td>jiniabanerjee9727@gmail.com</td>\n",
       "      <td>Maulona Azad College</td>\n",
       "      <td>Honors (BSC/MSC)</td>\n",
       "      <td>No</td>\n",
       "      <td>NaN</td>\n",
       "      <td>NaN</td>\n",
       "    </tr>\n",
       "    <tr>\n",
       "      <th>965</th>\n",
       "      <td>965</td>\n",
       "      <td>1/23/2021 10:57:08</td>\n",
       "      <td>Md Safiqul Islam</td>\n",
       "      <td>8250955315</td>\n",
       "      <td>safiqulislam6006@gmail.com</td>\n",
       "      <td>Maulana Azad College</td>\n",
       "      <td>Honors (BSC/MSC)</td>\n",
       "      <td>Yes</td>\n",
       "      <td>NaN</td>\n",
       "      <td>NaN</td>\n",
       "    </tr>\n",
       "    <tr>\n",
       "      <th>966</th>\n",
       "      <td>966</td>\n",
       "      <td>1/23/2021 12:27:32</td>\n",
       "      <td>Soumojit Chatterjee</td>\n",
       "      <td>8101726672</td>\n",
       "      <td>imsoumojit@yahoo.com</td>\n",
       "      <td>Maulana Azad College</td>\n",
       "      <td>Honors (BSC/MSC)</td>\n",
       "      <td>Yes</td>\n",
       "      <td>NaN</td>\n",
       "      <td>NaN</td>\n",
       "    </tr>\n",
       "    <tr>\n",
       "      <th>967</th>\n",
       "      <td>967</td>\n",
       "      <td>1/23/2021 17:37:35</td>\n",
       "      <td>Debanjan Bhattacharjee</td>\n",
       "      <td>6290909245</td>\n",
       "      <td>debanjanbhattacharjee2002@gmail.com</td>\n",
       "      <td>Maulana Azad College</td>\n",
       "      <td>Honors (BSC/MSC)</td>\n",
       "      <td>Yes</td>\n",
       "      <td>NaN</td>\n",
       "      <td>NaN</td>\n",
       "    </tr>\n",
       "  </tbody>\n",
       "</table>\n",
       "<p>968 rows × 10 columns</p>\n",
       "</div>"
      ],
      "text/plain": [
       "     Unnamed: 0         Time Stamp                     Name      Contact  \\\n",
       "0             0  8/24/2020 17:01:39  A.S.M. Raquibul Hasan   01722577922   \n",
       "1             1  8/24/2020 10:08:54                Abdullah          NaN   \n",
       "2             2   8/24/2020 9:20:28    Abdullah Bin Murad    01552443554   \n",
       "3             3  7/28/2020 12:16:30       Abhijoy Mukherjee   7003206060   \n",
       "4             4  7/10/2020 13:56:14     Abhipreeti Acharjee   8274839744   \n",
       "..          ...                 ...                     ...          ...   \n",
       "963         963  1/22/2021 22:06:24       Ramanish Banerjee   8017179702   \n",
       "964         964  1/22/2021 22:46:21          Jinia Banerjee   6289719175   \n",
       "965         965  1/23/2021 10:57:08        Md Safiqul Islam   8250955315   \n",
       "966         966  1/23/2021 12:27:32     Soumojit Chatterjee   8101726672   \n",
       "967         967  1/23/2021 17:37:35  Debanjan Bhattacharjee   6290909245   \n",
       "\n",
       "                                   Email  \\\n",
       "0                 raquibul.nsu@gmail.com   \n",
       "1              sharif3abdullah@gmail.com   \n",
       "2                   abmrifat54@gmail.com   \n",
       "3           abhijoymukherjee01@gmail.com   \n",
       "4               deepamandal007@gmail.com   \n",
       "..                                   ...   \n",
       "963           banerjeeramanish@gmail.com   \n",
       "964          jiniabanerjee9727@gmail.com   \n",
       "965           safiqulislam6006@gmail.com   \n",
       "966                 imsoumojit@yahoo.com   \n",
       "967  debanjanbhattacharjee2002@gmail.com   \n",
       "\n",
       "                                               College        Department  \\\n",
       "0                     United International University             others   \n",
       "1                                                  IIT       Engineering   \n",
       "2       Shahjalal University of Science and Technology       Engineering   \n",
       "3                                      Asutosh College        Statistics   \n",
       "4    DEPARTMENT OF PURE MATHEMATICS, UNIVERSITY OF ...  PURE MATHEMATICS   \n",
       "..                                                 ...               ...   \n",
       "963                               MAULANA AZAD COLLEGE  Honors (BSC/MSC)   \n",
       "964                               Maulona Azad College  Honors (BSC/MSC)   \n",
       "965                               Maulana Azad College  Honors (BSC/MSC)   \n",
       "966                               Maulana Azad College  Honors (BSC/MSC)   \n",
       "967                               Maulana Azad College  Honors (BSC/MSC)   \n",
       "\n",
       "    HavingLaptop     Source     Country  \n",
       "0            Yes  Facebook   Bangladesh  \n",
       "1            NaN        NaN  Bangladesh  \n",
       "2            Yes        NaN  Bangladesh  \n",
       "3            Yes     Friend       India  \n",
       "4            Yes        NaN       India  \n",
       "..           ...        ...         ...  \n",
       "963          Yes        NaN         NaN  \n",
       "964           No        NaN         NaN  \n",
       "965          Yes        NaN         NaN  \n",
       "966          Yes        NaN         NaN  \n",
       "967          Yes        NaN         NaN  \n",
       "\n",
       "[968 rows x 10 columns]"
      ]
     },
     "execution_count": 63,
     "metadata": {},
     "output_type": "execute_result"
    }
   ],
   "source": [
    "df7=df6.reset_index(drop=True)\n",
    "df7"
   ]
  },
  {
   "cell_type": "code",
   "execution_count": 64,
   "metadata": {},
   "outputs": [
    {
     "data": {
      "text/html": [
       "<div>\n",
       "<style scoped>\n",
       "    .dataframe tbody tr th:only-of-type {\n",
       "        vertical-align: middle;\n",
       "    }\n",
       "\n",
       "    .dataframe tbody tr th {\n",
       "        vertical-align: top;\n",
       "    }\n",
       "\n",
       "    .dataframe thead th {\n",
       "        text-align: right;\n",
       "    }\n",
       "</style>\n",
       "<table border=\"1\" class=\"dataframe\">\n",
       "  <thead>\n",
       "    <tr style=\"text-align: right;\">\n",
       "      <th></th>\n",
       "      <th>Unnamed: 0</th>\n",
       "      <th>Time Stamp</th>\n",
       "      <th>Name</th>\n",
       "      <th>Contact</th>\n",
       "      <th>Email</th>\n",
       "      <th>College</th>\n",
       "      <th>Department</th>\n",
       "      <th>HavingLaptop</th>\n",
       "      <th>Source</th>\n",
       "      <th>Country</th>\n",
       "    </tr>\n",
       "  </thead>\n",
       "  <tbody>\n",
       "    <tr>\n",
       "      <th>226</th>\n",
       "      <td>226</td>\n",
       "      <td>NaN</td>\n",
       "      <td>NaN</td>\n",
       "      <td>NaN</td>\n",
       "      <td>NaN</td>\n",
       "      <td>NaN</td>\n",
       "      <td>NaN</td>\n",
       "      <td>NaN</td>\n",
       "      <td>NaN</td>\n",
       "      <td>NaN</td>\n",
       "    </tr>\n",
       "    <tr>\n",
       "      <th>477</th>\n",
       "      <td>477</td>\n",
       "      <td>NaN</td>\n",
       "      <td>NaN</td>\n",
       "      <td>NaN</td>\n",
       "      <td>NaN</td>\n",
       "      <td>NaN</td>\n",
       "      <td>NaN</td>\n",
       "      <td>NaN</td>\n",
       "      <td>NaN</td>\n",
       "      <td>NaN</td>\n",
       "    </tr>\n",
       "    <tr>\n",
       "      <th>478</th>\n",
       "      <td>478</td>\n",
       "      <td>NaN</td>\n",
       "      <td>NaN</td>\n",
       "      <td>NaN</td>\n",
       "      <td>NaN</td>\n",
       "      <td>NaN</td>\n",
       "      <td>NaN</td>\n",
       "      <td>NaN</td>\n",
       "      <td>NaN</td>\n",
       "      <td>NaN</td>\n",
       "    </tr>\n",
       "    <tr>\n",
       "      <th>527</th>\n",
       "      <td>527</td>\n",
       "      <td>NaN</td>\n",
       "      <td>NaN</td>\n",
       "      <td>NaN</td>\n",
       "      <td>NaN</td>\n",
       "      <td>NaN</td>\n",
       "      <td>NaN</td>\n",
       "      <td>NaN</td>\n",
       "      <td>NaN</td>\n",
       "      <td>NaN</td>\n",
       "    </tr>\n",
       "    <tr>\n",
       "      <th>528</th>\n",
       "      <td>528</td>\n",
       "      <td>NaN</td>\n",
       "      <td>NaN</td>\n",
       "      <td>NaN</td>\n",
       "      <td>NaN</td>\n",
       "      <td>NaN</td>\n",
       "      <td>NaN</td>\n",
       "      <td>NaN</td>\n",
       "      <td>NaN</td>\n",
       "      <td>NaN</td>\n",
       "    </tr>\n",
       "    <tr>\n",
       "      <th>529</th>\n",
       "      <td>529</td>\n",
       "      <td>NaN</td>\n",
       "      <td>NaN</td>\n",
       "      <td>NaN</td>\n",
       "      <td>NaN</td>\n",
       "      <td>NaN</td>\n",
       "      <td>NaN</td>\n",
       "      <td>NaN</td>\n",
       "      <td>NaN</td>\n",
       "      <td>NaN</td>\n",
       "    </tr>\n",
       "    <tr>\n",
       "      <th>530</th>\n",
       "      <td>530</td>\n",
       "      <td>NaN</td>\n",
       "      <td>NaN</td>\n",
       "      <td>NaN</td>\n",
       "      <td>NaN</td>\n",
       "      <td>NaN</td>\n",
       "      <td>NaN</td>\n",
       "      <td>NaN</td>\n",
       "      <td>NaN</td>\n",
       "      <td>NaN</td>\n",
       "    </tr>\n",
       "    <tr>\n",
       "      <th>531</th>\n",
       "      <td>531</td>\n",
       "      <td>NaN</td>\n",
       "      <td>NaN</td>\n",
       "      <td>NaN</td>\n",
       "      <td>NaN</td>\n",
       "      <td>NaN</td>\n",
       "      <td>NaN</td>\n",
       "      <td>NaN</td>\n",
       "      <td>NaN</td>\n",
       "      <td>NaN</td>\n",
       "    </tr>\n",
       "    <tr>\n",
       "      <th>532</th>\n",
       "      <td>532</td>\n",
       "      <td>NaN</td>\n",
       "      <td>NaN</td>\n",
       "      <td>NaN</td>\n",
       "      <td>NaN</td>\n",
       "      <td>NaN</td>\n",
       "      <td>NaN</td>\n",
       "      <td>NaN</td>\n",
       "      <td>NaN</td>\n",
       "      <td>NaN</td>\n",
       "    </tr>\n",
       "    <tr>\n",
       "      <th>533</th>\n",
       "      <td>533</td>\n",
       "      <td>NaN</td>\n",
       "      <td>NaN</td>\n",
       "      <td>NaN</td>\n",
       "      <td>NaN</td>\n",
       "      <td>NaN</td>\n",
       "      <td>NaN</td>\n",
       "      <td>NaN</td>\n",
       "      <td>NaN</td>\n",
       "      <td>NaN</td>\n",
       "    </tr>\n",
       "    <tr>\n",
       "      <th>534</th>\n",
       "      <td>534</td>\n",
       "      <td>NaN</td>\n",
       "      <td>NaN</td>\n",
       "      <td>NaN</td>\n",
       "      <td>NaN</td>\n",
       "      <td>NaN</td>\n",
       "      <td>NaN</td>\n",
       "      <td>NaN</td>\n",
       "      <td>NaN</td>\n",
       "      <td>NaN</td>\n",
       "    </tr>\n",
       "    <tr>\n",
       "      <th>588</th>\n",
       "      <td>588</td>\n",
       "      <td>NaN</td>\n",
       "      <td>NaN</td>\n",
       "      <td>NaN</td>\n",
       "      <td>NaN</td>\n",
       "      <td>NaN</td>\n",
       "      <td>NaN</td>\n",
       "      <td>NaN</td>\n",
       "      <td>NaN</td>\n",
       "      <td>NaN</td>\n",
       "    </tr>\n",
       "    <tr>\n",
       "      <th>589</th>\n",
       "      <td>589</td>\n",
       "      <td>NaN</td>\n",
       "      <td>NaN</td>\n",
       "      <td>NaN</td>\n",
       "      <td>NaN</td>\n",
       "      <td>NaN</td>\n",
       "      <td>NaN</td>\n",
       "      <td>NaN</td>\n",
       "      <td>NaN</td>\n",
       "      <td>NaN</td>\n",
       "    </tr>\n",
       "    <tr>\n",
       "      <th>701</th>\n",
       "      <td>701</td>\n",
       "      <td>NaN</td>\n",
       "      <td>NaN</td>\n",
       "      <td>NaN</td>\n",
       "      <td>NaN</td>\n",
       "      <td>NaN</td>\n",
       "      <td>NaN</td>\n",
       "      <td>NaN</td>\n",
       "      <td>NaN</td>\n",
       "      <td>NaN</td>\n",
       "    </tr>\n",
       "    <tr>\n",
       "      <th>702</th>\n",
       "      <td>702</td>\n",
       "      <td>NaN</td>\n",
       "      <td>NaN</td>\n",
       "      <td>NaN</td>\n",
       "      <td>NaN</td>\n",
       "      <td>NaN</td>\n",
       "      <td>NaN</td>\n",
       "      <td>NaN</td>\n",
       "      <td>NaN</td>\n",
       "      <td>NaN</td>\n",
       "    </tr>\n",
       "    <tr>\n",
       "      <th>731</th>\n",
       "      <td>731</td>\n",
       "      <td>NaN</td>\n",
       "      <td>NaN</td>\n",
       "      <td>NaN</td>\n",
       "      <td>NaN</td>\n",
       "      <td>NaN</td>\n",
       "      <td>NaN</td>\n",
       "      <td>NaN</td>\n",
       "      <td>NaN</td>\n",
       "      <td>NaN</td>\n",
       "    </tr>\n",
       "    <tr>\n",
       "      <th>732</th>\n",
       "      <td>732</td>\n",
       "      <td>NaN</td>\n",
       "      <td>NaN</td>\n",
       "      <td>NaN</td>\n",
       "      <td>NaN</td>\n",
       "      <td>NaN</td>\n",
       "      <td>NaN</td>\n",
       "      <td>NaN</td>\n",
       "      <td>NaN</td>\n",
       "      <td>NaN</td>\n",
       "    </tr>\n",
       "    <tr>\n",
       "      <th>733</th>\n",
       "      <td>733</td>\n",
       "      <td>NaN</td>\n",
       "      <td>NaN</td>\n",
       "      <td>NaN</td>\n",
       "      <td>NaN</td>\n",
       "      <td>NaN</td>\n",
       "      <td>NaN</td>\n",
       "      <td>NaN</td>\n",
       "      <td>NaN</td>\n",
       "      <td>NaN</td>\n",
       "    </tr>\n",
       "    <tr>\n",
       "      <th>868</th>\n",
       "      <td>868</td>\n",
       "      <td>NaN</td>\n",
       "      <td>NaN</td>\n",
       "      <td>NaN</td>\n",
       "      <td>NaN</td>\n",
       "      <td>NaN</td>\n",
       "      <td>NaN</td>\n",
       "      <td>NaN</td>\n",
       "      <td>NaN</td>\n",
       "      <td>NaN</td>\n",
       "    </tr>\n",
       "    <tr>\n",
       "      <th>869</th>\n",
       "      <td>869</td>\n",
       "      <td>Maulana Azad boot camp form 23th of jan onwars</td>\n",
       "      <td>NaN</td>\n",
       "      <td>NaN</td>\n",
       "      <td>NaN</td>\n",
       "      <td>NaN</td>\n",
       "      <td>NaN</td>\n",
       "      <td>NaN</td>\n",
       "      <td>NaN</td>\n",
       "      <td>NaN</td>\n",
       "    </tr>\n",
       "    <tr>\n",
       "      <th>870</th>\n",
       "      <td>870</td>\n",
       "      <td>NaN</td>\n",
       "      <td>NaN</td>\n",
       "      <td>NaN</td>\n",
       "      <td>NaN</td>\n",
       "      <td>NaN</td>\n",
       "      <td>NaN</td>\n",
       "      <td>NaN</td>\n",
       "      <td>NaN</td>\n",
       "      <td>NaN</td>\n",
       "    </tr>\n",
       "  </tbody>\n",
       "</table>\n",
       "</div>"
      ],
      "text/plain": [
       "     Unnamed: 0                                      Time Stamp  Name Contact  \\\n",
       "226         226                                              NaN  NaN     NaN   \n",
       "477         477                                              NaN  NaN     NaN   \n",
       "478         478                                              NaN  NaN     NaN   \n",
       "527         527                                              NaN  NaN     NaN   \n",
       "528         528                                              NaN  NaN     NaN   \n",
       "529         529                                              NaN  NaN     NaN   \n",
       "530         530                                              NaN  NaN     NaN   \n",
       "531         531                                              NaN  NaN     NaN   \n",
       "532         532                                              NaN  NaN     NaN   \n",
       "533         533                                              NaN  NaN     NaN   \n",
       "534         534                                              NaN  NaN     NaN   \n",
       "588         588                                              NaN  NaN     NaN   \n",
       "589         589                                              NaN  NaN     NaN   \n",
       "701         701                                              NaN  NaN     NaN   \n",
       "702         702                                              NaN  NaN     NaN   \n",
       "731         731                                              NaN  NaN     NaN   \n",
       "732         732                                              NaN  NaN     NaN   \n",
       "733         733                                              NaN  NaN     NaN   \n",
       "868         868                                              NaN  NaN     NaN   \n",
       "869         869  Maulana Azad boot camp form 23th of jan onwars   NaN     NaN   \n",
       "870         870                                              NaN  NaN     NaN   \n",
       "\n",
       "    Email College Department HavingLaptop Source Country  \n",
       "226   NaN     NaN        NaN          NaN    NaN     NaN  \n",
       "477   NaN     NaN        NaN          NaN    NaN     NaN  \n",
       "478   NaN     NaN        NaN          NaN    NaN     NaN  \n",
       "527   NaN     NaN        NaN          NaN    NaN     NaN  \n",
       "528   NaN     NaN        NaN          NaN    NaN     NaN  \n",
       "529   NaN     NaN        NaN          NaN    NaN     NaN  \n",
       "530   NaN     NaN        NaN          NaN    NaN     NaN  \n",
       "531   NaN     NaN        NaN          NaN    NaN     NaN  \n",
       "532   NaN     NaN        NaN          NaN    NaN     NaN  \n",
       "533   NaN     NaN        NaN          NaN    NaN     NaN  \n",
       "534   NaN     NaN        NaN          NaN    NaN     NaN  \n",
       "588   NaN     NaN        NaN          NaN    NaN     NaN  \n",
       "589   NaN     NaN        NaN          NaN    NaN     NaN  \n",
       "701   NaN     NaN        NaN          NaN    NaN     NaN  \n",
       "702   NaN     NaN        NaN          NaN    NaN     NaN  \n",
       "731   NaN     NaN        NaN          NaN    NaN     NaN  \n",
       "732   NaN     NaN        NaN          NaN    NaN     NaN  \n",
       "733   NaN     NaN        NaN          NaN    NaN     NaN  \n",
       "868   NaN     NaN        NaN          NaN    NaN     NaN  \n",
       "869   NaN     NaN        NaN          NaN    NaN     NaN  \n",
       "870   NaN     NaN        NaN          NaN    NaN     NaN  "
      ]
     },
     "execution_count": 64,
     "metadata": {},
     "output_type": "execute_result"
    }
   ],
   "source": [
    "df7[df7['Name'].isnull()]"
   ]
  },
  {
   "cell_type": "code",
   "execution_count": 65,
   "metadata": {},
   "outputs": [
    {
     "data": {
      "text/html": [
       "<div>\n",
       "<style scoped>\n",
       "    .dataframe tbody tr th:only-of-type {\n",
       "        vertical-align: middle;\n",
       "    }\n",
       "\n",
       "    .dataframe tbody tr th {\n",
       "        vertical-align: top;\n",
       "    }\n",
       "\n",
       "    .dataframe thead th {\n",
       "        text-align: right;\n",
       "    }\n",
       "</style>\n",
       "<table border=\"1\" class=\"dataframe\">\n",
       "  <thead>\n",
       "    <tr style=\"text-align: right;\">\n",
       "      <th></th>\n",
       "      <th>Unnamed: 0</th>\n",
       "      <th>Time Stamp</th>\n",
       "      <th>Name</th>\n",
       "      <th>Contact</th>\n",
       "      <th>Email</th>\n",
       "      <th>College</th>\n",
       "      <th>Department</th>\n",
       "      <th>HavingLaptop</th>\n",
       "      <th>Source</th>\n",
       "      <th>Country</th>\n",
       "    </tr>\n",
       "  </thead>\n",
       "  <tbody>\n",
       "    <tr>\n",
       "      <th>0</th>\n",
       "      <td>0</td>\n",
       "      <td>8/24/2020 17:01:39</td>\n",
       "      <td>A.S.M. Raquibul Hasan</td>\n",
       "      <td>01722577922</td>\n",
       "      <td>raquibul.nsu@gmail.com</td>\n",
       "      <td>United International University</td>\n",
       "      <td>others</td>\n",
       "      <td>Yes</td>\n",
       "      <td>Facebook</td>\n",
       "      <td>Bangladesh</td>\n",
       "    </tr>\n",
       "    <tr>\n",
       "      <th>1</th>\n",
       "      <td>1</td>\n",
       "      <td>8/24/2020 10:08:54</td>\n",
       "      <td>Abdullah</td>\n",
       "      <td>NaN</td>\n",
       "      <td>sharif3abdullah@gmail.com</td>\n",
       "      <td>IIT</td>\n",
       "      <td>Engineering</td>\n",
       "      <td>NaN</td>\n",
       "      <td>NaN</td>\n",
       "      <td>Bangladesh</td>\n",
       "    </tr>\n",
       "    <tr>\n",
       "      <th>2</th>\n",
       "      <td>2</td>\n",
       "      <td>8/24/2020 9:20:28</td>\n",
       "      <td>Abdullah Bin Murad</td>\n",
       "      <td>01552443554</td>\n",
       "      <td>abmrifat54@gmail.com</td>\n",
       "      <td>Shahjalal University of Science and Technology</td>\n",
       "      <td>Engineering</td>\n",
       "      <td>Yes</td>\n",
       "      <td>NaN</td>\n",
       "      <td>Bangladesh</td>\n",
       "    </tr>\n",
       "    <tr>\n",
       "      <th>3</th>\n",
       "      <td>3</td>\n",
       "      <td>7/28/2020 12:16:30</td>\n",
       "      <td>Abhijoy Mukherjee</td>\n",
       "      <td>7003206060</td>\n",
       "      <td>abhijoymukherjee01@gmail.com</td>\n",
       "      <td>Asutosh College</td>\n",
       "      <td>Statistics</td>\n",
       "      <td>Yes</td>\n",
       "      <td>Friend</td>\n",
       "      <td>India</td>\n",
       "    </tr>\n",
       "    <tr>\n",
       "      <th>4</th>\n",
       "      <td>4</td>\n",
       "      <td>7/10/2020 13:56:14</td>\n",
       "      <td>Abhipreeti Acharjee</td>\n",
       "      <td>8274839744</td>\n",
       "      <td>deepamandal007@gmail.com</td>\n",
       "      <td>DEPARTMENT OF PURE MATHEMATICS, UNIVERSITY OF ...</td>\n",
       "      <td>PURE MATHEMATICS</td>\n",
       "      <td>Yes</td>\n",
       "      <td>NaN</td>\n",
       "      <td>India</td>\n",
       "    </tr>\n",
       "    <tr>\n",
       "      <th>...</th>\n",
       "      <td>...</td>\n",
       "      <td>...</td>\n",
       "      <td>...</td>\n",
       "      <td>...</td>\n",
       "      <td>...</td>\n",
       "      <td>...</td>\n",
       "      <td>...</td>\n",
       "      <td>...</td>\n",
       "      <td>...</td>\n",
       "      <td>...</td>\n",
       "    </tr>\n",
       "    <tr>\n",
       "      <th>963</th>\n",
       "      <td>963</td>\n",
       "      <td>1/22/2021 22:06:24</td>\n",
       "      <td>Ramanish Banerjee</td>\n",
       "      <td>8017179702</td>\n",
       "      <td>banerjeeramanish@gmail.com</td>\n",
       "      <td>MAULANA AZAD COLLEGE</td>\n",
       "      <td>Honors (BSC/MSC)</td>\n",
       "      <td>Yes</td>\n",
       "      <td>NaN</td>\n",
       "      <td>NaN</td>\n",
       "    </tr>\n",
       "    <tr>\n",
       "      <th>964</th>\n",
       "      <td>964</td>\n",
       "      <td>1/22/2021 22:46:21</td>\n",
       "      <td>Jinia Banerjee</td>\n",
       "      <td>6289719175</td>\n",
       "      <td>jiniabanerjee9727@gmail.com</td>\n",
       "      <td>Maulona Azad College</td>\n",
       "      <td>Honors (BSC/MSC)</td>\n",
       "      <td>No</td>\n",
       "      <td>NaN</td>\n",
       "      <td>NaN</td>\n",
       "    </tr>\n",
       "    <tr>\n",
       "      <th>965</th>\n",
       "      <td>965</td>\n",
       "      <td>1/23/2021 10:57:08</td>\n",
       "      <td>Md Safiqul Islam</td>\n",
       "      <td>8250955315</td>\n",
       "      <td>safiqulislam6006@gmail.com</td>\n",
       "      <td>Maulana Azad College</td>\n",
       "      <td>Honors (BSC/MSC)</td>\n",
       "      <td>Yes</td>\n",
       "      <td>NaN</td>\n",
       "      <td>NaN</td>\n",
       "    </tr>\n",
       "    <tr>\n",
       "      <th>966</th>\n",
       "      <td>966</td>\n",
       "      <td>1/23/2021 12:27:32</td>\n",
       "      <td>Soumojit Chatterjee</td>\n",
       "      <td>8101726672</td>\n",
       "      <td>imsoumojit@yahoo.com</td>\n",
       "      <td>Maulana Azad College</td>\n",
       "      <td>Honors (BSC/MSC)</td>\n",
       "      <td>Yes</td>\n",
       "      <td>NaN</td>\n",
       "      <td>NaN</td>\n",
       "    </tr>\n",
       "    <tr>\n",
       "      <th>967</th>\n",
       "      <td>967</td>\n",
       "      <td>1/23/2021 17:37:35</td>\n",
       "      <td>Debanjan Bhattacharjee</td>\n",
       "      <td>6290909245</td>\n",
       "      <td>debanjanbhattacharjee2002@gmail.com</td>\n",
       "      <td>Maulana Azad College</td>\n",
       "      <td>Honors (BSC/MSC)</td>\n",
       "      <td>Yes</td>\n",
       "      <td>NaN</td>\n",
       "      <td>NaN</td>\n",
       "    </tr>\n",
       "  </tbody>\n",
       "</table>\n",
       "<p>947 rows × 10 columns</p>\n",
       "</div>"
      ],
      "text/plain": [
       "     Unnamed: 0         Time Stamp                     Name      Contact  \\\n",
       "0             0  8/24/2020 17:01:39  A.S.M. Raquibul Hasan   01722577922   \n",
       "1             1  8/24/2020 10:08:54                Abdullah          NaN   \n",
       "2             2   8/24/2020 9:20:28    Abdullah Bin Murad    01552443554   \n",
       "3             3  7/28/2020 12:16:30       Abhijoy Mukherjee   7003206060   \n",
       "4             4  7/10/2020 13:56:14     Abhipreeti Acharjee   8274839744   \n",
       "..          ...                 ...                     ...          ...   \n",
       "963         963  1/22/2021 22:06:24       Ramanish Banerjee   8017179702   \n",
       "964         964  1/22/2021 22:46:21          Jinia Banerjee   6289719175   \n",
       "965         965  1/23/2021 10:57:08        Md Safiqul Islam   8250955315   \n",
       "966         966  1/23/2021 12:27:32     Soumojit Chatterjee   8101726672   \n",
       "967         967  1/23/2021 17:37:35  Debanjan Bhattacharjee   6290909245   \n",
       "\n",
       "                                   Email  \\\n",
       "0                 raquibul.nsu@gmail.com   \n",
       "1              sharif3abdullah@gmail.com   \n",
       "2                   abmrifat54@gmail.com   \n",
       "3           abhijoymukherjee01@gmail.com   \n",
       "4               deepamandal007@gmail.com   \n",
       "..                                   ...   \n",
       "963           banerjeeramanish@gmail.com   \n",
       "964          jiniabanerjee9727@gmail.com   \n",
       "965           safiqulislam6006@gmail.com   \n",
       "966                 imsoumojit@yahoo.com   \n",
       "967  debanjanbhattacharjee2002@gmail.com   \n",
       "\n",
       "                                               College        Department  \\\n",
       "0                     United International University             others   \n",
       "1                                                  IIT       Engineering   \n",
       "2       Shahjalal University of Science and Technology       Engineering   \n",
       "3                                      Asutosh College        Statistics   \n",
       "4    DEPARTMENT OF PURE MATHEMATICS, UNIVERSITY OF ...  PURE MATHEMATICS   \n",
       "..                                                 ...               ...   \n",
       "963                               MAULANA AZAD COLLEGE  Honors (BSC/MSC)   \n",
       "964                               Maulona Azad College  Honors (BSC/MSC)   \n",
       "965                               Maulana Azad College  Honors (BSC/MSC)   \n",
       "966                               Maulana Azad College  Honors (BSC/MSC)   \n",
       "967                               Maulana Azad College  Honors (BSC/MSC)   \n",
       "\n",
       "    HavingLaptop     Source     Country  \n",
       "0            Yes  Facebook   Bangladesh  \n",
       "1            NaN        NaN  Bangladesh  \n",
       "2            Yes        NaN  Bangladesh  \n",
       "3            Yes     Friend       India  \n",
       "4            Yes        NaN       India  \n",
       "..           ...        ...         ...  \n",
       "963          Yes        NaN         NaN  \n",
       "964           No        NaN         NaN  \n",
       "965          Yes        NaN         NaN  \n",
       "966          Yes        NaN         NaN  \n",
       "967          Yes        NaN         NaN  \n",
       "\n",
       "[947 rows x 10 columns]"
      ]
     },
     "execution_count": 65,
     "metadata": {},
     "output_type": "execute_result"
    }
   ],
   "source": [
    "#As we can see this row has only nan values.Thats why will remove this row\n",
    "df8 = df7.dropna(subset=['Name'])\n",
    "df8"
   ]
  },
  {
   "cell_type": "markdown",
   "metadata": {},
   "source": [
    "# Visualaize the University name along with the Department"
   ]
  },
  {
   "cell_type": "code",
   "execution_count": 66,
   "metadata": {},
   "outputs": [
    {
     "data": {
      "text/html": [
       "        <script type=\"text/javascript\">\n",
       "        window.PlotlyConfig = {MathJaxConfig: 'local'};\n",
       "        if (window.MathJax) {MathJax.Hub.Config({SVG: {font: \"STIX-Web\"}});}\n",
       "        if (typeof require !== 'undefined') {\n",
       "        require.undef(\"plotly\");\n",
       "        requirejs.config({\n",
       "            paths: {\n",
       "                'plotly': ['https://cdn.plot.ly/plotly-latest.min']\n",
       "            }\n",
       "        });\n",
       "        require(['plotly'], function(Plotly) {\n",
       "            window._Plotly = Plotly;\n",
       "        });\n",
       "        }\n",
       "        </script>\n",
       "        "
      ]
     },
     "metadata": {},
     "output_type": "display_data"
    }
   ],
   "source": [
    "#importing library \n",
    "import numpy as np\n",
    "import pandas as pd \n",
    "import matplotlib.pyplot as plt\n",
    "import seaborn as sns \n",
    "import plotly.graph_objs as go\n",
    "import plotly.figure_factory as ff\n",
    "from plotly import tools\n",
    "from plotly.offline import download_plotlyjs, init_notebook_mode, plot, iplot\n",
    "import plotly.express as px\n",
    "init_notebook_mode(connected=True)\n",
    "import warnings\n",
    "warnings.filterwarnings(\"ignore\")"
   ]
  },
  {
   "cell_type": "code",
   "execution_count": 67,
   "metadata": {},
   "outputs": [
    {
     "data": {
      "text/html": [
       "<div>\n",
       "<style scoped>\n",
       "    .dataframe tbody tr th:only-of-type {\n",
       "        vertical-align: middle;\n",
       "    }\n",
       "\n",
       "    .dataframe tbody tr th {\n",
       "        vertical-align: top;\n",
       "    }\n",
       "\n",
       "    .dataframe thead th {\n",
       "        text-align: right;\n",
       "    }\n",
       "</style>\n",
       "<table border=\"1\" class=\"dataframe\">\n",
       "  <thead>\n",
       "    <tr style=\"text-align: right;\">\n",
       "      <th></th>\n",
       "      <th>College</th>\n",
       "    </tr>\n",
       "    <tr>\n",
       "      <th>College</th>\n",
       "      <th></th>\n",
       "    </tr>\n",
       "  </thead>\n",
       "  <tbody>\n",
       "    <tr>\n",
       "      <th>B.P. Poddar Institute Of Management And Technology</th>\n",
       "      <td>1</td>\n",
       "    </tr>\n",
       "    <tr>\n",
       "      <th>Uttarpara Amarendra Vidyapith</th>\n",
       "      <td>1</td>\n",
       "    </tr>\n",
       "    <tr>\n",
       "      <th>1998</th>\n",
       "      <td>1</td>\n",
       "    </tr>\n",
       "    <tr>\n",
       "      <th>AIUB</th>\n",
       "      <td>11</td>\n",
       "    </tr>\n",
       "    <tr>\n",
       "      <th>AKPC MAHAVIDYALAYA</th>\n",
       "      <td>1</td>\n",
       "    </tr>\n",
       "    <tr>\n",
       "      <th>...</th>\n",
       "      <td>...</td>\n",
       "    </tr>\n",
       "    <tr>\n",
       "      <th>maulana azad college</th>\n",
       "      <td>1</td>\n",
       "    </tr>\n",
       "    <tr>\n",
       "      <th>national institute of science and technology</th>\n",
       "      <td>1</td>\n",
       "    </tr>\n",
       "    <tr>\n",
       "      <th>regent education and research foundarion group of institute</th>\n",
       "      <td>1</td>\n",
       "    </tr>\n",
       "    <tr>\n",
       "      <th>regent education and research foundation</th>\n",
       "      <td>1</td>\n",
       "    </tr>\n",
       "    <tr>\n",
       "      <th>st Xavier's College</th>\n",
       "      <td>1</td>\n",
       "    </tr>\n",
       "  </tbody>\n",
       "</table>\n",
       "<p>431 rows × 1 columns</p>\n",
       "</div>"
      ],
      "text/plain": [
       "                                                    College\n",
       "College                                                    \n",
       " B.P. Poddar Institute Of Management And Techno...        1\n",
       " Uttarpara Amarendra Vidyapith                            1\n",
       "1998                                                      1\n",
       "AIUB                                                     11\n",
       "AKPC MAHAVIDYALAYA                                        1\n",
       "...                                                     ...\n",
       "maulana azad college                                      1\n",
       "national institute of science and technology              1\n",
       "regent education and research foundarion group ...        1\n",
       "regent education and research foundation                  1\n",
       "st Xavier's College                                       1\n",
       "\n",
       "[431 rows x 1 columns]"
      ]
     },
     "execution_count": 67,
     "metadata": {},
     "output_type": "execute_result"
    }
   ],
   "source": [
    "#counting university\n",
    "df_c = df8.groupby('College')['College'].agg('count')\n",
    "uni= pd.DataFrame(df_c)\n",
    "uni"
   ]
  },
  {
   "cell_type": "code",
   "execution_count": 68,
   "metadata": {},
   "outputs": [
    {
     "data": {
      "text/html": [
       "<div>\n",
       "<style scoped>\n",
       "    .dataframe tbody tr th:only-of-type {\n",
       "        vertical-align: middle;\n",
       "    }\n",
       "\n",
       "    .dataframe tbody tr th {\n",
       "        vertical-align: top;\n",
       "    }\n",
       "\n",
       "    .dataframe thead th {\n",
       "        text-align: right;\n",
       "    }\n",
       "</style>\n",
       "<table border=\"1\" class=\"dataframe\">\n",
       "  <thead>\n",
       "    <tr style=\"text-align: right;\">\n",
       "      <th></th>\n",
       "      <th>Department</th>\n",
       "    </tr>\n",
       "    <tr>\n",
       "      <th>Department</th>\n",
       "      <th></th>\n",
       "    </tr>\n",
       "  </thead>\n",
       "  <tbody>\n",
       "    <tr>\n",
       "      <th>LINEAR ALGEBRA IN MATHEMATICS</th>\n",
       "      <td>1</td>\n",
       "    </tr>\n",
       "    <tr>\n",
       "      <th>3rd year Statistics honours</th>\n",
       "      <td>1</td>\n",
       "    </tr>\n",
       "    <tr>\n",
       "      <th>3rd year mathematics honours</th>\n",
       "      <td>1</td>\n",
       "    </tr>\n",
       "    <tr>\n",
       "      <th>APPLIES MATHEMATICS</th>\n",
       "      <td>1</td>\n",
       "    </tr>\n",
       "    <tr>\n",
       "      <th>Aplied mathematics with oceanology and computer programming</th>\n",
       "      <td>1</td>\n",
       "    </tr>\n",
       "    <tr>\n",
       "      <th>...</th>\n",
       "      <td>...</td>\n",
       "    </tr>\n",
       "    <tr>\n",
       "      <th>Thermal Power Plant Engineering</th>\n",
       "      <td>1</td>\n",
       "    </tr>\n",
       "    <tr>\n",
       "      <th>YES</th>\n",
       "      <td>1</td>\n",
       "    </tr>\n",
       "    <tr>\n",
       "      <th>electrical engineering</th>\n",
       "      <td>1</td>\n",
       "    </tr>\n",
       "    <tr>\n",
       "      <th>engineering</th>\n",
       "      <td>1</td>\n",
       "    </tr>\n",
       "    <tr>\n",
       "      <th>others</th>\n",
       "      <td>92</td>\n",
       "    </tr>\n",
       "  </tbody>\n",
       "</table>\n",
       "<p>200 rows × 1 columns</p>\n",
       "</div>"
      ],
      "text/plain": [
       "                                                    Department\n",
       "Department                                                    \n",
       " LINEAR ALGEBRA IN MATHEMATICS                               1\n",
       "3rd year Statistics honours                                  1\n",
       "3rd year mathematics honours                                 1\n",
       "APPLIES MATHEMATICS                                          1\n",
       "Aplied mathematics with oceanology and computer...           1\n",
       "...                                                        ...\n",
       "Thermal Power Plant Engineering                              1\n",
       "YES                                                          1\n",
       "electrical engineering                                       1\n",
       "engineering                                                  1\n",
       "others                                                      92\n",
       "\n",
       "[200 rows x 1 columns]"
      ]
     },
     "execution_count": 68,
     "metadata": {},
     "output_type": "execute_result"
    }
   ],
   "source": [
    "#Counting Department\n",
    "df9 = df8.groupby('Department')['Department'].agg('count')\n",
    "Department= pd.DataFrame(df9)\n",
    "Department"
   ]
  },
  {
   "cell_type": "code",
   "execution_count": 69,
   "metadata": {},
   "outputs": [
    {
     "name": "stdout",
     "output_type": "stream",
     "text": [
      "Lady Brabourne College                                                 69\n",
      "Maulana Azad College                                                   59\n",
      "Lady Brabourne College                                                 31\n",
      "Regent Education and Research Foundation                               31\n",
      "Presidency University                                                  19\n",
      "                                                                       ..\n",
      "Ramakrishna Mission Vivekananda Educational and Research Institute      1\n",
      "Manipal hospital                                                        1\n",
      "Jagannath Kishore college,Purulia                                       1\n",
      "B. P. Poddar Institute of Management And Technology                     1\n",
      "National power training institute (E.R) Durgapur                        1\n",
      "Name: College, Length: 431, dtype: int64\n"
     ]
    }
   ],
   "source": [
    "#total present university wise\n",
    "total = df8.College.value_counts()\n",
    "print(total)"
   ]
  },
  {
   "cell_type": "code",
   "execution_count": 70,
   "metadata": {},
   "outputs": [],
   "source": [
    "#From this we can see some college like Lady Barbourne is repeating. & also every counts are different. "
   ]
  },
  {
   "cell_type": "code",
   "execution_count": 71,
   "metadata": {},
   "outputs": [
    {
     "name": "stdout",
     "output_type": "stream",
     "text": [
      "Total University:432\n"
     ]
    },
    {
     "data": {
      "text/plain": [
       "array(['United International University ', 'IIT',\n",
       "       'Shahjalal University of Science and Technology',\n",
       "       'Asutosh College',\n",
       "       'DEPARTMENT OF PURE MATHEMATICS, UNIVERSITY OF CALCUTTA',\n",
       "       'Vivekananda College',\n",
       "       'Future institute of engineering and management', 'J.K College',\n",
       "       'Narasinha dutt college', 'J.k.clg purulia',\n",
       "       'NARASINHA DUTT COLLEGE ',\n",
       "       'Global Nature Care Sangathan Group Of Institutions', 'AIUB',\n",
       "       'Maulana Azad College', 'Purulia zilla school ',\n",
       "       'Cummins college of Engineering for women ',\n",
       "       'Daffodil  International  University ', 'St.Xaviers college',\n",
       "       'Aiub', 'Asutosh College ', 'DIATM', 'Purulia jk college',\n",
       "       'Narasinha Dutt college under Calcutta university ',\n",
       "       'Sister Nibedita Govt General Degree College for Girls ',\n",
       "       'ND College', 'Ramakrishna Mission Shilpapitha',\n",
       "       'Viswass school & college of nursing',\n",
       "       'Narasinha Dutt college afflicted by Calcutta University',\n",
       "       'Maulana Azad College ',\n",
       "       'Durgapur institute of advanced technology and management',\n",
       "       'Durgapur Institute of Advanced Technology and Management',\n",
       "       'Insitiution of engineering and managment', \"St. Xavier's College\",\n",
       "       'Asutosh college',\n",
       "       'Sister Nibedita Govt. General Degree College For Girls',\n",
       "       'Manipal hospital',\n",
       "       'Durgapur Institute Of Advance Technology and Management',\n",
       "       'West Bengal State University ', \"St. Xavier's College , Kolkata \",\n",
       "       \"St. Xavier's College, Kolkata\",\n",
       "       'SKS Power Generation Chhattisgarh Ltd.',\n",
       "       'Lady Brabourne College, University of Calcutta',\n",
       "       'Kalyani Mahavidyalaya', 'University of Calcutta',\n",
       "       \"St. Xavier's college\",\n",
       "       'University College Of Science & Technology, University Of Calcutta',\n",
       "       'Lady Brabourne College',\n",
       "       'Vivekananda college, Calcutta University',\n",
       "       'Jagannath Kishore college,Purulia',\n",
       "       'Hooghly Engineering and Technology College', 'J.K.College ',\n",
       "       'Islamic University, Kushtia', 'Narasinha dutt college ',\n",
       "       'West Bengal University of Health Sciences',\n",
       "       'Institute of Engineering and Management (IEM)',\n",
       "       'Kalyani mahavidyalaya',\n",
       "       'Acharya institute of management and sciences',\n",
       "       'Techno International Newtown', 'Bethune College ',\n",
       "       'ISRT , University of Dhaka ', 'Vivekananda college , CU', 'NSU',\n",
       "       \"st Xavier's College \", \"St xavier's College, kolkata\",\n",
       "       'Narasinha Dutta College', 'NARASINHA DUTT COLLEGE',\n",
       "       'American International University Bangladesh ',\n",
       "       'Jagannath Kishore College',\n",
       "       'NARASINHA DUTT COLLEGE, UNIVERSITY OF CALCUTTA',\n",
       "       'Narasingha Dutt College ',\n",
       "       'Durgapur Institute of Advanced Technology and Management ', nan,\n",
       "       'Comilla University', 'Techno India Saltlake',\n",
       "       \"St. Xavier's College (Autonomous) , Kolkata\",\n",
       "       'Narasinha Dutt College', 'Academy Of Technology',\n",
       "       'Thakurpukur Vivekananda College ', 'Ramsaday College',\n",
       "       'J.K college',\n",
       "       'Calcutta University ( Ballygaunge Science College) ',\n",
       "       'RKMVERI BELUR MATH', 'JJ Glastronics', 'Kalyani Mahabidyalaya',\n",
       "       'Gauhati University', 'Maulana azad college',\n",
       "       'Jadavpur University', 'Basanti Devi College',\n",
       "       'The International University of Scholars',\n",
       "       'London  South  Bank  University ', 'North South University ',\n",
       "       'Bangladesh Institute of Governance and Management (BIGM)       ',\n",
       "       'Guru NANAK INSTITUTE OF PHARMACEUTICAL SCIENCE AND TECHNOLOGY',\n",
       "       'Bethune college', 'National Power Training Institute Durgapur',\n",
       "       'Maulana Azad college', 'Jk college', 'Kerala University ',\n",
       "       'NPTI (ER)', 'Institute of Engineering and Management',\n",
       "       'Bethune College,  Kolkata', 'Professional', 'University of Dhaka',\n",
       "       'Bharat University, Chennai', 'Jadavpur University ',\n",
       "       'Comilla University  ', 'North-south university',\n",
       "       'Future Institute of Engineering and Management',\n",
       "       'PRESIDENCY UNIVERSITY ',\n",
       "       'American International University-Bangladesh',\n",
       "       'Vidyasagar college for women', 'JADAVPUR UNIVERSITY ',\n",
       "       'Presidency University', 'Gl bajaj',\n",
       "       'American International University-Bangladesh ',\n",
       "       'National power training institute Nagpur',\n",
       "       'North South University', 'Kalyani mahavidyalay', 'Bethune',\n",
       "       'Bethune College', 'Future Institute of Technology',\n",
       "       'Dr. B. C. Roy Engineering college',\n",
       "       'Durgapur Institute of advance technology and managment',\n",
       "       'Government College of Engineering and Leather Technology',\n",
       "       'Kalyani Mahavidya', 'N.P.T.I(E.R.)',\n",
       "       \"St. Xavier's College, Kolkata \",\n",
       "       'Indira Gandhi National University', 'Vidyasaagar university',\n",
       "       'Mugberia gangadhar mahavidyalaya ',\n",
       "       'Dr.b.c.roy engineering college', ' Uttarpara Amarendra Vidyapith',\n",
       "       'Techno International New Town',\n",
       "       'Durgapur institute of advanced and technology management',\n",
       "       'NPTI, NAGPUR', 'Jagannath Kishore College, Purulia',\n",
       "       'Basantidevi College', 'IIT,University of Dhaka',\n",
       "       'Makaut(Formely wbut)',\n",
       "       'American International University- Bangladesh',\n",
       "       'American International University Bangladesh',\n",
       "       'Shahjalal University of Science & Technology   ',\n",
       "       'Bangabandhu Sheikh Mujibur Rahman Science & Technology ',\n",
       "       'Bangabandhu Sheikh Mujibur Rahman Science & Technology University       ',\n",
       "       'Jahangirnagar University  ', 'Jahangirnagar University ', 'BUET',\n",
       "       'SBPGC', 'American international university Bangladesh ',\n",
       "       'North South University (NSU)',\n",
       "       'American international university of Bangladesh',\n",
       "       'North South University   ', 'Public Administration ',\n",
       "       'American International University - Bangladesh',\n",
       "       'University Of Dhaka', 'LADY BRABOURNE COLLEGE',\n",
       "       'Netaji Subhas Open University',\n",
       "       'Maulana Abul Kalam Azad University of Technology',\n",
       "       'Vidyasagar University',\n",
       "       'National Institute Of Technology Warangal',\n",
       "       'Ramakrishna Mission Vidyamandira ',\n",
       "       'Notre dame UniversityBangladesh  ', 'Vidyasagar collage ',\n",
       "       'JADAVPUR UNIVERSITY',\n",
       "       'Indian Institute of Engineering Science And Technology Shibpur',\n",
       "       'Ahsanullah University of Science and Technology ',\n",
       "       'Chittaranjan College, Kolkata ', 'Bangalore university',\n",
       "       'Maulana Abul Kalam Azad University of Technology ',\n",
       "       'Institution / Organization / College name ',\n",
       "       'University of Liberal Arts ',\n",
       "       'University of Liberal Arts Bangladesh',\n",
       "       'Dyal Singh College (day) ', 'DIATM DURGAPUR ',\n",
       "       'Vivekananda  College',\n",
       "       'Maulana Abul Kalam Azad University of Technology, W.B',\n",
       "       'Christ  University', 'Durgapur institute of advanced technology',\n",
       "       'American International University of Bangladesh (AIUB)',\n",
       "       'RCC institute of information technology', 'Belda College',\n",
       "       'FUTURETECH PRIVATE ITI ', 'J.k. college', 'BRABU',\n",
       "       'Burdwan University',\n",
       "       'Durgapur institute of advance technology and managment',\n",
       "       'Global engineering college', 'Prabhat Kumar College',\n",
       "       'Calcutta university ', \"St.Xavier's College,Kolkata\",\n",
       "       'Shibpur Dinobondhoo Institution (College) ',\n",
       "       'Durgapur institute of advanced technology and management ',\n",
       "       'Durgapur institute of advanced technology and managemant rajbandh',\n",
       "       'MAULANA ABUL KALAM AZAD UNIVERSITY OF TECHNOLOGY ',\n",
       "       'Vivekananda College Thakurpukur', \"St. Xavier's College Kolkata\",\n",
       "       'University of Dhaka   ',\n",
       "       'Durgapur Institute of advanced technology and management ',\n",
       "       'UNIVERSITY OF MUMBAI', 'Lady Brabourne College ',\n",
       "       'Durgapur Institute of Advancedpur Technology and Management',\n",
       "       'Surendranath college', 'ASUTOSH COLLEGE',\n",
       "       \"St. Xavier's College (Autonomous), Kolkata. \",\n",
       "       'OmDayal Group Of Institutions', \"St.Xavier's College Kolkata\",\n",
       "       'Vivekananda college', 'Amta Ramsaday College', 'DIATM, Durgapur',\n",
       "       'Basanti devi College', 'BETHUNE COLLEGE',\n",
       "       'Ahsanullah University of Science and Technology',\n",
       "       'Asansol engineering college', 'MAULANA AZAD COLLEGE',\n",
       "       'Presidency university ', 'Vivekananda College,Thakurpukur',\n",
       "       'Durgapur Institute of Advanced Technology & Management',\n",
       "       'Future Institute of Technology ', 'Victoria Institution',\n",
       "       'Lady brabourne college', 'Corporate Institute Of Pharmacy',\n",
       "       'Amity University Kolkata',\n",
       "       'National power training institute (E.R) Durgapur',\n",
       "       \"St Xavier's College Kolkata\", \"At. Xavier's College\",\n",
       "       'Ramakrishna Mission Vidyamandira', 'Bethune colege', 'Hffc',\n",
       "       'Corporate Institute of Pharmacy ',\n",
       "       'Maulana Azad College, Kolkata', 'Lalbaba college ',\n",
       "       'Aliah University ', 'NIST', 'Green University of Bangladesh',\n",
       "       '1998', 'Raja Peary Mohan college',\n",
       "       'National institute of science and technology,berhampur',\n",
       "       'American International University - Bangladesh ',\n",
       "       'International University of Scholarsh', 'BRAC University',\n",
       "       'Central University of Jharkhand',\n",
       "       'VIDYASAGAR UNIVERSITY, MEDINIPUR', 'UITS',\n",
       "       'Independent University, Bangladesh',\n",
       "       'The New Horizons Institute of Technology',\n",
       "       'Jogomaya Devi college ', 'Raja Peary Mohan College',\n",
       "       'Sister Nibedita Govt. General Degree College for girls', 'RGPV',\n",
       "       'Surendranath College', 'FUTURE INSTITUTE OF TECHNOLOGY',\n",
       "       'Future Institute Of Technology', 'Asutosh College, Kolkata   ',\n",
       "       'Raja Peary Mohan College, Uttarpara',\n",
       "       'Future Institute of technology', 'North south University  ',\n",
       "       'Seacom engineering college ', 'Zoom international',\n",
       "       'Vivekananda College ', 'Narula Institute of Technology',\n",
       "       'FUTURE INSTITUTE OF TECHNOLOGY ',\n",
       "       \"St. Xavier's College , Kolkata\", 'Aot',\n",
       "       'National power training institute', 'RKMVERI (BELUR CAMPUS)',\n",
       "       'Vivekananda college ', 'Academy of Technology',\n",
       "       'Durgapur Instute Of Advance Technology And Management',\n",
       "       'Dr.B.C.ROY ENGINEERING COLLEGE', \"St Xavier's College\",\n",
       "       'Ramakrishna Mission Vivekananda Educational and Research Institute ',\n",
       "       \"St. Xavier's College (Autonomous),Kolkata\",\n",
       "       'Ashutosh College    ', 'College of engineering Roorkee',\n",
       "       'Bethune College, Kolkata',\n",
       "       'National Power Training Institute ( E.R ) ',\n",
       "       'Lady Brabourne college', 'Future institute of technology ',\n",
       "       'Narula institute of technology', 'RKMVERI, BELUR MATH',\n",
       "       'Techno India salt lake', 'Islamic University of Technology (IUT)',\n",
       "       'Bangladesh Agricultural Research Institute    ',\n",
       "       'Ramakrishna Mission Vivekananda Educational And Research Institute',\n",
       "       'BRAC University ', 'Bidhannagar college', 'Bidhannagar College',\n",
       "       'Sir Gurudas Mahavidyalaya',\n",
       "       'DURGAPUR INSTITUTE OF ADVANCED TECHNOLOGY AND MANEGEMENT',\n",
       "       'American International University of Bangladesh',\n",
       "       'JadavpurUniversity  ', 'Narula Institute of technology',\n",
       "       'Vidyasagar College',\n",
       "       'national institute of science and technology',\n",
       "       'Visvabharati university', 'International University of Scholars',\n",
       "       'New Alipore College',\n",
       "       'American International University-Bangladesh     ',\n",
       "       'UNIVERSITY OF CHITTAGONG', 'Bidhannagar college ',\n",
       "       'Shibpur Dinobundhoo institution',\n",
       "       'Durgapur Institute Of Advanced Technology and Management',\n",
       "       'DIATM durgapur', 'Iub', 'Uttara University',\n",
       "       'B. P. Poddar Institute of Management and Technology',\n",
       "       'B. P. Poddar Institute of Management And Technology',\n",
       "       'B. P. Poddar Institute of Technology and Management',\n",
       "       'B.P. PODDAR INSTITUTE OF MANAGEMENT AND TECHNOLOGY',\n",
       "       'B.P.Poddar Institution of Management & Technology',\n",
       "       'B.P.PODDAR INSTITUTE OF MANAGEMENT AND TECHNOLOGY',\n",
       "       'B P Poddar Institute Of Management And Technology',\n",
       "       'B.P. Poddar Institute Of Management And Technology',\n",
       "       'B.P. Poddar Institute of Management and Technology',\n",
       "       'B. P. Poddar Institute of Management and technology',\n",
       "       'B.P.Podder Institute of Management and Technology',\n",
       "       'B. P. Poddar Institute Of Management & Technology', 'Home',\n",
       "       'BPPIMT', 'B.P.Poddar Institute Of Management And Technology ',\n",
       "       'Dr. B.C.Roy engineering college',\n",
       "       'B.P Poddar institute of management and technology',\n",
       "       'B P poddar institute of Management & Technology ',\n",
       "       'B.P Poddar Institute of Management and Technology',\n",
       "       'B.P PODDAR INSTITUTE OF MANAGEMENT AND TECHNOLOGY',\n",
       "       'B.P poddar Institute of Management & Technology',\n",
       "       'B.p.Poddar Institute of Management and Technology',\n",
       "       'BP poddar institute of management and technology',\n",
       "       'B.p.poddar institute of management and technology',\n",
       "       'B.P.Poddar Institute of Management & Technology',\n",
       "       'B.p.podder institute', 'Bppimt',\n",
       "       'B P Poddar Institute of Management and Technology ',\n",
       "       ' B.P. Poddar Institute Of Management And Technology',\n",
       "       'Bp Poddar Institute of management and technology',\n",
       "       'B P Podder Institute of Management and Technology',\n",
       "       'B P PODDAR INSTITUTE OF MANAGEMENT AND TECHNOLOGY', 'B.P.P.I.M.T',\n",
       "       \"Durgapur Women's College\", \"Duragpur Women's college\",\n",
       "       \"Aasansol Girls' College\", \"Durgapur women's college\",\n",
       "       'Durgapur Womens College ', 'Durgapur government college',\n",
       "       \"Durgapur Women's College \", \"Durgapur women's collage \",\n",
       "       \"Durgapur Women's College   Kazi Nazrul University\",\n",
       "       'Burdwan university ', \"DURGAPUR WOMEN'S COLLEGE\",\n",
       "       \"Durgapur women's college \", 'Durgapur government college ',\n",
       "       'College name - Durgapur Womens college',\n",
       "       \"Raniganj Girls' College \", \"DURGAPUR WOMEN'S COLLEGE \",\n",
       "       'KAJI najrul invercity', \"Durgapur woman's college \",\n",
       "       \"Durgapur women's College\", 'AKPC MAHAVIDYALAYA',\n",
       "       \"Durgapur Women's college\", 'UNIVERSITY OF BURDWAN',\n",
       "       'DURGAPUR GOVERNMENT COLLEGE', 'Durgapur women college',\n",
       "       \"Women's collage\", \"Durgapur WOMEN'S college \",\n",
       "       'DR BC ROY ENGINEERING & MANAGEMENT COLLEGE , DURGAPUR',\n",
       "       'Regent Education and Research Foundation',\n",
       "       'Regent education and research foundation',\n",
       "       'REGENT education&research foundation ',\n",
       "       'Regent Education & Research Foundation',\n",
       "       'Regent Education And Research Foundation',\n",
       "       'Regent education & research foundation barrackpore',\n",
       "       'Regent Education and Research Foundation ', 'RERF', 'Rerf',\n",
       "       'Regent Education & Research Foundation ',\n",
       "       'Regent Education and Reseach Foundation',\n",
       "       'Regent Education and Research Foundation    ',\n",
       "       'REGENT EDUCATION AND RESEARCH FOUNDATION ',\n",
       "       'Regent Education & Research Foundation Group of Institutions',\n",
       "       'Regent Education and Research foundation ',\n",
       "       'Regent Education and Research Foundation Group of Institutions',\n",
       "       'Regent Education Research and Foundation',\n",
       "       'Regent Education And Research Foundation Institution',\n",
       "       'Regent education and research Foundation',\n",
       "       'REGENT EDUCATION AND RESEARCH FOUNDATION',\n",
       "       'Regent Education and Research Foundation(group of institution)',\n",
       "       'Regent Education &Research Foundation',\n",
       "       'Regent Education and Research foundation',\n",
       "       'Regent Education &Research Foundation group of Institutions ',\n",
       "       'regent education and research foundarion group of institute ',\n",
       "       'REGENT EDUCATION & RESEARCH FOUNDATION',\n",
       "       'Regent education and research foundation group of institution',\n",
       "       'Regent education and research foundation ',\n",
       "       'regent education and research foundation ', 'RRERF',\n",
       "       'Presidency University ', 'Presidency University, Kolkata',\n",
       "       'PRESIDENCY UNIVERSITY', 'Presidency university',\n",
       "       'Lady Braborne college', 'Hyderabad Central University',\n",
       "       'Indian Institute of Foreign Trade,Kolkata',\n",
       "       'Lady Brabourne College, Kolkata', 'Calcutta University ',\n",
       "       'LADY BRABOURNE COLLEGE, CALCUTTA UNIVERSITY',\n",
       "       'Lady braboune college', 'Lady brabourne college ',\n",
       "       'LADY BRABOURNE COLLEGE, C.U.', 'Lady brabourne college, kolkata',\n",
       "       'Lady Brabourne college ',\n",
       "       \"St.Xavier's College (Autonomous), Kolkata \",\n",
       "       \"St. Xavier's University \",\n",
       "       'Indira gandhi institute of development research ', 'IGIDR',\n",
       "       'Gokhale Institute of Politics and Economics', 'Lady Brabourne ',\n",
       "       'Ladybrabourne college',\n",
       "       'Lady Brabourne College, University of Calcutta ',\n",
       "       'Lady Braboune Collage', 'Moulana azad college',\n",
       "       'Moulana Azad College', 'MAULANA AZAD COLLEGE ',\n",
       "       'Maulana Azad College Kolkata', 'maulana azad college',\n",
       "       'Moulana Azad Collage',\n",
       "       'Maulana Azad College, University Of Calcutta', 'MAC',\n",
       "       'Maulana Azad college ', 'Maulana Azad Collehe',\n",
       "       'Maulana azad college ', 'Seth Anandram Jaipuria College',\n",
       "       'Maulona Azad College'], dtype=object)"
      ]
     },
     "execution_count": 71,
     "metadata": {},
     "output_type": "execute_result"
    }
   ],
   "source": [
    "#total participate university\n",
    "unique = df8.College.unique()\n",
    "print(f\"Total University:{len(unique)}\")\n",
    "unique"
   ]
  },
  {
   "cell_type": "code",
   "execution_count": 72,
   "metadata": {},
   "outputs": [
    {
     "name": "stdout",
     "output_type": "stream",
     "text": [
      "UniversityName: United International University : \n",
      "Department: ['others']\n",
      "\n",
      "UniversityName: IIT: \n",
      "Department: ['Engineering']\n",
      "\n",
      "UniversityName: Shahjalal University of Science and Technology: \n",
      "Department: ['Engineering']\n",
      "\n",
      "UniversityName: Asutosh College: \n",
      "Department: ['Statistics', 'Statistics Honours Student', 'Bsc. Statistics Honours Student(Final Year)', 'Statistics', 'Statistics', 'Statistics', 'Statistics', 'Statistics honours', 'Statistics honours', 'Statistics', 'R', 'Statistics Honours', 'Statistics Hons', 'Honors (BSC/MSC)']\n",
      "\n",
      "UniversityName: DEPARTMENT OF PURE MATHEMATICS, UNIVERSITY OF CALCUTTA: \n",
      "Department: ['PURE MATHEMATICS']\n",
      "\n",
      "UniversityName: Vivekananda College: \n",
      "Department: ['B.Sc statistics', 'Honors (BSC/MSC)', 'Honors (BSC/MSC)', 'Honors (BSC/MSC)', 'Honors (BSC/MSC)', 'Bsc.Stat ', 'Statistics', 'Honors (BSC/MSC)']\n",
      "\n",
      "UniversityName: Future institute of engineering and management: \n",
      "Department: ['Engineering']\n",
      "\n",
      "UniversityName: J.K College: \n",
      "Department: ['B.Com (H)']\n",
      "\n",
      "UniversityName: Narasinha dutt college: \n",
      "Department: ['M.sc ', 'Mathematics', 'Math (H) ']\n",
      "\n",
      "UniversityName: J.k.clg purulia: \n",
      "Department: ['Commerce']\n",
      "\n",
      "UniversityName: NARASINHA DUTT COLLEGE : \n",
      "Department: ['M.Sc. in Applied Mathematics ']\n",
      "\n",
      "UniversityName: Global Nature Care Sangathan Group Of Institutions: \n",
      "Department: ['Civil Engineering']\n",
      "\n",
      "UniversityName: AIUB: \n",
      "Department: ['Engineering', 'Engineering', 'Engineering', 'Engineering', 'Honors (BSC/MSC)', 'Engineering', 'Honors (BSC/MSC)', 'Honors (BSC/MSC)', 'Engineering', 'Honors (BSC/MSC)', 'Engineering']\n",
      "\n",
      "UniversityName: Maulana Azad College: \n",
      "Department: ['Statistics Honours', 'Statistics honours', 'Graduation', 'Statistics', 'Statistics honours', 'Statistics ', 'Statistics', 'Honors (BSC/MSC)', 'Honors (BSC/MSC)', 'Honors (BSC/MSC)', 'Honors (BSC/MSC)', 'Honors (BSC/MSC)', 'Honors (BSC/MSC)', 'Honors (BSC/MSC)', 'Honors (BSC/MSC)', 'Honors (BSC/MSC)', 'Honors (BSC/MSC)', 'Honors (BSC/MSC)', 'Honors (BSC/MSC)', 'Honors (BSC/MSC)', 'Honors (BSC/MSC)', 'Honors (BSC/MSC)', 'Honors (BSC/MSC)', 'Honors (BSC/MSC)', 'Honors (BSC/MSC)', 'Honors (BSC/MSC)', 'Honors (BSC/MSC)', 'Honors (BSC/MSC)', 'Honors (BSC/MSC)', 'Honors (BSC/MSC)', 'Honors (BSC/MSC)', 'Honors (BSC/MSC)', 'Honors (BSC/MSC)', 'Honors (BSC/MSC)', 'Honors (BSC/MSC)', 'Honors (BSC/MSC)', 'Honors (BSC/MSC)', 'Honors (BSC/MSC)', 'Honors (BSC/MSC)', 'Honors (BSC/MSC)', 'Honors (BSC/MSC)', 'Honors (BSC/MSC)', 'Honors (BSC/MSC)', 'Honors (BSC/MSC)', 'Honors (BSC/MSC)', 'Honors (BSC/MSC)', 'Honors (BSC/MSC)', 'Honors (BSC/MSC)', 'Honors (BSC/MSC)', 'Honors (BSC/MSC)', 'Honors (BSC/MSC)', 'Honors (BSC/MSC)', 'Honors (BSC/MSC)', 'Honors (BSC/MSC)', 'Honors (BSC/MSC)', 'Honors (BSC/MSC)', 'Honors (BSC/MSC)', 'Honors (BSC/MSC)', 'Honors (BSC/MSC)']\n",
      "\n",
      "UniversityName: Purulia zilla school : \n",
      "Department: ['Atrs']\n",
      "\n",
      "UniversityName: Cummins college of Engineering for women : \n",
      "Department: ['Engineering']\n",
      "\n",
      "UniversityName: Daffodil  International  University : \n",
      "Department: ['Honors (BSC/MSC)']\n",
      "\n",
      "UniversityName: St.Xaviers college: \n",
      "Department: ['Statistics', 'Mathematics']\n",
      "\n",
      "UniversityName: Aiub: \n",
      "Department: ['Engineering']\n",
      "\n",
      "UniversityName: Asutosh College : \n",
      "Department: ['Statistics honours ', 'Statistics ']\n",
      "\n",
      "UniversityName: DIATM: \n",
      "Department: ['CSE', 'B. Tech in chemical engineering', 'ECE', 'Computer Science And Engineering', 'CSE']\n",
      "\n",
      "UniversityName: Purulia jk college: \n",
      "Department: ['Commerce', 'B.com']\n",
      "\n",
      "UniversityName: Narasinha Dutt college under Calcutta university : \n",
      "Department: ['Msc Mathematics ']\n",
      "\n",
      "UniversityName: Sister Nibedita Govt General Degree College for Girls : \n",
      "Department: ['Statistics Hons']\n",
      "\n",
      "UniversityName: ND College: \n",
      "Department: ['M. Sc (applied math) ']\n",
      "\n",
      "UniversityName: Ramakrishna Mission Shilpapitha: \n",
      "Department: ['Electronics and telecommunication']\n",
      "\n",
      "UniversityName: Viswass school & college of nursing: \n",
      "Department: ['B.sc nursing']\n",
      "\n",
      "UniversityName: Narasinha Dutt college afflicted by Calcutta University: \n",
      "Department: ['MSc in applied mathematics']\n",
      "\n",
      "UniversityName: Maulana Azad College : \n",
      "Department: ['Statistics (H)', 'Honors (BSC/MSC)', 'Honors (BSC/MSC)', 'Honors (BSC/MSC)', 'Honors (BSC/MSC)', 'Honors (BSC/MSC)', 'Honors (BSC/MSC)', 'Honors (BSC/MSC)', 'Honors (BSC/MSC)', 'Honors (BSC/MSC)', 'Honors (BSC/MSC)', 'Honors (BSC/MSC)', 'Honors (BSC/MSC)']\n",
      "\n",
      "UniversityName: Durgapur institute of advanced technology and management: \n",
      "Department: ['Engineering', 'Engineering', 'Electronics and communication engineering', 'Btech ']\n",
      "\n",
      "UniversityName: Durgapur Institute of Advanced Technology and Management: \n",
      "Department: ['B.Tech', 'Information Technology', 'B.tech in Electronic and Communication Engineering']\n",
      "\n",
      "UniversityName: Insitiution of engineering and managment: \n",
      "Department: ['B. Tech (Cse) ']\n",
      "\n",
      "UniversityName: St. Xavier's College: \n",
      "Department: ['Statistics', 'Statistics', 'Statistics', 'Statistics', 'Honors (BSC/MSC)', 'Statistics', 'Honors (BSC/MSC)']\n",
      "\n",
      "UniversityName: Asutosh college: \n",
      "Department: ['Bsc statistics', 'R', 'Economics', 'Statistics honours', 'Statistics hons']\n",
      "\n",
      "UniversityName: Sister Nibedita Govt. General Degree College For Girls: \n",
      "Department: ['Statistics Honours ']\n",
      "\n",
      "UniversityName: Manipal hospital: \n",
      "Department: ['Electrical engineering']\n",
      "\n",
      "UniversityName: Durgapur Institute Of Advance Technology and Management: \n",
      "Department: ['Btech 4th year on ECE department']\n",
      "\n",
      "UniversityName: West Bengal State University : \n",
      "Department: ['Mathematics ']\n",
      "\n",
      "UniversityName: St. Xavier's College , Kolkata : \n",
      "Department: ['BSc Statistics ']\n",
      "\n",
      "UniversityName: St. Xavier's College, Kolkata: \n",
      "Department: ['B. Sc. Statistics Hons.', 'Bsc. Statistics', 'Bsc. Statistics', 'B.Sc Statistics Honours', 'B. Sc. Statistics Hons. ']\n",
      "\n",
      "UniversityName: SKS Power Generation Chhattisgarh Ltd.: \n",
      "Department: ['Thermal Power Plant Engineering']\n",
      "\n",
      "UniversityName: Lady Brabourne College, University of Calcutta: \n",
      "Department: ['Statistics']\n",
      "\n",
      "UniversityName: Kalyani Mahavidyalaya: \n",
      "Department: [nan, 'B.Sc Statistics honours', 'Statistics Honours (B.Sc.)', 'Statistics honours', 'Statistics ', 'Statistics 2nd semester', 'Bsc.  in statistics']\n",
      "\n",
      "UniversityName: University of Calcutta: \n",
      "Department: ['M.sc', 'Pure mathematics', 'Applied Mathematics', 'Honors (BSC/MSC)']\n",
      "\n",
      "UniversityName: St. Xavier's college: \n",
      "Department: ['Statistics', 'Statistics honours']\n",
      "\n",
      "UniversityName: University College Of Science & Technology, University Of Calcutta: \n",
      "Department: ['M.Sc in Applied Mathematics']\n",
      "\n",
      "UniversityName: Lady Brabourne College: \n",
      "Department: [nan, 'Honors (BSC/MSC)', '3rd year Statistics honours ', 'Honors (BSC/MSC)', 'others', 'Honors (BSC/MSC)', 'Statistics (Honours)', 'Statistics', 'B.Sc (hons.) In statistics', 'Statistics Honours', 'Honors (BSC/MSC)', 'Honors (BSC/MSC)', 'Honors (BSC/MSC)', 'Honors (BSC/MSC)', 'Honors (BSC/MSC)', 'Honors (BSC/MSC)', 'Honors (BSC/MSC)', 'Honors (BSC/MSC)', 'Honors (BSC/MSC)', 'Honors (BSC/MSC)', 'Honors (BSC/MSC)', 'Honors (BSC/MSC)', 'Honors (BSC/MSC)', 'Honors (BSC/MSC)', 'Honors (BSC/MSC)', 'Honors (BSC/MSC)', 'Honors (BSC/MSC)', 'Honors (BSC/MSC)', 'Honors (BSC/MSC)', 'Honors (BSC/MSC)', 'Honors (BSC/MSC)', 'Honors (BSC/MSC)', 'Honors (BSC/MSC)', 'Honors (BSC/MSC)', 'Honors (BSC/MSC)', 'Honors (BSC/MSC)', 'Honors (BSC/MSC)', 'Honors (BSC/MSC)', 'Honors (BSC/MSC)', 'Honors (BSC/MSC)', 'Honors (BSC/MSC)', 'Honors (BSC/MSC)', 'Honors (BSC/MSC)', 'Honors (BSC/MSC)', 'Honors (BSC/MSC)', 'Honors (BSC/MSC)', 'Honors (BSC/MSC)', 'Honors (BSC/MSC)', 'Honors (BSC/MSC)', 'Honors (BSC/MSC)', 'Honors (BSC/MSC)', 'Honors (BSC/MSC)', 'Honors (BSC/MSC)', 'Honors (BSC/MSC)', 'Honors (BSC/MSC)', 'Honors (BSC/MSC)', 'Honors (BSC/MSC)', 'Honors (BSC/MSC)', 'Honors (BSC/MSC)', 'Honors (BSC/MSC)', 'Honors (BSC/MSC)', 'Honors (BSC/MSC)', 'Honors (BSC/MSC)', 'Honors (BSC/MSC)', 'Honors (BSC/MSC)', 'Honors (BSC/MSC)', 'Honors (BSC/MSC)', 'Honors (BSC/MSC)', 'Honors (BSC/MSC)']\n",
      "\n",
      "UniversityName: Vivekananda college, Calcutta University: \n",
      "Department: ['Honors (BSC/MSC)']\n",
      "\n",
      "UniversityName: Jagannath Kishore college,Purulia: \n",
      "Department: ['Computer Science']\n",
      "\n",
      "UniversityName: Hooghly Engineering and Technology College: \n",
      "Department: ['B.tech in Electronics and communication engineering']\n",
      "\n",
      "UniversityName: J.K.College : \n",
      "Department: ['Computer Science']\n",
      "\n",
      "UniversityName: Islamic University, Kushtia: \n",
      "Department: ['Honors (BSC/MSC)']\n",
      "\n",
      "UniversityName: Narasinha dutt college : \n",
      "Department: ['M.sc in applied mathematics. ']\n",
      "\n",
      "UniversityName: West Bengal University of Health Sciences: \n",
      "Department: ['Dental Surgery']\n",
      "\n",
      "UniversityName: Institute of Engineering and Management (IEM): \n",
      "Department: ['Engineering']\n",
      "\n",
      "UniversityName: Kalyani mahavidyalaya: \n",
      "Department: ['Statistics ', 'B.sc statistics', 'Statistics']\n",
      "\n",
      "UniversityName: Acharya institute of management and sciences: \n",
      "Department: ['BCA']\n",
      "\n",
      "UniversityName: Techno International Newtown: \n",
      "Department: ['Engineering', 'Engineering']\n",
      "\n",
      "UniversityName: Bethune College : \n",
      "Department: ['Statistics ', 'Honors (BSC/MSC)', 'Honors (BSC/MSC)']\n",
      "\n",
      "UniversityName: ISRT , University of Dhaka : \n",
      "Department: ['Honors (BSC/MSC)']\n",
      "\n",
      "UniversityName: Vivekananda college , CU: \n",
      "Department: ['Honors (BSC/MSC)']\n",
      "\n",
      "UniversityName: NSU: \n",
      "Department: ['Honors (BSC/MSC)', 'Honors (BSC/MSC)']\n",
      "\n",
      "UniversityName: st Xavier's College : \n",
      "Department: ['Honors (BSC/MSC)']\n",
      "\n",
      "UniversityName: St xavier's College, kolkata: \n",
      "Department: ['Statistics ']\n",
      "\n",
      "UniversityName: Narasinha Dutta College: \n",
      "Department: ['Msc in applied mathematics', 'APPLIES MATHEMATICS']\n",
      "\n",
      "UniversityName: NARASINHA DUTT COLLEGE: \n",
      "Department: ['Master of science in applied Mathematics', 'M.SC. MATHEMATICS']\n",
      "\n",
      "UniversityName: American International University Bangladesh : \n",
      "Department: ['Honors (BSC/MSC)']\n",
      "\n",
      "UniversityName: Jagannath Kishore College: \n",
      "Department: ['Computer science']\n",
      "\n",
      "UniversityName: NARASINHA DUTT COLLEGE, UNIVERSITY OF CALCUTTA: \n",
      "Department: ['M.SC. IN APPLIED MATHEMATICS']\n",
      "\n",
      "UniversityName: Narasingha Dutt College : \n",
      "Department: ['MSc Mathematics']\n",
      "\n",
      "UniversityName: Durgapur Institute of Advanced Technology and Management : \n",
      "Department: ['Computer Science and Engineering ', 'Engineering']\n",
      "\n",
      "UniversityName: nan: \n",
      "Department: []\n",
      "\n",
      "UniversityName: Comilla University: \n",
      "Department: ['BBA']\n",
      "\n",
      "UniversityName: Techno India Saltlake: \n",
      "Department: ['BCA']\n",
      "\n",
      "UniversityName: St. Xavier's College (Autonomous) , Kolkata: \n",
      "Department: ['B.Sc Statistics Hons. ']\n",
      "\n",
      "UniversityName: Narasinha Dutt College: \n",
      "Department: ['Msc mathematics', 'M. Sc', 'Mathematics', nan]\n",
      "\n",
      "UniversityName: Academy Of Technology: \n",
      "Department: ['Mechanical Engineer', 'Mechanical engineering', 'Mechanical Engineering']\n",
      "\n",
      "UniversityName: Thakurpukur Vivekananda College : \n",
      "Department: ['Honors (BSC/MSC)']\n",
      "\n",
      "UniversityName: Ramsaday College: \n",
      "Department: [nan]\n",
      "\n",
      "UniversityName: J.K college: \n",
      "Department: ['B.Com Honours']\n",
      "\n",
      "UniversityName: Calcutta University ( Ballygaunge Science College) : \n",
      "Department: ['M.SC in pure mathematics']\n",
      "\n",
      "UniversityName: RKMVERI BELUR MATH: \n",
      "Department: ['MSC IN MATHEMATICS']\n",
      "\n",
      "UniversityName: JJ Glastronics: \n",
      "Department: ['Mechanical Engineering']\n",
      "\n",
      "UniversityName: Kalyani Mahabidyalaya: \n",
      "Department: [nan]\n",
      "\n",
      "UniversityName: Gauhati University: \n",
      "Department: ['Library and Information Science']\n",
      "\n",
      "UniversityName: Maulana azad college: \n",
      "Department: ['Statistics (H)']\n",
      "\n",
      "UniversityName: Jadavpur University: \n",
      "Department: ['Post Graduate (Mathematics) ', 'Mathematics ', nan, 'M.sc in Mathematics', 'Mathematics', 'Mathematics', 'Mathematics', 'Mathematics', 'Msc in Mathematics', 'MSc', 'Mathematics', 'Studying M.sc in mathematics', 'M.sc Mathematics']\n",
      "\n",
      "UniversityName: Basanti Devi College: \n",
      "Department: ['Statistics Honours']\n",
      "\n",
      "UniversityName: The International University of Scholars: \n",
      "Department: ['Engineering']\n",
      "\n",
      "UniversityName: London  South  Bank  University : \n",
      "Department: ['Honors (BSC/MSC)']\n",
      "\n",
      "UniversityName: North South University : \n",
      "Department: ['Honors (BSC/MSC)', 'Engineering', 'BBA', 'BBA']\n",
      "\n",
      "UniversityName: Bangladesh Institute of Governance and Management (BIGM)       : \n",
      "Department: ['Honors (BSC/MSC)']\n",
      "\n",
      "UniversityName: Guru NANAK INSTITUTE OF PHARMACEUTICAL SCIENCE AND TECHNOLOGY: \n",
      "Department: ['Microbiology']\n",
      "\n",
      "UniversityName: Bethune college: \n",
      "Department: ['Honors (BSC/MSC)', 'Honors (BSC/MSC)', 'Honors (BSC/MSC)', 'Msc in pure maths', 'Honors (BSC/MSC)']\n",
      "\n",
      "UniversityName: National Power Training Institute Durgapur: \n",
      "Department: ['Engineering']\n",
      "\n",
      "UniversityName: Maulana Azad college: \n",
      "Department: ['Bsc statistics hons', 'English honours', 'Honors (BSC/MSC)', 'Honors (BSC/MSC)', 'Honors (BSC/MSC)', 'Honors (BSC/MSC)', 'Honors (BSC/MSC)', 'Honors (BSC/MSC)', 'Honors (BSC/MSC)', 'Honors (BSC/MSC)', 'Honors (BSC/MSC)', 'Honors (BSC/MSC)', 'Honors (BSC/MSC)', 'Honors (BSC/MSC)']\n",
      "\n",
      "UniversityName: Jk college: \n",
      "Department: ['Computer science']\n",
      "\n",
      "UniversityName: Kerala University : \n",
      "Department: ['others']\n",
      "\n",
      "UniversityName: NPTI (ER): \n",
      "Department: ['Engineering']\n",
      "\n",
      "UniversityName: Institute of Engineering and Management: \n",
      "Department: ['Electrical Engineering']\n",
      "\n",
      "UniversityName: Bethune College,  Kolkata: \n",
      "Department: ['Honors (BSC/MSC)']\n",
      "\n",
      "UniversityName: Professional: \n",
      "Department: ['Computer Science']\n",
      "\n",
      "UniversityName: University of Dhaka: \n",
      "Department: ['Engineering', 'Engineering', 'Honors (BSC/MSC)']\n",
      "\n",
      "UniversityName: Bharat University, Chennai: \n",
      "Department: ['Btech']\n",
      "\n",
      "UniversityName: Jadavpur University : \n",
      "Department: ['Mathematics Honours (MSc)']\n",
      "\n",
      "UniversityName: Comilla University  : \n",
      "Department: ['BBA']\n",
      "\n",
      "UniversityName: North-south university: \n",
      "Department: ['Engineering', 'Engineering']\n",
      "\n",
      "UniversityName: Future Institute of Engineering and Management: \n",
      "Department: ['Electrical Engineering']\n",
      "\n",
      "UniversityName: PRESIDENCY UNIVERSITY : \n",
      "Department: ['Honors (BSC/MSC)']\n",
      "\n",
      "UniversityName: American International University-Bangladesh: \n",
      "Department: ['Engineering', 'Honors (BSC/MSC)']\n",
      "\n",
      "UniversityName: Vidyasagar college for women: \n",
      "Department: ['Mathematics']\n",
      "\n",
      "UniversityName: JADAVPUR UNIVERSITY : \n",
      "Department: [' LINEAR ALGEBRA IN MATHEMATICS', 'MATHEMATICS ']\n",
      "\n",
      "UniversityName: Presidency University: \n",
      "Department: ['Honors (BSC/MSC)', 'Honors (BSC/MSC)', 'Statistics', 'Honors (BSC/MSC)', 'Honors (BSC/MSC)', 'Honors (BSC/MSC)', 'Honors (BSC/MSC)', 'Honors (BSC/MSC)', 'Honors (BSC/MSC)', 'Honors (BSC/MSC)', 'Honors (BSC/MSC)', 'Honors (BSC/MSC)', 'Honors (BSC/MSC)', 'Honors (BSC/MSC)', 'Honors (BSC/MSC)', 'Honors (BSC/MSC)', 'Honors (BSC/MSC)', 'Honors (BSC/MSC)', 'Honors (BSC/MSC)']\n",
      "\n",
      "UniversityName: Gl bajaj: \n",
      "Department: ['Mca']\n",
      "\n",
      "UniversityName: American International University-Bangladesh : \n",
      "Department: ['BBA', 'Engineering', 'Engineering']\n",
      "\n",
      "UniversityName: National power training institute Nagpur: \n",
      "Department: ['Power']\n",
      "\n",
      "UniversityName: North South University: \n",
      "Department: ['BBA', 'Honors (BSC/MSC)']\n",
      "\n",
      "UniversityName: Kalyani mahavidyalay: \n",
      "Department: ['Statistics']\n",
      "\n",
      "UniversityName: Bethune: \n",
      "Department: ['Honors (BSC/MSC)']\n",
      "\n",
      "UniversityName: Bethune College: \n",
      "Department: ['B.Sc.(honours) in Statistics', nan, 'Honors (BSC/MSC)', 'Statistics', 'Mathematics', 'Honors (BSC/MSC)']\n",
      "\n",
      "UniversityName: Future Institute of Technology: \n",
      "Department: ['B.tech', 'ECE', 'B.tech']\n",
      "\n",
      "UniversityName: Dr. B. C. Roy Engineering college: \n",
      "Department: ['Engineering']\n",
      "\n",
      "UniversityName: Durgapur Institute of advance technology and managment: \n",
      "Department: ['Engineering']\n",
      "\n",
      "UniversityName: Government College of Engineering and Leather Technology: \n",
      "Department: ['Leather Technology', 'Leather Technology']\n",
      "\n",
      "UniversityName: Kalyani Mahavidya: \n",
      "Department: [nan]\n",
      "\n",
      "UniversityName: N.P.T.I(E.R.): \n",
      "Department: ['Engineering']\n",
      "\n",
      "UniversityName: St. Xavier's College, Kolkata : \n",
      "Department: ['Statistics ']\n",
      "\n",
      "UniversityName: Indira Gandhi National University: \n",
      "Department: ['BCA']\n",
      "\n",
      "UniversityName: Vidyasaagar university: \n",
      "Department: ['Applied mathematics in  Oceanology &computer application']\n",
      "\n",
      "UniversityName: Mugberia gangadhar mahavidyalaya : \n",
      "Department: ['Mathematics']\n",
      "\n",
      "UniversityName: Dr.b.c.roy engineering college: \n",
      "Department: ['Engineering']\n",
      "\n",
      "UniversityName:  Uttarpara Amarendra Vidyapith: \n",
      "Department: ['H.S passed']\n",
      "\n",
      "UniversityName: Techno International New Town: \n",
      "Department: ['Engineering']\n",
      "\n",
      "UniversityName: Durgapur institute of advanced and technology management: \n",
      "Department: ['Byech']\n",
      "\n",
      "UniversityName: NPTI, NAGPUR: \n",
      "Department: ['Power engineering']\n",
      "\n",
      "UniversityName: Jagannath Kishore College, Purulia: \n",
      "Department: ['Bsc Computer science']\n",
      "\n",
      "UniversityName: Basantidevi College: \n",
      "Department: ['Statistics']\n",
      "\n",
      "UniversityName: IIT,University of Dhaka: \n",
      "Department: ['Engineering']\n",
      "\n",
      "UniversityName: Makaut(Formely wbut): \n",
      "Department: ['EE']\n",
      "\n",
      "UniversityName: American International University- Bangladesh: \n",
      "Department: ['Engineering']\n",
      "\n",
      "UniversityName: American International University Bangladesh: \n",
      "Department: ['Engineering', 'Engineering']\n",
      "\n",
      "UniversityName: Shahjalal University of Science & Technology   : \n",
      "Department: ['Engineering']\n",
      "\n",
      "UniversityName: Bangabandhu Sheikh Mujibur Rahman Science & Technology : \n",
      "Department: ['others']\n",
      "\n",
      "UniversityName: Bangabandhu Sheikh Mujibur Rahman Science & Technology University       : \n",
      "Department: ['Engineering']\n",
      "\n",
      "UniversityName: Jahangirnagar University  : \n",
      "Department: ['Honors (BSC/MSC)']\n",
      "\n",
      "UniversityName: Jahangirnagar University : \n",
      "Department: ['others']\n",
      "\n",
      "UniversityName: BUET: \n",
      "Department: ['Engineering']\n",
      "\n",
      "UniversityName: SBPGC: \n",
      "Department: ['Engineering']\n",
      "\n",
      "UniversityName: American international university Bangladesh : \n",
      "Department: ['Engineering']\n",
      "\n",
      "UniversityName: North South University (NSU): \n",
      "Department: ['BBA', 'BBA']\n",
      "\n",
      "UniversityName: American international university of Bangladesh: \n",
      "Department: ['Engineering']\n",
      "\n",
      "UniversityName: North South University   : \n",
      "Department: ['Engineering', 'Engineering']\n",
      "\n",
      "UniversityName: Public Administration : \n",
      "Department: ['Honors (BSC/MSC)']\n",
      "\n",
      "UniversityName: American International University - Bangladesh: \n",
      "Department: ['Engineering', 'Engineering', 'Engineering']\n",
      "\n",
      "UniversityName: University Of Dhaka: \n",
      "Department: ['Honors (BSC/MSC)']\n",
      "\n",
      "UniversityName: LADY BRABOURNE COLLEGE: \n",
      "Department: ['Honors (BSC/MSC)', 'Honors (BSC/MSC)', 'Honors (BSC/MSC)']\n",
      "\n",
      "UniversityName: Netaji Subhas Open University: \n",
      "Department: ['M.Sc Mathematics']\n",
      "\n",
      "UniversityName: Maulana Abul Kalam Azad University of Technology: \n",
      "Department: ['B.Tech(CSE)', 'B.tech ( CSE )', 'B.Tech CSE', 'B.tech(IT)', 'B.tech (IT)']\n",
      "\n",
      "UniversityName: Vidyasagar University: \n",
      "Department: ['MSc in Applied Mathematics', 'Mathematics (MSC)', 'Aplied mathematics with oceanology and computer programming', 'Mathematics', 'M.Sc in Mathematics', 'Mathematics']\n",
      "\n",
      "UniversityName: National Institute Of Technology Warangal: \n",
      "Department: ['Applied Mathematics']\n",
      "\n",
      "UniversityName: Ramakrishna Mission Vidyamandira : \n",
      "Department: ['Diploma on Travel and Tourism Management']\n",
      "\n",
      "UniversityName: Notre dame UniversityBangladesh  : \n",
      "Department: ['Engineering']\n",
      "\n",
      "UniversityName: Vidyasagar collage : \n",
      "Department: [nan]\n",
      "\n",
      "UniversityName: JADAVPUR UNIVERSITY: \n",
      "Department: ['MATHEMATICS', 'M.Sc  in mathematics', 'MATHEMATICS']\n",
      "\n",
      "UniversityName: Indian Institute of Engineering Science And Technology Shibpur: \n",
      "Department: ['Engineering']\n",
      "\n",
      "UniversityName: Ahsanullah University of Science and Technology : \n",
      "Department: ['Engineering']\n",
      "\n",
      "UniversityName: Chittaranjan College, Kolkata : \n",
      "Department: ['Mathematics ']\n",
      "\n",
      "UniversityName: Bangalore university: \n",
      "Department: ['Mathematics']\n",
      "\n",
      "UniversityName: Maulana Abul Kalam Azad University of Technology : \n",
      "Department: ['B. Tech CSE', 'Computer Science and engineering ']\n",
      "\n",
      "UniversityName: Institution / Organization / College name : \n",
      "Department: ['Filed of study ']\n",
      "\n",
      "UniversityName: University of Liberal Arts : \n",
      "Department: ['Engineering']\n",
      "\n",
      "UniversityName: University of Liberal Arts Bangladesh: \n",
      "Department: ['Engineering']\n",
      "\n",
      "UniversityName: Dyal Singh College (day) : \n",
      "Department: ['others']\n",
      "\n",
      "UniversityName: DIATM DURGAPUR : \n",
      "Department: ['ECE']\n",
      "\n",
      "UniversityName: Vivekananda  College: \n",
      "Department: ['Honors (BSC/MSC)']\n",
      "\n",
      "UniversityName: Maulana Abul Kalam Azad University of Technology, W.B: \n",
      "Department: ['B.Tech in CSE']\n",
      "\n",
      "UniversityName: Christ  University: \n",
      "Department: ['Msc Data science']\n",
      "\n",
      "UniversityName: Durgapur institute of advanced technology: \n",
      "Department: ['Btech electronics and communication']\n",
      "\n",
      "UniversityName: American International University of Bangladesh (AIUB): \n",
      "Department: ['Engineering']\n",
      "\n",
      "UniversityName: RCC institute of information technology: \n",
      "Department: ['Electrical engineering']\n",
      "\n",
      "UniversityName: Belda College: \n",
      "Department: ['M.sc in Applied Mathematics (2nd Sem)']\n",
      "\n",
      "UniversityName: FUTURETECH PRIVATE ITI : \n",
      "Department: ['ELECTRICIAN ']\n",
      "\n",
      "UniversityName: J.k. college: \n",
      "Department: ['Comp sc.']\n",
      "\n",
      "UniversityName: BRABU: \n",
      "Department: ['M.SC(Electronics)']\n",
      "\n",
      "UniversityName: Burdwan University: \n",
      "Department: ['Economics', 'others']\n",
      "\n",
      "UniversityName: Durgapur institute of advance technology and managment: \n",
      "Department: ['B-tech in ece']\n",
      "\n",
      "UniversityName: Global engineering college: \n",
      "Department: ['B tech']\n",
      "\n",
      "UniversityName: Prabhat Kumar College: \n",
      "Department: ['B.Sc honours (Computer Science)']\n",
      "\n",
      "UniversityName: Calcutta university : \n",
      "Department: ['Bsc(state )']\n",
      "\n",
      "UniversityName: St.Xavier's College,Kolkata: \n",
      "Department: ['Statistics']\n",
      "\n",
      "UniversityName: Shibpur Dinobondhoo Institution (College) : \n",
      "Department: ['B.Sc , honours in Maths']\n",
      "\n",
      "UniversityName: Durgapur institute of advanced technology and management : \n",
      "Department: ['B.tech']\n",
      "\n",
      "UniversityName: Durgapur institute of advanced technology and managemant rajbandh: \n",
      "Department: [\"B-tech (ECE 2'nd year)\"]\n",
      "\n",
      "UniversityName: MAULANA ABUL KALAM AZAD UNIVERSITY OF TECHNOLOGY : \n",
      "Department: ['YES']\n",
      "\n",
      "UniversityName: Vivekananda College Thakurpukur: \n",
      "Department: ['Bsc statistics honours']\n",
      "\n",
      "UniversityName: St. Xavier's College Kolkata: \n",
      "Department: ['Statistics']\n",
      "\n",
      "UniversityName: University of Dhaka   : \n",
      "Department: ['Honors (BSC/MSC)', 'Honors (BSC/MSC)']\n",
      "\n",
      "UniversityName: Durgapur Institute of advanced technology and management : \n",
      "Department: ['Mechanical engineering ']\n",
      "\n",
      "UniversityName: UNIVERSITY OF MUMBAI: \n",
      "Department: ['Engineering']\n",
      "\n",
      "UniversityName: Lady Brabourne College : \n",
      "Department: ['Honors (BSC/MSC)', 'B.Sc. in Statistics', 'Sem 3', 'Statistics (hons) ', 'Honors (BSC/MSC)', 'Honors (BSC/MSC)', 'Honors (BSC/MSC)', 'Honors (BSC/MSC)', 'Honors (BSC/MSC)', 'Honors (BSC/MSC)', 'Honors (BSC/MSC)', 'Honors (BSC/MSC)', 'Honors (BSC/MSC)', 'Honors (BSC/MSC)', 'Honors (BSC/MSC)', 'Honors (BSC/MSC)', 'Honors (BSC/MSC)', 'Honors (BSC/MSC)', 'Honors (BSC/MSC)', 'Honors (BSC/MSC)', 'Honors (BSC/MSC)', 'Honors (BSC/MSC)', 'Honors (BSC/MSC)', 'Honors (BSC/MSC)', 'Honors (BSC/MSC)', 'Honors (BSC/MSC)', 'Honors (BSC/MSC)', 'Honors (BSC/MSC)', 'Honors (BSC/MSC)', 'Honors (BSC/MSC)', 'Honors (BSC/MSC)']\n",
      "\n",
      "UniversityName: Durgapur Institute of Advancedpur Technology and Management: \n",
      "Department: ['Engineering']\n",
      "\n",
      "UniversityName: Surendranath college: \n",
      "Department: [nan]\n",
      "\n",
      "UniversityName: ASUTOSH COLLEGE: \n",
      "Department: ['Statistics Hons']\n",
      "\n",
      "UniversityName: St. Xavier's College (Autonomous), Kolkata. : \n",
      "Department: ['Bsc. Statistics Hons.']\n",
      "\n",
      "UniversityName: OmDayal Group Of Institutions: \n",
      "Department: ['Computer Science and Engineering']\n",
      "\n",
      "UniversityName: St.Xavier's College Kolkata: \n",
      "Department: ['Honors (BSC/MSC)']\n",
      "\n",
      "UniversityName: Vivekananda college: \n",
      "Department: ['Statistics ( Hons.)', nan]\n",
      "\n",
      "UniversityName: Amta Ramsaday College: \n",
      "Department: ['Bsc. Hons']\n",
      "\n",
      "UniversityName: DIATM, Durgapur: \n",
      "Department: ['Mechanical']\n",
      "\n",
      "UniversityName: Basanti devi College: \n",
      "Department: ['Statistics Hons.']\n",
      "\n",
      "UniversityName: BETHUNE COLLEGE: \n",
      "Department: ['MATHEMATICS ']\n",
      "\n",
      "UniversityName: Ahsanullah University of Science and Technology: \n",
      "Department: ['Engineering']\n",
      "\n",
      "UniversityName: Asansol engineering college: \n",
      "Department: ['Electrical engineering']\n",
      "\n",
      "UniversityName: MAULANA AZAD COLLEGE: \n",
      "Department: ['STATISTICS', 'B.sc in Statistics', 'Honors (BSC/MSC)', 'Honors (BSC/MSC)', 'Honors (BSC/MSC)', 'Honors (BSC/MSC)', 'Honors (BSC/MSC)', 'Honors (BSC/MSC)']\n",
      "\n",
      "UniversityName: Presidency university : \n",
      "Department: ['Honors (BSC/MSC)', 'Honors (BSC/MSC)']\n",
      "\n",
      "UniversityName: Vivekananda College,Thakurpukur: \n",
      "Department: ['Bsc statistics hons', 'B.Sc Statistics honours']\n",
      "\n",
      "UniversityName: Durgapur Institute of Advanced Technology & Management: \n",
      "Department: ['B.tech (ECE)']\n",
      "\n",
      "UniversityName: Future Institute of Technology : \n",
      "Department: ['B.Tech(CSE)', 'Electronics and communications engineering (B.Tech)']\n",
      "\n",
      "UniversityName: Victoria Institution: \n",
      "Department: ['Bsc physics honours ']\n",
      "\n",
      "UniversityName: Lady brabourne college: \n",
      "Department: ['Honors (BSC/MSC)', 'Statistics hons', 'Honors (BSC/MSC)', 'Honors (BSC/MSC)', 'Honors (BSC/MSC)', 'Honors (BSC/MSC)', 'Honors (BSC/MSC)', 'Honors (BSC/MSC)', 'others']\n",
      "\n",
      "UniversityName: Corporate Institute Of Pharmacy: \n",
      "Department: ['B. Pharmacy']\n",
      "\n",
      "UniversityName: Amity University Kolkata: \n",
      "Department: ['Computer Science Engineering']\n",
      "\n",
      "UniversityName: National power training institute (E.R) Durgapur: \n",
      "Department: ['Power engineering']\n",
      "\n",
      "UniversityName: St Xavier's College Kolkata: \n",
      "Department: ['Statistics']\n",
      "\n",
      "UniversityName: At. Xavier's College: \n",
      "Department: ['Statistics ']\n",
      "\n",
      "UniversityName: Ramakrishna Mission Vidyamandira: \n",
      "Department: ['MSc - Mathematics']\n",
      "\n",
      "UniversityName: Bethune colege: \n",
      "Department: ['Honors (BSC/MSC)']\n",
      "\n",
      "UniversityName: Hffc: \n",
      "Department: ['engineering']\n",
      "\n",
      "UniversityName: Corporate Institute of Pharmacy : \n",
      "Department: ['B. Pharmacy']\n",
      "\n",
      "UniversityName: Maulana Azad College, Kolkata: \n",
      "Department: ['B.Sc Statistics honours', 'STATISTICS', 'Honors (BSC/MSC)', 'Honors (BSC/MSC)']\n",
      "\n",
      "UniversityName: Lalbaba college : \n",
      "Department: ['B.Sc']\n",
      "\n",
      "UniversityName: Aliah University : \n",
      "Department: ['Honors (BSC/MSC)']\n",
      "\n",
      "UniversityName: NIST: \n",
      "Department: ['IT']\n",
      "\n",
      "UniversityName: Green University of Bangladesh: \n",
      "Department: ['Engineering']\n",
      "\n",
      "UniversityName: 1998: \n",
      "Department: ['Statistics']\n",
      "\n",
      "UniversityName: Raja Peary Mohan college: \n",
      "Department: ['Did my graduation on mathematics']\n",
      "\n",
      "UniversityName: National institute of science and technology,berhampur: \n",
      "Department: ['Electrical and electronics engineering ', 'EEE ']\n",
      "\n",
      "UniversityName: American International University - Bangladesh : \n",
      "Department: ['Engineering']\n",
      "\n",
      "UniversityName: International University of Scholarsh: \n",
      "Department: ['Engineering']\n",
      "\n",
      "UniversityName: BRAC University: \n",
      "Department: ['Engineering', 'Honors (BSC/MSC)']\n",
      "\n",
      "UniversityName: Central University of Jharkhand: \n",
      "Department: ['Energy Engineering']\n",
      "\n",
      "UniversityName: VIDYASAGAR UNIVERSITY, MEDINIPUR: \n",
      "Department: ['Msc in applied mathematics']\n",
      "\n",
      "UniversityName: UITS: \n",
      "Department: ['Honors (BSC/MSC)']\n",
      "\n",
      "UniversityName: Independent University, Bangladesh: \n",
      "Department: ['Engineering']\n",
      "\n",
      "UniversityName: The New Horizons Institute of Technology: \n",
      "Department: ['Engineering']\n",
      "\n",
      "UniversityName: Jogomaya Devi college : \n",
      "Department: ['Mathematics honours ']\n",
      "\n",
      "UniversityName: Raja Peary Mohan College: \n",
      "Department: ['Bsc math honours']\n",
      "\n",
      "UniversityName: Sister Nibedita Govt. General Degree College for girls: \n",
      "Department: ['Statistics']\n",
      "\n",
      "UniversityName: RGPV: \n",
      "Department: ['Computer science']\n",
      "\n",
      "UniversityName: Surendranath College: \n",
      "Department: ['R']\n",
      "\n",
      "UniversityName: FUTURE INSTITUTE OF TECHNOLOGY: \n",
      "Department: ['Computer science engineering']\n",
      "\n",
      "UniversityName: Future Institute Of Technology: \n",
      "Department: ['CSE', 'Electrical Engineering', 'Electrical Engineering']\n",
      "\n",
      "UniversityName: Asutosh College, Kolkata   : \n",
      "Department: ['Statistics ']\n",
      "\n",
      "UniversityName: Raja Peary Mohan College, Uttarpara: \n",
      "Department: ['Mathematics']\n",
      "\n",
      "UniversityName: Future Institute of technology: \n",
      "Department: ['B. Tech']\n",
      "\n",
      "UniversityName: North south University  : \n",
      "Department: ['Honors (BSC/MSC)']\n",
      "\n",
      "UniversityName: Seacom engineering college : \n",
      "Department: ['Computer science engineering ']\n",
      "\n",
      "UniversityName: Zoom international: \n",
      "Department: ['others']\n",
      "\n",
      "UniversityName: Vivekananda College : \n",
      "Department: ['Honors (BSC/MSC)']\n",
      "\n",
      "UniversityName: Narula Institute of Technology: \n",
      "Department: ['Engineering']\n",
      "\n",
      "UniversityName: FUTURE INSTITUTE OF TECHNOLOGY : \n",
      "Department: ['ELECTRONICS AND COMMUNICATION ENGINEERING (B.TECH))']\n",
      "\n",
      "UniversityName: St. Xavier's College , Kolkata: \n",
      "Department: ['Statistics']\n",
      "\n",
      "UniversityName: Aot: \n",
      "Department: ['Mca']\n",
      "\n",
      "UniversityName: National power training institute: \n",
      "Department: ['Power plant engineering', 'Instrumentation engineer']\n",
      "\n",
      "UniversityName: RKMVERI (BELUR CAMPUS): \n",
      "Department: ['Mathematics ']\n",
      "\n",
      "UniversityName: Vivekananda college : \n",
      "Department: ['Statistics hons.']\n",
      "\n",
      "UniversityName: Academy of Technology: \n",
      "Department: ['ME']\n",
      "\n",
      "UniversityName: Durgapur Instute Of Advance Technology And Management: \n",
      "Department: ['Engineering']\n",
      "\n",
      "UniversityName: Dr.B.C.ROY ENGINEERING COLLEGE: \n",
      "Department: ['Engineering']\n",
      "\n",
      "UniversityName: St Xavier's College: \n",
      "Department: ['Statistics', 'Bsc Statistics Hons']\n",
      "\n",
      "UniversityName: Ramakrishna Mission Vivekananda Educational and Research Institute : \n",
      "Department: ['M.Sc in Mathematics ']\n",
      "\n",
      "UniversityName: St. Xavier's College (Autonomous),Kolkata: \n",
      "Department: ['Honors (BSC/MSC)']\n",
      "\n",
      "UniversityName: Ashutosh College    : \n",
      "Department: ['R']\n",
      "\n",
      "UniversityName: College of engineering Roorkee: \n",
      "Department: [\"Bachelor's of Computer applications\"]\n",
      "\n",
      "UniversityName: Bethune College, Kolkata: \n",
      "Department: ['Mathematics']\n",
      "\n",
      "UniversityName: National Power Training Institute ( E.R ) : \n",
      "Department: ['Power Engineering ']\n",
      "\n",
      "UniversityName: Lady Brabourne college: \n",
      "Department: ['Graduate', 'Honors (BSC/MSC)', 'Honors (BSC/MSC)', 'others', 'Honors (BSC/MSC)', 'Honors (BSC/MSC)', 'Honors (BSC/MSC)', 'Honors (BSC/MSC)', 'Honors (BSC/MSC)']\n",
      "\n",
      "UniversityName: Future institute of technology : \n",
      "Department: ['Electronics and communication Engineering (B.Tech)']\n",
      "\n",
      "UniversityName: Narula institute of technology: \n",
      "Department: ['Engineering']\n",
      "\n",
      "UniversityName: RKMVERI, BELUR MATH: \n",
      "Department: ['Msc. Mathematics']\n",
      "\n",
      "UniversityName: Techno India salt lake: \n",
      "Department: ['BCA ']\n",
      "\n",
      "UniversityName: Islamic University of Technology (IUT): \n",
      "Department: ['Engineering']\n",
      "\n",
      "UniversityName: Bangladesh Agricultural Research Institute    : \n",
      "Department: ['Honors (BSC/MSC)']\n",
      "\n",
      "UniversityName: Ramakrishna Mission Vivekananda Educational And Research Institute: \n",
      "Department: ['Mathematics MSc.']\n",
      "\n",
      "UniversityName: BRAC University : \n",
      "Department: ['Engineering']\n",
      "\n",
      "UniversityName: Bidhannagar college: \n",
      "Department: ['Statistics']\n",
      "\n",
      "UniversityName: Bidhannagar College: \n",
      "Department: ['Statistics Honours']\n",
      "\n",
      "UniversityName: Sir Gurudas Mahavidyalaya: \n",
      "Department: ['B.Sc.']\n",
      "\n",
      "UniversityName: DURGAPUR INSTITUTE OF ADVANCED TECHNOLOGY AND MANEGEMENT: \n",
      "Department: ['Engineering']\n",
      "\n",
      "UniversityName: American International University of Bangladesh: \n",
      "Department: ['Honors (BSC/MSC)']\n",
      "\n",
      "UniversityName: JadavpurUniversity  : \n",
      "Department: ['Msc Mathematics ']\n",
      "\n",
      "UniversityName: Narula Institute of technology: \n",
      "Department: ['Engineering']\n",
      "\n",
      "UniversityName: Vidyasagar College: \n",
      "Department: ['3rd year mathematics honours']\n",
      "\n",
      "UniversityName: national institute of science and technology: \n",
      "Department: ['electrical engineering']\n",
      "\n",
      "UniversityName: Visvabharati university: \n",
      "Department: ['Msc statistics']\n",
      "\n",
      "UniversityName: International University of Scholars: \n",
      "Department: ['Honors (BSC/MSC)']\n",
      "\n",
      "UniversityName: New Alipore College: \n",
      "Department: ['Independent Cyber Security Researcher']\n",
      "\n",
      "UniversityName: American International University-Bangladesh     : \n",
      "Department: ['Honors (BSC/MSC)']\n",
      "\n",
      "UniversityName: UNIVERSITY OF CHITTAGONG: \n",
      "Department: ['others']\n",
      "\n",
      "UniversityName: Bidhannagar college : \n",
      "Department: ['Physics']\n",
      "\n",
      "UniversityName: Shibpur Dinobundhoo institution: \n",
      "Department: ['Honors (BSC/MSC)']\n",
      "\n",
      "UniversityName: Durgapur Institute Of Advanced Technology and Management: \n",
      "Department: ['B.tech in ECE']\n",
      "\n",
      "UniversityName: DIATM durgapur: \n",
      "Department: ['Computer science and engineering']\n",
      "\n",
      "UniversityName: Iub: \n",
      "Department: ['BBA']\n",
      "\n",
      "UniversityName: Uttara University: \n",
      "Department: ['Engineering']\n",
      "\n",
      "UniversityName: B. P. Poddar Institute of Management and Technology: \n",
      "Department: ['others', 'others']\n",
      "\n",
      "UniversityName: B. P. Poddar Institute of Management And Technology: \n",
      "Department: ['others']\n",
      "\n",
      "UniversityName: B. P. Poddar Institute of Technology and Management: \n",
      "Department: ['others']\n",
      "\n",
      "UniversityName: B.P. PODDAR INSTITUTE OF MANAGEMENT AND TECHNOLOGY: \n",
      "Department: ['others', 'others', 'others']\n",
      "\n",
      "UniversityName: B.P.Poddar Institution of Management & Technology: \n",
      "Department: ['others']\n",
      "\n",
      "UniversityName: B.P.PODDAR INSTITUTE OF MANAGEMENT AND TECHNOLOGY: \n",
      "Department: ['others', 'others', 'others', 'others']\n",
      "\n",
      "UniversityName: B P Poddar Institute Of Management And Technology: \n",
      "Department: ['others', 'others']\n",
      "\n",
      "UniversityName: B.P. Poddar Institute Of Management And Technology: \n",
      "Department: ['others', 'others', 'others', 'others']\n",
      "\n",
      "UniversityName: B.P. Poddar Institute of Management and Technology: \n",
      "Department: ['others', 'others']\n",
      "\n",
      "UniversityName: B. P. Poddar Institute of Management and technology: \n",
      "Department: ['others']\n",
      "\n",
      "UniversityName: B.P.Podder Institute of Management and Technology: \n",
      "Department: ['others']\n",
      "\n",
      "UniversityName: B. P. Poddar Institute Of Management & Technology: \n",
      "Department: ['others']\n",
      "\n",
      "UniversityName: Home: \n",
      "Department: ['others']\n",
      "\n",
      "UniversityName: BPPIMT: \n",
      "Department: ['others', 'others']\n",
      "\n",
      "UniversityName: B.P.Poddar Institute Of Management And Technology : \n",
      "Department: ['others']\n",
      "\n",
      "UniversityName: Dr. B.C.Roy engineering college: \n",
      "Department: ['Engineering']\n",
      "\n",
      "UniversityName: B.P Poddar institute of management and technology: \n",
      "Department: ['others']\n",
      "\n",
      "UniversityName: B P poddar institute of Management & Technology : \n",
      "Department: ['others']\n",
      "\n",
      "UniversityName: B.P Poddar Institute of Management and Technology: \n",
      "Department: ['BCA', 'others', 'others']\n",
      "\n",
      "UniversityName: B.P PODDAR INSTITUTE OF MANAGEMENT AND TECHNOLOGY: \n",
      "Department: ['others']\n",
      "\n",
      "UniversityName: B.P poddar Institute of Management & Technology: \n",
      "Department: ['others']\n",
      "\n",
      "UniversityName: B.p.Poddar Institute of Management and Technology: \n",
      "Department: ['others']\n",
      "\n",
      "UniversityName: BP poddar institute of management and technology: \n",
      "Department: ['others']\n",
      "\n",
      "UniversityName: B.p.poddar institute of management and technology: \n",
      "Department: ['others']\n",
      "\n",
      "UniversityName: B.P.Poddar Institute of Management & Technology: \n",
      "Department: ['others']\n",
      "\n",
      "UniversityName: B.p.podder institute: \n",
      "Department: ['others']\n",
      "\n",
      "UniversityName: Bppimt: \n",
      "Department: ['others']\n",
      "\n",
      "UniversityName: B P Poddar Institute of Management and Technology : \n",
      "Department: ['others']\n",
      "\n",
      "UniversityName:  B.P. Poddar Institute Of Management And Technology: \n",
      "Department: ['others']\n",
      "\n",
      "UniversityName: Bp Poddar Institute of management and technology: \n",
      "Department: ['others']\n",
      "\n",
      "UniversityName: B P Podder Institute of Management and Technology: \n",
      "Department: ['others']\n",
      "\n",
      "UniversityName: B P PODDAR INSTITUTE OF MANAGEMENT AND TECHNOLOGY: \n",
      "Department: ['others']\n",
      "\n",
      "UniversityName: B.P.P.I.M.T: \n",
      "Department: ['others']\n",
      "\n",
      "UniversityName: Durgapur Women's College: \n",
      "Department: ['Honors (BSC/MSC)', 'Honors (BSC/MSC)', 'Honors (BSC/MSC)', 'Honors (BSC/MSC)', 'others', 'others', 'others']\n",
      "\n",
      "UniversityName: Duragpur Women's college: \n",
      "Department: ['others']\n",
      "\n",
      "UniversityName: Aasansol Girls' College: \n",
      "Department: ['others']\n",
      "\n",
      "UniversityName: Durgapur women's college: \n",
      "Department: ['others', 'others', 'others', 'others', 'others', 'others', 'others', 'others', 'others', 'others', 'Honors (BSC/MSC)']\n",
      "\n",
      "UniversityName: Durgapur Womens College : \n",
      "Department: ['Honors (BSC/MSC)']\n",
      "\n",
      "UniversityName: Durgapur government college: \n",
      "Department: ['others', 'Honors (BSC/MSC)', 'others']\n",
      "\n",
      "UniversityName: Durgapur Women's College : \n",
      "Department: [nan, 'Honors (BSC/MSC)']\n",
      "\n",
      "UniversityName: Durgapur women's collage : \n",
      "Department: ['others']\n",
      "\n",
      "UniversityName: Durgapur Women's College   Kazi Nazrul University: \n",
      "Department: ['others']\n",
      "\n",
      "UniversityName: Burdwan university : \n",
      "Department: ['others']\n",
      "\n",
      "UniversityName: DURGAPUR WOMEN'S COLLEGE: \n",
      "Department: ['Honors (BSC/MSC)', 'others']\n",
      "\n",
      "UniversityName: Durgapur women's college : \n",
      "Department: ['others', 'others', 'Honors (BSC/MSC)', 'Honors (BSC/MSC)']\n",
      "\n",
      "UniversityName: Durgapur government college : \n",
      "Department: ['others']\n",
      "\n",
      "UniversityName: College name - Durgapur Womens college: \n",
      "Department: ['others']\n",
      "\n",
      "UniversityName: Raniganj Girls' College : \n",
      "Department: ['Honors (BSC/MSC)']\n",
      "\n",
      "UniversityName: DURGAPUR WOMEN'S COLLEGE : \n",
      "Department: ['BBA']\n",
      "\n",
      "UniversityName: KAJI najrul invercity: \n",
      "Department: ['BCA']\n",
      "\n",
      "UniversityName: Durgapur woman's college : \n",
      "Department: ['others']\n",
      "\n",
      "UniversityName: Durgapur women's College: \n",
      "Department: ['Honors (BSC/MSC)']\n",
      "\n",
      "UniversityName: AKPC MAHAVIDYALAYA: \n",
      "Department: ['others']\n",
      "\n",
      "UniversityName: Durgapur Women's college: \n",
      "Department: ['Honors (BSC/MSC)', 'others']\n",
      "\n",
      "UniversityName: UNIVERSITY OF BURDWAN: \n",
      "Department: ['others']\n",
      "\n",
      "UniversityName: DURGAPUR GOVERNMENT COLLEGE: \n",
      "Department: ['others', 'others']\n",
      "\n",
      "UniversityName: Durgapur women college: \n",
      "Department: ['Engineering']\n",
      "\n",
      "UniversityName: Women's collage: \n",
      "Department: ['others']\n",
      "\n",
      "UniversityName: Durgapur WOMEN'S college : \n",
      "Department: ['others']\n",
      "\n",
      "UniversityName: DR BC ROY ENGINEERING & MANAGEMENT COLLEGE , DURGAPUR: \n",
      "Department: ['BBA']\n",
      "\n",
      "UniversityName: Regent Education and Research Foundation: \n",
      "Department: ['Engineering', 'Engineering', 'Engineering', 'Engineering', 'Engineering', 'Engineering', 'Engineering', 'Engineering', 'Engineering', 'Engineering', 'Engineering', 'Engineering', 'Engineering', 'Engineering', 'Engineering', 'Engineering', 'Engineering', 'Engineering', 'Engineering', 'Engineering', 'Engineering', 'Engineering', 'Engineering', 'Engineering', 'Engineering', 'Engineering', 'Engineering', 'Engineering', 'Engineering', 'Engineering', 'Engineering']\n",
      "\n",
      "UniversityName: Regent education and research foundation: \n",
      "Department: ['Engineering', 'Engineering', 'Engineering', 'Engineering', 'Engineering', 'Engineering', 'Engineering', 'Engineering', 'Engineering', 'Engineering', 'Engineering', 'Engineering']\n",
      "\n",
      "UniversityName: REGENT education&research foundation : \n",
      "Department: ['Engineering', 'Engineering']\n",
      "\n",
      "UniversityName: Regent Education & Research Foundation: \n",
      "Department: ['Engineering', 'Engineering', 'Engineering', 'Engineering', 'Engineering', 'Engineering', 'Engineering', 'Engineering', 'Engineering', 'Engineering', nan]\n",
      "\n",
      "UniversityName: Regent Education And Research Foundation: \n",
      "Department: ['Engineering', 'Engineering', 'Engineering', 'Engineering', 'Engineering', 'Engineering', 'Engineering', 'Engineering', 'Engineering', 'Engineering', 'Engineering', 'Engineering']\n",
      "\n",
      "UniversityName: Regent education & research foundation barrackpore: \n",
      "Department: ['Engineering']\n",
      "\n",
      "UniversityName: Regent Education and Research Foundation : \n",
      "Department: ['Engineering', 'Engineering', 'Engineering', 'Engineering', 'Engineering']\n",
      "\n",
      "UniversityName: RERF: \n",
      "Department: ['Engineering', 'Engineering', 'Engineering', 'Engineering', 'Engineering', 'Engineering']\n",
      "\n",
      "UniversityName: Rerf: \n",
      "Department: ['Engineering', 'Engineering']\n",
      "\n",
      "UniversityName: Regent Education & Research Foundation : \n",
      "Department: ['Engineering']\n",
      "\n",
      "UniversityName: Regent Education and Reseach Foundation: \n",
      "Department: ['Engineering']\n",
      "\n",
      "UniversityName: Regent Education and Research Foundation    : \n",
      "Department: ['Engineering']\n",
      "\n",
      "UniversityName: REGENT EDUCATION AND RESEARCH FOUNDATION : \n",
      "Department: ['Engineering']\n",
      "\n",
      "UniversityName: Regent Education & Research Foundation Group of Institutions: \n",
      "Department: ['Engineering', 'Engineering']\n",
      "\n",
      "UniversityName: Regent Education and Research foundation : \n",
      "Department: ['Engineering', 'Engineering']\n",
      "\n",
      "UniversityName: Regent Education and Research Foundation Group of Institutions: \n",
      "Department: ['Engineering', 'Engineering', 'Engineering']\n",
      "\n",
      "UniversityName: Regent Education Research and Foundation: \n",
      "Department: ['Engineering']\n",
      "\n",
      "UniversityName: Regent Education And Research Foundation Institution: \n",
      "Department: ['Engineering']\n",
      "\n",
      "UniversityName: Regent education and research Foundation: \n",
      "Department: ['Engineering']\n",
      "\n",
      "UniversityName: REGENT EDUCATION AND RESEARCH FOUNDATION: \n",
      "Department: ['Engineering']\n",
      "\n",
      "UniversityName: Regent Education and Research Foundation(group of institution): \n",
      "Department: ['Engineering']\n",
      "\n",
      "UniversityName: Regent Education &Research Foundation: \n",
      "Department: ['Engineering']\n",
      "\n",
      "UniversityName: Regent Education and Research foundation: \n",
      "Department: ['Engineering', 'Engineering']\n",
      "\n",
      "UniversityName: Regent Education &Research Foundation group of Institutions : \n",
      "Department: ['Engineering', 'Engineering']\n",
      "\n",
      "UniversityName: regent education and research foundarion group of institute : \n",
      "Department: ['Engineering']\n",
      "\n",
      "UniversityName: REGENT EDUCATION & RESEARCH FOUNDATION: \n",
      "Department: ['Engineering', 'Engineering']\n",
      "\n",
      "UniversityName: Regent education and research foundation group of institution: \n",
      "Department: ['Engineering']\n",
      "\n",
      "UniversityName: Regent education and research foundation : \n",
      "Department: ['Engineering', 'Engineering']\n",
      "\n",
      "UniversityName: regent education and research foundation : \n",
      "Department: ['Engineering']\n",
      "\n",
      "UniversityName: RRERF: \n",
      "Department: ['Engineering']\n",
      "\n",
      "UniversityName: Presidency University : \n",
      "Department: ['Honors (BSC/MSC)', 'Honors (BSC/MSC)', 'Honors (BSC/MSC)', 'Honors (BSC/MSC)', 'Honors (BSC/MSC)', 'Honors (BSC/MSC)', 'Honors (BSC/MSC)']\n",
      "\n",
      "UniversityName: Presidency University, Kolkata: \n",
      "Department: ['Honors (BSC/MSC)', 'Honors (BSC/MSC)', 'Honors (BSC/MSC)']\n",
      "\n",
      "UniversityName: PRESIDENCY UNIVERSITY: \n",
      "Department: ['Honors (BSC/MSC)']\n",
      "\n",
      "UniversityName: Presidency university: \n",
      "Department: ['Honors (BSC/MSC)']\n",
      "\n",
      "UniversityName: Lady Braborne college: \n",
      "Department: ['Honors (BSC/MSC)']\n",
      "\n",
      "UniversityName: Hyderabad Central University: \n",
      "Department: ['Honors (BSC/MSC)']\n",
      "\n",
      "UniversityName: Indian Institute of Foreign Trade,Kolkata: \n",
      "Department: ['Honors (BSC/MSC)']\n",
      "\n",
      "UniversityName: Lady Brabourne College, Kolkata: \n",
      "Department: ['Honors (BSC/MSC)', 'Honors (BSC/MSC)', 'Honors (BSC/MSC)']\n",
      "\n",
      "UniversityName: Calcutta University : \n",
      "Department: ['Honors (BSC/MSC)']\n",
      "\n",
      "UniversityName: LADY BRABOURNE COLLEGE, CALCUTTA UNIVERSITY: \n",
      "Department: ['Honors (BSC/MSC)']\n",
      "\n",
      "UniversityName: Lady braboune college: \n",
      "Department: ['Honors (BSC/MSC)']\n",
      "\n",
      "UniversityName: Lady brabourne college : \n",
      "Department: ['Honors (BSC/MSC)', 'Honors (BSC/MSC)', 'Honors (BSC/MSC)', 'Honors (BSC/MSC)']\n",
      "\n",
      "UniversityName: LADY BRABOURNE COLLEGE, C.U.: \n",
      "Department: ['others']\n",
      "\n",
      "UniversityName: Lady brabourne college, kolkata: \n",
      "Department: ['Honors (BSC/MSC)']\n",
      "\n",
      "UniversityName: Lady Brabourne college : \n",
      "Department: ['Honors (BSC/MSC)', 'Honors (BSC/MSC)']\n",
      "\n",
      "UniversityName: St.Xavier's College (Autonomous), Kolkata : \n",
      "Department: ['Honors (BSC/MSC)']\n",
      "\n",
      "UniversityName: St. Xavier's University : \n",
      "Department: ['Honors (BSC/MSC)']\n",
      "\n",
      "UniversityName: Indira gandhi institute of development research : \n",
      "Department: ['others']\n",
      "\n",
      "UniversityName: IGIDR: \n",
      "Department: ['Honors (BSC/MSC)']\n",
      "\n",
      "UniversityName: Gokhale Institute of Politics and Economics: \n",
      "Department: ['Honors (BSC/MSC)', 'Honors (BSC/MSC)']\n",
      "\n",
      "UniversityName: Lady Brabourne : \n",
      "Department: ['Honors (BSC/MSC)']\n",
      "\n",
      "UniversityName: Ladybrabourne college: \n",
      "Department: ['Honors (BSC/MSC)']\n",
      "\n",
      "UniversityName: Lady Brabourne College, University of Calcutta : \n",
      "Department: ['Honors (BSC/MSC)']\n",
      "\n",
      "UniversityName: Lady Braboune Collage: \n",
      "Department: ['Honors (BSC/MSC)']\n",
      "\n",
      "UniversityName: Moulana azad college: \n",
      "Department: ['Honors (BSC/MSC)']\n",
      "\n",
      "UniversityName: Moulana Azad College: \n",
      "Department: ['Honors (BSC/MSC)']\n",
      "\n",
      "UniversityName: MAULANA AZAD COLLEGE : \n",
      "Department: ['Honors (BSC/MSC)', 'Honors (BSC/MSC)']\n",
      "\n",
      "UniversityName: Maulana Azad College Kolkata: \n",
      "Department: ['Honors (BSC/MSC)']\n",
      "\n",
      "UniversityName: maulana azad college: \n",
      "Department: ['Honors (BSC/MSC)']\n",
      "\n",
      "UniversityName: Moulana Azad Collage: \n",
      "Department: ['Honors (BSC/MSC)']\n",
      "\n",
      "UniversityName: Maulana Azad College, University Of Calcutta: \n",
      "Department: ['Honors (BSC/MSC)']\n",
      "\n",
      "UniversityName: MAC: \n",
      "Department: ['Honors (BSC/MSC)']\n",
      "\n",
      "UniversityName: Maulana Azad college : \n",
      "Department: ['Honors (BSC/MSC)']\n",
      "\n",
      "UniversityName: Maulana Azad Collehe: \n",
      "Department: ['Honors (BSC/MSC)']\n",
      "\n",
      "UniversityName: Maulana azad college : \n",
      "Department: ['Honors (BSC/MSC)']\n",
      "\n",
      "UniversityName: Seth Anandram Jaipuria College: \n",
      "Department: ['Honors (BSC/MSC)']\n",
      "\n",
      "UniversityName: Maulona Azad College: \n",
      "Department: ['Honors (BSC/MSC)']\n",
      "\n"
     ]
    }
   ],
   "source": [
    "#Total department under a university \n",
    "for v in unique:\n",
    "    departments = df8.loc[df8.College == v, 'Department'].values\n",
    "    print(f\"UniversityName: {v}: \\nDepartment: {list(departments)}\\n\")"
   ]
  },
  {
   "cell_type": "code",
   "execution_count": 73,
   "metadata": {},
   "outputs": [
    {
     "data": {
      "text/html": [
       "<div>\n",
       "<style scoped>\n",
       "    .dataframe tbody tr th:only-of-type {\n",
       "        vertical-align: middle;\n",
       "    }\n",
       "\n",
       "    .dataframe tbody tr th {\n",
       "        vertical-align: top;\n",
       "    }\n",
       "\n",
       "    .dataframe thead th {\n",
       "        text-align: right;\n",
       "    }\n",
       "</style>\n",
       "<table border=\"1\" class=\"dataframe\">\n",
       "  <thead>\n",
       "    <tr style=\"text-align: right;\">\n",
       "      <th></th>\n",
       "      <th>counts</th>\n",
       "    </tr>\n",
       "    <tr>\n",
       "      <th>College</th>\n",
       "      <th></th>\n",
       "    </tr>\n",
       "  </thead>\n",
       "  <tbody>\n",
       "    <tr>\n",
       "      <th>B.P. Poddar Institute Of Management And Technology</th>\n",
       "      <td>1</td>\n",
       "    </tr>\n",
       "    <tr>\n",
       "      <th>Uttarpara Amarendra Vidyapith</th>\n",
       "      <td>1</td>\n",
       "    </tr>\n",
       "    <tr>\n",
       "      <th>1998</th>\n",
       "      <td>1</td>\n",
       "    </tr>\n",
       "    <tr>\n",
       "      <th>AIUB</th>\n",
       "      <td>11</td>\n",
       "    </tr>\n",
       "    <tr>\n",
       "      <th>AKPC MAHAVIDYALAYA</th>\n",
       "      <td>1</td>\n",
       "    </tr>\n",
       "    <tr>\n",
       "      <th>...</th>\n",
       "      <td>...</td>\n",
       "    </tr>\n",
       "    <tr>\n",
       "      <th>maulana azad college</th>\n",
       "      <td>1</td>\n",
       "    </tr>\n",
       "    <tr>\n",
       "      <th>national institute of science and technology</th>\n",
       "      <td>1</td>\n",
       "    </tr>\n",
       "    <tr>\n",
       "      <th>regent education and research foundarion group of institute</th>\n",
       "      <td>1</td>\n",
       "    </tr>\n",
       "    <tr>\n",
       "      <th>regent education and research foundation</th>\n",
       "      <td>1</td>\n",
       "    </tr>\n",
       "    <tr>\n",
       "      <th>st Xavier's College</th>\n",
       "      <td>1</td>\n",
       "    </tr>\n",
       "  </tbody>\n",
       "</table>\n",
       "<p>431 rows × 1 columns</p>\n",
       "</div>"
      ],
      "text/plain": [
       "                                                    counts\n",
       "College                                                   \n",
       " B.P. Poddar Institute Of Management And Techno...       1\n",
       " Uttarpara Amarendra Vidyapith                           1\n",
       "1998                                                     1\n",
       "AIUB                                                    11\n",
       "AKPC MAHAVIDYALAYA                                       1\n",
       "...                                                    ...\n",
       "maulana azad college                                     1\n",
       "national institute of science and technology             1\n",
       "regent education and research foundarion group ...       1\n",
       "regent education and research foundation                 1\n",
       "st Xavier's College                                      1\n",
       "\n",
       "[431 rows x 1 columns]"
      ]
     },
     "execution_count": 73,
     "metadata": {},
     "output_type": "execute_result"
    }
   ],
   "source": [
    "uni.rename(columns={\"College\": \"counts\"},inplace=True)\n",
    "uni"
   ]
  },
  {
   "cell_type": "code",
   "execution_count": 74,
   "metadata": {},
   "outputs": [
    {
     "data": {
      "text/html": [
       "<div>\n",
       "<style scoped>\n",
       "    .dataframe tbody tr th:only-of-type {\n",
       "        vertical-align: middle;\n",
       "    }\n",
       "\n",
       "    .dataframe tbody tr th {\n",
       "        vertical-align: top;\n",
       "    }\n",
       "\n",
       "    .dataframe thead th {\n",
       "        text-align: right;\n",
       "    }\n",
       "</style>\n",
       "<table border=\"1\" class=\"dataframe\">\n",
       "  <thead>\n",
       "    <tr style=\"text-align: right;\">\n",
       "      <th></th>\n",
       "      <th>College</th>\n",
       "      <th>counts</th>\n",
       "    </tr>\n",
       "  </thead>\n",
       "  <tbody>\n",
       "    <tr>\n",
       "      <th>0</th>\n",
       "      <td>B.P. Poddar Institute Of Management And Techn...</td>\n",
       "      <td>1</td>\n",
       "    </tr>\n",
       "    <tr>\n",
       "      <th>1</th>\n",
       "      <td>Uttarpara Amarendra Vidyapith</td>\n",
       "      <td>1</td>\n",
       "    </tr>\n",
       "    <tr>\n",
       "      <th>2</th>\n",
       "      <td>1998</td>\n",
       "      <td>1</td>\n",
       "    </tr>\n",
       "    <tr>\n",
       "      <th>3</th>\n",
       "      <td>AIUB</td>\n",
       "      <td>11</td>\n",
       "    </tr>\n",
       "    <tr>\n",
       "      <th>4</th>\n",
       "      <td>AKPC MAHAVIDYALAYA</td>\n",
       "      <td>1</td>\n",
       "    </tr>\n",
       "    <tr>\n",
       "      <th>...</th>\n",
       "      <td>...</td>\n",
       "      <td>...</td>\n",
       "    </tr>\n",
       "    <tr>\n",
       "      <th>426</th>\n",
       "      <td>maulana azad college</td>\n",
       "      <td>1</td>\n",
       "    </tr>\n",
       "    <tr>\n",
       "      <th>427</th>\n",
       "      <td>national institute of science and technology</td>\n",
       "      <td>1</td>\n",
       "    </tr>\n",
       "    <tr>\n",
       "      <th>428</th>\n",
       "      <td>regent education and research foundarion group...</td>\n",
       "      <td>1</td>\n",
       "    </tr>\n",
       "    <tr>\n",
       "      <th>429</th>\n",
       "      <td>regent education and research foundation</td>\n",
       "      <td>1</td>\n",
       "    </tr>\n",
       "    <tr>\n",
       "      <th>430</th>\n",
       "      <td>st Xavier's College</td>\n",
       "      <td>1</td>\n",
       "    </tr>\n",
       "  </tbody>\n",
       "</table>\n",
       "<p>431 rows × 2 columns</p>\n",
       "</div>"
      ],
      "text/plain": [
       "                                               College  counts\n",
       "0     B.P. Poddar Institute Of Management And Techn...       1\n",
       "1                        Uttarpara Amarendra Vidyapith       1\n",
       "2                                                 1998       1\n",
       "3                                                 AIUB      11\n",
       "4                                   AKPC MAHAVIDYALAYA       1\n",
       "..                                                 ...     ...\n",
       "426                               maulana azad college       1\n",
       "427       national institute of science and technology       1\n",
       "428  regent education and research foundarion group...       1\n",
       "429          regent education and research foundation        1\n",
       "430                               st Xavier's College        1\n",
       "\n",
       "[431 rows x 2 columns]"
      ]
     },
     "execution_count": 74,
     "metadata": {},
     "output_type": "execute_result"
    }
   ],
   "source": [
    "#resetting index\n",
    "uni.reset_index(inplace= True)\n",
    "uni\n"
   ]
  },
  {
   "cell_type": "code",
   "execution_count": 75,
   "metadata": {},
   "outputs": [
    {
     "data": {
      "text/html": [
       "<div>\n",
       "<style scoped>\n",
       "    .dataframe tbody tr th:only-of-type {\n",
       "        vertical-align: middle;\n",
       "    }\n",
       "\n",
       "    .dataframe tbody tr th {\n",
       "        vertical-align: top;\n",
       "    }\n",
       "\n",
       "    .dataframe thead th {\n",
       "        text-align: right;\n",
       "    }\n",
       "</style>\n",
       "<table border=\"1\" class=\"dataframe\">\n",
       "  <thead>\n",
       "    <tr style=\"text-align: right;\">\n",
       "      <th></th>\n",
       "      <th>College</th>\n",
       "      <th>counts</th>\n",
       "    </tr>\n",
       "  </thead>\n",
       "  <tbody>\n",
       "    <tr>\n",
       "      <th>3</th>\n",
       "      <td>AIUB</td>\n",
       "      <td>11</td>\n",
       "    </tr>\n",
       "    <tr>\n",
       "      <th>7</th>\n",
       "      <td>Academy Of Technology</td>\n",
       "      <td>3</td>\n",
       "    </tr>\n",
       "    <tr>\n",
       "      <th>14</th>\n",
       "      <td>American International University - Bangladesh</td>\n",
       "      <td>3</td>\n",
       "    </tr>\n",
       "    <tr>\n",
       "      <th>22</th>\n",
       "      <td>American International University-Bangladesh</td>\n",
       "      <td>3</td>\n",
       "    </tr>\n",
       "    <tr>\n",
       "      <th>31</th>\n",
       "      <td>Asutosh College</td>\n",
       "      <td>14</td>\n",
       "    </tr>\n",
       "    <tr>\n",
       "      <th>34</th>\n",
       "      <td>Asutosh college</td>\n",
       "      <td>5</td>\n",
       "    </tr>\n",
       "    <tr>\n",
       "      <th>47</th>\n",
       "      <td>B.P Poddar Institute of Management and Technology</td>\n",
       "      <td>3</td>\n",
       "    </tr>\n",
       "    <tr>\n",
       "      <th>50</th>\n",
       "      <td>B.P. PODDAR INSTITUTE OF MANAGEMENT AND TECHNO...</td>\n",
       "      <td>3</td>\n",
       "    </tr>\n",
       "    <tr>\n",
       "      <th>51</th>\n",
       "      <td>B.P. Poddar Institute Of Management And Techno...</td>\n",
       "      <td>4</td>\n",
       "    </tr>\n",
       "    <tr>\n",
       "      <th>54</th>\n",
       "      <td>B.P.PODDAR INSTITUTE OF MANAGEMENT AND TECHNOLOGY</td>\n",
       "      <td>4</td>\n",
       "    </tr>\n",
       "    <tr>\n",
       "      <th>79</th>\n",
       "      <td>Bethune College</td>\n",
       "      <td>6</td>\n",
       "    </tr>\n",
       "    <tr>\n",
       "      <th>80</th>\n",
       "      <td>Bethune College</td>\n",
       "      <td>3</td>\n",
       "    </tr>\n",
       "    <tr>\n",
       "      <th>84</th>\n",
       "      <td>Bethune college</td>\n",
       "      <td>5</td>\n",
       "    </tr>\n",
       "    <tr>\n",
       "      <th>107</th>\n",
       "      <td>DIATM</td>\n",
       "      <td>5</td>\n",
       "    </tr>\n",
       "    <tr>\n",
       "      <th>125</th>\n",
       "      <td>Durgapur Institute of Advanced Technology and ...</td>\n",
       "      <td>3</td>\n",
       "    </tr>\n",
       "    <tr>\n",
       "      <th>132</th>\n",
       "      <td>Durgapur Women's College</td>\n",
       "      <td>7</td>\n",
       "    </tr>\n",
       "    <tr>\n",
       "      <th>137</th>\n",
       "      <td>Durgapur government college</td>\n",
       "      <td>3</td>\n",
       "    </tr>\n",
       "    <tr>\n",
       "      <th>143</th>\n",
       "      <td>Durgapur institute of advanced technology and ...</td>\n",
       "      <td>4</td>\n",
       "    </tr>\n",
       "    <tr>\n",
       "      <th>149</th>\n",
       "      <td>Durgapur women's college</td>\n",
       "      <td>11</td>\n",
       "    </tr>\n",
       "    <tr>\n",
       "      <th>150</th>\n",
       "      <td>Durgapur women's college</td>\n",
       "      <td>4</td>\n",
       "    </tr>\n",
       "    <tr>\n",
       "      <th>155</th>\n",
       "      <td>Future Institute Of Technology</td>\n",
       "      <td>3</td>\n",
       "    </tr>\n",
       "    <tr>\n",
       "      <th>157</th>\n",
       "      <td>Future Institute of Technology</td>\n",
       "      <td>3</td>\n",
       "    </tr>\n",
       "    <tr>\n",
       "      <th>197</th>\n",
       "      <td>JADAVPUR UNIVERSITY</td>\n",
       "      <td>3</td>\n",
       "    </tr>\n",
       "    <tr>\n",
       "      <th>200</th>\n",
       "      <td>Jadavpur University</td>\n",
       "      <td>13</td>\n",
       "    </tr>\n",
       "    <tr>\n",
       "      <th>213</th>\n",
       "      <td>Kalyani Mahavidyalaya</td>\n",
       "      <td>7</td>\n",
       "    </tr>\n",
       "    <tr>\n",
       "      <th>215</th>\n",
       "      <td>Kalyani mahavidyalaya</td>\n",
       "      <td>3</td>\n",
       "    </tr>\n",
       "    <tr>\n",
       "      <th>217</th>\n",
       "      <td>LADY BRABOURNE COLLEGE</td>\n",
       "      <td>3</td>\n",
       "    </tr>\n",
       "    <tr>\n",
       "      <th>223</th>\n",
       "      <td>Lady Brabourne College</td>\n",
       "      <td>69</td>\n",
       "    </tr>\n",
       "    <tr>\n",
       "      <th>224</th>\n",
       "      <td>Lady Brabourne College</td>\n",
       "      <td>31</td>\n",
       "    </tr>\n",
       "    <tr>\n",
       "      <th>225</th>\n",
       "      <td>Lady Brabourne College, Kolkata</td>\n",
       "      <td>3</td>\n",
       "    </tr>\n",
       "    <tr>\n",
       "      <th>228</th>\n",
       "      <td>Lady Brabourne college</td>\n",
       "      <td>9</td>\n",
       "    </tr>\n",
       "    <tr>\n",
       "      <th>231</th>\n",
       "      <td>Lady brabourne college</td>\n",
       "      <td>9</td>\n",
       "    </tr>\n",
       "    <tr>\n",
       "      <th>232</th>\n",
       "      <td>Lady brabourne college</td>\n",
       "      <td>4</td>\n",
       "    </tr>\n",
       "    <tr>\n",
       "      <th>239</th>\n",
       "      <td>MAULANA AZAD COLLEGE</td>\n",
       "      <td>8</td>\n",
       "    </tr>\n",
       "    <tr>\n",
       "      <th>243</th>\n",
       "      <td>Maulana Abul Kalam Azad University of Technology</td>\n",
       "      <td>5</td>\n",
       "    </tr>\n",
       "    <tr>\n",
       "      <th>246</th>\n",
       "      <td>Maulana Azad College</td>\n",
       "      <td>59</td>\n",
       "    </tr>\n",
       "    <tr>\n",
       "      <th>247</th>\n",
       "      <td>Maulana Azad College</td>\n",
       "      <td>13</td>\n",
       "    </tr>\n",
       "    <tr>\n",
       "      <th>249</th>\n",
       "      <td>Maulana Azad College, Kolkata</td>\n",
       "      <td>4</td>\n",
       "    </tr>\n",
       "    <tr>\n",
       "      <th>252</th>\n",
       "      <td>Maulana Azad college</td>\n",
       "      <td>14</td>\n",
       "    </tr>\n",
       "    <tr>\n",
       "      <th>271</th>\n",
       "      <td>Narasinha Dutt College</td>\n",
       "      <td>4</td>\n",
       "    </tr>\n",
       "    <tr>\n",
       "      <th>275</th>\n",
       "      <td>Narasinha dutt college</td>\n",
       "      <td>3</td>\n",
       "    </tr>\n",
       "    <tr>\n",
       "      <th>290</th>\n",
       "      <td>North South University</td>\n",
       "      <td>4</td>\n",
       "    </tr>\n",
       "    <tr>\n",
       "      <th>300</th>\n",
       "      <td>Presidency University</td>\n",
       "      <td>19</td>\n",
       "    </tr>\n",
       "    <tr>\n",
       "      <th>301</th>\n",
       "      <td>Presidency University</td>\n",
       "      <td>7</td>\n",
       "    </tr>\n",
       "    <tr>\n",
       "      <th>302</th>\n",
       "      <td>Presidency University, Kolkata</td>\n",
       "      <td>3</td>\n",
       "    </tr>\n",
       "    <tr>\n",
       "      <th>314</th>\n",
       "      <td>RERF</td>\n",
       "      <td>6</td>\n",
       "    </tr>\n",
       "    <tr>\n",
       "      <th>330</th>\n",
       "      <td>Regent Education &amp; Research Foundation</td>\n",
       "      <td>11</td>\n",
       "    </tr>\n",
       "    <tr>\n",
       "      <th>335</th>\n",
       "      <td>Regent Education And Research Foundation</td>\n",
       "      <td>12</td>\n",
       "    </tr>\n",
       "    <tr>\n",
       "      <th>339</th>\n",
       "      <td>Regent Education and Research Foundation</td>\n",
       "      <td>31</td>\n",
       "    </tr>\n",
       "    <tr>\n",
       "      <th>340</th>\n",
       "      <td>Regent Education and Research Foundation</td>\n",
       "      <td>5</td>\n",
       "    </tr>\n",
       "    <tr>\n",
       "      <th>342</th>\n",
       "      <td>Regent Education and Research Foundation Group...</td>\n",
       "      <td>3</td>\n",
       "    </tr>\n",
       "    <tr>\n",
       "      <th>348</th>\n",
       "      <td>Regent education and research foundation</td>\n",
       "      <td>12</td>\n",
       "    </tr>\n",
       "    <tr>\n",
       "      <th>367</th>\n",
       "      <td>St. Xavier's College</td>\n",
       "      <td>7</td>\n",
       "    </tr>\n",
       "    <tr>\n",
       "      <th>374</th>\n",
       "      <td>St. Xavier's College, Kolkata</td>\n",
       "      <td>5</td>\n",
       "    </tr>\n",
       "    <tr>\n",
       "      <th>398</th>\n",
       "      <td>University of Calcutta</td>\n",
       "      <td>4</td>\n",
       "    </tr>\n",
       "    <tr>\n",
       "      <th>399</th>\n",
       "      <td>University of Dhaka</td>\n",
       "      <td>3</td>\n",
       "    </tr>\n",
       "    <tr>\n",
       "      <th>408</th>\n",
       "      <td>Vidyasagar University</td>\n",
       "      <td>6</td>\n",
       "    </tr>\n",
       "    <tr>\n",
       "      <th>414</th>\n",
       "      <td>Vivekananda College</td>\n",
       "      <td>8</td>\n",
       "    </tr>\n",
       "  </tbody>\n",
       "</table>\n",
       "</div>"
      ],
      "text/plain": [
       "                                               College  counts\n",
       "3                                                 AIUB      11\n",
       "7                                Academy Of Technology       3\n",
       "14      American International University - Bangladesh       3\n",
       "22       American International University-Bangladesh        3\n",
       "31                                     Asutosh College      14\n",
       "34                                     Asutosh college       5\n",
       "47   B.P Poddar Institute of Management and Technology       3\n",
       "50   B.P. PODDAR INSTITUTE OF MANAGEMENT AND TECHNO...       3\n",
       "51   B.P. Poddar Institute Of Management And Techno...       4\n",
       "54   B.P.PODDAR INSTITUTE OF MANAGEMENT AND TECHNOLOGY       4\n",
       "79                                     Bethune College       6\n",
       "80                                    Bethune College        3\n",
       "84                                     Bethune college       5\n",
       "107                                              DIATM       5\n",
       "125  Durgapur Institute of Advanced Technology and ...       3\n",
       "132                           Durgapur Women's College       7\n",
       "137                        Durgapur government college       3\n",
       "143  Durgapur institute of advanced technology and ...       4\n",
       "149                           Durgapur women's college      11\n",
       "150                          Durgapur women's college        4\n",
       "155                     Future Institute Of Technology       3\n",
       "157                     Future Institute of Technology       3\n",
       "197                                JADAVPUR UNIVERSITY       3\n",
       "200                                Jadavpur University      13\n",
       "213                              Kalyani Mahavidyalaya       7\n",
       "215                              Kalyani mahavidyalaya       3\n",
       "217                             LADY BRABOURNE COLLEGE       3\n",
       "223                             Lady Brabourne College      69\n",
       "224                            Lady Brabourne College       31\n",
       "225                    Lady Brabourne College, Kolkata       3\n",
       "228                             Lady Brabourne college       9\n",
       "231                             Lady brabourne college       9\n",
       "232                            Lady brabourne college        4\n",
       "239                               MAULANA AZAD COLLEGE       8\n",
       "243   Maulana Abul Kalam Azad University of Technology       5\n",
       "246                               Maulana Azad College      59\n",
       "247                              Maulana Azad College       13\n",
       "249                      Maulana Azad College, Kolkata       4\n",
       "252                               Maulana Azad college      14\n",
       "271                             Narasinha Dutt College       4\n",
       "275                             Narasinha dutt college       3\n",
       "290                            North South University        4\n",
       "300                              Presidency University      19\n",
       "301                             Presidency University        7\n",
       "302                     Presidency University, Kolkata       3\n",
       "314                                               RERF       6\n",
       "330             Regent Education & Research Foundation      11\n",
       "335           Regent Education And Research Foundation      12\n",
       "339           Regent Education and Research Foundation      31\n",
       "340          Regent Education and Research Foundation        5\n",
       "342  Regent Education and Research Foundation Group...       3\n",
       "348           Regent education and research foundation      12\n",
       "367                               St. Xavier's College       7\n",
       "374                      St. Xavier's College, Kolkata       5\n",
       "398                             University of Calcutta       4\n",
       "399                                University of Dhaka       3\n",
       "408                              Vidyasagar University       6\n",
       "414                                Vivekananda College       8"
      ]
     },
     "execution_count": 75,
     "metadata": {},
     "output_type": "execute_result"
    }
   ],
   "source": [
    "uni_t =uni[uni['counts'] > 2]\n",
    "uni_t"
   ]
  },
  {
   "cell_type": "code",
   "execution_count": 76,
   "metadata": {},
   "outputs": [
    {
     "data": {
      "text/html": [
       "<div>\n",
       "<style scoped>\n",
       "    .dataframe tbody tr th:only-of-type {\n",
       "        vertical-align: middle;\n",
       "    }\n",
       "\n",
       "    .dataframe tbody tr th {\n",
       "        vertical-align: top;\n",
       "    }\n",
       "\n",
       "    .dataframe thead th {\n",
       "        text-align: right;\n",
       "    }\n",
       "</style>\n",
       "<table border=\"1\" class=\"dataframe\">\n",
       "  <thead>\n",
       "    <tr style=\"text-align: right;\">\n",
       "      <th></th>\n",
       "      <th>Dep_count</th>\n",
       "    </tr>\n",
       "    <tr>\n",
       "      <th>Department</th>\n",
       "      <th></th>\n",
       "    </tr>\n",
       "  </thead>\n",
       "  <tbody>\n",
       "    <tr>\n",
       "      <th>LINEAR ALGEBRA IN MATHEMATICS</th>\n",
       "      <td>1</td>\n",
       "    </tr>\n",
       "    <tr>\n",
       "      <th>3rd year Statistics honours</th>\n",
       "      <td>1</td>\n",
       "    </tr>\n",
       "    <tr>\n",
       "      <th>3rd year mathematics honours</th>\n",
       "      <td>1</td>\n",
       "    </tr>\n",
       "    <tr>\n",
       "      <th>APPLIES MATHEMATICS</th>\n",
       "      <td>1</td>\n",
       "    </tr>\n",
       "    <tr>\n",
       "      <th>Aplied mathematics with oceanology and computer programming</th>\n",
       "      <td>1</td>\n",
       "    </tr>\n",
       "    <tr>\n",
       "      <th>...</th>\n",
       "      <td>...</td>\n",
       "    </tr>\n",
       "    <tr>\n",
       "      <th>Thermal Power Plant Engineering</th>\n",
       "      <td>1</td>\n",
       "    </tr>\n",
       "    <tr>\n",
       "      <th>YES</th>\n",
       "      <td>1</td>\n",
       "    </tr>\n",
       "    <tr>\n",
       "      <th>electrical engineering</th>\n",
       "      <td>1</td>\n",
       "    </tr>\n",
       "    <tr>\n",
       "      <th>engineering</th>\n",
       "      <td>1</td>\n",
       "    </tr>\n",
       "    <tr>\n",
       "      <th>others</th>\n",
       "      <td>92</td>\n",
       "    </tr>\n",
       "  </tbody>\n",
       "</table>\n",
       "<p>200 rows × 1 columns</p>\n",
       "</div>"
      ],
      "text/plain": [
       "                                                    Dep_count\n",
       "Department                                                   \n",
       " LINEAR ALGEBRA IN MATHEMATICS                              1\n",
       "3rd year Statistics honours                                 1\n",
       "3rd year mathematics honours                                1\n",
       "APPLIES MATHEMATICS                                         1\n",
       "Aplied mathematics with oceanology and computer...          1\n",
       "...                                                       ...\n",
       "Thermal Power Plant Engineering                             1\n",
       "YES                                                         1\n",
       "electrical engineering                                      1\n",
       "engineering                                                 1\n",
       "others                                                     92\n",
       "\n",
       "[200 rows x 1 columns]"
      ]
     },
     "execution_count": 76,
     "metadata": {},
     "output_type": "execute_result"
    }
   ],
   "source": [
    "Department.rename(columns={\"Department\": \"Dep_count\"},inplace=True)\n",
    "Department"
   ]
  },
  {
   "cell_type": "code",
   "execution_count": 77,
   "metadata": {},
   "outputs": [
    {
     "data": {
      "text/html": [
       "<div>\n",
       "<style scoped>\n",
       "    .dataframe tbody tr th:only-of-type {\n",
       "        vertical-align: middle;\n",
       "    }\n",
       "\n",
       "    .dataframe tbody tr th {\n",
       "        vertical-align: top;\n",
       "    }\n",
       "\n",
       "    .dataframe thead th {\n",
       "        text-align: right;\n",
       "    }\n",
       "</style>\n",
       "<table border=\"1\" class=\"dataframe\">\n",
       "  <thead>\n",
       "    <tr style=\"text-align: right;\">\n",
       "      <th></th>\n",
       "      <th>Department</th>\n",
       "      <th>Dep_count</th>\n",
       "    </tr>\n",
       "  </thead>\n",
       "  <tbody>\n",
       "    <tr>\n",
       "      <th>0</th>\n",
       "      <td>LINEAR ALGEBRA IN MATHEMATICS</td>\n",
       "      <td>1</td>\n",
       "    </tr>\n",
       "    <tr>\n",
       "      <th>1</th>\n",
       "      <td>3rd year Statistics honours</td>\n",
       "      <td>1</td>\n",
       "    </tr>\n",
       "    <tr>\n",
       "      <th>2</th>\n",
       "      <td>3rd year mathematics honours</td>\n",
       "      <td>1</td>\n",
       "    </tr>\n",
       "    <tr>\n",
       "      <th>3</th>\n",
       "      <td>APPLIES MATHEMATICS</td>\n",
       "      <td>1</td>\n",
       "    </tr>\n",
       "    <tr>\n",
       "      <th>4</th>\n",
       "      <td>Aplied mathematics with oceanology and compute...</td>\n",
       "      <td>1</td>\n",
       "    </tr>\n",
       "    <tr>\n",
       "      <th>...</th>\n",
       "      <td>...</td>\n",
       "      <td>...</td>\n",
       "    </tr>\n",
       "    <tr>\n",
       "      <th>195</th>\n",
       "      <td>Thermal Power Plant Engineering</td>\n",
       "      <td>1</td>\n",
       "    </tr>\n",
       "    <tr>\n",
       "      <th>196</th>\n",
       "      <td>YES</td>\n",
       "      <td>1</td>\n",
       "    </tr>\n",
       "    <tr>\n",
       "      <th>197</th>\n",
       "      <td>electrical engineering</td>\n",
       "      <td>1</td>\n",
       "    </tr>\n",
       "    <tr>\n",
       "      <th>198</th>\n",
       "      <td>engineering</td>\n",
       "      <td>1</td>\n",
       "    </tr>\n",
       "    <tr>\n",
       "      <th>199</th>\n",
       "      <td>others</td>\n",
       "      <td>92</td>\n",
       "    </tr>\n",
       "  </tbody>\n",
       "</table>\n",
       "<p>200 rows × 2 columns</p>\n",
       "</div>"
      ],
      "text/plain": [
       "                                            Department  Dep_count\n",
       "0                        LINEAR ALGEBRA IN MATHEMATICS          1\n",
       "1                         3rd year Statistics honours           1\n",
       "2                         3rd year mathematics honours          1\n",
       "3                                  APPLIES MATHEMATICS          1\n",
       "4    Aplied mathematics with oceanology and compute...          1\n",
       "..                                                 ...        ...\n",
       "195                    Thermal Power Plant Engineering          1\n",
       "196                                                YES          1\n",
       "197                             electrical engineering          1\n",
       "198                                        engineering          1\n",
       "199                                             others         92\n",
       "\n",
       "[200 rows x 2 columns]"
      ]
     },
     "execution_count": 77,
     "metadata": {},
     "output_type": "execute_result"
    }
   ],
   "source": [
    "#resetting index\n",
    "\n",
    "Department.reset_index(inplace= True)\n",
    "Department\n"
   ]
  },
  {
   "cell_type": "code",
   "execution_count": 78,
   "metadata": {},
   "outputs": [
    {
     "data": {
      "text/html": [
       "<div>\n",
       "<style scoped>\n",
       "    .dataframe tbody tr th:only-of-type {\n",
       "        vertical-align: middle;\n",
       "    }\n",
       "\n",
       "    .dataframe tbody tr th {\n",
       "        vertical-align: top;\n",
       "    }\n",
       "\n",
       "    .dataframe thead th {\n",
       "        text-align: right;\n",
       "    }\n",
       "</style>\n",
       "<table border=\"1\" class=\"dataframe\">\n",
       "  <thead>\n",
       "    <tr style=\"text-align: right;\">\n",
       "      <th></th>\n",
       "      <th>Department</th>\n",
       "      <th>Dep_count</th>\n",
       "    </tr>\n",
       "  </thead>\n",
       "  <tbody>\n",
       "    <tr>\n",
       "      <th>25</th>\n",
       "      <td>B.Sc Statistics honours</td>\n",
       "      <td>3</td>\n",
       "    </tr>\n",
       "    <tr>\n",
       "      <th>39</th>\n",
       "      <td>B.tech</td>\n",
       "      <td>3</td>\n",
       "    </tr>\n",
       "    <tr>\n",
       "      <th>47</th>\n",
       "      <td>BBA</td>\n",
       "      <td>11</td>\n",
       "    </tr>\n",
       "    <tr>\n",
       "      <th>48</th>\n",
       "      <td>BCA</td>\n",
       "      <td>5</td>\n",
       "    </tr>\n",
       "    <tr>\n",
       "      <th>71</th>\n",
       "      <td>CSE</td>\n",
       "      <td>3</td>\n",
       "    </tr>\n",
       "    <tr>\n",
       "      <th>75</th>\n",
       "      <td>Computer Science</td>\n",
       "      <td>3</td>\n",
       "    </tr>\n",
       "    <tr>\n",
       "      <th>81</th>\n",
       "      <td>Computer science</td>\n",
       "      <td>3</td>\n",
       "    </tr>\n",
       "    <tr>\n",
       "      <th>88</th>\n",
       "      <td>ECE</td>\n",
       "      <td>3</td>\n",
       "    </tr>\n",
       "    <tr>\n",
       "      <th>94</th>\n",
       "      <td>Electrical Engineering</td>\n",
       "      <td>4</td>\n",
       "    </tr>\n",
       "    <tr>\n",
       "      <th>96</th>\n",
       "      <td>Electrical engineering</td>\n",
       "      <td>3</td>\n",
       "    </tr>\n",
       "    <tr>\n",
       "      <th>102</th>\n",
       "      <td>Engineering</td>\n",
       "      <td>187</td>\n",
       "    </tr>\n",
       "    <tr>\n",
       "      <th>108</th>\n",
       "      <td>Honors (BSC/MSC)</td>\n",
       "      <td>337</td>\n",
       "    </tr>\n",
       "    <tr>\n",
       "      <th>144</th>\n",
       "      <td>Mathematics</td>\n",
       "      <td>16</td>\n",
       "    </tr>\n",
       "    <tr>\n",
       "      <th>145</th>\n",
       "      <td>Mathematics</td>\n",
       "      <td>4</td>\n",
       "    </tr>\n",
       "    <tr>\n",
       "      <th>173</th>\n",
       "      <td>R</td>\n",
       "      <td>4</td>\n",
       "    </tr>\n",
       "    <tr>\n",
       "      <th>176</th>\n",
       "      <td>Statistics</td>\n",
       "      <td>31</td>\n",
       "    </tr>\n",
       "    <tr>\n",
       "      <th>177</th>\n",
       "      <td>Statistics</td>\n",
       "      <td>9</td>\n",
       "    </tr>\n",
       "    <tr>\n",
       "      <th>183</th>\n",
       "      <td>Statistics Honours</td>\n",
       "      <td>5</td>\n",
       "    </tr>\n",
       "    <tr>\n",
       "      <th>187</th>\n",
       "      <td>Statistics Hons</td>\n",
       "      <td>3</td>\n",
       "    </tr>\n",
       "    <tr>\n",
       "      <th>189</th>\n",
       "      <td>Statistics honours</td>\n",
       "      <td>7</td>\n",
       "    </tr>\n",
       "    <tr>\n",
       "      <th>199</th>\n",
       "      <td>others</td>\n",
       "      <td>92</td>\n",
       "    </tr>\n",
       "  </tbody>\n",
       "</table>\n",
       "</div>"
      ],
      "text/plain": [
       "                  Department  Dep_count\n",
       "25   B.Sc Statistics honours          3\n",
       "39                    B.tech          3\n",
       "47                       BBA         11\n",
       "48                       BCA          5\n",
       "71                       CSE          3\n",
       "75          Computer Science          3\n",
       "81          Computer science          3\n",
       "88                       ECE          3\n",
       "94    Electrical Engineering          4\n",
       "96    Electrical engineering          3\n",
       "102              Engineering        187\n",
       "108         Honors (BSC/MSC)        337\n",
       "144              Mathematics         16\n",
       "145             Mathematics           4\n",
       "173                        R          4\n",
       "176               Statistics         31\n",
       "177              Statistics           9\n",
       "183       Statistics Honours          5\n",
       "187          Statistics Hons          3\n",
       "189       Statistics honours          7\n",
       "199                   others         92"
      ]
     },
     "execution_count": 78,
     "metadata": {},
     "output_type": "execute_result"
    }
   ],
   "source": [
    "Department_t= Department[Department['Dep_count'] >2]\n",
    "Department_t"
   ]
  },
  {
   "cell_type": "code",
   "execution_count": 86,
   "metadata": {},
   "outputs": [
    {
     "data": {
      "text/html": [
       "        <script type=\"text/javascript\">\n",
       "        window.PlotlyConfig = {MathJaxConfig: 'local'};\n",
       "        if (window.MathJax) {MathJax.Hub.Config({SVG: {font: \"STIX-Web\"}});}\n",
       "        if (typeof require !== 'undefined') {\n",
       "        require.undef(\"plotly\");\n",
       "        requirejs.config({\n",
       "            paths: {\n",
       "                'plotly': ['https://cdn.plot.ly/plotly-latest.min']\n",
       "            }\n",
       "        });\n",
       "        require(['plotly'], function(Plotly) {\n",
       "            window._Plotly = Plotly;\n",
       "        });\n",
       "        }\n",
       "        </script>\n",
       "        "
      ]
     },
     "metadata": {},
     "output_type": "display_data"
    }
   ],
   "source": []
  },
  {
   "cell_type": "code",
   "execution_count": 79,
   "metadata": {},
   "outputs": [],
   "source": [
    "def draw_trace_bar_dept(data,data_index, feature, title, xlab, ylab,color='Blue'):\n",
    "    '''\n",
    "    this is the function created using plotly for draw a trace bar where\n",
    "    data is main dataframe\n",
    "    data index is x label values\n",
    "    feature is y label values\n",
    "    '''\n",
    "    data = data.sort_values(feature, ascending=False)\n",
    "    trace = go.Bar(\n",
    "            x = data[data_index],\n",
    "            y = data[feature],\n",
    "            marker=dict(color=color),\n",
    "            text=data[data_index]\n",
    "        )\n",
    "    data = [trace]\n",
    "\n",
    "    layout = dict(title = title,\n",
    "              xaxis = dict(title = xlab, showticklabels=True, tickangle=45, \n",
    "                           zeroline=True, zerolinewidth=1, zerolinecolor='grey',\n",
    "                           showline=True, linewidth=2, linecolor='black', mirror=True,\n",
    "                          tickfont=dict(\n",
    "                            size=10,\n",
    "                            color='red'),), \n",
    "              yaxis = dict(title = ylab, gridcolor='lightgrey', zeroline=True, zerolinewidth=1, zerolinecolor='grey',\n",
    "                          showline=True, linewidth=2, linecolor='black', mirror=True),\n",
    "              plot_bgcolor = 'rgba(0, 0, 0, 0)', paper_bgcolor = 'rgba(0, 0, 0, 0)',\n",
    "              hovermode = 'closest'\n",
    "             )\n",
    "    fig = dict(data = data, layout = layout)\n",
    "    iplot(fig, filename='draw_trace')"
   ]
  },
  {
   "cell_type": "code",
   "execution_count": 80,
   "metadata": {},
   "outputs": [
    {
     "data": {
      "application/vnd.plotly.v1+json": {
       "config": {
        "linkText": "Export to plot.ly",
        "plotlyServerURL": "https://plot.ly",
        "showLink": false
       },
       "data": [
        {
         "marker": {
          "color": "lightgreen"
         },
         "text": [
          "Lady Brabourne College",
          "Maulana Azad College",
          "Regent Education and Research Foundation",
          "Lady Brabourne College ",
          "Presidency University",
          "Maulana Azad college",
          "Asutosh College",
          "Maulana Azad College ",
          "Jadavpur University",
          "Regent Education And Research Foundation",
          "Regent education and research foundation",
          "Durgapur women's college",
          "Regent Education & Research Foundation",
          "AIUB",
          "Lady brabourne college",
          "Lady Brabourne college",
          "MAULANA AZAD COLLEGE",
          "Vivekananda College",
          "Durgapur Women's College",
          "St. Xavier's College",
          "Kalyani Mahavidyalaya",
          "Presidency University ",
          "Vidyasagar University",
          "Bethune College",
          "RERF",
          "St. Xavier's College, Kolkata",
          "Regent Education and Research Foundation ",
          "Asutosh college",
          "Maulana Abul Kalam Azad University of Technology",
          "DIATM",
          "Bethune college",
          "Narasinha Dutt College",
          "Durgapur institute of advanced technology and management",
          "North South University ",
          "Maulana Azad College, Kolkata",
          "University of Calcutta",
          "Durgapur women's college ",
          "B.P. Poddar Institute Of Management And Technology",
          "B.P.PODDAR INSTITUTE OF MANAGEMENT AND TECHNOLOGY",
          "Lady brabourne college ",
          "Kalyani mahavidyalaya",
          "Future Institute Of Technology",
          "University of Dhaka",
          "Future Institute of Technology",
          "JADAVPUR UNIVERSITY",
          "Durgapur government college",
          "American International University - Bangladesh",
          "Regent Education and Research Foundation Group of Institutions",
          "American International University-Bangladesh ",
          "Bethune College ",
          "LADY BRABOURNE COLLEGE",
          "B.P Poddar Institute of Management and Technology",
          "Durgapur Institute of Advanced Technology and Management",
          "Presidency University, Kolkata",
          "Academy Of Technology",
          "B.P. PODDAR INSTITUTE OF MANAGEMENT AND TECHNOLOGY",
          "Narasinha dutt college",
          "Lady Brabourne College, Kolkata"
         ],
         "type": "bar",
         "x": [
          "Lady Brabourne College",
          "Maulana Azad College",
          "Regent Education and Research Foundation",
          "Lady Brabourne College ",
          "Presidency University",
          "Maulana Azad college",
          "Asutosh College",
          "Maulana Azad College ",
          "Jadavpur University",
          "Regent Education And Research Foundation",
          "Regent education and research foundation",
          "Durgapur women's college",
          "Regent Education & Research Foundation",
          "AIUB",
          "Lady brabourne college",
          "Lady Brabourne college",
          "MAULANA AZAD COLLEGE",
          "Vivekananda College",
          "Durgapur Women's College",
          "St. Xavier's College",
          "Kalyani Mahavidyalaya",
          "Presidency University ",
          "Vidyasagar University",
          "Bethune College",
          "RERF",
          "St. Xavier's College, Kolkata",
          "Regent Education and Research Foundation ",
          "Asutosh college",
          "Maulana Abul Kalam Azad University of Technology",
          "DIATM",
          "Bethune college",
          "Narasinha Dutt College",
          "Durgapur institute of advanced technology and management",
          "North South University ",
          "Maulana Azad College, Kolkata",
          "University of Calcutta",
          "Durgapur women's college ",
          "B.P. Poddar Institute Of Management And Technology",
          "B.P.PODDAR INSTITUTE OF MANAGEMENT AND TECHNOLOGY",
          "Lady brabourne college ",
          "Kalyani mahavidyalaya",
          "Future Institute Of Technology",
          "University of Dhaka",
          "Future Institute of Technology",
          "JADAVPUR UNIVERSITY",
          "Durgapur government college",
          "American International University - Bangladesh",
          "Regent Education and Research Foundation Group of Institutions",
          "American International University-Bangladesh ",
          "Bethune College ",
          "LADY BRABOURNE COLLEGE",
          "B.P Poddar Institute of Management and Technology",
          "Durgapur Institute of Advanced Technology and Management",
          "Presidency University, Kolkata",
          "Academy Of Technology",
          "B.P. PODDAR INSTITUTE OF MANAGEMENT AND TECHNOLOGY",
          "Narasinha dutt college",
          "Lady Brabourne College, Kolkata"
         ],
         "y": [
          69,
          59,
          31,
          31,
          19,
          14,
          14,
          13,
          13,
          12,
          12,
          11,
          11,
          11,
          9,
          9,
          8,
          8,
          7,
          7,
          7,
          7,
          6,
          6,
          6,
          5,
          5,
          5,
          5,
          5,
          5,
          4,
          4,
          4,
          4,
          4,
          4,
          4,
          4,
          4,
          3,
          3,
          3,
          3,
          3,
          3,
          3,
          3,
          3,
          3,
          3,
          3,
          3,
          3,
          3,
          3,
          3,
          3
         ]
        }
       ],
       "layout": {
        "hovermode": "closest",
        "paper_bgcolor": "rgba(0, 0, 0, 0)",
        "plot_bgcolor": "rgba(0, 0, 0, 0)",
        "template": {
         "data": {
          "bar": [
           {
            "error_x": {
             "color": "#2a3f5f"
            },
            "error_y": {
             "color": "#2a3f5f"
            },
            "marker": {
             "line": {
              "color": "#E5ECF6",
              "width": 0.5
             }
            },
            "type": "bar"
           }
          ],
          "barpolar": [
           {
            "marker": {
             "line": {
              "color": "#E5ECF6",
              "width": 0.5
             }
            },
            "type": "barpolar"
           }
          ],
          "carpet": [
           {
            "aaxis": {
             "endlinecolor": "#2a3f5f",
             "gridcolor": "white",
             "linecolor": "white",
             "minorgridcolor": "white",
             "startlinecolor": "#2a3f5f"
            },
            "baxis": {
             "endlinecolor": "#2a3f5f",
             "gridcolor": "white",
             "linecolor": "white",
             "minorgridcolor": "white",
             "startlinecolor": "#2a3f5f"
            },
            "type": "carpet"
           }
          ],
          "choropleth": [
           {
            "colorbar": {
             "outlinewidth": 0,
             "ticks": ""
            },
            "type": "choropleth"
           }
          ],
          "contour": [
           {
            "colorbar": {
             "outlinewidth": 0,
             "ticks": ""
            },
            "colorscale": [
             [
              0,
              "#0d0887"
             ],
             [
              0.1111111111111111,
              "#46039f"
             ],
             [
              0.2222222222222222,
              "#7201a8"
             ],
             [
              0.3333333333333333,
              "#9c179e"
             ],
             [
              0.4444444444444444,
              "#bd3786"
             ],
             [
              0.5555555555555556,
              "#d8576b"
             ],
             [
              0.6666666666666666,
              "#ed7953"
             ],
             [
              0.7777777777777778,
              "#fb9f3a"
             ],
             [
              0.8888888888888888,
              "#fdca26"
             ],
             [
              1,
              "#f0f921"
             ]
            ],
            "type": "contour"
           }
          ],
          "contourcarpet": [
           {
            "colorbar": {
             "outlinewidth": 0,
             "ticks": ""
            },
            "type": "contourcarpet"
           }
          ],
          "heatmap": [
           {
            "colorbar": {
             "outlinewidth": 0,
             "ticks": ""
            },
            "colorscale": [
             [
              0,
              "#0d0887"
             ],
             [
              0.1111111111111111,
              "#46039f"
             ],
             [
              0.2222222222222222,
              "#7201a8"
             ],
             [
              0.3333333333333333,
              "#9c179e"
             ],
             [
              0.4444444444444444,
              "#bd3786"
             ],
             [
              0.5555555555555556,
              "#d8576b"
             ],
             [
              0.6666666666666666,
              "#ed7953"
             ],
             [
              0.7777777777777778,
              "#fb9f3a"
             ],
             [
              0.8888888888888888,
              "#fdca26"
             ],
             [
              1,
              "#f0f921"
             ]
            ],
            "type": "heatmap"
           }
          ],
          "heatmapgl": [
           {
            "colorbar": {
             "outlinewidth": 0,
             "ticks": ""
            },
            "colorscale": [
             [
              0,
              "#0d0887"
             ],
             [
              0.1111111111111111,
              "#46039f"
             ],
             [
              0.2222222222222222,
              "#7201a8"
             ],
             [
              0.3333333333333333,
              "#9c179e"
             ],
             [
              0.4444444444444444,
              "#bd3786"
             ],
             [
              0.5555555555555556,
              "#d8576b"
             ],
             [
              0.6666666666666666,
              "#ed7953"
             ],
             [
              0.7777777777777778,
              "#fb9f3a"
             ],
             [
              0.8888888888888888,
              "#fdca26"
             ],
             [
              1,
              "#f0f921"
             ]
            ],
            "type": "heatmapgl"
           }
          ],
          "histogram": [
           {
            "marker": {
             "colorbar": {
              "outlinewidth": 0,
              "ticks": ""
             }
            },
            "type": "histogram"
           }
          ],
          "histogram2d": [
           {
            "colorbar": {
             "outlinewidth": 0,
             "ticks": ""
            },
            "colorscale": [
             [
              0,
              "#0d0887"
             ],
             [
              0.1111111111111111,
              "#46039f"
             ],
             [
              0.2222222222222222,
              "#7201a8"
             ],
             [
              0.3333333333333333,
              "#9c179e"
             ],
             [
              0.4444444444444444,
              "#bd3786"
             ],
             [
              0.5555555555555556,
              "#d8576b"
             ],
             [
              0.6666666666666666,
              "#ed7953"
             ],
             [
              0.7777777777777778,
              "#fb9f3a"
             ],
             [
              0.8888888888888888,
              "#fdca26"
             ],
             [
              1,
              "#f0f921"
             ]
            ],
            "type": "histogram2d"
           }
          ],
          "histogram2dcontour": [
           {
            "colorbar": {
             "outlinewidth": 0,
             "ticks": ""
            },
            "colorscale": [
             [
              0,
              "#0d0887"
             ],
             [
              0.1111111111111111,
              "#46039f"
             ],
             [
              0.2222222222222222,
              "#7201a8"
             ],
             [
              0.3333333333333333,
              "#9c179e"
             ],
             [
              0.4444444444444444,
              "#bd3786"
             ],
             [
              0.5555555555555556,
              "#d8576b"
             ],
             [
              0.6666666666666666,
              "#ed7953"
             ],
             [
              0.7777777777777778,
              "#fb9f3a"
             ],
             [
              0.8888888888888888,
              "#fdca26"
             ],
             [
              1,
              "#f0f921"
             ]
            ],
            "type": "histogram2dcontour"
           }
          ],
          "mesh3d": [
           {
            "colorbar": {
             "outlinewidth": 0,
             "ticks": ""
            },
            "type": "mesh3d"
           }
          ],
          "parcoords": [
           {
            "line": {
             "colorbar": {
              "outlinewidth": 0,
              "ticks": ""
             }
            },
            "type": "parcoords"
           }
          ],
          "pie": [
           {
            "automargin": true,
            "type": "pie"
           }
          ],
          "scatter": [
           {
            "marker": {
             "colorbar": {
              "outlinewidth": 0,
              "ticks": ""
             }
            },
            "type": "scatter"
           }
          ],
          "scatter3d": [
           {
            "line": {
             "colorbar": {
              "outlinewidth": 0,
              "ticks": ""
             }
            },
            "marker": {
             "colorbar": {
              "outlinewidth": 0,
              "ticks": ""
             }
            },
            "type": "scatter3d"
           }
          ],
          "scattercarpet": [
           {
            "marker": {
             "colorbar": {
              "outlinewidth": 0,
              "ticks": ""
             }
            },
            "type": "scattercarpet"
           }
          ],
          "scattergeo": [
           {
            "marker": {
             "colorbar": {
              "outlinewidth": 0,
              "ticks": ""
             }
            },
            "type": "scattergeo"
           }
          ],
          "scattergl": [
           {
            "marker": {
             "colorbar": {
              "outlinewidth": 0,
              "ticks": ""
             }
            },
            "type": "scattergl"
           }
          ],
          "scattermapbox": [
           {
            "marker": {
             "colorbar": {
              "outlinewidth": 0,
              "ticks": ""
             }
            },
            "type": "scattermapbox"
           }
          ],
          "scatterpolar": [
           {
            "marker": {
             "colorbar": {
              "outlinewidth": 0,
              "ticks": ""
             }
            },
            "type": "scatterpolar"
           }
          ],
          "scatterpolargl": [
           {
            "marker": {
             "colorbar": {
              "outlinewidth": 0,
              "ticks": ""
             }
            },
            "type": "scatterpolargl"
           }
          ],
          "scatterternary": [
           {
            "marker": {
             "colorbar": {
              "outlinewidth": 0,
              "ticks": ""
             }
            },
            "type": "scatterternary"
           }
          ],
          "surface": [
           {
            "colorbar": {
             "outlinewidth": 0,
             "ticks": ""
            },
            "colorscale": [
             [
              0,
              "#0d0887"
             ],
             [
              0.1111111111111111,
              "#46039f"
             ],
             [
              0.2222222222222222,
              "#7201a8"
             ],
             [
              0.3333333333333333,
              "#9c179e"
             ],
             [
              0.4444444444444444,
              "#bd3786"
             ],
             [
              0.5555555555555556,
              "#d8576b"
             ],
             [
              0.6666666666666666,
              "#ed7953"
             ],
             [
              0.7777777777777778,
              "#fb9f3a"
             ],
             [
              0.8888888888888888,
              "#fdca26"
             ],
             [
              1,
              "#f0f921"
             ]
            ],
            "type": "surface"
           }
          ],
          "table": [
           {
            "cells": {
             "fill": {
              "color": "#EBF0F8"
             },
             "line": {
              "color": "white"
             }
            },
            "header": {
             "fill": {
              "color": "#C8D4E3"
             },
             "line": {
              "color": "white"
             }
            },
            "type": "table"
           }
          ]
         },
         "layout": {
          "annotationdefaults": {
           "arrowcolor": "#2a3f5f",
           "arrowhead": 0,
           "arrowwidth": 1
          },
          "autotypenumbers": "strict",
          "coloraxis": {
           "colorbar": {
            "outlinewidth": 0,
            "ticks": ""
           }
          },
          "colorscale": {
           "diverging": [
            [
             0,
             "#8e0152"
            ],
            [
             0.1,
             "#c51b7d"
            ],
            [
             0.2,
             "#de77ae"
            ],
            [
             0.3,
             "#f1b6da"
            ],
            [
             0.4,
             "#fde0ef"
            ],
            [
             0.5,
             "#f7f7f7"
            ],
            [
             0.6,
             "#e6f5d0"
            ],
            [
             0.7,
             "#b8e186"
            ],
            [
             0.8,
             "#7fbc41"
            ],
            [
             0.9,
             "#4d9221"
            ],
            [
             1,
             "#276419"
            ]
           ],
           "sequential": [
            [
             0,
             "#0d0887"
            ],
            [
             0.1111111111111111,
             "#46039f"
            ],
            [
             0.2222222222222222,
             "#7201a8"
            ],
            [
             0.3333333333333333,
             "#9c179e"
            ],
            [
             0.4444444444444444,
             "#bd3786"
            ],
            [
             0.5555555555555556,
             "#d8576b"
            ],
            [
             0.6666666666666666,
             "#ed7953"
            ],
            [
             0.7777777777777778,
             "#fb9f3a"
            ],
            [
             0.8888888888888888,
             "#fdca26"
            ],
            [
             1,
             "#f0f921"
            ]
           ],
           "sequentialminus": [
            [
             0,
             "#0d0887"
            ],
            [
             0.1111111111111111,
             "#46039f"
            ],
            [
             0.2222222222222222,
             "#7201a8"
            ],
            [
             0.3333333333333333,
             "#9c179e"
            ],
            [
             0.4444444444444444,
             "#bd3786"
            ],
            [
             0.5555555555555556,
             "#d8576b"
            ],
            [
             0.6666666666666666,
             "#ed7953"
            ],
            [
             0.7777777777777778,
             "#fb9f3a"
            ],
            [
             0.8888888888888888,
             "#fdca26"
            ],
            [
             1,
             "#f0f921"
            ]
           ]
          },
          "colorway": [
           "#636efa",
           "#EF553B",
           "#00cc96",
           "#ab63fa",
           "#FFA15A",
           "#19d3f3",
           "#FF6692",
           "#B6E880",
           "#FF97FF",
           "#FECB52"
          ],
          "font": {
           "color": "#2a3f5f"
          },
          "geo": {
           "bgcolor": "white",
           "lakecolor": "white",
           "landcolor": "#E5ECF6",
           "showlakes": true,
           "showland": true,
           "subunitcolor": "white"
          },
          "hoverlabel": {
           "align": "left"
          },
          "hovermode": "closest",
          "mapbox": {
           "style": "light"
          },
          "paper_bgcolor": "white",
          "plot_bgcolor": "#E5ECF6",
          "polar": {
           "angularaxis": {
            "gridcolor": "white",
            "linecolor": "white",
            "ticks": ""
           },
           "bgcolor": "#E5ECF6",
           "radialaxis": {
            "gridcolor": "white",
            "linecolor": "white",
            "ticks": ""
           }
          },
          "scene": {
           "xaxis": {
            "backgroundcolor": "#E5ECF6",
            "gridcolor": "white",
            "gridwidth": 2,
            "linecolor": "white",
            "showbackground": true,
            "ticks": "",
            "zerolinecolor": "white"
           },
           "yaxis": {
            "backgroundcolor": "#E5ECF6",
            "gridcolor": "white",
            "gridwidth": 2,
            "linecolor": "white",
            "showbackground": true,
            "ticks": "",
            "zerolinecolor": "white"
           },
           "zaxis": {
            "backgroundcolor": "#E5ECF6",
            "gridcolor": "white",
            "gridwidth": 2,
            "linecolor": "white",
            "showbackground": true,
            "ticks": "",
            "zerolinecolor": "white"
           }
          },
          "shapedefaults": {
           "line": {
            "color": "#2a3f5f"
           }
          },
          "ternary": {
           "aaxis": {
            "gridcolor": "white",
            "linecolor": "white",
            "ticks": ""
           },
           "baxis": {
            "gridcolor": "white",
            "linecolor": "white",
            "ticks": ""
           },
           "bgcolor": "#E5ECF6",
           "caxis": {
            "gridcolor": "white",
            "linecolor": "white",
            "ticks": ""
           }
          },
          "title": {
           "x": 0.05
          },
          "xaxis": {
           "automargin": true,
           "gridcolor": "white",
           "linecolor": "white",
           "ticks": "",
           "title": {
            "standoff": 15
           },
           "zerolinecolor": "white",
           "zerolinewidth": 2
          },
          "yaxis": {
           "automargin": true,
           "gridcolor": "white",
           "linecolor": "white",
           "ticks": "",
           "title": {
            "standoff": 15
           },
           "zerolinecolor": "white",
           "zerolinewidth": 2
          }
         }
        },
        "title": {
         "text": "Free Session Student Pressent"
        },
        "xaxis": {
         "linecolor": "black",
         "linewidth": 2,
         "mirror": true,
         "showline": true,
         "showticklabels": true,
         "tickangle": 45,
         "tickfont": {
          "color": "red",
          "size": 10
         },
         "title": {
          "text": "University Name"
         },
         "zeroline": true,
         "zerolinecolor": "grey",
         "zerolinewidth": 1
        },
        "yaxis": {
         "gridcolor": "lightgrey",
         "linecolor": "black",
         "linewidth": 2,
         "mirror": true,
         "showline": true,
         "title": {
          "text": "University_wise_Students"
         },
         "zeroline": true,
         "zerolinecolor": "grey",
         "zerolinewidth": 1
        }
       }
      },
      "text/html": [
       "<div>                            <div id=\"7e3ddc72-aea5-4aa7-ab21-b389a8da349e\" class=\"plotly-graph-div\" style=\"height:525px; width:100%;\"></div>            <script type=\"text/javascript\">                require([\"plotly\"], function(Plotly) {                    window.PLOTLYENV=window.PLOTLYENV || {};                                    if (document.getElementById(\"7e3ddc72-aea5-4aa7-ab21-b389a8da349e\")) {                    Plotly.newPlot(                        \"7e3ddc72-aea5-4aa7-ab21-b389a8da349e\",                        [{\"marker\": {\"color\": \"lightgreen\"}, \"text\": [\"Lady Brabourne College\", \"Maulana Azad College\", \"Regent Education and Research Foundation\", \"Lady Brabourne College \", \"Presidency University\", \"Maulana Azad college\", \"Asutosh College\", \"Maulana Azad College \", \"Jadavpur University\", \"Regent Education And Research Foundation\", \"Regent education and research foundation\", \"Durgapur women's college\", \"Regent Education & Research Foundation\", \"AIUB\", \"Lady brabourne college\", \"Lady Brabourne college\", \"MAULANA AZAD COLLEGE\", \"Vivekananda College\", \"Durgapur Women's College\", \"St. Xavier's College\", \"Kalyani Mahavidyalaya\", \"Presidency University \", \"Vidyasagar University\", \"Bethune College\", \"RERF\", \"St. Xavier's College, Kolkata\", \"Regent Education and Research Foundation \", \"Asutosh college\", \"Maulana Abul Kalam Azad University of Technology\", \"DIATM\", \"Bethune college\", \"Narasinha Dutt College\", \"Durgapur institute of advanced technology and management\", \"North South University \", \"Maulana Azad College, Kolkata\", \"University of Calcutta\", \"Durgapur women's college \", \"B.P. Poddar Institute Of Management And Technology\", \"B.P.PODDAR INSTITUTE OF MANAGEMENT AND TECHNOLOGY\", \"Lady brabourne college \", \"Kalyani mahavidyalaya\", \"Future Institute Of Technology\", \"University of Dhaka\", \"Future Institute of Technology\", \"JADAVPUR UNIVERSITY\", \"Durgapur government college\", \"American International University - Bangladesh\", \"Regent Education and Research Foundation Group of Institutions\", \"American International University-Bangladesh \", \"Bethune College \", \"LADY BRABOURNE COLLEGE\", \"B.P Poddar Institute of Management and Technology\", \"Durgapur Institute of Advanced Technology and Management\", \"Presidency University, Kolkata\", \"Academy Of Technology\", \"B.P. PODDAR INSTITUTE OF MANAGEMENT AND TECHNOLOGY\", \"Narasinha dutt college\", \"Lady Brabourne College, Kolkata\"], \"type\": \"bar\", \"x\": [\"Lady Brabourne College\", \"Maulana Azad College\", \"Regent Education and Research Foundation\", \"Lady Brabourne College \", \"Presidency University\", \"Maulana Azad college\", \"Asutosh College\", \"Maulana Azad College \", \"Jadavpur University\", \"Regent Education And Research Foundation\", \"Regent education and research foundation\", \"Durgapur women's college\", \"Regent Education & Research Foundation\", \"AIUB\", \"Lady brabourne college\", \"Lady Brabourne college\", \"MAULANA AZAD COLLEGE\", \"Vivekananda College\", \"Durgapur Women's College\", \"St. Xavier's College\", \"Kalyani Mahavidyalaya\", \"Presidency University \", \"Vidyasagar University\", \"Bethune College\", \"RERF\", \"St. Xavier's College, Kolkata\", \"Regent Education and Research Foundation \", \"Asutosh college\", \"Maulana Abul Kalam Azad University of Technology\", \"DIATM\", \"Bethune college\", \"Narasinha Dutt College\", \"Durgapur institute of advanced technology and management\", \"North South University \", \"Maulana Azad College, Kolkata\", \"University of Calcutta\", \"Durgapur women's college \", \"B.P. Poddar Institute Of Management And Technology\", \"B.P.PODDAR INSTITUTE OF MANAGEMENT AND TECHNOLOGY\", \"Lady brabourne college \", \"Kalyani mahavidyalaya\", \"Future Institute Of Technology\", \"University of Dhaka\", \"Future Institute of Technology\", \"JADAVPUR UNIVERSITY\", \"Durgapur government college\", \"American International University - Bangladesh\", \"Regent Education and Research Foundation Group of Institutions\", \"American International University-Bangladesh \", \"Bethune College \", \"LADY BRABOURNE COLLEGE\", \"B.P Poddar Institute of Management and Technology\", \"Durgapur Institute of Advanced Technology and Management\", \"Presidency University, Kolkata\", \"Academy Of Technology\", \"B.P. PODDAR INSTITUTE OF MANAGEMENT AND TECHNOLOGY\", \"Narasinha dutt college\", \"Lady Brabourne College, Kolkata\"], \"y\": [69, 59, 31, 31, 19, 14, 14, 13, 13, 12, 12, 11, 11, 11, 9, 9, 8, 8, 7, 7, 7, 7, 6, 6, 6, 5, 5, 5, 5, 5, 5, 4, 4, 4, 4, 4, 4, 4, 4, 4, 3, 3, 3, 3, 3, 3, 3, 3, 3, 3, 3, 3, 3, 3, 3, 3, 3, 3]}],                        {\"hovermode\": \"closest\", \"paper_bgcolor\": \"rgba(0, 0, 0, 0)\", \"plot_bgcolor\": \"rgba(0, 0, 0, 0)\", \"template\": {\"data\": {\"bar\": [{\"error_x\": {\"color\": \"#2a3f5f\"}, \"error_y\": {\"color\": \"#2a3f5f\"}, \"marker\": {\"line\": {\"color\": \"#E5ECF6\", \"width\": 0.5}}, \"type\": \"bar\"}], \"barpolar\": [{\"marker\": {\"line\": {\"color\": \"#E5ECF6\", \"width\": 0.5}}, \"type\": \"barpolar\"}], \"carpet\": [{\"aaxis\": {\"endlinecolor\": \"#2a3f5f\", \"gridcolor\": \"white\", \"linecolor\": \"white\", \"minorgridcolor\": \"white\", \"startlinecolor\": \"#2a3f5f\"}, \"baxis\": {\"endlinecolor\": \"#2a3f5f\", \"gridcolor\": \"white\", \"linecolor\": \"white\", \"minorgridcolor\": \"white\", \"startlinecolor\": \"#2a3f5f\"}, \"type\": \"carpet\"}], \"choropleth\": [{\"colorbar\": {\"outlinewidth\": 0, \"ticks\": \"\"}, \"type\": \"choropleth\"}], \"contour\": [{\"colorbar\": {\"outlinewidth\": 0, \"ticks\": \"\"}, \"colorscale\": [[0.0, \"#0d0887\"], [0.1111111111111111, \"#46039f\"], [0.2222222222222222, \"#7201a8\"], [0.3333333333333333, \"#9c179e\"], [0.4444444444444444, \"#bd3786\"], [0.5555555555555556, \"#d8576b\"], [0.6666666666666666, \"#ed7953\"], [0.7777777777777778, \"#fb9f3a\"], [0.8888888888888888, \"#fdca26\"], [1.0, \"#f0f921\"]], \"type\": \"contour\"}], \"contourcarpet\": [{\"colorbar\": {\"outlinewidth\": 0, \"ticks\": \"\"}, \"type\": \"contourcarpet\"}], \"heatmap\": [{\"colorbar\": {\"outlinewidth\": 0, \"ticks\": \"\"}, \"colorscale\": [[0.0, \"#0d0887\"], [0.1111111111111111, \"#46039f\"], [0.2222222222222222, \"#7201a8\"], [0.3333333333333333, \"#9c179e\"], [0.4444444444444444, \"#bd3786\"], [0.5555555555555556, \"#d8576b\"], [0.6666666666666666, \"#ed7953\"], [0.7777777777777778, \"#fb9f3a\"], [0.8888888888888888, \"#fdca26\"], [1.0, \"#f0f921\"]], \"type\": \"heatmap\"}], \"heatmapgl\": [{\"colorbar\": {\"outlinewidth\": 0, \"ticks\": \"\"}, \"colorscale\": [[0.0, \"#0d0887\"], [0.1111111111111111, \"#46039f\"], [0.2222222222222222, \"#7201a8\"], [0.3333333333333333, \"#9c179e\"], [0.4444444444444444, \"#bd3786\"], [0.5555555555555556, \"#d8576b\"], [0.6666666666666666, \"#ed7953\"], [0.7777777777777778, \"#fb9f3a\"], [0.8888888888888888, \"#fdca26\"], [1.0, \"#f0f921\"]], \"type\": \"heatmapgl\"}], \"histogram\": [{\"marker\": {\"colorbar\": {\"outlinewidth\": 0, \"ticks\": \"\"}}, \"type\": \"histogram\"}], \"histogram2d\": [{\"colorbar\": {\"outlinewidth\": 0, \"ticks\": \"\"}, \"colorscale\": [[0.0, \"#0d0887\"], [0.1111111111111111, \"#46039f\"], [0.2222222222222222, \"#7201a8\"], [0.3333333333333333, \"#9c179e\"], [0.4444444444444444, \"#bd3786\"], [0.5555555555555556, \"#d8576b\"], [0.6666666666666666, \"#ed7953\"], [0.7777777777777778, \"#fb9f3a\"], [0.8888888888888888, \"#fdca26\"], [1.0, \"#f0f921\"]], \"type\": \"histogram2d\"}], \"histogram2dcontour\": [{\"colorbar\": {\"outlinewidth\": 0, \"ticks\": \"\"}, \"colorscale\": [[0.0, \"#0d0887\"], [0.1111111111111111, \"#46039f\"], [0.2222222222222222, \"#7201a8\"], [0.3333333333333333, \"#9c179e\"], [0.4444444444444444, \"#bd3786\"], [0.5555555555555556, \"#d8576b\"], [0.6666666666666666, \"#ed7953\"], [0.7777777777777778, \"#fb9f3a\"], [0.8888888888888888, \"#fdca26\"], [1.0, \"#f0f921\"]], \"type\": \"histogram2dcontour\"}], \"mesh3d\": [{\"colorbar\": {\"outlinewidth\": 0, \"ticks\": \"\"}, \"type\": \"mesh3d\"}], \"parcoords\": [{\"line\": {\"colorbar\": {\"outlinewidth\": 0, \"ticks\": \"\"}}, \"type\": \"parcoords\"}], \"pie\": [{\"automargin\": true, \"type\": \"pie\"}], \"scatter\": [{\"marker\": {\"colorbar\": {\"outlinewidth\": 0, \"ticks\": \"\"}}, \"type\": \"scatter\"}], \"scatter3d\": [{\"line\": {\"colorbar\": {\"outlinewidth\": 0, \"ticks\": \"\"}}, \"marker\": {\"colorbar\": {\"outlinewidth\": 0, \"ticks\": \"\"}}, \"type\": \"scatter3d\"}], \"scattercarpet\": [{\"marker\": {\"colorbar\": {\"outlinewidth\": 0, \"ticks\": \"\"}}, \"type\": \"scattercarpet\"}], \"scattergeo\": [{\"marker\": {\"colorbar\": {\"outlinewidth\": 0, \"ticks\": \"\"}}, \"type\": \"scattergeo\"}], \"scattergl\": [{\"marker\": {\"colorbar\": {\"outlinewidth\": 0, \"ticks\": \"\"}}, \"type\": \"scattergl\"}], \"scattermapbox\": [{\"marker\": {\"colorbar\": {\"outlinewidth\": 0, \"ticks\": \"\"}}, \"type\": \"scattermapbox\"}], \"scatterpolar\": [{\"marker\": {\"colorbar\": {\"outlinewidth\": 0, \"ticks\": \"\"}}, \"type\": \"scatterpolar\"}], \"scatterpolargl\": [{\"marker\": {\"colorbar\": {\"outlinewidth\": 0, \"ticks\": \"\"}}, \"type\": \"scatterpolargl\"}], \"scatterternary\": [{\"marker\": {\"colorbar\": {\"outlinewidth\": 0, \"ticks\": \"\"}}, \"type\": \"scatterternary\"}], \"surface\": [{\"colorbar\": {\"outlinewidth\": 0, \"ticks\": \"\"}, \"colorscale\": [[0.0, \"#0d0887\"], [0.1111111111111111, \"#46039f\"], [0.2222222222222222, \"#7201a8\"], [0.3333333333333333, \"#9c179e\"], [0.4444444444444444, \"#bd3786\"], [0.5555555555555556, \"#d8576b\"], [0.6666666666666666, \"#ed7953\"], [0.7777777777777778, \"#fb9f3a\"], [0.8888888888888888, \"#fdca26\"], [1.0, \"#f0f921\"]], \"type\": \"surface\"}], \"table\": [{\"cells\": {\"fill\": {\"color\": \"#EBF0F8\"}, \"line\": {\"color\": \"white\"}}, \"header\": {\"fill\": {\"color\": \"#C8D4E3\"}, \"line\": {\"color\": \"white\"}}, \"type\": \"table\"}]}, \"layout\": {\"annotationdefaults\": {\"arrowcolor\": \"#2a3f5f\", \"arrowhead\": 0, \"arrowwidth\": 1}, \"autotypenumbers\": \"strict\", \"coloraxis\": {\"colorbar\": {\"outlinewidth\": 0, \"ticks\": \"\"}}, \"colorscale\": {\"diverging\": [[0, \"#8e0152\"], [0.1, \"#c51b7d\"], [0.2, \"#de77ae\"], [0.3, \"#f1b6da\"], [0.4, \"#fde0ef\"], [0.5, \"#f7f7f7\"], [0.6, \"#e6f5d0\"], [0.7, \"#b8e186\"], [0.8, \"#7fbc41\"], [0.9, \"#4d9221\"], [1, \"#276419\"]], \"sequential\": [[0.0, \"#0d0887\"], [0.1111111111111111, \"#46039f\"], [0.2222222222222222, \"#7201a8\"], [0.3333333333333333, \"#9c179e\"], [0.4444444444444444, \"#bd3786\"], [0.5555555555555556, \"#d8576b\"], [0.6666666666666666, \"#ed7953\"], [0.7777777777777778, \"#fb9f3a\"], [0.8888888888888888, \"#fdca26\"], [1.0, \"#f0f921\"]], \"sequentialminus\": [[0.0, \"#0d0887\"], [0.1111111111111111, \"#46039f\"], [0.2222222222222222, \"#7201a8\"], [0.3333333333333333, \"#9c179e\"], [0.4444444444444444, \"#bd3786\"], [0.5555555555555556, \"#d8576b\"], [0.6666666666666666, \"#ed7953\"], [0.7777777777777778, \"#fb9f3a\"], [0.8888888888888888, \"#fdca26\"], [1.0, \"#f0f921\"]]}, \"colorway\": [\"#636efa\", \"#EF553B\", \"#00cc96\", \"#ab63fa\", \"#FFA15A\", \"#19d3f3\", \"#FF6692\", \"#B6E880\", \"#FF97FF\", \"#FECB52\"], \"font\": {\"color\": \"#2a3f5f\"}, \"geo\": {\"bgcolor\": \"white\", \"lakecolor\": \"white\", \"landcolor\": \"#E5ECF6\", \"showlakes\": true, \"showland\": true, \"subunitcolor\": \"white\"}, \"hoverlabel\": {\"align\": \"left\"}, \"hovermode\": \"closest\", \"mapbox\": {\"style\": \"light\"}, \"paper_bgcolor\": \"white\", \"plot_bgcolor\": \"#E5ECF6\", \"polar\": {\"angularaxis\": {\"gridcolor\": \"white\", \"linecolor\": \"white\", \"ticks\": \"\"}, \"bgcolor\": \"#E5ECF6\", \"radialaxis\": {\"gridcolor\": \"white\", \"linecolor\": \"white\", \"ticks\": \"\"}}, \"scene\": {\"xaxis\": {\"backgroundcolor\": \"#E5ECF6\", \"gridcolor\": \"white\", \"gridwidth\": 2, \"linecolor\": \"white\", \"showbackground\": true, \"ticks\": \"\", \"zerolinecolor\": \"white\"}, \"yaxis\": {\"backgroundcolor\": \"#E5ECF6\", \"gridcolor\": \"white\", \"gridwidth\": 2, \"linecolor\": \"white\", \"showbackground\": true, \"ticks\": \"\", \"zerolinecolor\": \"white\"}, \"zaxis\": {\"backgroundcolor\": \"#E5ECF6\", \"gridcolor\": \"white\", \"gridwidth\": 2, \"linecolor\": \"white\", \"showbackground\": true, \"ticks\": \"\", \"zerolinecolor\": \"white\"}}, \"shapedefaults\": {\"line\": {\"color\": \"#2a3f5f\"}}, \"ternary\": {\"aaxis\": {\"gridcolor\": \"white\", \"linecolor\": \"white\", \"ticks\": \"\"}, \"baxis\": {\"gridcolor\": \"white\", \"linecolor\": \"white\", \"ticks\": \"\"}, \"bgcolor\": \"#E5ECF6\", \"caxis\": {\"gridcolor\": \"white\", \"linecolor\": \"white\", \"ticks\": \"\"}}, \"title\": {\"x\": 0.05}, \"xaxis\": {\"automargin\": true, \"gridcolor\": \"white\", \"linecolor\": \"white\", \"ticks\": \"\", \"title\": {\"standoff\": 15}, \"zerolinecolor\": \"white\", \"zerolinewidth\": 2}, \"yaxis\": {\"automargin\": true, \"gridcolor\": \"white\", \"linecolor\": \"white\", \"ticks\": \"\", \"title\": {\"standoff\": 15}, \"zerolinecolor\": \"white\", \"zerolinewidth\": 2}}}, \"title\": {\"text\": \"Free Session Student Pressent\"}, \"xaxis\": {\"linecolor\": \"black\", \"linewidth\": 2, \"mirror\": true, \"showline\": true, \"showticklabels\": true, \"tickangle\": 45, \"tickfont\": {\"color\": \"red\", \"size\": 10}, \"title\": {\"text\": \"University Name\"}, \"zeroline\": true, \"zerolinecolor\": \"grey\", \"zerolinewidth\": 1}, \"yaxis\": {\"gridcolor\": \"lightgrey\", \"linecolor\": \"black\", \"linewidth\": 2, \"mirror\": true, \"showline\": true, \"title\": {\"text\": \"University_wise_Students\"}, \"zeroline\": true, \"zerolinecolor\": \"grey\", \"zerolinewidth\": 1}},                        {\"responsive\": true}                    ).then(function(){\n",
       "                            \n",
       "var gd = document.getElementById('7e3ddc72-aea5-4aa7-ab21-b389a8da349e');\n",
       "var x = new MutationObserver(function (mutations, observer) {{\n",
       "        var display = window.getComputedStyle(gd).display;\n",
       "        if (!display || display === 'none') {{\n",
       "            console.log([gd, 'removed!']);\n",
       "            Plotly.purge(gd);\n",
       "            observer.disconnect();\n",
       "        }}\n",
       "}});\n",
       "\n",
       "// Listen for the removal of the full notebook cells\n",
       "var notebookContainer = gd.closest('#notebook-container');\n",
       "if (notebookContainer) {{\n",
       "    x.observe(notebookContainer, {childList: true});\n",
       "}}\n",
       "\n",
       "// Listen for the clearing of the current output cell\n",
       "var outputEl = gd.closest('.output');\n",
       "if (outputEl) {{\n",
       "    x.observe(outputEl, {childList: true});\n",
       "}}\n",
       "\n",
       "                        })                };                });            </script>        </div>"
      ]
     },
     "metadata": {},
     "output_type": "display_data"
    }
   ],
   "source": [
    "draw_trace_bar_dept(uni_t,'College','counts','Free Session Student Pressent', 'University Name','University_wise_Students',\"lightgreen\")"
   ]
  },
  {
   "cell_type": "markdown",
   "metadata": {},
   "source": [
    "from this we can say most of the students present in free session are from Lady Barbourne college."
   ]
  },
  {
   "cell_type": "code",
   "execution_count": 81,
   "metadata": {},
   "outputs": [
    {
     "data": {
      "application/vnd.plotly.v1+json": {
       "config": {
        "linkText": "Export to plot.ly",
        "plotlyServerURL": "https://plot.ly",
        "showLink": false
       },
       "data": [
        {
         "marker": {
          "color": "blue"
         },
         "text": [
          "Honors (BSC/MSC)",
          "Engineering",
          "others",
          "Statistics",
          "Mathematics",
          "BBA",
          "Statistics ",
          "Statistics honours",
          "Statistics Honours",
          "BCA",
          "Mathematics ",
          "R",
          "Electrical Engineering",
          "B.tech",
          "Electrical engineering",
          "CSE",
          "ECE",
          "Computer science",
          "Statistics Hons",
          "Computer Science",
          "B.Sc Statistics honours"
         ],
         "type": "bar",
         "x": [
          "Honors (BSC/MSC)",
          "Engineering",
          "others",
          "Statistics",
          "Mathematics",
          "BBA",
          "Statistics ",
          "Statistics honours",
          "Statistics Honours",
          "BCA",
          "Mathematics ",
          "R",
          "Electrical Engineering",
          "B.tech",
          "Electrical engineering",
          "CSE",
          "ECE",
          "Computer science",
          "Statistics Hons",
          "Computer Science",
          "B.Sc Statistics honours"
         ],
         "y": [
          337,
          187,
          92,
          31,
          16,
          11,
          9,
          7,
          5,
          5,
          4,
          4,
          4,
          3,
          3,
          3,
          3,
          3,
          3,
          3,
          3
         ]
        }
       ],
       "layout": {
        "hovermode": "closest",
        "paper_bgcolor": "rgba(0, 0, 0, 0)",
        "plot_bgcolor": "rgba(0, 0, 0, 0)",
        "template": {
         "data": {
          "bar": [
           {
            "error_x": {
             "color": "#2a3f5f"
            },
            "error_y": {
             "color": "#2a3f5f"
            },
            "marker": {
             "line": {
              "color": "#E5ECF6",
              "width": 0.5
             }
            },
            "type": "bar"
           }
          ],
          "barpolar": [
           {
            "marker": {
             "line": {
              "color": "#E5ECF6",
              "width": 0.5
             }
            },
            "type": "barpolar"
           }
          ],
          "carpet": [
           {
            "aaxis": {
             "endlinecolor": "#2a3f5f",
             "gridcolor": "white",
             "linecolor": "white",
             "minorgridcolor": "white",
             "startlinecolor": "#2a3f5f"
            },
            "baxis": {
             "endlinecolor": "#2a3f5f",
             "gridcolor": "white",
             "linecolor": "white",
             "minorgridcolor": "white",
             "startlinecolor": "#2a3f5f"
            },
            "type": "carpet"
           }
          ],
          "choropleth": [
           {
            "colorbar": {
             "outlinewidth": 0,
             "ticks": ""
            },
            "type": "choropleth"
           }
          ],
          "contour": [
           {
            "colorbar": {
             "outlinewidth": 0,
             "ticks": ""
            },
            "colorscale": [
             [
              0,
              "#0d0887"
             ],
             [
              0.1111111111111111,
              "#46039f"
             ],
             [
              0.2222222222222222,
              "#7201a8"
             ],
             [
              0.3333333333333333,
              "#9c179e"
             ],
             [
              0.4444444444444444,
              "#bd3786"
             ],
             [
              0.5555555555555556,
              "#d8576b"
             ],
             [
              0.6666666666666666,
              "#ed7953"
             ],
             [
              0.7777777777777778,
              "#fb9f3a"
             ],
             [
              0.8888888888888888,
              "#fdca26"
             ],
             [
              1,
              "#f0f921"
             ]
            ],
            "type": "contour"
           }
          ],
          "contourcarpet": [
           {
            "colorbar": {
             "outlinewidth": 0,
             "ticks": ""
            },
            "type": "contourcarpet"
           }
          ],
          "heatmap": [
           {
            "colorbar": {
             "outlinewidth": 0,
             "ticks": ""
            },
            "colorscale": [
             [
              0,
              "#0d0887"
             ],
             [
              0.1111111111111111,
              "#46039f"
             ],
             [
              0.2222222222222222,
              "#7201a8"
             ],
             [
              0.3333333333333333,
              "#9c179e"
             ],
             [
              0.4444444444444444,
              "#bd3786"
             ],
             [
              0.5555555555555556,
              "#d8576b"
             ],
             [
              0.6666666666666666,
              "#ed7953"
             ],
             [
              0.7777777777777778,
              "#fb9f3a"
             ],
             [
              0.8888888888888888,
              "#fdca26"
             ],
             [
              1,
              "#f0f921"
             ]
            ],
            "type": "heatmap"
           }
          ],
          "heatmapgl": [
           {
            "colorbar": {
             "outlinewidth": 0,
             "ticks": ""
            },
            "colorscale": [
             [
              0,
              "#0d0887"
             ],
             [
              0.1111111111111111,
              "#46039f"
             ],
             [
              0.2222222222222222,
              "#7201a8"
             ],
             [
              0.3333333333333333,
              "#9c179e"
             ],
             [
              0.4444444444444444,
              "#bd3786"
             ],
             [
              0.5555555555555556,
              "#d8576b"
             ],
             [
              0.6666666666666666,
              "#ed7953"
             ],
             [
              0.7777777777777778,
              "#fb9f3a"
             ],
             [
              0.8888888888888888,
              "#fdca26"
             ],
             [
              1,
              "#f0f921"
             ]
            ],
            "type": "heatmapgl"
           }
          ],
          "histogram": [
           {
            "marker": {
             "colorbar": {
              "outlinewidth": 0,
              "ticks": ""
             }
            },
            "type": "histogram"
           }
          ],
          "histogram2d": [
           {
            "colorbar": {
             "outlinewidth": 0,
             "ticks": ""
            },
            "colorscale": [
             [
              0,
              "#0d0887"
             ],
             [
              0.1111111111111111,
              "#46039f"
             ],
             [
              0.2222222222222222,
              "#7201a8"
             ],
             [
              0.3333333333333333,
              "#9c179e"
             ],
             [
              0.4444444444444444,
              "#bd3786"
             ],
             [
              0.5555555555555556,
              "#d8576b"
             ],
             [
              0.6666666666666666,
              "#ed7953"
             ],
             [
              0.7777777777777778,
              "#fb9f3a"
             ],
             [
              0.8888888888888888,
              "#fdca26"
             ],
             [
              1,
              "#f0f921"
             ]
            ],
            "type": "histogram2d"
           }
          ],
          "histogram2dcontour": [
           {
            "colorbar": {
             "outlinewidth": 0,
             "ticks": ""
            },
            "colorscale": [
             [
              0,
              "#0d0887"
             ],
             [
              0.1111111111111111,
              "#46039f"
             ],
             [
              0.2222222222222222,
              "#7201a8"
             ],
             [
              0.3333333333333333,
              "#9c179e"
             ],
             [
              0.4444444444444444,
              "#bd3786"
             ],
             [
              0.5555555555555556,
              "#d8576b"
             ],
             [
              0.6666666666666666,
              "#ed7953"
             ],
             [
              0.7777777777777778,
              "#fb9f3a"
             ],
             [
              0.8888888888888888,
              "#fdca26"
             ],
             [
              1,
              "#f0f921"
             ]
            ],
            "type": "histogram2dcontour"
           }
          ],
          "mesh3d": [
           {
            "colorbar": {
             "outlinewidth": 0,
             "ticks": ""
            },
            "type": "mesh3d"
           }
          ],
          "parcoords": [
           {
            "line": {
             "colorbar": {
              "outlinewidth": 0,
              "ticks": ""
             }
            },
            "type": "parcoords"
           }
          ],
          "pie": [
           {
            "automargin": true,
            "type": "pie"
           }
          ],
          "scatter": [
           {
            "marker": {
             "colorbar": {
              "outlinewidth": 0,
              "ticks": ""
             }
            },
            "type": "scatter"
           }
          ],
          "scatter3d": [
           {
            "line": {
             "colorbar": {
              "outlinewidth": 0,
              "ticks": ""
             }
            },
            "marker": {
             "colorbar": {
              "outlinewidth": 0,
              "ticks": ""
             }
            },
            "type": "scatter3d"
           }
          ],
          "scattercarpet": [
           {
            "marker": {
             "colorbar": {
              "outlinewidth": 0,
              "ticks": ""
             }
            },
            "type": "scattercarpet"
           }
          ],
          "scattergeo": [
           {
            "marker": {
             "colorbar": {
              "outlinewidth": 0,
              "ticks": ""
             }
            },
            "type": "scattergeo"
           }
          ],
          "scattergl": [
           {
            "marker": {
             "colorbar": {
              "outlinewidth": 0,
              "ticks": ""
             }
            },
            "type": "scattergl"
           }
          ],
          "scattermapbox": [
           {
            "marker": {
             "colorbar": {
              "outlinewidth": 0,
              "ticks": ""
             }
            },
            "type": "scattermapbox"
           }
          ],
          "scatterpolar": [
           {
            "marker": {
             "colorbar": {
              "outlinewidth": 0,
              "ticks": ""
             }
            },
            "type": "scatterpolar"
           }
          ],
          "scatterpolargl": [
           {
            "marker": {
             "colorbar": {
              "outlinewidth": 0,
              "ticks": ""
             }
            },
            "type": "scatterpolargl"
           }
          ],
          "scatterternary": [
           {
            "marker": {
             "colorbar": {
              "outlinewidth": 0,
              "ticks": ""
             }
            },
            "type": "scatterternary"
           }
          ],
          "surface": [
           {
            "colorbar": {
             "outlinewidth": 0,
             "ticks": ""
            },
            "colorscale": [
             [
              0,
              "#0d0887"
             ],
             [
              0.1111111111111111,
              "#46039f"
             ],
             [
              0.2222222222222222,
              "#7201a8"
             ],
             [
              0.3333333333333333,
              "#9c179e"
             ],
             [
              0.4444444444444444,
              "#bd3786"
             ],
             [
              0.5555555555555556,
              "#d8576b"
             ],
             [
              0.6666666666666666,
              "#ed7953"
             ],
             [
              0.7777777777777778,
              "#fb9f3a"
             ],
             [
              0.8888888888888888,
              "#fdca26"
             ],
             [
              1,
              "#f0f921"
             ]
            ],
            "type": "surface"
           }
          ],
          "table": [
           {
            "cells": {
             "fill": {
              "color": "#EBF0F8"
             },
             "line": {
              "color": "white"
             }
            },
            "header": {
             "fill": {
              "color": "#C8D4E3"
             },
             "line": {
              "color": "white"
             }
            },
            "type": "table"
           }
          ]
         },
         "layout": {
          "annotationdefaults": {
           "arrowcolor": "#2a3f5f",
           "arrowhead": 0,
           "arrowwidth": 1
          },
          "autotypenumbers": "strict",
          "coloraxis": {
           "colorbar": {
            "outlinewidth": 0,
            "ticks": ""
           }
          },
          "colorscale": {
           "diverging": [
            [
             0,
             "#8e0152"
            ],
            [
             0.1,
             "#c51b7d"
            ],
            [
             0.2,
             "#de77ae"
            ],
            [
             0.3,
             "#f1b6da"
            ],
            [
             0.4,
             "#fde0ef"
            ],
            [
             0.5,
             "#f7f7f7"
            ],
            [
             0.6,
             "#e6f5d0"
            ],
            [
             0.7,
             "#b8e186"
            ],
            [
             0.8,
             "#7fbc41"
            ],
            [
             0.9,
             "#4d9221"
            ],
            [
             1,
             "#276419"
            ]
           ],
           "sequential": [
            [
             0,
             "#0d0887"
            ],
            [
             0.1111111111111111,
             "#46039f"
            ],
            [
             0.2222222222222222,
             "#7201a8"
            ],
            [
             0.3333333333333333,
             "#9c179e"
            ],
            [
             0.4444444444444444,
             "#bd3786"
            ],
            [
             0.5555555555555556,
             "#d8576b"
            ],
            [
             0.6666666666666666,
             "#ed7953"
            ],
            [
             0.7777777777777778,
             "#fb9f3a"
            ],
            [
             0.8888888888888888,
             "#fdca26"
            ],
            [
             1,
             "#f0f921"
            ]
           ],
           "sequentialminus": [
            [
             0,
             "#0d0887"
            ],
            [
             0.1111111111111111,
             "#46039f"
            ],
            [
             0.2222222222222222,
             "#7201a8"
            ],
            [
             0.3333333333333333,
             "#9c179e"
            ],
            [
             0.4444444444444444,
             "#bd3786"
            ],
            [
             0.5555555555555556,
             "#d8576b"
            ],
            [
             0.6666666666666666,
             "#ed7953"
            ],
            [
             0.7777777777777778,
             "#fb9f3a"
            ],
            [
             0.8888888888888888,
             "#fdca26"
            ],
            [
             1,
             "#f0f921"
            ]
           ]
          },
          "colorway": [
           "#636efa",
           "#EF553B",
           "#00cc96",
           "#ab63fa",
           "#FFA15A",
           "#19d3f3",
           "#FF6692",
           "#B6E880",
           "#FF97FF",
           "#FECB52"
          ],
          "font": {
           "color": "#2a3f5f"
          },
          "geo": {
           "bgcolor": "white",
           "lakecolor": "white",
           "landcolor": "#E5ECF6",
           "showlakes": true,
           "showland": true,
           "subunitcolor": "white"
          },
          "hoverlabel": {
           "align": "left"
          },
          "hovermode": "closest",
          "mapbox": {
           "style": "light"
          },
          "paper_bgcolor": "white",
          "plot_bgcolor": "#E5ECF6",
          "polar": {
           "angularaxis": {
            "gridcolor": "white",
            "linecolor": "white",
            "ticks": ""
           },
           "bgcolor": "#E5ECF6",
           "radialaxis": {
            "gridcolor": "white",
            "linecolor": "white",
            "ticks": ""
           }
          },
          "scene": {
           "xaxis": {
            "backgroundcolor": "#E5ECF6",
            "gridcolor": "white",
            "gridwidth": 2,
            "linecolor": "white",
            "showbackground": true,
            "ticks": "",
            "zerolinecolor": "white"
           },
           "yaxis": {
            "backgroundcolor": "#E5ECF6",
            "gridcolor": "white",
            "gridwidth": 2,
            "linecolor": "white",
            "showbackground": true,
            "ticks": "",
            "zerolinecolor": "white"
           },
           "zaxis": {
            "backgroundcolor": "#E5ECF6",
            "gridcolor": "white",
            "gridwidth": 2,
            "linecolor": "white",
            "showbackground": true,
            "ticks": "",
            "zerolinecolor": "white"
           }
          },
          "shapedefaults": {
           "line": {
            "color": "#2a3f5f"
           }
          },
          "ternary": {
           "aaxis": {
            "gridcolor": "white",
            "linecolor": "white",
            "ticks": ""
           },
           "baxis": {
            "gridcolor": "white",
            "linecolor": "white",
            "ticks": ""
           },
           "bgcolor": "#E5ECF6",
           "caxis": {
            "gridcolor": "white",
            "linecolor": "white",
            "ticks": ""
           }
          },
          "title": {
           "x": 0.05
          },
          "xaxis": {
           "automargin": true,
           "gridcolor": "white",
           "linecolor": "white",
           "ticks": "",
           "title": {
            "standoff": 15
           },
           "zerolinecolor": "white",
           "zerolinewidth": 2
          },
          "yaxis": {
           "automargin": true,
           "gridcolor": "white",
           "linecolor": "white",
           "ticks": "",
           "title": {
            "standoff": 15
           },
           "zerolinecolor": "white",
           "zerolinewidth": 2
          }
         }
        },
        "title": {
         "text": "Free Session Student Pressent"
        },
        "xaxis": {
         "linecolor": "black",
         "linewidth": 2,
         "mirror": true,
         "showline": true,
         "showticklabels": true,
         "tickangle": 45,
         "tickfont": {
          "color": "red",
          "size": 10
         },
         "title": {
          "text": "Department Name"
         },
         "zeroline": true,
         "zerolinecolor": "grey",
         "zerolinewidth": 1
        },
        "yaxis": {
         "gridcolor": "lightgrey",
         "linecolor": "black",
         "linewidth": 2,
         "mirror": true,
         "showline": true,
         "title": {
          "text": "Total_Students"
         },
         "zeroline": true,
         "zerolinecolor": "grey",
         "zerolinewidth": 1
        }
       }
      },
      "text/html": [
       "<div>                            <div id=\"034d7700-bcef-400d-893a-d299896269e5\" class=\"plotly-graph-div\" style=\"height:525px; width:100%;\"></div>            <script type=\"text/javascript\">                require([\"plotly\"], function(Plotly) {                    window.PLOTLYENV=window.PLOTLYENV || {};                                    if (document.getElementById(\"034d7700-bcef-400d-893a-d299896269e5\")) {                    Plotly.newPlot(                        \"034d7700-bcef-400d-893a-d299896269e5\",                        [{\"marker\": {\"color\": \"blue\"}, \"text\": [\"Honors (BSC/MSC)\", \"Engineering\", \"others\", \"Statistics\", \"Mathematics\", \"BBA\", \"Statistics \", \"Statistics honours\", \"Statistics Honours\", \"BCA\", \"Mathematics \", \"R\", \"Electrical Engineering\", \"B.tech\", \"Electrical engineering\", \"CSE\", \"ECE\", \"Computer science\", \"Statistics Hons\", \"Computer Science\", \"B.Sc Statistics honours\"], \"type\": \"bar\", \"x\": [\"Honors (BSC/MSC)\", \"Engineering\", \"others\", \"Statistics\", \"Mathematics\", \"BBA\", \"Statistics \", \"Statistics honours\", \"Statistics Honours\", \"BCA\", \"Mathematics \", \"R\", \"Electrical Engineering\", \"B.tech\", \"Electrical engineering\", \"CSE\", \"ECE\", \"Computer science\", \"Statistics Hons\", \"Computer Science\", \"B.Sc Statistics honours\"], \"y\": [337, 187, 92, 31, 16, 11, 9, 7, 5, 5, 4, 4, 4, 3, 3, 3, 3, 3, 3, 3, 3]}],                        {\"hovermode\": \"closest\", \"paper_bgcolor\": \"rgba(0, 0, 0, 0)\", \"plot_bgcolor\": \"rgba(0, 0, 0, 0)\", \"template\": {\"data\": {\"bar\": [{\"error_x\": {\"color\": \"#2a3f5f\"}, \"error_y\": {\"color\": \"#2a3f5f\"}, \"marker\": {\"line\": {\"color\": \"#E5ECF6\", \"width\": 0.5}}, \"type\": \"bar\"}], \"barpolar\": [{\"marker\": {\"line\": {\"color\": \"#E5ECF6\", \"width\": 0.5}}, \"type\": \"barpolar\"}], \"carpet\": [{\"aaxis\": {\"endlinecolor\": \"#2a3f5f\", \"gridcolor\": \"white\", \"linecolor\": \"white\", \"minorgridcolor\": \"white\", \"startlinecolor\": \"#2a3f5f\"}, \"baxis\": {\"endlinecolor\": \"#2a3f5f\", \"gridcolor\": \"white\", \"linecolor\": \"white\", \"minorgridcolor\": \"white\", \"startlinecolor\": \"#2a3f5f\"}, \"type\": \"carpet\"}], \"choropleth\": [{\"colorbar\": {\"outlinewidth\": 0, \"ticks\": \"\"}, \"type\": \"choropleth\"}], \"contour\": [{\"colorbar\": {\"outlinewidth\": 0, \"ticks\": \"\"}, \"colorscale\": [[0.0, \"#0d0887\"], [0.1111111111111111, \"#46039f\"], [0.2222222222222222, \"#7201a8\"], [0.3333333333333333, \"#9c179e\"], [0.4444444444444444, \"#bd3786\"], [0.5555555555555556, \"#d8576b\"], [0.6666666666666666, \"#ed7953\"], [0.7777777777777778, \"#fb9f3a\"], [0.8888888888888888, \"#fdca26\"], [1.0, \"#f0f921\"]], \"type\": \"contour\"}], \"contourcarpet\": [{\"colorbar\": {\"outlinewidth\": 0, \"ticks\": \"\"}, \"type\": \"contourcarpet\"}], \"heatmap\": [{\"colorbar\": {\"outlinewidth\": 0, \"ticks\": \"\"}, \"colorscale\": [[0.0, \"#0d0887\"], [0.1111111111111111, \"#46039f\"], [0.2222222222222222, \"#7201a8\"], [0.3333333333333333, \"#9c179e\"], [0.4444444444444444, \"#bd3786\"], [0.5555555555555556, \"#d8576b\"], [0.6666666666666666, \"#ed7953\"], [0.7777777777777778, \"#fb9f3a\"], [0.8888888888888888, \"#fdca26\"], [1.0, \"#f0f921\"]], \"type\": \"heatmap\"}], \"heatmapgl\": [{\"colorbar\": {\"outlinewidth\": 0, \"ticks\": \"\"}, \"colorscale\": [[0.0, \"#0d0887\"], [0.1111111111111111, \"#46039f\"], [0.2222222222222222, \"#7201a8\"], [0.3333333333333333, \"#9c179e\"], [0.4444444444444444, \"#bd3786\"], [0.5555555555555556, \"#d8576b\"], [0.6666666666666666, \"#ed7953\"], [0.7777777777777778, \"#fb9f3a\"], [0.8888888888888888, \"#fdca26\"], [1.0, \"#f0f921\"]], \"type\": \"heatmapgl\"}], \"histogram\": [{\"marker\": {\"colorbar\": {\"outlinewidth\": 0, \"ticks\": \"\"}}, \"type\": \"histogram\"}], \"histogram2d\": [{\"colorbar\": {\"outlinewidth\": 0, \"ticks\": \"\"}, \"colorscale\": [[0.0, \"#0d0887\"], [0.1111111111111111, \"#46039f\"], [0.2222222222222222, \"#7201a8\"], [0.3333333333333333, \"#9c179e\"], [0.4444444444444444, \"#bd3786\"], [0.5555555555555556, \"#d8576b\"], [0.6666666666666666, \"#ed7953\"], [0.7777777777777778, \"#fb9f3a\"], [0.8888888888888888, \"#fdca26\"], [1.0, \"#f0f921\"]], \"type\": \"histogram2d\"}], \"histogram2dcontour\": [{\"colorbar\": {\"outlinewidth\": 0, \"ticks\": \"\"}, \"colorscale\": [[0.0, \"#0d0887\"], [0.1111111111111111, \"#46039f\"], [0.2222222222222222, \"#7201a8\"], [0.3333333333333333, \"#9c179e\"], [0.4444444444444444, \"#bd3786\"], [0.5555555555555556, \"#d8576b\"], [0.6666666666666666, \"#ed7953\"], [0.7777777777777778, \"#fb9f3a\"], [0.8888888888888888, \"#fdca26\"], [1.0, \"#f0f921\"]], \"type\": \"histogram2dcontour\"}], \"mesh3d\": [{\"colorbar\": {\"outlinewidth\": 0, \"ticks\": \"\"}, \"type\": \"mesh3d\"}], \"parcoords\": [{\"line\": {\"colorbar\": {\"outlinewidth\": 0, \"ticks\": \"\"}}, \"type\": \"parcoords\"}], \"pie\": [{\"automargin\": true, \"type\": \"pie\"}], \"scatter\": [{\"marker\": {\"colorbar\": {\"outlinewidth\": 0, \"ticks\": \"\"}}, \"type\": \"scatter\"}], \"scatter3d\": [{\"line\": {\"colorbar\": {\"outlinewidth\": 0, \"ticks\": \"\"}}, \"marker\": {\"colorbar\": {\"outlinewidth\": 0, \"ticks\": \"\"}}, \"type\": \"scatter3d\"}], \"scattercarpet\": [{\"marker\": {\"colorbar\": {\"outlinewidth\": 0, \"ticks\": \"\"}}, \"type\": \"scattercarpet\"}], \"scattergeo\": [{\"marker\": {\"colorbar\": {\"outlinewidth\": 0, \"ticks\": \"\"}}, \"type\": \"scattergeo\"}], \"scattergl\": [{\"marker\": {\"colorbar\": {\"outlinewidth\": 0, \"ticks\": \"\"}}, \"type\": \"scattergl\"}], \"scattermapbox\": [{\"marker\": {\"colorbar\": {\"outlinewidth\": 0, \"ticks\": \"\"}}, \"type\": \"scattermapbox\"}], \"scatterpolar\": [{\"marker\": {\"colorbar\": {\"outlinewidth\": 0, \"ticks\": \"\"}}, \"type\": \"scatterpolar\"}], \"scatterpolargl\": [{\"marker\": {\"colorbar\": {\"outlinewidth\": 0, \"ticks\": \"\"}}, \"type\": \"scatterpolargl\"}], \"scatterternary\": [{\"marker\": {\"colorbar\": {\"outlinewidth\": 0, \"ticks\": \"\"}}, \"type\": \"scatterternary\"}], \"surface\": [{\"colorbar\": {\"outlinewidth\": 0, \"ticks\": \"\"}, \"colorscale\": [[0.0, \"#0d0887\"], [0.1111111111111111, \"#46039f\"], [0.2222222222222222, \"#7201a8\"], [0.3333333333333333, \"#9c179e\"], [0.4444444444444444, \"#bd3786\"], [0.5555555555555556, \"#d8576b\"], [0.6666666666666666, \"#ed7953\"], [0.7777777777777778, \"#fb9f3a\"], [0.8888888888888888, \"#fdca26\"], [1.0, \"#f0f921\"]], \"type\": \"surface\"}], \"table\": [{\"cells\": {\"fill\": {\"color\": \"#EBF0F8\"}, \"line\": {\"color\": \"white\"}}, \"header\": {\"fill\": {\"color\": \"#C8D4E3\"}, \"line\": {\"color\": \"white\"}}, \"type\": \"table\"}]}, \"layout\": {\"annotationdefaults\": {\"arrowcolor\": \"#2a3f5f\", \"arrowhead\": 0, \"arrowwidth\": 1}, \"autotypenumbers\": \"strict\", \"coloraxis\": {\"colorbar\": {\"outlinewidth\": 0, \"ticks\": \"\"}}, \"colorscale\": {\"diverging\": [[0, \"#8e0152\"], [0.1, \"#c51b7d\"], [0.2, \"#de77ae\"], [0.3, \"#f1b6da\"], [0.4, \"#fde0ef\"], [0.5, \"#f7f7f7\"], [0.6, \"#e6f5d0\"], [0.7, \"#b8e186\"], [0.8, \"#7fbc41\"], [0.9, \"#4d9221\"], [1, \"#276419\"]], \"sequential\": [[0.0, \"#0d0887\"], [0.1111111111111111, \"#46039f\"], [0.2222222222222222, \"#7201a8\"], [0.3333333333333333, \"#9c179e\"], [0.4444444444444444, \"#bd3786\"], [0.5555555555555556, \"#d8576b\"], [0.6666666666666666, \"#ed7953\"], [0.7777777777777778, \"#fb9f3a\"], [0.8888888888888888, \"#fdca26\"], [1.0, \"#f0f921\"]], \"sequentialminus\": [[0.0, \"#0d0887\"], [0.1111111111111111, \"#46039f\"], [0.2222222222222222, \"#7201a8\"], [0.3333333333333333, \"#9c179e\"], [0.4444444444444444, \"#bd3786\"], [0.5555555555555556, \"#d8576b\"], [0.6666666666666666, \"#ed7953\"], [0.7777777777777778, \"#fb9f3a\"], [0.8888888888888888, \"#fdca26\"], [1.0, \"#f0f921\"]]}, \"colorway\": [\"#636efa\", \"#EF553B\", \"#00cc96\", \"#ab63fa\", \"#FFA15A\", \"#19d3f3\", \"#FF6692\", \"#B6E880\", \"#FF97FF\", \"#FECB52\"], \"font\": {\"color\": \"#2a3f5f\"}, \"geo\": {\"bgcolor\": \"white\", \"lakecolor\": \"white\", \"landcolor\": \"#E5ECF6\", \"showlakes\": true, \"showland\": true, \"subunitcolor\": \"white\"}, \"hoverlabel\": {\"align\": \"left\"}, \"hovermode\": \"closest\", \"mapbox\": {\"style\": \"light\"}, \"paper_bgcolor\": \"white\", \"plot_bgcolor\": \"#E5ECF6\", \"polar\": {\"angularaxis\": {\"gridcolor\": \"white\", \"linecolor\": \"white\", \"ticks\": \"\"}, \"bgcolor\": \"#E5ECF6\", \"radialaxis\": {\"gridcolor\": \"white\", \"linecolor\": \"white\", \"ticks\": \"\"}}, \"scene\": {\"xaxis\": {\"backgroundcolor\": \"#E5ECF6\", \"gridcolor\": \"white\", \"gridwidth\": 2, \"linecolor\": \"white\", \"showbackground\": true, \"ticks\": \"\", \"zerolinecolor\": \"white\"}, \"yaxis\": {\"backgroundcolor\": \"#E5ECF6\", \"gridcolor\": \"white\", \"gridwidth\": 2, \"linecolor\": \"white\", \"showbackground\": true, \"ticks\": \"\", \"zerolinecolor\": \"white\"}, \"zaxis\": {\"backgroundcolor\": \"#E5ECF6\", \"gridcolor\": \"white\", \"gridwidth\": 2, \"linecolor\": \"white\", \"showbackground\": true, \"ticks\": \"\", \"zerolinecolor\": \"white\"}}, \"shapedefaults\": {\"line\": {\"color\": \"#2a3f5f\"}}, \"ternary\": {\"aaxis\": {\"gridcolor\": \"white\", \"linecolor\": \"white\", \"ticks\": \"\"}, \"baxis\": {\"gridcolor\": \"white\", \"linecolor\": \"white\", \"ticks\": \"\"}, \"bgcolor\": \"#E5ECF6\", \"caxis\": {\"gridcolor\": \"white\", \"linecolor\": \"white\", \"ticks\": \"\"}}, \"title\": {\"x\": 0.05}, \"xaxis\": {\"automargin\": true, \"gridcolor\": \"white\", \"linecolor\": \"white\", \"ticks\": \"\", \"title\": {\"standoff\": 15}, \"zerolinecolor\": \"white\", \"zerolinewidth\": 2}, \"yaxis\": {\"automargin\": true, \"gridcolor\": \"white\", \"linecolor\": \"white\", \"ticks\": \"\", \"title\": {\"standoff\": 15}, \"zerolinecolor\": \"white\", \"zerolinewidth\": 2}}}, \"title\": {\"text\": \"Free Session Student Pressent\"}, \"xaxis\": {\"linecolor\": \"black\", \"linewidth\": 2, \"mirror\": true, \"showline\": true, \"showticklabels\": true, \"tickangle\": 45, \"tickfont\": {\"color\": \"red\", \"size\": 10}, \"title\": {\"text\": \"Department Name\"}, \"zeroline\": true, \"zerolinecolor\": \"grey\", \"zerolinewidth\": 1}, \"yaxis\": {\"gridcolor\": \"lightgrey\", \"linecolor\": \"black\", \"linewidth\": 2, \"mirror\": true, \"showline\": true, \"title\": {\"text\": \"Total_Students\"}, \"zeroline\": true, \"zerolinecolor\": \"grey\", \"zerolinewidth\": 1}},                        {\"responsive\": true}                    ).then(function(){\n",
       "                            \n",
       "var gd = document.getElementById('034d7700-bcef-400d-893a-d299896269e5');\n",
       "var x = new MutationObserver(function (mutations, observer) {{\n",
       "        var display = window.getComputedStyle(gd).display;\n",
       "        if (!display || display === 'none') {{\n",
       "            console.log([gd, 'removed!']);\n",
       "            Plotly.purge(gd);\n",
       "            observer.disconnect();\n",
       "        }}\n",
       "}});\n",
       "\n",
       "// Listen for the removal of the full notebook cells\n",
       "var notebookContainer = gd.closest('#notebook-container');\n",
       "if (notebookContainer) {{\n",
       "    x.observe(notebookContainer, {childList: true});\n",
       "}}\n",
       "\n",
       "// Listen for the clearing of the current output cell\n",
       "var outputEl = gd.closest('.output');\n",
       "if (outputEl) {{\n",
       "    x.observe(outputEl, {childList: true});\n",
       "}}\n",
       "\n",
       "                        })                };                });            </script>        </div>"
      ]
     },
     "metadata": {},
     "output_type": "display_data"
    }
   ],
   "source": [
    "draw_trace_bar_dept(Department_t,'Department','Dep_count','Free Session Student Pressent', 'Department Name','Total_Students',\"blue\")"
   ]
  },
  {
   "cell_type": "code",
   "execution_count": 101,
   "metadata": {},
   "outputs": [
    {
     "data": {
      "text/html": [
       "<div>\n",
       "<style scoped>\n",
       "    .dataframe tbody tr th:only-of-type {\n",
       "        vertical-align: middle;\n",
       "    }\n",
       "\n",
       "    .dataframe tbody tr th {\n",
       "        vertical-align: top;\n",
       "    }\n",
       "\n",
       "    .dataframe thead th {\n",
       "        text-align: right;\n",
       "    }\n",
       "</style>\n",
       "<table border=\"1\" class=\"dataframe\">\n",
       "  <thead>\n",
       "    <tr style=\"text-align: right;\">\n",
       "      <th></th>\n",
       "      <th>College</th>\n",
       "      <th>counts</th>\n",
       "      <th>Department</th>\n",
       "      <th>Dep_count</th>\n",
       "    </tr>\n",
       "  </thead>\n",
       "  <tbody>\n",
       "    <tr>\n",
       "      <th>3</th>\n",
       "      <td>AIUB</td>\n",
       "      <td>11.0</td>\n",
       "      <td>NaN</td>\n",
       "      <td>NaN</td>\n",
       "    </tr>\n",
       "    <tr>\n",
       "      <th>7</th>\n",
       "      <td>Academy Of Technology</td>\n",
       "      <td>3.0</td>\n",
       "      <td>NaN</td>\n",
       "      <td>NaN</td>\n",
       "    </tr>\n",
       "    <tr>\n",
       "      <th>14</th>\n",
       "      <td>American International University - Bangladesh</td>\n",
       "      <td>3.0</td>\n",
       "      <td>NaN</td>\n",
       "      <td>NaN</td>\n",
       "    </tr>\n",
       "    <tr>\n",
       "      <th>22</th>\n",
       "      <td>American International University-Bangladesh</td>\n",
       "      <td>3.0</td>\n",
       "      <td>NaN</td>\n",
       "      <td>NaN</td>\n",
       "    </tr>\n",
       "    <tr>\n",
       "      <th>25</th>\n",
       "      <td>NaN</td>\n",
       "      <td>NaN</td>\n",
       "      <td>B.Sc Statistics honours</td>\n",
       "      <td>3.0</td>\n",
       "    </tr>\n",
       "    <tr>\n",
       "      <th>...</th>\n",
       "      <td>...</td>\n",
       "      <td>...</td>\n",
       "      <td>...</td>\n",
       "      <td>...</td>\n",
       "    </tr>\n",
       "    <tr>\n",
       "      <th>374</th>\n",
       "      <td>St. Xavier's College, Kolkata</td>\n",
       "      <td>5.0</td>\n",
       "      <td>NaN</td>\n",
       "      <td>NaN</td>\n",
       "    </tr>\n",
       "    <tr>\n",
       "      <th>398</th>\n",
       "      <td>University of Calcutta</td>\n",
       "      <td>4.0</td>\n",
       "      <td>NaN</td>\n",
       "      <td>NaN</td>\n",
       "    </tr>\n",
       "    <tr>\n",
       "      <th>399</th>\n",
       "      <td>University of Dhaka</td>\n",
       "      <td>3.0</td>\n",
       "      <td>NaN</td>\n",
       "      <td>NaN</td>\n",
       "    </tr>\n",
       "    <tr>\n",
       "      <th>408</th>\n",
       "      <td>Vidyasagar University</td>\n",
       "      <td>6.0</td>\n",
       "      <td>NaN</td>\n",
       "      <td>NaN</td>\n",
       "    </tr>\n",
       "    <tr>\n",
       "      <th>414</th>\n",
       "      <td>Vivekananda College</td>\n",
       "      <td>8.0</td>\n",
       "      <td>NaN</td>\n",
       "      <td>NaN</td>\n",
       "    </tr>\n",
       "  </tbody>\n",
       "</table>\n",
       "<p>78 rows × 4 columns</p>\n",
       "</div>"
      ],
      "text/plain": [
       "                                            College  counts  \\\n",
       "3                                              AIUB    11.0   \n",
       "7                             Academy Of Technology     3.0   \n",
       "14   American International University - Bangladesh     3.0   \n",
       "22    American International University-Bangladesh      3.0   \n",
       "25                                              NaN     NaN   \n",
       "..                                              ...     ...   \n",
       "374                   St. Xavier's College, Kolkata     5.0   \n",
       "398                          University of Calcutta     4.0   \n",
       "399                             University of Dhaka     3.0   \n",
       "408                           Vidyasagar University     6.0   \n",
       "414                             Vivekananda College     8.0   \n",
       "\n",
       "                  Department  Dep_count  \n",
       "3                        NaN        NaN  \n",
       "7                        NaN        NaN  \n",
       "14                       NaN        NaN  \n",
       "22                       NaN        NaN  \n",
       "25   B.Sc Statistics honours        3.0  \n",
       "..                       ...        ...  \n",
       "374                      NaN        NaN  \n",
       "398                      NaN        NaN  \n",
       "399                      NaN        NaN  \n",
       "408                      NaN        NaN  \n",
       "414                      NaN        NaN  \n",
       "\n",
       "[78 rows x 4 columns]"
      ]
     },
     "execution_count": 101,
     "metadata": {},
     "output_type": "execute_result"
    }
   ],
   "source": [
    "uni_dept=pd.concat([uni_t,Department_t],axis=1)\n",
    "uni_dept"
   ]
  },
  {
   "cell_type": "code",
   "execution_count": 103,
   "metadata": {},
   "outputs": [
    {
     "data": {
      "application/vnd.plotly.v1+json": {
       "config": {
        "linkText": "Export to plot.ly",
        "plotlyServerURL": "https://plot.ly",
        "showLink": false
       },
       "data": [
        {
         "marker": {
          "color": "blue"
         },
         "text": [
          null,
          null,
          null,
          null,
          null,
          null,
          null,
          null,
          null,
          null,
          null,
          null,
          null,
          null,
          null,
          null,
          null,
          null,
          "B.P Poddar Institute of Management and Technology",
          null,
          null,
          "AIUB",
          "Academy Of Technology",
          "American International University - Bangladesh",
          "American International University-Bangladesh ",
          "Asutosh College",
          "Asutosh college",
          "B.P. PODDAR INSTITUTE OF MANAGEMENT AND TECHNOLOGY",
          "B.P. Poddar Institute Of Management And Technology",
          "B.P.PODDAR INSTITUTE OF MANAGEMENT AND TECHNOLOGY",
          "Bethune College",
          "Bethune College ",
          "Bethune college",
          "DIATM",
          "Durgapur Institute of Advanced Technology and Management",
          "Durgapur Women's College",
          "Durgapur government college",
          "Durgapur institute of advanced technology and management",
          "Durgapur women's college",
          "Durgapur women's college ",
          "Future Institute Of Technology",
          "Future Institute of Technology",
          "JADAVPUR UNIVERSITY",
          "Jadavpur University",
          "Kalyani Mahavidyalaya",
          "Kalyani mahavidyalaya",
          "LADY BRABOURNE COLLEGE",
          "Lady Brabourne College",
          "Lady Brabourne College ",
          "Lady Brabourne College, Kolkata",
          "Lady Brabourne college",
          "Lady brabourne college",
          "Lady brabourne college ",
          "MAULANA AZAD COLLEGE",
          "Maulana Abul Kalam Azad University of Technology",
          "Maulana Azad College",
          "Maulana Azad College ",
          "Maulana Azad College, Kolkata",
          "Maulana Azad college",
          "Narasinha Dutt College",
          "Narasinha dutt college",
          "North South University ",
          "Presidency University",
          "Presidency University ",
          "Presidency University, Kolkata",
          "RERF",
          "Regent Education & Research Foundation",
          "Regent Education And Research Foundation",
          "Regent Education and Research Foundation",
          "Regent Education and Research Foundation ",
          "Regent Education and Research Foundation Group of Institutions",
          "Regent education and research foundation",
          "St. Xavier's College",
          "St. Xavier's College, Kolkata",
          "University of Calcutta",
          "University of Dhaka",
          "Vidyasagar University",
          "Vivekananda College"
         ],
         "type": "bar",
         "x": [
          null,
          null,
          null,
          null,
          null,
          null,
          null,
          null,
          null,
          null,
          null,
          null,
          null,
          null,
          null,
          null,
          null,
          null,
          "B.P Poddar Institute of Management and Technology",
          null,
          null,
          "AIUB",
          "Academy Of Technology",
          "American International University - Bangladesh",
          "American International University-Bangladesh ",
          "Asutosh College",
          "Asutosh college",
          "B.P. PODDAR INSTITUTE OF MANAGEMENT AND TECHNOLOGY",
          "B.P. Poddar Institute Of Management And Technology",
          "B.P.PODDAR INSTITUTE OF MANAGEMENT AND TECHNOLOGY",
          "Bethune College",
          "Bethune College ",
          "Bethune college",
          "DIATM",
          "Durgapur Institute of Advanced Technology and Management",
          "Durgapur Women's College",
          "Durgapur government college",
          "Durgapur institute of advanced technology and management",
          "Durgapur women's college",
          "Durgapur women's college ",
          "Future Institute Of Technology",
          "Future Institute of Technology",
          "JADAVPUR UNIVERSITY",
          "Jadavpur University",
          "Kalyani Mahavidyalaya",
          "Kalyani mahavidyalaya",
          "LADY BRABOURNE COLLEGE",
          "Lady Brabourne College",
          "Lady Brabourne College ",
          "Lady Brabourne College, Kolkata",
          "Lady Brabourne college",
          "Lady brabourne college",
          "Lady brabourne college ",
          "MAULANA AZAD COLLEGE",
          "Maulana Abul Kalam Azad University of Technology",
          "Maulana Azad College",
          "Maulana Azad College ",
          "Maulana Azad College, Kolkata",
          "Maulana Azad college",
          "Narasinha Dutt College",
          "Narasinha dutt college",
          "North South University ",
          "Presidency University",
          "Presidency University ",
          "Presidency University, Kolkata",
          "RERF",
          "Regent Education & Research Foundation",
          "Regent Education And Research Foundation",
          "Regent Education and Research Foundation",
          "Regent Education and Research Foundation ",
          "Regent Education and Research Foundation Group of Institutions",
          "Regent education and research foundation",
          "St. Xavier's College",
          "St. Xavier's College, Kolkata",
          "University of Calcutta",
          "University of Dhaka",
          "Vidyasagar University",
          "Vivekananda College"
         ],
         "y": [
          "others",
          "Statistics honours",
          "Statistics Hons",
          "Statistics Honours",
          "Statistics ",
          "Statistics",
          "R",
          "Mathematics ",
          "Mathematics",
          "Honors (BSC/MSC)",
          "Engineering",
          "Electrical engineering",
          "Electrical Engineering",
          "ECE",
          "Computer science",
          "Computer Science",
          "CSE",
          "BCA",
          "BBA",
          "B.tech",
          "B.Sc Statistics honours",
          null,
          null,
          null,
          null,
          null,
          null,
          null,
          null,
          null,
          null,
          null,
          null,
          null,
          null,
          null,
          null,
          null,
          null,
          null,
          null,
          null,
          null,
          null,
          null,
          null,
          null,
          null,
          null,
          null,
          null,
          null,
          null,
          null,
          null,
          null,
          null,
          null,
          null,
          null,
          null,
          null,
          null,
          null,
          null,
          null,
          null,
          null,
          null,
          null,
          null,
          null,
          null,
          null,
          null,
          null,
          null,
          null
         ]
        }
       ],
       "layout": {
        "hovermode": "closest",
        "paper_bgcolor": "rgba(0, 0, 0, 0)",
        "plot_bgcolor": "rgba(0, 0, 0, 0)",
        "template": {
         "data": {
          "bar": [
           {
            "error_x": {
             "color": "#2a3f5f"
            },
            "error_y": {
             "color": "#2a3f5f"
            },
            "marker": {
             "line": {
              "color": "#E5ECF6",
              "width": 0.5
             }
            },
            "type": "bar"
           }
          ],
          "barpolar": [
           {
            "marker": {
             "line": {
              "color": "#E5ECF6",
              "width": 0.5
             }
            },
            "type": "barpolar"
           }
          ],
          "carpet": [
           {
            "aaxis": {
             "endlinecolor": "#2a3f5f",
             "gridcolor": "white",
             "linecolor": "white",
             "minorgridcolor": "white",
             "startlinecolor": "#2a3f5f"
            },
            "baxis": {
             "endlinecolor": "#2a3f5f",
             "gridcolor": "white",
             "linecolor": "white",
             "minorgridcolor": "white",
             "startlinecolor": "#2a3f5f"
            },
            "type": "carpet"
           }
          ],
          "choropleth": [
           {
            "colorbar": {
             "outlinewidth": 0,
             "ticks": ""
            },
            "type": "choropleth"
           }
          ],
          "contour": [
           {
            "colorbar": {
             "outlinewidth": 0,
             "ticks": ""
            },
            "colorscale": [
             [
              0,
              "#0d0887"
             ],
             [
              0.1111111111111111,
              "#46039f"
             ],
             [
              0.2222222222222222,
              "#7201a8"
             ],
             [
              0.3333333333333333,
              "#9c179e"
             ],
             [
              0.4444444444444444,
              "#bd3786"
             ],
             [
              0.5555555555555556,
              "#d8576b"
             ],
             [
              0.6666666666666666,
              "#ed7953"
             ],
             [
              0.7777777777777778,
              "#fb9f3a"
             ],
             [
              0.8888888888888888,
              "#fdca26"
             ],
             [
              1,
              "#f0f921"
             ]
            ],
            "type": "contour"
           }
          ],
          "contourcarpet": [
           {
            "colorbar": {
             "outlinewidth": 0,
             "ticks": ""
            },
            "type": "contourcarpet"
           }
          ],
          "heatmap": [
           {
            "colorbar": {
             "outlinewidth": 0,
             "ticks": ""
            },
            "colorscale": [
             [
              0,
              "#0d0887"
             ],
             [
              0.1111111111111111,
              "#46039f"
             ],
             [
              0.2222222222222222,
              "#7201a8"
             ],
             [
              0.3333333333333333,
              "#9c179e"
             ],
             [
              0.4444444444444444,
              "#bd3786"
             ],
             [
              0.5555555555555556,
              "#d8576b"
             ],
             [
              0.6666666666666666,
              "#ed7953"
             ],
             [
              0.7777777777777778,
              "#fb9f3a"
             ],
             [
              0.8888888888888888,
              "#fdca26"
             ],
             [
              1,
              "#f0f921"
             ]
            ],
            "type": "heatmap"
           }
          ],
          "heatmapgl": [
           {
            "colorbar": {
             "outlinewidth": 0,
             "ticks": ""
            },
            "colorscale": [
             [
              0,
              "#0d0887"
             ],
             [
              0.1111111111111111,
              "#46039f"
             ],
             [
              0.2222222222222222,
              "#7201a8"
             ],
             [
              0.3333333333333333,
              "#9c179e"
             ],
             [
              0.4444444444444444,
              "#bd3786"
             ],
             [
              0.5555555555555556,
              "#d8576b"
             ],
             [
              0.6666666666666666,
              "#ed7953"
             ],
             [
              0.7777777777777778,
              "#fb9f3a"
             ],
             [
              0.8888888888888888,
              "#fdca26"
             ],
             [
              1,
              "#f0f921"
             ]
            ],
            "type": "heatmapgl"
           }
          ],
          "histogram": [
           {
            "marker": {
             "colorbar": {
              "outlinewidth": 0,
              "ticks": ""
             }
            },
            "type": "histogram"
           }
          ],
          "histogram2d": [
           {
            "colorbar": {
             "outlinewidth": 0,
             "ticks": ""
            },
            "colorscale": [
             [
              0,
              "#0d0887"
             ],
             [
              0.1111111111111111,
              "#46039f"
             ],
             [
              0.2222222222222222,
              "#7201a8"
             ],
             [
              0.3333333333333333,
              "#9c179e"
             ],
             [
              0.4444444444444444,
              "#bd3786"
             ],
             [
              0.5555555555555556,
              "#d8576b"
             ],
             [
              0.6666666666666666,
              "#ed7953"
             ],
             [
              0.7777777777777778,
              "#fb9f3a"
             ],
             [
              0.8888888888888888,
              "#fdca26"
             ],
             [
              1,
              "#f0f921"
             ]
            ],
            "type": "histogram2d"
           }
          ],
          "histogram2dcontour": [
           {
            "colorbar": {
             "outlinewidth": 0,
             "ticks": ""
            },
            "colorscale": [
             [
              0,
              "#0d0887"
             ],
             [
              0.1111111111111111,
              "#46039f"
             ],
             [
              0.2222222222222222,
              "#7201a8"
             ],
             [
              0.3333333333333333,
              "#9c179e"
             ],
             [
              0.4444444444444444,
              "#bd3786"
             ],
             [
              0.5555555555555556,
              "#d8576b"
             ],
             [
              0.6666666666666666,
              "#ed7953"
             ],
             [
              0.7777777777777778,
              "#fb9f3a"
             ],
             [
              0.8888888888888888,
              "#fdca26"
             ],
             [
              1,
              "#f0f921"
             ]
            ],
            "type": "histogram2dcontour"
           }
          ],
          "mesh3d": [
           {
            "colorbar": {
             "outlinewidth": 0,
             "ticks": ""
            },
            "type": "mesh3d"
           }
          ],
          "parcoords": [
           {
            "line": {
             "colorbar": {
              "outlinewidth": 0,
              "ticks": ""
             }
            },
            "type": "parcoords"
           }
          ],
          "pie": [
           {
            "automargin": true,
            "type": "pie"
           }
          ],
          "scatter": [
           {
            "marker": {
             "colorbar": {
              "outlinewidth": 0,
              "ticks": ""
             }
            },
            "type": "scatter"
           }
          ],
          "scatter3d": [
           {
            "line": {
             "colorbar": {
              "outlinewidth": 0,
              "ticks": ""
             }
            },
            "marker": {
             "colorbar": {
              "outlinewidth": 0,
              "ticks": ""
             }
            },
            "type": "scatter3d"
           }
          ],
          "scattercarpet": [
           {
            "marker": {
             "colorbar": {
              "outlinewidth": 0,
              "ticks": ""
             }
            },
            "type": "scattercarpet"
           }
          ],
          "scattergeo": [
           {
            "marker": {
             "colorbar": {
              "outlinewidth": 0,
              "ticks": ""
             }
            },
            "type": "scattergeo"
           }
          ],
          "scattergl": [
           {
            "marker": {
             "colorbar": {
              "outlinewidth": 0,
              "ticks": ""
             }
            },
            "type": "scattergl"
           }
          ],
          "scattermapbox": [
           {
            "marker": {
             "colorbar": {
              "outlinewidth": 0,
              "ticks": ""
             }
            },
            "type": "scattermapbox"
           }
          ],
          "scatterpolar": [
           {
            "marker": {
             "colorbar": {
              "outlinewidth": 0,
              "ticks": ""
             }
            },
            "type": "scatterpolar"
           }
          ],
          "scatterpolargl": [
           {
            "marker": {
             "colorbar": {
              "outlinewidth": 0,
              "ticks": ""
             }
            },
            "type": "scatterpolargl"
           }
          ],
          "scatterternary": [
           {
            "marker": {
             "colorbar": {
              "outlinewidth": 0,
              "ticks": ""
             }
            },
            "type": "scatterternary"
           }
          ],
          "surface": [
           {
            "colorbar": {
             "outlinewidth": 0,
             "ticks": ""
            },
            "colorscale": [
             [
              0,
              "#0d0887"
             ],
             [
              0.1111111111111111,
              "#46039f"
             ],
             [
              0.2222222222222222,
              "#7201a8"
             ],
             [
              0.3333333333333333,
              "#9c179e"
             ],
             [
              0.4444444444444444,
              "#bd3786"
             ],
             [
              0.5555555555555556,
              "#d8576b"
             ],
             [
              0.6666666666666666,
              "#ed7953"
             ],
             [
              0.7777777777777778,
              "#fb9f3a"
             ],
             [
              0.8888888888888888,
              "#fdca26"
             ],
             [
              1,
              "#f0f921"
             ]
            ],
            "type": "surface"
           }
          ],
          "table": [
           {
            "cells": {
             "fill": {
              "color": "#EBF0F8"
             },
             "line": {
              "color": "white"
             }
            },
            "header": {
             "fill": {
              "color": "#C8D4E3"
             },
             "line": {
              "color": "white"
             }
            },
            "type": "table"
           }
          ]
         },
         "layout": {
          "annotationdefaults": {
           "arrowcolor": "#2a3f5f",
           "arrowhead": 0,
           "arrowwidth": 1
          },
          "autotypenumbers": "strict",
          "coloraxis": {
           "colorbar": {
            "outlinewidth": 0,
            "ticks": ""
           }
          },
          "colorscale": {
           "diverging": [
            [
             0,
             "#8e0152"
            ],
            [
             0.1,
             "#c51b7d"
            ],
            [
             0.2,
             "#de77ae"
            ],
            [
             0.3,
             "#f1b6da"
            ],
            [
             0.4,
             "#fde0ef"
            ],
            [
             0.5,
             "#f7f7f7"
            ],
            [
             0.6,
             "#e6f5d0"
            ],
            [
             0.7,
             "#b8e186"
            ],
            [
             0.8,
             "#7fbc41"
            ],
            [
             0.9,
             "#4d9221"
            ],
            [
             1,
             "#276419"
            ]
           ],
           "sequential": [
            [
             0,
             "#0d0887"
            ],
            [
             0.1111111111111111,
             "#46039f"
            ],
            [
             0.2222222222222222,
             "#7201a8"
            ],
            [
             0.3333333333333333,
             "#9c179e"
            ],
            [
             0.4444444444444444,
             "#bd3786"
            ],
            [
             0.5555555555555556,
             "#d8576b"
            ],
            [
             0.6666666666666666,
             "#ed7953"
            ],
            [
             0.7777777777777778,
             "#fb9f3a"
            ],
            [
             0.8888888888888888,
             "#fdca26"
            ],
            [
             1,
             "#f0f921"
            ]
           ],
           "sequentialminus": [
            [
             0,
             "#0d0887"
            ],
            [
             0.1111111111111111,
             "#46039f"
            ],
            [
             0.2222222222222222,
             "#7201a8"
            ],
            [
             0.3333333333333333,
             "#9c179e"
            ],
            [
             0.4444444444444444,
             "#bd3786"
            ],
            [
             0.5555555555555556,
             "#d8576b"
            ],
            [
             0.6666666666666666,
             "#ed7953"
            ],
            [
             0.7777777777777778,
             "#fb9f3a"
            ],
            [
             0.8888888888888888,
             "#fdca26"
            ],
            [
             1,
             "#f0f921"
            ]
           ]
          },
          "colorway": [
           "#636efa",
           "#EF553B",
           "#00cc96",
           "#ab63fa",
           "#FFA15A",
           "#19d3f3",
           "#FF6692",
           "#B6E880",
           "#FF97FF",
           "#FECB52"
          ],
          "font": {
           "color": "#2a3f5f"
          },
          "geo": {
           "bgcolor": "white",
           "lakecolor": "white",
           "landcolor": "#E5ECF6",
           "showlakes": true,
           "showland": true,
           "subunitcolor": "white"
          },
          "hoverlabel": {
           "align": "left"
          },
          "hovermode": "closest",
          "mapbox": {
           "style": "light"
          },
          "paper_bgcolor": "white",
          "plot_bgcolor": "#E5ECF6",
          "polar": {
           "angularaxis": {
            "gridcolor": "white",
            "linecolor": "white",
            "ticks": ""
           },
           "bgcolor": "#E5ECF6",
           "radialaxis": {
            "gridcolor": "white",
            "linecolor": "white",
            "ticks": ""
           }
          },
          "scene": {
           "xaxis": {
            "backgroundcolor": "#E5ECF6",
            "gridcolor": "white",
            "gridwidth": 2,
            "linecolor": "white",
            "showbackground": true,
            "ticks": "",
            "zerolinecolor": "white"
           },
           "yaxis": {
            "backgroundcolor": "#E5ECF6",
            "gridcolor": "white",
            "gridwidth": 2,
            "linecolor": "white",
            "showbackground": true,
            "ticks": "",
            "zerolinecolor": "white"
           },
           "zaxis": {
            "backgroundcolor": "#E5ECF6",
            "gridcolor": "white",
            "gridwidth": 2,
            "linecolor": "white",
            "showbackground": true,
            "ticks": "",
            "zerolinecolor": "white"
           }
          },
          "shapedefaults": {
           "line": {
            "color": "#2a3f5f"
           }
          },
          "ternary": {
           "aaxis": {
            "gridcolor": "white",
            "linecolor": "white",
            "ticks": ""
           },
           "baxis": {
            "gridcolor": "white",
            "linecolor": "white",
            "ticks": ""
           },
           "bgcolor": "#E5ECF6",
           "caxis": {
            "gridcolor": "white",
            "linecolor": "white",
            "ticks": ""
           }
          },
          "title": {
           "x": 0.05
          },
          "xaxis": {
           "automargin": true,
           "gridcolor": "white",
           "linecolor": "white",
           "ticks": "",
           "title": {
            "standoff": 15
           },
           "zerolinecolor": "white",
           "zerolinewidth": 2
          },
          "yaxis": {
           "automargin": true,
           "gridcolor": "white",
           "linecolor": "white",
           "ticks": "",
           "title": {
            "standoff": 15
           },
           "zerolinecolor": "white",
           "zerolinewidth": 2
          }
         }
        },
        "title": {
         "text": "Free Session Student Pressent"
        },
        "xaxis": {
         "linecolor": "black",
         "linewidth": 2,
         "mirror": true,
         "showline": true,
         "showticklabels": true,
         "tickangle": 45,
         "tickfont": {
          "color": "red",
          "size": 10
         },
         "title": {
          "text": "University Name"
         },
         "zeroline": true,
         "zerolinecolor": "grey",
         "zerolinewidth": 1
        },
        "yaxis": {
         "gridcolor": "lightgrey",
         "linecolor": "black",
         "linewidth": 2,
         "mirror": true,
         "showline": true,
         "title": {
          "text": "Total_Students"
         },
         "zeroline": true,
         "zerolinecolor": "grey",
         "zerolinewidth": 1
        }
       }
      },
      "text/html": [
       "<div>                            <div id=\"37cce8ea-4809-43e7-a394-9a550dff084e\" class=\"plotly-graph-div\" style=\"height:525px; width:100%;\"></div>            <script type=\"text/javascript\">                require([\"plotly\"], function(Plotly) {                    window.PLOTLYENV=window.PLOTLYENV || {};                                    if (document.getElementById(\"37cce8ea-4809-43e7-a394-9a550dff084e\")) {                    Plotly.newPlot(                        \"37cce8ea-4809-43e7-a394-9a550dff084e\",                        [{\"marker\": {\"color\": \"blue\"}, \"text\": [null, null, null, null, null, null, null, null, null, null, null, null, null, null, null, null, null, null, \"B.P Poddar Institute of Management and Technology\", null, null, \"AIUB\", \"Academy Of Technology\", \"American International University - Bangladesh\", \"American International University-Bangladesh \", \"Asutosh College\", \"Asutosh college\", \"B.P. PODDAR INSTITUTE OF MANAGEMENT AND TECHNOLOGY\", \"B.P. Poddar Institute Of Management And Technology\", \"B.P.PODDAR INSTITUTE OF MANAGEMENT AND TECHNOLOGY\", \"Bethune College\", \"Bethune College \", \"Bethune college\", \"DIATM\", \"Durgapur Institute of Advanced Technology and Management\", \"Durgapur Women's College\", \"Durgapur government college\", \"Durgapur institute of advanced technology and management\", \"Durgapur women's college\", \"Durgapur women's college \", \"Future Institute Of Technology\", \"Future Institute of Technology\", \"JADAVPUR UNIVERSITY\", \"Jadavpur University\", \"Kalyani Mahavidyalaya\", \"Kalyani mahavidyalaya\", \"LADY BRABOURNE COLLEGE\", \"Lady Brabourne College\", \"Lady Brabourne College \", \"Lady Brabourne College, Kolkata\", \"Lady Brabourne college\", \"Lady brabourne college\", \"Lady brabourne college \", \"MAULANA AZAD COLLEGE\", \"Maulana Abul Kalam Azad University of Technology\", \"Maulana Azad College\", \"Maulana Azad College \", \"Maulana Azad College, Kolkata\", \"Maulana Azad college\", \"Narasinha Dutt College\", \"Narasinha dutt college\", \"North South University \", \"Presidency University\", \"Presidency University \", \"Presidency University, Kolkata\", \"RERF\", \"Regent Education & Research Foundation\", \"Regent Education And Research Foundation\", \"Regent Education and Research Foundation\", \"Regent Education and Research Foundation \", \"Regent Education and Research Foundation Group of Institutions\", \"Regent education and research foundation\", \"St. Xavier's College\", \"St. Xavier's College, Kolkata\", \"University of Calcutta\", \"University of Dhaka\", \"Vidyasagar University\", \"Vivekananda College\"], \"type\": \"bar\", \"x\": [null, null, null, null, null, null, null, null, null, null, null, null, null, null, null, null, null, null, \"B.P Poddar Institute of Management and Technology\", null, null, \"AIUB\", \"Academy Of Technology\", \"American International University - Bangladesh\", \"American International University-Bangladesh \", \"Asutosh College\", \"Asutosh college\", \"B.P. PODDAR INSTITUTE OF MANAGEMENT AND TECHNOLOGY\", \"B.P. Poddar Institute Of Management And Technology\", \"B.P.PODDAR INSTITUTE OF MANAGEMENT AND TECHNOLOGY\", \"Bethune College\", \"Bethune College \", \"Bethune college\", \"DIATM\", \"Durgapur Institute of Advanced Technology and Management\", \"Durgapur Women's College\", \"Durgapur government college\", \"Durgapur institute of advanced technology and management\", \"Durgapur women's college\", \"Durgapur women's college \", \"Future Institute Of Technology\", \"Future Institute of Technology\", \"JADAVPUR UNIVERSITY\", \"Jadavpur University\", \"Kalyani Mahavidyalaya\", \"Kalyani mahavidyalaya\", \"LADY BRABOURNE COLLEGE\", \"Lady Brabourne College\", \"Lady Brabourne College \", \"Lady Brabourne College, Kolkata\", \"Lady Brabourne college\", \"Lady brabourne college\", \"Lady brabourne college \", \"MAULANA AZAD COLLEGE\", \"Maulana Abul Kalam Azad University of Technology\", \"Maulana Azad College\", \"Maulana Azad College \", \"Maulana Azad College, Kolkata\", \"Maulana Azad college\", \"Narasinha Dutt College\", \"Narasinha dutt college\", \"North South University \", \"Presidency University\", \"Presidency University \", \"Presidency University, Kolkata\", \"RERF\", \"Regent Education & Research Foundation\", \"Regent Education And Research Foundation\", \"Regent Education and Research Foundation\", \"Regent Education and Research Foundation \", \"Regent Education and Research Foundation Group of Institutions\", \"Regent education and research foundation\", \"St. Xavier's College\", \"St. Xavier's College, Kolkata\", \"University of Calcutta\", \"University of Dhaka\", \"Vidyasagar University\", \"Vivekananda College\"], \"y\": [\"others\", \"Statistics honours\", \"Statistics Hons\", \"Statistics Honours\", \"Statistics \", \"Statistics\", \"R\", \"Mathematics \", \"Mathematics\", \"Honors (BSC/MSC)\", \"Engineering\", \"Electrical engineering\", \"Electrical Engineering\", \"ECE\", \"Computer science\", \"Computer Science\", \"CSE\", \"BCA\", \"BBA\", \"B.tech\", \"B.Sc Statistics honours\", null, null, null, null, null, null, null, null, null, null, null, null, null, null, null, null, null, null, null, null, null, null, null, null, null, null, null, null, null, null, null, null, null, null, null, null, null, null, null, null, null, null, null, null, null, null, null, null, null, null, null, null, null, null, null, null, null]}],                        {\"hovermode\": \"closest\", \"paper_bgcolor\": \"rgba(0, 0, 0, 0)\", \"plot_bgcolor\": \"rgba(0, 0, 0, 0)\", \"template\": {\"data\": {\"bar\": [{\"error_x\": {\"color\": \"#2a3f5f\"}, \"error_y\": {\"color\": \"#2a3f5f\"}, \"marker\": {\"line\": {\"color\": \"#E5ECF6\", \"width\": 0.5}}, \"type\": \"bar\"}], \"barpolar\": [{\"marker\": {\"line\": {\"color\": \"#E5ECF6\", \"width\": 0.5}}, \"type\": \"barpolar\"}], \"carpet\": [{\"aaxis\": {\"endlinecolor\": \"#2a3f5f\", \"gridcolor\": \"white\", \"linecolor\": \"white\", \"minorgridcolor\": \"white\", \"startlinecolor\": \"#2a3f5f\"}, \"baxis\": {\"endlinecolor\": \"#2a3f5f\", \"gridcolor\": \"white\", \"linecolor\": \"white\", \"minorgridcolor\": \"white\", \"startlinecolor\": \"#2a3f5f\"}, \"type\": \"carpet\"}], \"choropleth\": [{\"colorbar\": {\"outlinewidth\": 0, \"ticks\": \"\"}, \"type\": \"choropleth\"}], \"contour\": [{\"colorbar\": {\"outlinewidth\": 0, \"ticks\": \"\"}, \"colorscale\": [[0.0, \"#0d0887\"], [0.1111111111111111, \"#46039f\"], [0.2222222222222222, \"#7201a8\"], [0.3333333333333333, \"#9c179e\"], [0.4444444444444444, \"#bd3786\"], [0.5555555555555556, \"#d8576b\"], [0.6666666666666666, \"#ed7953\"], [0.7777777777777778, \"#fb9f3a\"], [0.8888888888888888, \"#fdca26\"], [1.0, \"#f0f921\"]], \"type\": \"contour\"}], \"contourcarpet\": [{\"colorbar\": {\"outlinewidth\": 0, \"ticks\": \"\"}, \"type\": \"contourcarpet\"}], \"heatmap\": [{\"colorbar\": {\"outlinewidth\": 0, \"ticks\": \"\"}, \"colorscale\": [[0.0, \"#0d0887\"], [0.1111111111111111, \"#46039f\"], [0.2222222222222222, \"#7201a8\"], [0.3333333333333333, \"#9c179e\"], [0.4444444444444444, \"#bd3786\"], [0.5555555555555556, \"#d8576b\"], [0.6666666666666666, \"#ed7953\"], [0.7777777777777778, \"#fb9f3a\"], [0.8888888888888888, \"#fdca26\"], [1.0, \"#f0f921\"]], \"type\": \"heatmap\"}], \"heatmapgl\": [{\"colorbar\": {\"outlinewidth\": 0, \"ticks\": \"\"}, \"colorscale\": [[0.0, \"#0d0887\"], [0.1111111111111111, \"#46039f\"], [0.2222222222222222, \"#7201a8\"], [0.3333333333333333, \"#9c179e\"], [0.4444444444444444, \"#bd3786\"], [0.5555555555555556, \"#d8576b\"], [0.6666666666666666, \"#ed7953\"], [0.7777777777777778, \"#fb9f3a\"], [0.8888888888888888, \"#fdca26\"], [1.0, \"#f0f921\"]], \"type\": \"heatmapgl\"}], \"histogram\": [{\"marker\": {\"colorbar\": {\"outlinewidth\": 0, \"ticks\": \"\"}}, \"type\": \"histogram\"}], \"histogram2d\": [{\"colorbar\": {\"outlinewidth\": 0, \"ticks\": \"\"}, \"colorscale\": [[0.0, \"#0d0887\"], [0.1111111111111111, \"#46039f\"], [0.2222222222222222, \"#7201a8\"], [0.3333333333333333, \"#9c179e\"], [0.4444444444444444, \"#bd3786\"], [0.5555555555555556, \"#d8576b\"], [0.6666666666666666, \"#ed7953\"], [0.7777777777777778, \"#fb9f3a\"], [0.8888888888888888, \"#fdca26\"], [1.0, \"#f0f921\"]], \"type\": \"histogram2d\"}], \"histogram2dcontour\": [{\"colorbar\": {\"outlinewidth\": 0, \"ticks\": \"\"}, \"colorscale\": [[0.0, \"#0d0887\"], [0.1111111111111111, \"#46039f\"], [0.2222222222222222, \"#7201a8\"], [0.3333333333333333, \"#9c179e\"], [0.4444444444444444, \"#bd3786\"], [0.5555555555555556, \"#d8576b\"], [0.6666666666666666, \"#ed7953\"], [0.7777777777777778, \"#fb9f3a\"], [0.8888888888888888, \"#fdca26\"], [1.0, \"#f0f921\"]], \"type\": \"histogram2dcontour\"}], \"mesh3d\": [{\"colorbar\": {\"outlinewidth\": 0, \"ticks\": \"\"}, \"type\": \"mesh3d\"}], \"parcoords\": [{\"line\": {\"colorbar\": {\"outlinewidth\": 0, \"ticks\": \"\"}}, \"type\": \"parcoords\"}], \"pie\": [{\"automargin\": true, \"type\": \"pie\"}], \"scatter\": [{\"marker\": {\"colorbar\": {\"outlinewidth\": 0, \"ticks\": \"\"}}, \"type\": \"scatter\"}], \"scatter3d\": [{\"line\": {\"colorbar\": {\"outlinewidth\": 0, \"ticks\": \"\"}}, \"marker\": {\"colorbar\": {\"outlinewidth\": 0, \"ticks\": \"\"}}, \"type\": \"scatter3d\"}], \"scattercarpet\": [{\"marker\": {\"colorbar\": {\"outlinewidth\": 0, \"ticks\": \"\"}}, \"type\": \"scattercarpet\"}], \"scattergeo\": [{\"marker\": {\"colorbar\": {\"outlinewidth\": 0, \"ticks\": \"\"}}, \"type\": \"scattergeo\"}], \"scattergl\": [{\"marker\": {\"colorbar\": {\"outlinewidth\": 0, \"ticks\": \"\"}}, \"type\": \"scattergl\"}], \"scattermapbox\": [{\"marker\": {\"colorbar\": {\"outlinewidth\": 0, \"ticks\": \"\"}}, \"type\": \"scattermapbox\"}], \"scatterpolar\": [{\"marker\": {\"colorbar\": {\"outlinewidth\": 0, \"ticks\": \"\"}}, \"type\": \"scatterpolar\"}], \"scatterpolargl\": [{\"marker\": {\"colorbar\": {\"outlinewidth\": 0, \"ticks\": \"\"}}, \"type\": \"scatterpolargl\"}], \"scatterternary\": [{\"marker\": {\"colorbar\": {\"outlinewidth\": 0, \"ticks\": \"\"}}, \"type\": \"scatterternary\"}], \"surface\": [{\"colorbar\": {\"outlinewidth\": 0, \"ticks\": \"\"}, \"colorscale\": [[0.0, \"#0d0887\"], [0.1111111111111111, \"#46039f\"], [0.2222222222222222, \"#7201a8\"], [0.3333333333333333, \"#9c179e\"], [0.4444444444444444, \"#bd3786\"], [0.5555555555555556, \"#d8576b\"], [0.6666666666666666, \"#ed7953\"], [0.7777777777777778, \"#fb9f3a\"], [0.8888888888888888, \"#fdca26\"], [1.0, \"#f0f921\"]], \"type\": \"surface\"}], \"table\": [{\"cells\": {\"fill\": {\"color\": \"#EBF0F8\"}, \"line\": {\"color\": \"white\"}}, \"header\": {\"fill\": {\"color\": \"#C8D4E3\"}, \"line\": {\"color\": \"white\"}}, \"type\": \"table\"}]}, \"layout\": {\"annotationdefaults\": {\"arrowcolor\": \"#2a3f5f\", \"arrowhead\": 0, \"arrowwidth\": 1}, \"autotypenumbers\": \"strict\", \"coloraxis\": {\"colorbar\": {\"outlinewidth\": 0, \"ticks\": \"\"}}, \"colorscale\": {\"diverging\": [[0, \"#8e0152\"], [0.1, \"#c51b7d\"], [0.2, \"#de77ae\"], [0.3, \"#f1b6da\"], [0.4, \"#fde0ef\"], [0.5, \"#f7f7f7\"], [0.6, \"#e6f5d0\"], [0.7, \"#b8e186\"], [0.8, \"#7fbc41\"], [0.9, \"#4d9221\"], [1, \"#276419\"]], \"sequential\": [[0.0, \"#0d0887\"], [0.1111111111111111, \"#46039f\"], [0.2222222222222222, \"#7201a8\"], [0.3333333333333333, \"#9c179e\"], [0.4444444444444444, \"#bd3786\"], [0.5555555555555556, \"#d8576b\"], [0.6666666666666666, \"#ed7953\"], [0.7777777777777778, \"#fb9f3a\"], [0.8888888888888888, \"#fdca26\"], [1.0, \"#f0f921\"]], \"sequentialminus\": [[0.0, \"#0d0887\"], [0.1111111111111111, \"#46039f\"], [0.2222222222222222, \"#7201a8\"], [0.3333333333333333, \"#9c179e\"], [0.4444444444444444, \"#bd3786\"], [0.5555555555555556, \"#d8576b\"], [0.6666666666666666, \"#ed7953\"], [0.7777777777777778, \"#fb9f3a\"], [0.8888888888888888, \"#fdca26\"], [1.0, \"#f0f921\"]]}, \"colorway\": [\"#636efa\", \"#EF553B\", \"#00cc96\", \"#ab63fa\", \"#FFA15A\", \"#19d3f3\", \"#FF6692\", \"#B6E880\", \"#FF97FF\", \"#FECB52\"], \"font\": {\"color\": \"#2a3f5f\"}, \"geo\": {\"bgcolor\": \"white\", \"lakecolor\": \"white\", \"landcolor\": \"#E5ECF6\", \"showlakes\": true, \"showland\": true, \"subunitcolor\": \"white\"}, \"hoverlabel\": {\"align\": \"left\"}, \"hovermode\": \"closest\", \"mapbox\": {\"style\": \"light\"}, \"paper_bgcolor\": \"white\", \"plot_bgcolor\": \"#E5ECF6\", \"polar\": {\"angularaxis\": {\"gridcolor\": \"white\", \"linecolor\": \"white\", \"ticks\": \"\"}, \"bgcolor\": \"#E5ECF6\", \"radialaxis\": {\"gridcolor\": \"white\", \"linecolor\": \"white\", \"ticks\": \"\"}}, \"scene\": {\"xaxis\": {\"backgroundcolor\": \"#E5ECF6\", \"gridcolor\": \"white\", \"gridwidth\": 2, \"linecolor\": \"white\", \"showbackground\": true, \"ticks\": \"\", \"zerolinecolor\": \"white\"}, \"yaxis\": {\"backgroundcolor\": \"#E5ECF6\", \"gridcolor\": \"white\", \"gridwidth\": 2, \"linecolor\": \"white\", \"showbackground\": true, \"ticks\": \"\", \"zerolinecolor\": \"white\"}, \"zaxis\": {\"backgroundcolor\": \"#E5ECF6\", \"gridcolor\": \"white\", \"gridwidth\": 2, \"linecolor\": \"white\", \"showbackground\": true, \"ticks\": \"\", \"zerolinecolor\": \"white\"}}, \"shapedefaults\": {\"line\": {\"color\": \"#2a3f5f\"}}, \"ternary\": {\"aaxis\": {\"gridcolor\": \"white\", \"linecolor\": \"white\", \"ticks\": \"\"}, \"baxis\": {\"gridcolor\": \"white\", \"linecolor\": \"white\", \"ticks\": \"\"}, \"bgcolor\": \"#E5ECF6\", \"caxis\": {\"gridcolor\": \"white\", \"linecolor\": \"white\", \"ticks\": \"\"}}, \"title\": {\"x\": 0.05}, \"xaxis\": {\"automargin\": true, \"gridcolor\": \"white\", \"linecolor\": \"white\", \"ticks\": \"\", \"title\": {\"standoff\": 15}, \"zerolinecolor\": \"white\", \"zerolinewidth\": 2}, \"yaxis\": {\"automargin\": true, \"gridcolor\": \"white\", \"linecolor\": \"white\", \"ticks\": \"\", \"title\": {\"standoff\": 15}, \"zerolinecolor\": \"white\", \"zerolinewidth\": 2}}}, \"title\": {\"text\": \"Free Session Student Pressent\"}, \"xaxis\": {\"linecolor\": \"black\", \"linewidth\": 2, \"mirror\": true, \"showline\": true, \"showticklabels\": true, \"tickangle\": 45, \"tickfont\": {\"color\": \"red\", \"size\": 10}, \"title\": {\"text\": \"University Name\"}, \"zeroline\": true, \"zerolinecolor\": \"grey\", \"zerolinewidth\": 1}, \"yaxis\": {\"gridcolor\": \"lightgrey\", \"linecolor\": \"black\", \"linewidth\": 2, \"mirror\": true, \"showline\": true, \"title\": {\"text\": \"Total_Students\"}, \"zeroline\": true, \"zerolinecolor\": \"grey\", \"zerolinewidth\": 1}},                        {\"responsive\": true}                    ).then(function(){\n",
       "                            \n",
       "var gd = document.getElementById('37cce8ea-4809-43e7-a394-9a550dff084e');\n",
       "var x = new MutationObserver(function (mutations, observer) {{\n",
       "        var display = window.getComputedStyle(gd).display;\n",
       "        if (!display || display === 'none') {{\n",
       "            console.log([gd, 'removed!']);\n",
       "            Plotly.purge(gd);\n",
       "            observer.disconnect();\n",
       "        }}\n",
       "}});\n",
       "\n",
       "// Listen for the removal of the full notebook cells\n",
       "var notebookContainer = gd.closest('#notebook-container');\n",
       "if (notebookContainer) {{\n",
       "    x.observe(notebookContainer, {childList: true});\n",
       "}}\n",
       "\n",
       "// Listen for the clearing of the current output cell\n",
       "var outputEl = gd.closest('.output');\n",
       "if (outputEl) {{\n",
       "    x.observe(outputEl, {childList: true});\n",
       "}}\n",
       "\n",
       "                        })                };                });            </script>        </div>"
      ]
     },
     "metadata": {},
     "output_type": "display_data"
    }
   ],
   "source": [
    "draw_trace_bar_dept(uni_dept,'College','Department','Free Session Student Pressent', 'University Name','Total_Students',\"blue\")"
   ]
  },
  {
   "cell_type": "markdown",
   "metadata": {},
   "source": [
    "# How many people had laptop and how many hadn’t and visualize them and also showthose who didn’t had laptop which university are they from and from which department and their country as well. (from free session dataset)"
   ]
  },
  {
   "cell_type": "code",
   "execution_count": 82,
   "metadata": {},
   "outputs": [
    {
     "data": {
      "text/html": [
       "<div>\n",
       "<style scoped>\n",
       "    .dataframe tbody tr th:only-of-type {\n",
       "        vertical-align: middle;\n",
       "    }\n",
       "\n",
       "    .dataframe tbody tr th {\n",
       "        vertical-align: top;\n",
       "    }\n",
       "\n",
       "    .dataframe thead th {\n",
       "        text-align: right;\n",
       "    }\n",
       "</style>\n",
       "<table border=\"1\" class=\"dataframe\">\n",
       "  <thead>\n",
       "    <tr style=\"text-align: right;\">\n",
       "      <th></th>\n",
       "      <th>Unnamed: 0</th>\n",
       "      <th>Time Stamp</th>\n",
       "      <th>Name</th>\n",
       "      <th>Contact</th>\n",
       "      <th>Email</th>\n",
       "      <th>College</th>\n",
       "      <th>Department</th>\n",
       "      <th>HavingLaptop</th>\n",
       "      <th>Source</th>\n",
       "      <th>Country</th>\n",
       "    </tr>\n",
       "  </thead>\n",
       "  <tbody>\n",
       "    <tr>\n",
       "      <th>1</th>\n",
       "      <td>1</td>\n",
       "      <td>8/24/2020 10:08:54</td>\n",
       "      <td>Abdullah</td>\n",
       "      <td>NaN</td>\n",
       "      <td>sharif3abdullah@gmail.com</td>\n",
       "      <td>IIT</td>\n",
       "      <td>Engineering</td>\n",
       "      <td>NaN</td>\n",
       "      <td>NaN</td>\n",
       "      <td>Bangladesh</td>\n",
       "    </tr>\n",
       "    <tr>\n",
       "      <th>94</th>\n",
       "      <td>94</td>\n",
       "      <td>7/27/2020 17:00:05</td>\n",
       "      <td>Debolina Mullick</td>\n",
       "      <td>8172031684</td>\n",
       "      <td>NaN</td>\n",
       "      <td>Ramsaday College</td>\n",
       "      <td>NaN</td>\n",
       "      <td>NaN</td>\n",
       "      <td>NaN</td>\n",
       "      <td>India</td>\n",
       "    </tr>\n",
       "    <tr>\n",
       "      <th>126</th>\n",
       "      <td>126</td>\n",
       "      <td>7/10/2020 22:32:52</td>\n",
       "      <td>Isha Ghosh</td>\n",
       "      <td>7003471206</td>\n",
       "      <td>soumyabratamahapatra67@gmail.com</td>\n",
       "      <td>Jadavpur University</td>\n",
       "      <td>NaN</td>\n",
       "      <td>NaN</td>\n",
       "      <td>NaN</td>\n",
       "      <td>India</td>\n",
       "    </tr>\n",
       "    <tr>\n",
       "      <th>380</th>\n",
       "      <td>380</td>\n",
       "      <td>8/21/2020 15:57:42</td>\n",
       "      <td>Soham Banerjee</td>\n",
       "      <td>7679129720</td>\n",
       "      <td>24sohamb@gmail.com</td>\n",
       "      <td>Zoom international</td>\n",
       "      <td>others</td>\n",
       "      <td>NaN</td>\n",
       "      <td>Krishnamita Banerjee</td>\n",
       "      <td>India</td>\n",
       "    </tr>\n",
       "    <tr>\n",
       "      <th>780</th>\n",
       "      <td>780</td>\n",
       "      <td>12/12/2020 12:32:23</td>\n",
       "      <td>Poushali Chaki</td>\n",
       "      <td>7557035420</td>\n",
       "      <td>poushali.chaki99@gmail.com</td>\n",
       "      <td>Lady Brabourne college</td>\n",
       "      <td>Honors (BSC/MSC)</td>\n",
       "      <td>NaN</td>\n",
       "      <td>NaN</td>\n",
       "      <td>NaN</td>\n",
       "    </tr>\n",
       "    <tr>\n",
       "      <th>839</th>\n",
       "      <td>839</td>\n",
       "      <td>12/12/2020 18:29:51</td>\n",
       "      <td>Vedanta Goswami</td>\n",
       "      <td>8910734345</td>\n",
       "      <td>vedantabuffon@gmail.com</td>\n",
       "      <td>Maulana Azad College</td>\n",
       "      <td>Honors (BSC/MSC)</td>\n",
       "      <td>NaN</td>\n",
       "      <td>NaN</td>\n",
       "      <td>NaN</td>\n",
       "    </tr>\n",
       "    <tr>\n",
       "      <th>952</th>\n",
       "      <td>952</td>\n",
       "      <td>1/22/2021 15:59:08</td>\n",
       "      <td>Sourav Basak</td>\n",
       "      <td>9073471906</td>\n",
       "      <td>basaksourav3011@gmail.com</td>\n",
       "      <td>Maulana Azad College</td>\n",
       "      <td>Honors (BSC/MSC)</td>\n",
       "      <td>NaN</td>\n",
       "      <td>NaN</td>\n",
       "      <td>NaN</td>\n",
       "    </tr>\n",
       "  </tbody>\n",
       "</table>\n",
       "</div>"
      ],
      "text/plain": [
       "     Unnamed: 0          Time Stamp               Name     Contact  \\\n",
       "1             1   8/24/2020 10:08:54          Abdullah         NaN   \n",
       "94           94   7/27/2020 17:00:05  Debolina Mullick  8172031684   \n",
       "126         126   7/10/2020 22:32:52        Isha Ghosh  7003471206   \n",
       "380         380   8/21/2020 15:57:42    Soham Banerjee  7679129720   \n",
       "780         780  12/12/2020 12:32:23    Poushali Chaki  7557035420   \n",
       "839         839  12/12/2020 18:29:51  Vedanta Goswami   8910734345   \n",
       "952         952   1/22/2021 15:59:08     Sourav Basak   9073471906   \n",
       "\n",
       "                                Email                 College  \\\n",
       "1           sharif3abdullah@gmail.com                     IIT   \n",
       "94                                NaN        Ramsaday College   \n",
       "126  soumyabratamahapatra67@gmail.com     Jadavpur University   \n",
       "380                24sohamb@gmail.com      Zoom international   \n",
       "780        poushali.chaki99@gmail.com  Lady Brabourne college   \n",
       "839           vedantabuffon@gmail.com   Maulana Azad College    \n",
       "952        basaksourav3011@gmail.com    Maulana Azad College    \n",
       "\n",
       "           Department HavingLaptop                Source     Country  \n",
       "1         Engineering          NaN                   NaN  Bangladesh  \n",
       "94                NaN          NaN                   NaN       India  \n",
       "126               NaN          NaN                   NaN       India  \n",
       "380            others          NaN  Krishnamita Banerjee       India  \n",
       "780  Honors (BSC/MSC)          NaN                   NaN         NaN  \n",
       "839  Honors (BSC/MSC)          NaN                   NaN         NaN  \n",
       "952  Honors (BSC/MSC)          NaN                   NaN         NaN  "
      ]
     },
     "execution_count": 82,
     "metadata": {},
     "output_type": "execute_result"
    }
   ],
   "source": [
    "#visualaising the nan value of havingLaptop column\n",
    "df8[df8['HavingLaptop'].isnull()]"
   ]
  },
  {
   "cell_type": "code",
   "execution_count": 83,
   "metadata": {},
   "outputs": [
    {
     "data": {
      "text/html": [
       "<div>\n",
       "<style scoped>\n",
       "    .dataframe tbody tr th:only-of-type {\n",
       "        vertical-align: middle;\n",
       "    }\n",
       "\n",
       "    .dataframe tbody tr th {\n",
       "        vertical-align: top;\n",
       "    }\n",
       "\n",
       "    .dataframe thead th {\n",
       "        text-align: right;\n",
       "    }\n",
       "</style>\n",
       "<table border=\"1\" class=\"dataframe\">\n",
       "  <thead>\n",
       "    <tr style=\"text-align: right;\">\n",
       "      <th></th>\n",
       "      <th>Unnamed: 0</th>\n",
       "      <th>Time Stamp</th>\n",
       "      <th>Name</th>\n",
       "      <th>Contact</th>\n",
       "      <th>Email</th>\n",
       "      <th>College</th>\n",
       "      <th>Department</th>\n",
       "      <th>HavingLaptop</th>\n",
       "      <th>Source</th>\n",
       "      <th>Country</th>\n",
       "    </tr>\n",
       "  </thead>\n",
       "  <tbody>\n",
       "    <tr>\n",
       "      <th>0</th>\n",
       "      <td>0</td>\n",
       "      <td>8/24/2020 17:01:39</td>\n",
       "      <td>A.S.M. Raquibul Hasan</td>\n",
       "      <td>01722577922</td>\n",
       "      <td>raquibul.nsu@gmail.com</td>\n",
       "      <td>United International University</td>\n",
       "      <td>others</td>\n",
       "      <td>Yes</td>\n",
       "      <td>Facebook</td>\n",
       "      <td>Bangladesh</td>\n",
       "    </tr>\n",
       "    <tr>\n",
       "      <th>2</th>\n",
       "      <td>2</td>\n",
       "      <td>8/24/2020 9:20:28</td>\n",
       "      <td>Abdullah Bin Murad</td>\n",
       "      <td>01552443554</td>\n",
       "      <td>abmrifat54@gmail.com</td>\n",
       "      <td>Shahjalal University of Science and Technology</td>\n",
       "      <td>Engineering</td>\n",
       "      <td>Yes</td>\n",
       "      <td>NaN</td>\n",
       "      <td>Bangladesh</td>\n",
       "    </tr>\n",
       "    <tr>\n",
       "      <th>3</th>\n",
       "      <td>3</td>\n",
       "      <td>7/28/2020 12:16:30</td>\n",
       "      <td>Abhijoy Mukherjee</td>\n",
       "      <td>7003206060</td>\n",
       "      <td>abhijoymukherjee01@gmail.com</td>\n",
       "      <td>Asutosh College</td>\n",
       "      <td>Statistics</td>\n",
       "      <td>Yes</td>\n",
       "      <td>Friend</td>\n",
       "      <td>India</td>\n",
       "    </tr>\n",
       "    <tr>\n",
       "      <th>4</th>\n",
       "      <td>4</td>\n",
       "      <td>7/10/2020 13:56:14</td>\n",
       "      <td>Abhipreeti Acharjee</td>\n",
       "      <td>8274839744</td>\n",
       "      <td>deepamandal007@gmail.com</td>\n",
       "      <td>DEPARTMENT OF PURE MATHEMATICS, UNIVERSITY OF ...</td>\n",
       "      <td>PURE MATHEMATICS</td>\n",
       "      <td>Yes</td>\n",
       "      <td>NaN</td>\n",
       "      <td>India</td>\n",
       "    </tr>\n",
       "    <tr>\n",
       "      <th>5</th>\n",
       "      <td>5</td>\n",
       "      <td>7/28/2020 13:14:59</td>\n",
       "      <td>Abhiraj Bhattacharya</td>\n",
       "      <td>6289897311</td>\n",
       "      <td>abhattacharyya2001@gmail.com</td>\n",
       "      <td>Vivekananda College</td>\n",
       "      <td>B.Sc statistics</td>\n",
       "      <td>Yes</td>\n",
       "      <td>Friend</td>\n",
       "      <td>India</td>\n",
       "    </tr>\n",
       "    <tr>\n",
       "      <th>...</th>\n",
       "      <td>...</td>\n",
       "      <td>...</td>\n",
       "      <td>...</td>\n",
       "      <td>...</td>\n",
       "      <td>...</td>\n",
       "      <td>...</td>\n",
       "      <td>...</td>\n",
       "      <td>...</td>\n",
       "      <td>...</td>\n",
       "      <td>...</td>\n",
       "    </tr>\n",
       "    <tr>\n",
       "      <th>963</th>\n",
       "      <td>963</td>\n",
       "      <td>1/22/2021 22:06:24</td>\n",
       "      <td>Ramanish Banerjee</td>\n",
       "      <td>8017179702</td>\n",
       "      <td>banerjeeramanish@gmail.com</td>\n",
       "      <td>MAULANA AZAD COLLEGE</td>\n",
       "      <td>Honors (BSC/MSC)</td>\n",
       "      <td>Yes</td>\n",
       "      <td>NaN</td>\n",
       "      <td>NaN</td>\n",
       "    </tr>\n",
       "    <tr>\n",
       "      <th>964</th>\n",
       "      <td>964</td>\n",
       "      <td>1/22/2021 22:46:21</td>\n",
       "      <td>Jinia Banerjee</td>\n",
       "      <td>6289719175</td>\n",
       "      <td>jiniabanerjee9727@gmail.com</td>\n",
       "      <td>Maulona Azad College</td>\n",
       "      <td>Honors (BSC/MSC)</td>\n",
       "      <td>No</td>\n",
       "      <td>NaN</td>\n",
       "      <td>NaN</td>\n",
       "    </tr>\n",
       "    <tr>\n",
       "      <th>965</th>\n",
       "      <td>965</td>\n",
       "      <td>1/23/2021 10:57:08</td>\n",
       "      <td>Md Safiqul Islam</td>\n",
       "      <td>8250955315</td>\n",
       "      <td>safiqulislam6006@gmail.com</td>\n",
       "      <td>Maulana Azad College</td>\n",
       "      <td>Honors (BSC/MSC)</td>\n",
       "      <td>Yes</td>\n",
       "      <td>NaN</td>\n",
       "      <td>NaN</td>\n",
       "    </tr>\n",
       "    <tr>\n",
       "      <th>966</th>\n",
       "      <td>966</td>\n",
       "      <td>1/23/2021 12:27:32</td>\n",
       "      <td>Soumojit Chatterjee</td>\n",
       "      <td>8101726672</td>\n",
       "      <td>imsoumojit@yahoo.com</td>\n",
       "      <td>Maulana Azad College</td>\n",
       "      <td>Honors (BSC/MSC)</td>\n",
       "      <td>Yes</td>\n",
       "      <td>NaN</td>\n",
       "      <td>NaN</td>\n",
       "    </tr>\n",
       "    <tr>\n",
       "      <th>967</th>\n",
       "      <td>967</td>\n",
       "      <td>1/23/2021 17:37:35</td>\n",
       "      <td>Debanjan Bhattacharjee</td>\n",
       "      <td>6290909245</td>\n",
       "      <td>debanjanbhattacharjee2002@gmail.com</td>\n",
       "      <td>Maulana Azad College</td>\n",
       "      <td>Honors (BSC/MSC)</td>\n",
       "      <td>Yes</td>\n",
       "      <td>NaN</td>\n",
       "      <td>NaN</td>\n",
       "    </tr>\n",
       "  </tbody>\n",
       "</table>\n",
       "<p>940 rows × 10 columns</p>\n",
       "</div>"
      ],
      "text/plain": [
       "     Unnamed: 0         Time Stamp                     Name      Contact  \\\n",
       "0             0  8/24/2020 17:01:39  A.S.M. Raquibul Hasan   01722577922   \n",
       "2             2   8/24/2020 9:20:28    Abdullah Bin Murad    01552443554   \n",
       "3             3  7/28/2020 12:16:30       Abhijoy Mukherjee   7003206060   \n",
       "4             4  7/10/2020 13:56:14     Abhipreeti Acharjee   8274839744   \n",
       "5             5  7/28/2020 13:14:59    Abhiraj Bhattacharya   6289897311   \n",
       "..          ...                 ...                     ...          ...   \n",
       "963         963  1/22/2021 22:06:24       Ramanish Banerjee   8017179702   \n",
       "964         964  1/22/2021 22:46:21          Jinia Banerjee   6289719175   \n",
       "965         965  1/23/2021 10:57:08        Md Safiqul Islam   8250955315   \n",
       "966         966  1/23/2021 12:27:32     Soumojit Chatterjee   8101726672   \n",
       "967         967  1/23/2021 17:37:35  Debanjan Bhattacharjee   6290909245   \n",
       "\n",
       "                                   Email  \\\n",
       "0                 raquibul.nsu@gmail.com   \n",
       "2                   abmrifat54@gmail.com   \n",
       "3           abhijoymukherjee01@gmail.com   \n",
       "4               deepamandal007@gmail.com   \n",
       "5           abhattacharyya2001@gmail.com   \n",
       "..                                   ...   \n",
       "963           banerjeeramanish@gmail.com   \n",
       "964          jiniabanerjee9727@gmail.com   \n",
       "965           safiqulislam6006@gmail.com   \n",
       "966                 imsoumojit@yahoo.com   \n",
       "967  debanjanbhattacharjee2002@gmail.com   \n",
       "\n",
       "                                               College        Department  \\\n",
       "0                     United International University             others   \n",
       "2       Shahjalal University of Science and Technology       Engineering   \n",
       "3                                      Asutosh College        Statistics   \n",
       "4    DEPARTMENT OF PURE MATHEMATICS, UNIVERSITY OF ...  PURE MATHEMATICS   \n",
       "5                                  Vivekananda College   B.Sc statistics   \n",
       "..                                                 ...               ...   \n",
       "963                               MAULANA AZAD COLLEGE  Honors (BSC/MSC)   \n",
       "964                               Maulona Azad College  Honors (BSC/MSC)   \n",
       "965                               Maulana Azad College  Honors (BSC/MSC)   \n",
       "966                               Maulana Azad College  Honors (BSC/MSC)   \n",
       "967                               Maulana Azad College  Honors (BSC/MSC)   \n",
       "\n",
       "    HavingLaptop     Source     Country  \n",
       "0            Yes  Facebook   Bangladesh  \n",
       "2            Yes        NaN  Bangladesh  \n",
       "3            Yes     Friend       India  \n",
       "4            Yes        NaN       India  \n",
       "5            Yes     Friend       India  \n",
       "..           ...        ...         ...  \n",
       "963          Yes        NaN         NaN  \n",
       "964           No        NaN         NaN  \n",
       "965          Yes        NaN         NaN  \n",
       "966          Yes        NaN         NaN  \n",
       "967          Yes        NaN         NaN  \n",
       "\n",
       "[940 rows x 10 columns]"
      ]
     },
     "execution_count": 83,
     "metadata": {},
     "output_type": "execute_result"
    }
   ],
   "source": [
    "#removing the nan value\n",
    "df10 = df8.dropna(subset=['HavingLaptop'])\n",
    "df10"
   ]
  },
  {
   "cell_type": "code",
   "execution_count": 84,
   "metadata": {},
   "outputs": [
    {
     "data": {
      "text/html": [
       "<div>\n",
       "<style scoped>\n",
       "    .dataframe tbody tr th:only-of-type {\n",
       "        vertical-align: middle;\n",
       "    }\n",
       "\n",
       "    .dataframe tbody tr th {\n",
       "        vertical-align: top;\n",
       "    }\n",
       "\n",
       "    .dataframe thead th {\n",
       "        text-align: right;\n",
       "    }\n",
       "</style>\n",
       "<table border=\"1\" class=\"dataframe\">\n",
       "  <thead>\n",
       "    <tr style=\"text-align: right;\">\n",
       "      <th></th>\n",
       "      <th>Unnamed: 0</th>\n",
       "      <th>Time Stamp</th>\n",
       "      <th>Name</th>\n",
       "      <th>Contact</th>\n",
       "      <th>Email</th>\n",
       "      <th>College</th>\n",
       "      <th>Department</th>\n",
       "      <th>HavingLaptop</th>\n",
       "      <th>Source</th>\n",
       "      <th>Country</th>\n",
       "    </tr>\n",
       "  </thead>\n",
       "  <tbody>\n",
       "    <tr>\n",
       "      <th>0</th>\n",
       "      <td>0</td>\n",
       "      <td>8/24/2020 17:01:39</td>\n",
       "      <td>A.S.M. Raquibul Hasan</td>\n",
       "      <td>01722577922</td>\n",
       "      <td>raquibul.nsu@gmail.com</td>\n",
       "      <td>United International University</td>\n",
       "      <td>others</td>\n",
       "      <td>Yes</td>\n",
       "      <td>Facebook</td>\n",
       "      <td>Bangladesh</td>\n",
       "    </tr>\n",
       "    <tr>\n",
       "      <th>1</th>\n",
       "      <td>2</td>\n",
       "      <td>8/24/2020 9:20:28</td>\n",
       "      <td>Abdullah Bin Murad</td>\n",
       "      <td>01552443554</td>\n",
       "      <td>abmrifat54@gmail.com</td>\n",
       "      <td>Shahjalal University of Science and Technology</td>\n",
       "      <td>Engineering</td>\n",
       "      <td>Yes</td>\n",
       "      <td>NaN</td>\n",
       "      <td>Bangladesh</td>\n",
       "    </tr>\n",
       "    <tr>\n",
       "      <th>2</th>\n",
       "      <td>3</td>\n",
       "      <td>7/28/2020 12:16:30</td>\n",
       "      <td>Abhijoy Mukherjee</td>\n",
       "      <td>7003206060</td>\n",
       "      <td>abhijoymukherjee01@gmail.com</td>\n",
       "      <td>Asutosh College</td>\n",
       "      <td>Statistics</td>\n",
       "      <td>Yes</td>\n",
       "      <td>Friend</td>\n",
       "      <td>India</td>\n",
       "    </tr>\n",
       "    <tr>\n",
       "      <th>3</th>\n",
       "      <td>4</td>\n",
       "      <td>7/10/2020 13:56:14</td>\n",
       "      <td>Abhipreeti Acharjee</td>\n",
       "      <td>8274839744</td>\n",
       "      <td>deepamandal007@gmail.com</td>\n",
       "      <td>DEPARTMENT OF PURE MATHEMATICS, UNIVERSITY OF ...</td>\n",
       "      <td>PURE MATHEMATICS</td>\n",
       "      <td>Yes</td>\n",
       "      <td>NaN</td>\n",
       "      <td>India</td>\n",
       "    </tr>\n",
       "    <tr>\n",
       "      <th>4</th>\n",
       "      <td>5</td>\n",
       "      <td>7/28/2020 13:14:59</td>\n",
       "      <td>Abhiraj Bhattacharya</td>\n",
       "      <td>6289897311</td>\n",
       "      <td>abhattacharyya2001@gmail.com</td>\n",
       "      <td>Vivekananda College</td>\n",
       "      <td>B.Sc statistics</td>\n",
       "      <td>Yes</td>\n",
       "      <td>Friend</td>\n",
       "      <td>India</td>\n",
       "    </tr>\n",
       "    <tr>\n",
       "      <th>...</th>\n",
       "      <td>...</td>\n",
       "      <td>...</td>\n",
       "      <td>...</td>\n",
       "      <td>...</td>\n",
       "      <td>...</td>\n",
       "      <td>...</td>\n",
       "      <td>...</td>\n",
       "      <td>...</td>\n",
       "      <td>...</td>\n",
       "      <td>...</td>\n",
       "    </tr>\n",
       "    <tr>\n",
       "      <th>935</th>\n",
       "      <td>963</td>\n",
       "      <td>1/22/2021 22:06:24</td>\n",
       "      <td>Ramanish Banerjee</td>\n",
       "      <td>8017179702</td>\n",
       "      <td>banerjeeramanish@gmail.com</td>\n",
       "      <td>MAULANA AZAD COLLEGE</td>\n",
       "      <td>Honors (BSC/MSC)</td>\n",
       "      <td>Yes</td>\n",
       "      <td>NaN</td>\n",
       "      <td>NaN</td>\n",
       "    </tr>\n",
       "    <tr>\n",
       "      <th>936</th>\n",
       "      <td>964</td>\n",
       "      <td>1/22/2021 22:46:21</td>\n",
       "      <td>Jinia Banerjee</td>\n",
       "      <td>6289719175</td>\n",
       "      <td>jiniabanerjee9727@gmail.com</td>\n",
       "      <td>Maulona Azad College</td>\n",
       "      <td>Honors (BSC/MSC)</td>\n",
       "      <td>No</td>\n",
       "      <td>NaN</td>\n",
       "      <td>NaN</td>\n",
       "    </tr>\n",
       "    <tr>\n",
       "      <th>937</th>\n",
       "      <td>965</td>\n",
       "      <td>1/23/2021 10:57:08</td>\n",
       "      <td>Md Safiqul Islam</td>\n",
       "      <td>8250955315</td>\n",
       "      <td>safiqulislam6006@gmail.com</td>\n",
       "      <td>Maulana Azad College</td>\n",
       "      <td>Honors (BSC/MSC)</td>\n",
       "      <td>Yes</td>\n",
       "      <td>NaN</td>\n",
       "      <td>NaN</td>\n",
       "    </tr>\n",
       "    <tr>\n",
       "      <th>938</th>\n",
       "      <td>966</td>\n",
       "      <td>1/23/2021 12:27:32</td>\n",
       "      <td>Soumojit Chatterjee</td>\n",
       "      <td>8101726672</td>\n",
       "      <td>imsoumojit@yahoo.com</td>\n",
       "      <td>Maulana Azad College</td>\n",
       "      <td>Honors (BSC/MSC)</td>\n",
       "      <td>Yes</td>\n",
       "      <td>NaN</td>\n",
       "      <td>NaN</td>\n",
       "    </tr>\n",
       "    <tr>\n",
       "      <th>939</th>\n",
       "      <td>967</td>\n",
       "      <td>1/23/2021 17:37:35</td>\n",
       "      <td>Debanjan Bhattacharjee</td>\n",
       "      <td>6290909245</td>\n",
       "      <td>debanjanbhattacharjee2002@gmail.com</td>\n",
       "      <td>Maulana Azad College</td>\n",
       "      <td>Honors (BSC/MSC)</td>\n",
       "      <td>Yes</td>\n",
       "      <td>NaN</td>\n",
       "      <td>NaN</td>\n",
       "    </tr>\n",
       "  </tbody>\n",
       "</table>\n",
       "<p>940 rows × 10 columns</p>\n",
       "</div>"
      ],
      "text/plain": [
       "     Unnamed: 0         Time Stamp                     Name      Contact  \\\n",
       "0             0  8/24/2020 17:01:39  A.S.M. Raquibul Hasan   01722577922   \n",
       "1             2   8/24/2020 9:20:28    Abdullah Bin Murad    01552443554   \n",
       "2             3  7/28/2020 12:16:30       Abhijoy Mukherjee   7003206060   \n",
       "3             4  7/10/2020 13:56:14     Abhipreeti Acharjee   8274839744   \n",
       "4             5  7/28/2020 13:14:59    Abhiraj Bhattacharya   6289897311   \n",
       "..          ...                 ...                     ...          ...   \n",
       "935         963  1/22/2021 22:06:24       Ramanish Banerjee   8017179702   \n",
       "936         964  1/22/2021 22:46:21          Jinia Banerjee   6289719175   \n",
       "937         965  1/23/2021 10:57:08        Md Safiqul Islam   8250955315   \n",
       "938         966  1/23/2021 12:27:32     Soumojit Chatterjee   8101726672   \n",
       "939         967  1/23/2021 17:37:35  Debanjan Bhattacharjee   6290909245   \n",
       "\n",
       "                                   Email  \\\n",
       "0                 raquibul.nsu@gmail.com   \n",
       "1                   abmrifat54@gmail.com   \n",
       "2           abhijoymukherjee01@gmail.com   \n",
       "3               deepamandal007@gmail.com   \n",
       "4           abhattacharyya2001@gmail.com   \n",
       "..                                   ...   \n",
       "935           banerjeeramanish@gmail.com   \n",
       "936          jiniabanerjee9727@gmail.com   \n",
       "937           safiqulislam6006@gmail.com   \n",
       "938                 imsoumojit@yahoo.com   \n",
       "939  debanjanbhattacharjee2002@gmail.com   \n",
       "\n",
       "                                               College        Department  \\\n",
       "0                     United International University             others   \n",
       "1       Shahjalal University of Science and Technology       Engineering   \n",
       "2                                      Asutosh College        Statistics   \n",
       "3    DEPARTMENT OF PURE MATHEMATICS, UNIVERSITY OF ...  PURE MATHEMATICS   \n",
       "4                                  Vivekananda College   B.Sc statistics   \n",
       "..                                                 ...               ...   \n",
       "935                               MAULANA AZAD COLLEGE  Honors (BSC/MSC)   \n",
       "936                               Maulona Azad College  Honors (BSC/MSC)   \n",
       "937                               Maulana Azad College  Honors (BSC/MSC)   \n",
       "938                               Maulana Azad College  Honors (BSC/MSC)   \n",
       "939                               Maulana Azad College  Honors (BSC/MSC)   \n",
       "\n",
       "    HavingLaptop     Source     Country  \n",
       "0            Yes  Facebook   Bangladesh  \n",
       "1            Yes        NaN  Bangladesh  \n",
       "2            Yes     Friend       India  \n",
       "3            Yes        NaN       India  \n",
       "4            Yes     Friend       India  \n",
       "..           ...        ...         ...  \n",
       "935          Yes        NaN         NaN  \n",
       "936           No        NaN         NaN  \n",
       "937          Yes        NaN         NaN  \n",
       "938          Yes        NaN         NaN  \n",
       "939          Yes        NaN         NaN  \n",
       "\n",
       "[940 rows x 10 columns]"
      ]
     },
     "execution_count": 84,
     "metadata": {},
     "output_type": "execute_result"
    }
   ],
   "source": [
    "df10.reset_index(drop=True)"
   ]
  },
  {
   "cell_type": "code",
   "execution_count": 85,
   "metadata": {},
   "outputs": [],
   "source": [
    "def HavingLaptop(value):\n",
    "    \"\"\"\n",
    "    if the havingLaptop column answe is yes it'll return 1 and if no it'll return 0\n",
    "    \"\"\"\n",
    "    if value == \"Yes\" or value == \"Yes\":\n",
    "        return 1\n",
    "    elif value == \"No\" or value ==\"No\":\n",
    "        return 0\n",
    "    else:\n",
    "        return None"
   ]
  },
  {
   "cell_type": "code",
   "execution_count": 86,
   "metadata": {},
   "outputs": [
    {
     "data": {
      "text/html": [
       "<div>\n",
       "<style scoped>\n",
       "    .dataframe tbody tr th:only-of-type {\n",
       "        vertical-align: middle;\n",
       "    }\n",
       "\n",
       "    .dataframe tbody tr th {\n",
       "        vertical-align: top;\n",
       "    }\n",
       "\n",
       "    .dataframe thead th {\n",
       "        text-align: right;\n",
       "    }\n",
       "</style>\n",
       "<table border=\"1\" class=\"dataframe\">\n",
       "  <thead>\n",
       "    <tr style=\"text-align: right;\">\n",
       "      <th></th>\n",
       "      <th>Unnamed: 0</th>\n",
       "      <th>Time Stamp</th>\n",
       "      <th>Name</th>\n",
       "      <th>Contact</th>\n",
       "      <th>Email</th>\n",
       "      <th>College</th>\n",
       "      <th>Department</th>\n",
       "      <th>HavingLaptop</th>\n",
       "      <th>Source</th>\n",
       "      <th>Country</th>\n",
       "      <th>laptopcount</th>\n",
       "    </tr>\n",
       "  </thead>\n",
       "  <tbody>\n",
       "    <tr>\n",
       "      <th>0</th>\n",
       "      <td>0</td>\n",
       "      <td>8/24/2020 17:01:39</td>\n",
       "      <td>A.S.M. Raquibul Hasan</td>\n",
       "      <td>01722577922</td>\n",
       "      <td>raquibul.nsu@gmail.com</td>\n",
       "      <td>United International University</td>\n",
       "      <td>others</td>\n",
       "      <td>Yes</td>\n",
       "      <td>Facebook</td>\n",
       "      <td>Bangladesh</td>\n",
       "      <td>1.0</td>\n",
       "    </tr>\n",
       "    <tr>\n",
       "      <th>2</th>\n",
       "      <td>2</td>\n",
       "      <td>8/24/2020 9:20:28</td>\n",
       "      <td>Abdullah Bin Murad</td>\n",
       "      <td>01552443554</td>\n",
       "      <td>abmrifat54@gmail.com</td>\n",
       "      <td>Shahjalal University of Science and Technology</td>\n",
       "      <td>Engineering</td>\n",
       "      <td>Yes</td>\n",
       "      <td>NaN</td>\n",
       "      <td>Bangladesh</td>\n",
       "      <td>1.0</td>\n",
       "    </tr>\n",
       "    <tr>\n",
       "      <th>3</th>\n",
       "      <td>3</td>\n",
       "      <td>7/28/2020 12:16:30</td>\n",
       "      <td>Abhijoy Mukherjee</td>\n",
       "      <td>7003206060</td>\n",
       "      <td>abhijoymukherjee01@gmail.com</td>\n",
       "      <td>Asutosh College</td>\n",
       "      <td>Statistics</td>\n",
       "      <td>Yes</td>\n",
       "      <td>Friend</td>\n",
       "      <td>India</td>\n",
       "      <td>1.0</td>\n",
       "    </tr>\n",
       "    <tr>\n",
       "      <th>4</th>\n",
       "      <td>4</td>\n",
       "      <td>7/10/2020 13:56:14</td>\n",
       "      <td>Abhipreeti Acharjee</td>\n",
       "      <td>8274839744</td>\n",
       "      <td>deepamandal007@gmail.com</td>\n",
       "      <td>DEPARTMENT OF PURE MATHEMATICS, UNIVERSITY OF ...</td>\n",
       "      <td>PURE MATHEMATICS</td>\n",
       "      <td>Yes</td>\n",
       "      <td>NaN</td>\n",
       "      <td>India</td>\n",
       "      <td>1.0</td>\n",
       "    </tr>\n",
       "    <tr>\n",
       "      <th>5</th>\n",
       "      <td>5</td>\n",
       "      <td>7/28/2020 13:14:59</td>\n",
       "      <td>Abhiraj Bhattacharya</td>\n",
       "      <td>6289897311</td>\n",
       "      <td>abhattacharyya2001@gmail.com</td>\n",
       "      <td>Vivekananda College</td>\n",
       "      <td>B.Sc statistics</td>\n",
       "      <td>Yes</td>\n",
       "      <td>Friend</td>\n",
       "      <td>India</td>\n",
       "      <td>1.0</td>\n",
       "    </tr>\n",
       "    <tr>\n",
       "      <th>...</th>\n",
       "      <td>...</td>\n",
       "      <td>...</td>\n",
       "      <td>...</td>\n",
       "      <td>...</td>\n",
       "      <td>...</td>\n",
       "      <td>...</td>\n",
       "      <td>...</td>\n",
       "      <td>...</td>\n",
       "      <td>...</td>\n",
       "      <td>...</td>\n",
       "      <td>...</td>\n",
       "    </tr>\n",
       "    <tr>\n",
       "      <th>963</th>\n",
       "      <td>963</td>\n",
       "      <td>1/22/2021 22:06:24</td>\n",
       "      <td>Ramanish Banerjee</td>\n",
       "      <td>8017179702</td>\n",
       "      <td>banerjeeramanish@gmail.com</td>\n",
       "      <td>MAULANA AZAD COLLEGE</td>\n",
       "      <td>Honors (BSC/MSC)</td>\n",
       "      <td>Yes</td>\n",
       "      <td>NaN</td>\n",
       "      <td>NaN</td>\n",
       "      <td>1.0</td>\n",
       "    </tr>\n",
       "    <tr>\n",
       "      <th>964</th>\n",
       "      <td>964</td>\n",
       "      <td>1/22/2021 22:46:21</td>\n",
       "      <td>Jinia Banerjee</td>\n",
       "      <td>6289719175</td>\n",
       "      <td>jiniabanerjee9727@gmail.com</td>\n",
       "      <td>Maulona Azad College</td>\n",
       "      <td>Honors (BSC/MSC)</td>\n",
       "      <td>No</td>\n",
       "      <td>NaN</td>\n",
       "      <td>NaN</td>\n",
       "      <td>0.0</td>\n",
       "    </tr>\n",
       "    <tr>\n",
       "      <th>965</th>\n",
       "      <td>965</td>\n",
       "      <td>1/23/2021 10:57:08</td>\n",
       "      <td>Md Safiqul Islam</td>\n",
       "      <td>8250955315</td>\n",
       "      <td>safiqulislam6006@gmail.com</td>\n",
       "      <td>Maulana Azad College</td>\n",
       "      <td>Honors (BSC/MSC)</td>\n",
       "      <td>Yes</td>\n",
       "      <td>NaN</td>\n",
       "      <td>NaN</td>\n",
       "      <td>1.0</td>\n",
       "    </tr>\n",
       "    <tr>\n",
       "      <th>966</th>\n",
       "      <td>966</td>\n",
       "      <td>1/23/2021 12:27:32</td>\n",
       "      <td>Soumojit Chatterjee</td>\n",
       "      <td>8101726672</td>\n",
       "      <td>imsoumojit@yahoo.com</td>\n",
       "      <td>Maulana Azad College</td>\n",
       "      <td>Honors (BSC/MSC)</td>\n",
       "      <td>Yes</td>\n",
       "      <td>NaN</td>\n",
       "      <td>NaN</td>\n",
       "      <td>1.0</td>\n",
       "    </tr>\n",
       "    <tr>\n",
       "      <th>967</th>\n",
       "      <td>967</td>\n",
       "      <td>1/23/2021 17:37:35</td>\n",
       "      <td>Debanjan Bhattacharjee</td>\n",
       "      <td>6290909245</td>\n",
       "      <td>debanjanbhattacharjee2002@gmail.com</td>\n",
       "      <td>Maulana Azad College</td>\n",
       "      <td>Honors (BSC/MSC)</td>\n",
       "      <td>Yes</td>\n",
       "      <td>NaN</td>\n",
       "      <td>NaN</td>\n",
       "      <td>1.0</td>\n",
       "    </tr>\n",
       "  </tbody>\n",
       "</table>\n",
       "<p>940 rows × 11 columns</p>\n",
       "</div>"
      ],
      "text/plain": [
       "     Unnamed: 0         Time Stamp                     Name      Contact  \\\n",
       "0             0  8/24/2020 17:01:39  A.S.M. Raquibul Hasan   01722577922   \n",
       "2             2   8/24/2020 9:20:28    Abdullah Bin Murad    01552443554   \n",
       "3             3  7/28/2020 12:16:30       Abhijoy Mukherjee   7003206060   \n",
       "4             4  7/10/2020 13:56:14     Abhipreeti Acharjee   8274839744   \n",
       "5             5  7/28/2020 13:14:59    Abhiraj Bhattacharya   6289897311   \n",
       "..          ...                 ...                     ...          ...   \n",
       "963         963  1/22/2021 22:06:24       Ramanish Banerjee   8017179702   \n",
       "964         964  1/22/2021 22:46:21          Jinia Banerjee   6289719175   \n",
       "965         965  1/23/2021 10:57:08        Md Safiqul Islam   8250955315   \n",
       "966         966  1/23/2021 12:27:32     Soumojit Chatterjee   8101726672   \n",
       "967         967  1/23/2021 17:37:35  Debanjan Bhattacharjee   6290909245   \n",
       "\n",
       "                                   Email  \\\n",
       "0                 raquibul.nsu@gmail.com   \n",
       "2                   abmrifat54@gmail.com   \n",
       "3           abhijoymukherjee01@gmail.com   \n",
       "4               deepamandal007@gmail.com   \n",
       "5           abhattacharyya2001@gmail.com   \n",
       "..                                   ...   \n",
       "963           banerjeeramanish@gmail.com   \n",
       "964          jiniabanerjee9727@gmail.com   \n",
       "965           safiqulislam6006@gmail.com   \n",
       "966                 imsoumojit@yahoo.com   \n",
       "967  debanjanbhattacharjee2002@gmail.com   \n",
       "\n",
       "                                               College        Department  \\\n",
       "0                     United International University             others   \n",
       "2       Shahjalal University of Science and Technology       Engineering   \n",
       "3                                      Asutosh College        Statistics   \n",
       "4    DEPARTMENT OF PURE MATHEMATICS, UNIVERSITY OF ...  PURE MATHEMATICS   \n",
       "5                                  Vivekananda College   B.Sc statistics   \n",
       "..                                                 ...               ...   \n",
       "963                               MAULANA AZAD COLLEGE  Honors (BSC/MSC)   \n",
       "964                               Maulona Azad College  Honors (BSC/MSC)   \n",
       "965                               Maulana Azad College  Honors (BSC/MSC)   \n",
       "966                               Maulana Azad College  Honors (BSC/MSC)   \n",
       "967                               Maulana Azad College  Honors (BSC/MSC)   \n",
       "\n",
       "    HavingLaptop     Source     Country  laptopcount  \n",
       "0            Yes  Facebook   Bangladesh          1.0  \n",
       "2            Yes        NaN  Bangladesh          1.0  \n",
       "3            Yes     Friend       India          1.0  \n",
       "4            Yes        NaN       India          1.0  \n",
       "5            Yes     Friend       India          1.0  \n",
       "..           ...        ...         ...          ...  \n",
       "963          Yes        NaN         NaN          1.0  \n",
       "964           No        NaN         NaN          0.0  \n",
       "965          Yes        NaN         NaN          1.0  \n",
       "966          Yes        NaN         NaN          1.0  \n",
       "967          Yes        NaN         NaN          1.0  \n",
       "\n",
       "[940 rows x 11 columns]"
      ]
     },
     "execution_count": 86,
     "metadata": {},
     "output_type": "execute_result"
    }
   ],
   "source": [
    "df10['laptopcount'] = df10.apply(lambda row : HavingLaptop(row['HavingLaptop']), axis = 1)\n",
    "df10"
   ]
  },
  {
   "cell_type": "code",
   "execution_count": 87,
   "metadata": {},
   "outputs": [
    {
     "data": {
      "text/html": [
       "<div>\n",
       "<style scoped>\n",
       "    .dataframe tbody tr th:only-of-type {\n",
       "        vertical-align: middle;\n",
       "    }\n",
       "\n",
       "    .dataframe tbody tr th {\n",
       "        vertical-align: top;\n",
       "    }\n",
       "\n",
       "    .dataframe thead th {\n",
       "        text-align: right;\n",
       "    }\n",
       "</style>\n",
       "<table border=\"1\" class=\"dataframe\">\n",
       "  <thead>\n",
       "    <tr style=\"text-align: right;\">\n",
       "      <th></th>\n",
       "      <th>laptopcount</th>\n",
       "    </tr>\n",
       "    <tr>\n",
       "      <th>HavingLaptop</th>\n",
       "      <th></th>\n",
       "    </tr>\n",
       "  </thead>\n",
       "  <tbody>\n",
       "    <tr>\n",
       "      <th>Having own laptop/system</th>\n",
       "      <td>0</td>\n",
       "    </tr>\n",
       "    <tr>\n",
       "      <th>No</th>\n",
       "      <td>205</td>\n",
       "    </tr>\n",
       "    <tr>\n",
       "      <th>Yes</th>\n",
       "      <td>734</td>\n",
       "    </tr>\n",
       "  </tbody>\n",
       "</table>\n",
       "</div>"
      ],
      "text/plain": [
       "                           laptopcount\n",
       "HavingLaptop                          \n",
       "Having own laptop/system             0\n",
       "No                                 205\n",
       "Yes                                734"
      ]
     },
     "execution_count": 87,
     "metadata": {},
     "output_type": "execute_result"
    }
   ],
   "source": [
    "df11 = df10.groupby('HavingLaptop')['laptopcount'].agg('count')\n",
    "laptop= pd.DataFrame(df11)\n",
    "laptop"
   ]
  },
  {
   "cell_type": "code",
   "execution_count": 88,
   "metadata": {},
   "outputs": [
    {
     "data": {
      "text/html": [
       "<div>\n",
       "<style scoped>\n",
       "    .dataframe tbody tr th:only-of-type {\n",
       "        vertical-align: middle;\n",
       "    }\n",
       "\n",
       "    .dataframe tbody tr th {\n",
       "        vertical-align: top;\n",
       "    }\n",
       "\n",
       "    .dataframe thead th {\n",
       "        text-align: right;\n",
       "    }\n",
       "</style>\n",
       "<table border=\"1\" class=\"dataframe\">\n",
       "  <thead>\n",
       "    <tr style=\"text-align: right;\">\n",
       "      <th></th>\n",
       "      <th>laptopcount</th>\n",
       "    </tr>\n",
       "    <tr>\n",
       "      <th>HavingLaptop</th>\n",
       "      <th></th>\n",
       "    </tr>\n",
       "  </thead>\n",
       "  <tbody>\n",
       "    <tr>\n",
       "      <th>No</th>\n",
       "      <td>205</td>\n",
       "    </tr>\n",
       "    <tr>\n",
       "      <th>Yes</th>\n",
       "      <td>734</td>\n",
       "    </tr>\n",
       "  </tbody>\n",
       "</table>\n",
       "</div>"
      ],
      "text/plain": [
       "              laptopcount\n",
       "HavingLaptop             \n",
       "No                    205\n",
       "Yes                   734"
      ]
     },
     "execution_count": 88,
     "metadata": {},
     "output_type": "execute_result"
    }
   ],
   "source": [
    "#removing the rows\n",
    "laptop1 = laptop.drop(laptop.index[[0]])\n",
    "laptop1"
   ]
  },
  {
   "cell_type": "code",
   "execution_count": 89,
   "metadata": {},
   "outputs": [
    {
     "data": {
      "text/html": [
       "<div>\n",
       "<style scoped>\n",
       "    .dataframe tbody tr th:only-of-type {\n",
       "        vertical-align: middle;\n",
       "    }\n",
       "\n",
       "    .dataframe tbody tr th {\n",
       "        vertical-align: top;\n",
       "    }\n",
       "\n",
       "    .dataframe thead th {\n",
       "        text-align: right;\n",
       "    }\n",
       "</style>\n",
       "<table border=\"1\" class=\"dataframe\">\n",
       "  <thead>\n",
       "    <tr style=\"text-align: right;\">\n",
       "      <th></th>\n",
       "      <th>HavingLaptop</th>\n",
       "      <th>laptopcount</th>\n",
       "    </tr>\n",
       "  </thead>\n",
       "  <tbody>\n",
       "    <tr>\n",
       "      <th>0</th>\n",
       "      <td>No</td>\n",
       "      <td>205</td>\n",
       "    </tr>\n",
       "    <tr>\n",
       "      <th>1</th>\n",
       "      <td>Yes</td>\n",
       "      <td>734</td>\n",
       "    </tr>\n",
       "  </tbody>\n",
       "</table>\n",
       "</div>"
      ],
      "text/plain": [
       "  HavingLaptop  laptopcount\n",
       "0           No          205\n",
       "1          Yes          734"
      ]
     },
     "execution_count": 89,
     "metadata": {},
     "output_type": "execute_result"
    }
   ],
   "source": [
    "laptop1.reset_index(inplace=True)\n",
    "laptop1"
   ]
  },
  {
   "cell_type": "code",
   "execution_count": 90,
   "metadata": {},
   "outputs": [],
   "source": [
    "def draw_trace_bar_laptop(data,data_index, feature, title, xlab, ylab,color='Blue'):\n",
    "    '''\n",
    "    this is the function created using plotly for draw a trace bar where\n",
    "    data is main dataframe\n",
    "    data index is x label values\n",
    "    feature is y label values\n",
    "    '''\n",
    "    data = data.sort_values(feature, ascending=False)\n",
    "    trace = go.Bar(\n",
    "            x = data[data_index],\n",
    "            y = data[feature],\n",
    "            marker=dict(color=color),\n",
    "            text=data[data_index]\n",
    "        )\n",
    "    data = [trace]\n",
    "\n",
    "    layout = dict(title = title,\n",
    "              xaxis = dict(title = xlab, showticklabels=True, tickangle=45, \n",
    "                           zeroline=True, zerolinewidth=1, zerolinecolor='grey',\n",
    "                           showline=True, linewidth=2, linecolor='black', mirror=True,\n",
    "                          tickfont=dict(\n",
    "                            size=12,\n",
    "                            color='red'),), \n",
    "              yaxis = dict(title = ylab, gridcolor='lightgrey', zeroline=True, zerolinewidth=1, zerolinecolor='grey',\n",
    "                          showline=True, linewidth=2, linecolor='black', mirror=True),\n",
    "              plot_bgcolor = 'rgba(0, 0, 0, 0)', paper_bgcolor = 'rgba(0, 0, 0, 0)',\n",
    "              hovermode = 'closest'\n",
    "             )\n",
    "    fig = dict(data = data, layout = layout)\n",
    "    iplot(fig, filename='draw_trace')"
   ]
  },
  {
   "cell_type": "code",
   "execution_count": 91,
   "metadata": {},
   "outputs": [
    {
     "data": {
      "application/vnd.plotly.v1+json": {
       "config": {
        "linkText": "Export to plot.ly",
        "plotlyServerURL": "https://plot.ly",
        "showLink": false
       },
       "data": [
        {
         "marker": {
          "color": "green"
         },
         "text": [
          "Yes",
          "No"
         ],
         "type": "bar",
         "x": [
          "Yes",
          "No"
         ],
         "y": [
          734,
          205
         ]
        }
       ],
       "layout": {
        "hovermode": "closest",
        "paper_bgcolor": "rgba(0, 0, 0, 0)",
        "plot_bgcolor": "rgba(0, 0, 0, 0)",
        "template": {
         "data": {
          "bar": [
           {
            "error_x": {
             "color": "#2a3f5f"
            },
            "error_y": {
             "color": "#2a3f5f"
            },
            "marker": {
             "line": {
              "color": "#E5ECF6",
              "width": 0.5
             }
            },
            "type": "bar"
           }
          ],
          "barpolar": [
           {
            "marker": {
             "line": {
              "color": "#E5ECF6",
              "width": 0.5
             }
            },
            "type": "barpolar"
           }
          ],
          "carpet": [
           {
            "aaxis": {
             "endlinecolor": "#2a3f5f",
             "gridcolor": "white",
             "linecolor": "white",
             "minorgridcolor": "white",
             "startlinecolor": "#2a3f5f"
            },
            "baxis": {
             "endlinecolor": "#2a3f5f",
             "gridcolor": "white",
             "linecolor": "white",
             "minorgridcolor": "white",
             "startlinecolor": "#2a3f5f"
            },
            "type": "carpet"
           }
          ],
          "choropleth": [
           {
            "colorbar": {
             "outlinewidth": 0,
             "ticks": ""
            },
            "type": "choropleth"
           }
          ],
          "contour": [
           {
            "colorbar": {
             "outlinewidth": 0,
             "ticks": ""
            },
            "colorscale": [
             [
              0,
              "#0d0887"
             ],
             [
              0.1111111111111111,
              "#46039f"
             ],
             [
              0.2222222222222222,
              "#7201a8"
             ],
             [
              0.3333333333333333,
              "#9c179e"
             ],
             [
              0.4444444444444444,
              "#bd3786"
             ],
             [
              0.5555555555555556,
              "#d8576b"
             ],
             [
              0.6666666666666666,
              "#ed7953"
             ],
             [
              0.7777777777777778,
              "#fb9f3a"
             ],
             [
              0.8888888888888888,
              "#fdca26"
             ],
             [
              1,
              "#f0f921"
             ]
            ],
            "type": "contour"
           }
          ],
          "contourcarpet": [
           {
            "colorbar": {
             "outlinewidth": 0,
             "ticks": ""
            },
            "type": "contourcarpet"
           }
          ],
          "heatmap": [
           {
            "colorbar": {
             "outlinewidth": 0,
             "ticks": ""
            },
            "colorscale": [
             [
              0,
              "#0d0887"
             ],
             [
              0.1111111111111111,
              "#46039f"
             ],
             [
              0.2222222222222222,
              "#7201a8"
             ],
             [
              0.3333333333333333,
              "#9c179e"
             ],
             [
              0.4444444444444444,
              "#bd3786"
             ],
             [
              0.5555555555555556,
              "#d8576b"
             ],
             [
              0.6666666666666666,
              "#ed7953"
             ],
             [
              0.7777777777777778,
              "#fb9f3a"
             ],
             [
              0.8888888888888888,
              "#fdca26"
             ],
             [
              1,
              "#f0f921"
             ]
            ],
            "type": "heatmap"
           }
          ],
          "heatmapgl": [
           {
            "colorbar": {
             "outlinewidth": 0,
             "ticks": ""
            },
            "colorscale": [
             [
              0,
              "#0d0887"
             ],
             [
              0.1111111111111111,
              "#46039f"
             ],
             [
              0.2222222222222222,
              "#7201a8"
             ],
             [
              0.3333333333333333,
              "#9c179e"
             ],
             [
              0.4444444444444444,
              "#bd3786"
             ],
             [
              0.5555555555555556,
              "#d8576b"
             ],
             [
              0.6666666666666666,
              "#ed7953"
             ],
             [
              0.7777777777777778,
              "#fb9f3a"
             ],
             [
              0.8888888888888888,
              "#fdca26"
             ],
             [
              1,
              "#f0f921"
             ]
            ],
            "type": "heatmapgl"
           }
          ],
          "histogram": [
           {
            "marker": {
             "colorbar": {
              "outlinewidth": 0,
              "ticks": ""
             }
            },
            "type": "histogram"
           }
          ],
          "histogram2d": [
           {
            "colorbar": {
             "outlinewidth": 0,
             "ticks": ""
            },
            "colorscale": [
             [
              0,
              "#0d0887"
             ],
             [
              0.1111111111111111,
              "#46039f"
             ],
             [
              0.2222222222222222,
              "#7201a8"
             ],
             [
              0.3333333333333333,
              "#9c179e"
             ],
             [
              0.4444444444444444,
              "#bd3786"
             ],
             [
              0.5555555555555556,
              "#d8576b"
             ],
             [
              0.6666666666666666,
              "#ed7953"
             ],
             [
              0.7777777777777778,
              "#fb9f3a"
             ],
             [
              0.8888888888888888,
              "#fdca26"
             ],
             [
              1,
              "#f0f921"
             ]
            ],
            "type": "histogram2d"
           }
          ],
          "histogram2dcontour": [
           {
            "colorbar": {
             "outlinewidth": 0,
             "ticks": ""
            },
            "colorscale": [
             [
              0,
              "#0d0887"
             ],
             [
              0.1111111111111111,
              "#46039f"
             ],
             [
              0.2222222222222222,
              "#7201a8"
             ],
             [
              0.3333333333333333,
              "#9c179e"
             ],
             [
              0.4444444444444444,
              "#bd3786"
             ],
             [
              0.5555555555555556,
              "#d8576b"
             ],
             [
              0.6666666666666666,
              "#ed7953"
             ],
             [
              0.7777777777777778,
              "#fb9f3a"
             ],
             [
              0.8888888888888888,
              "#fdca26"
             ],
             [
              1,
              "#f0f921"
             ]
            ],
            "type": "histogram2dcontour"
           }
          ],
          "mesh3d": [
           {
            "colorbar": {
             "outlinewidth": 0,
             "ticks": ""
            },
            "type": "mesh3d"
           }
          ],
          "parcoords": [
           {
            "line": {
             "colorbar": {
              "outlinewidth": 0,
              "ticks": ""
             }
            },
            "type": "parcoords"
           }
          ],
          "pie": [
           {
            "automargin": true,
            "type": "pie"
           }
          ],
          "scatter": [
           {
            "marker": {
             "colorbar": {
              "outlinewidth": 0,
              "ticks": ""
             }
            },
            "type": "scatter"
           }
          ],
          "scatter3d": [
           {
            "line": {
             "colorbar": {
              "outlinewidth": 0,
              "ticks": ""
             }
            },
            "marker": {
             "colorbar": {
              "outlinewidth": 0,
              "ticks": ""
             }
            },
            "type": "scatter3d"
           }
          ],
          "scattercarpet": [
           {
            "marker": {
             "colorbar": {
              "outlinewidth": 0,
              "ticks": ""
             }
            },
            "type": "scattercarpet"
           }
          ],
          "scattergeo": [
           {
            "marker": {
             "colorbar": {
              "outlinewidth": 0,
              "ticks": ""
             }
            },
            "type": "scattergeo"
           }
          ],
          "scattergl": [
           {
            "marker": {
             "colorbar": {
              "outlinewidth": 0,
              "ticks": ""
             }
            },
            "type": "scattergl"
           }
          ],
          "scattermapbox": [
           {
            "marker": {
             "colorbar": {
              "outlinewidth": 0,
              "ticks": ""
             }
            },
            "type": "scattermapbox"
           }
          ],
          "scatterpolar": [
           {
            "marker": {
             "colorbar": {
              "outlinewidth": 0,
              "ticks": ""
             }
            },
            "type": "scatterpolar"
           }
          ],
          "scatterpolargl": [
           {
            "marker": {
             "colorbar": {
              "outlinewidth": 0,
              "ticks": ""
             }
            },
            "type": "scatterpolargl"
           }
          ],
          "scatterternary": [
           {
            "marker": {
             "colorbar": {
              "outlinewidth": 0,
              "ticks": ""
             }
            },
            "type": "scatterternary"
           }
          ],
          "surface": [
           {
            "colorbar": {
             "outlinewidth": 0,
             "ticks": ""
            },
            "colorscale": [
             [
              0,
              "#0d0887"
             ],
             [
              0.1111111111111111,
              "#46039f"
             ],
             [
              0.2222222222222222,
              "#7201a8"
             ],
             [
              0.3333333333333333,
              "#9c179e"
             ],
             [
              0.4444444444444444,
              "#bd3786"
             ],
             [
              0.5555555555555556,
              "#d8576b"
             ],
             [
              0.6666666666666666,
              "#ed7953"
             ],
             [
              0.7777777777777778,
              "#fb9f3a"
             ],
             [
              0.8888888888888888,
              "#fdca26"
             ],
             [
              1,
              "#f0f921"
             ]
            ],
            "type": "surface"
           }
          ],
          "table": [
           {
            "cells": {
             "fill": {
              "color": "#EBF0F8"
             },
             "line": {
              "color": "white"
             }
            },
            "header": {
             "fill": {
              "color": "#C8D4E3"
             },
             "line": {
              "color": "white"
             }
            },
            "type": "table"
           }
          ]
         },
         "layout": {
          "annotationdefaults": {
           "arrowcolor": "#2a3f5f",
           "arrowhead": 0,
           "arrowwidth": 1
          },
          "autotypenumbers": "strict",
          "coloraxis": {
           "colorbar": {
            "outlinewidth": 0,
            "ticks": ""
           }
          },
          "colorscale": {
           "diverging": [
            [
             0,
             "#8e0152"
            ],
            [
             0.1,
             "#c51b7d"
            ],
            [
             0.2,
             "#de77ae"
            ],
            [
             0.3,
             "#f1b6da"
            ],
            [
             0.4,
             "#fde0ef"
            ],
            [
             0.5,
             "#f7f7f7"
            ],
            [
             0.6,
             "#e6f5d0"
            ],
            [
             0.7,
             "#b8e186"
            ],
            [
             0.8,
             "#7fbc41"
            ],
            [
             0.9,
             "#4d9221"
            ],
            [
             1,
             "#276419"
            ]
           ],
           "sequential": [
            [
             0,
             "#0d0887"
            ],
            [
             0.1111111111111111,
             "#46039f"
            ],
            [
             0.2222222222222222,
             "#7201a8"
            ],
            [
             0.3333333333333333,
             "#9c179e"
            ],
            [
             0.4444444444444444,
             "#bd3786"
            ],
            [
             0.5555555555555556,
             "#d8576b"
            ],
            [
             0.6666666666666666,
             "#ed7953"
            ],
            [
             0.7777777777777778,
             "#fb9f3a"
            ],
            [
             0.8888888888888888,
             "#fdca26"
            ],
            [
             1,
             "#f0f921"
            ]
           ],
           "sequentialminus": [
            [
             0,
             "#0d0887"
            ],
            [
             0.1111111111111111,
             "#46039f"
            ],
            [
             0.2222222222222222,
             "#7201a8"
            ],
            [
             0.3333333333333333,
             "#9c179e"
            ],
            [
             0.4444444444444444,
             "#bd3786"
            ],
            [
             0.5555555555555556,
             "#d8576b"
            ],
            [
             0.6666666666666666,
             "#ed7953"
            ],
            [
             0.7777777777777778,
             "#fb9f3a"
            ],
            [
             0.8888888888888888,
             "#fdca26"
            ],
            [
             1,
             "#f0f921"
            ]
           ]
          },
          "colorway": [
           "#636efa",
           "#EF553B",
           "#00cc96",
           "#ab63fa",
           "#FFA15A",
           "#19d3f3",
           "#FF6692",
           "#B6E880",
           "#FF97FF",
           "#FECB52"
          ],
          "font": {
           "color": "#2a3f5f"
          },
          "geo": {
           "bgcolor": "white",
           "lakecolor": "white",
           "landcolor": "#E5ECF6",
           "showlakes": true,
           "showland": true,
           "subunitcolor": "white"
          },
          "hoverlabel": {
           "align": "left"
          },
          "hovermode": "closest",
          "mapbox": {
           "style": "light"
          },
          "paper_bgcolor": "white",
          "plot_bgcolor": "#E5ECF6",
          "polar": {
           "angularaxis": {
            "gridcolor": "white",
            "linecolor": "white",
            "ticks": ""
           },
           "bgcolor": "#E5ECF6",
           "radialaxis": {
            "gridcolor": "white",
            "linecolor": "white",
            "ticks": ""
           }
          },
          "scene": {
           "xaxis": {
            "backgroundcolor": "#E5ECF6",
            "gridcolor": "white",
            "gridwidth": 2,
            "linecolor": "white",
            "showbackground": true,
            "ticks": "",
            "zerolinecolor": "white"
           },
           "yaxis": {
            "backgroundcolor": "#E5ECF6",
            "gridcolor": "white",
            "gridwidth": 2,
            "linecolor": "white",
            "showbackground": true,
            "ticks": "",
            "zerolinecolor": "white"
           },
           "zaxis": {
            "backgroundcolor": "#E5ECF6",
            "gridcolor": "white",
            "gridwidth": 2,
            "linecolor": "white",
            "showbackground": true,
            "ticks": "",
            "zerolinecolor": "white"
           }
          },
          "shapedefaults": {
           "line": {
            "color": "#2a3f5f"
           }
          },
          "ternary": {
           "aaxis": {
            "gridcolor": "white",
            "linecolor": "white",
            "ticks": ""
           },
           "baxis": {
            "gridcolor": "white",
            "linecolor": "white",
            "ticks": ""
           },
           "bgcolor": "#E5ECF6",
           "caxis": {
            "gridcolor": "white",
            "linecolor": "white",
            "ticks": ""
           }
          },
          "title": {
           "x": 0.05
          },
          "xaxis": {
           "automargin": true,
           "gridcolor": "white",
           "linecolor": "white",
           "ticks": "",
           "title": {
            "standoff": 15
           },
           "zerolinecolor": "white",
           "zerolinewidth": 2
          },
          "yaxis": {
           "automargin": true,
           "gridcolor": "white",
           "linecolor": "white",
           "ticks": "",
           "title": {
            "standoff": 15
           },
           "zerolinecolor": "white",
           "zerolinewidth": 2
          }
         }
        },
        "title": {
         "text": "Free Session Student Has Laptop or Not"
        },
        "xaxis": {
         "linecolor": "black",
         "linewidth": 2,
         "mirror": true,
         "showline": true,
         "showticklabels": true,
         "tickangle": 45,
         "tickfont": {
          "color": "red",
          "size": 12
         },
         "title": {
          "text": "Students Answer"
         },
         "zeroline": true,
         "zerolinecolor": "grey",
         "zerolinewidth": 1
        },
        "yaxis": {
         "gridcolor": "lightgrey",
         "linecolor": "black",
         "linewidth": 2,
         "mirror": true,
         "showline": true,
         "title": {
          "text": "Total Students"
         },
         "zeroline": true,
         "zerolinecolor": "grey",
         "zerolinewidth": 1
        }
       }
      },
      "text/html": [
       "<div>                            <div id=\"6a851800-c815-4baf-b799-656d3fc15ae3\" class=\"plotly-graph-div\" style=\"height:525px; width:100%;\"></div>            <script type=\"text/javascript\">                require([\"plotly\"], function(Plotly) {                    window.PLOTLYENV=window.PLOTLYENV || {};                                    if (document.getElementById(\"6a851800-c815-4baf-b799-656d3fc15ae3\")) {                    Plotly.newPlot(                        \"6a851800-c815-4baf-b799-656d3fc15ae3\",                        [{\"marker\": {\"color\": \"green\"}, \"text\": [\"Yes\", \"No\"], \"type\": \"bar\", \"x\": [\"Yes\", \"No\"], \"y\": [734, 205]}],                        {\"hovermode\": \"closest\", \"paper_bgcolor\": \"rgba(0, 0, 0, 0)\", \"plot_bgcolor\": \"rgba(0, 0, 0, 0)\", \"template\": {\"data\": {\"bar\": [{\"error_x\": {\"color\": \"#2a3f5f\"}, \"error_y\": {\"color\": \"#2a3f5f\"}, \"marker\": {\"line\": {\"color\": \"#E5ECF6\", \"width\": 0.5}}, \"type\": \"bar\"}], \"barpolar\": [{\"marker\": {\"line\": {\"color\": \"#E5ECF6\", \"width\": 0.5}}, \"type\": \"barpolar\"}], \"carpet\": [{\"aaxis\": {\"endlinecolor\": \"#2a3f5f\", \"gridcolor\": \"white\", \"linecolor\": \"white\", \"minorgridcolor\": \"white\", \"startlinecolor\": \"#2a3f5f\"}, \"baxis\": {\"endlinecolor\": \"#2a3f5f\", \"gridcolor\": \"white\", \"linecolor\": \"white\", \"minorgridcolor\": \"white\", \"startlinecolor\": \"#2a3f5f\"}, \"type\": \"carpet\"}], \"choropleth\": [{\"colorbar\": {\"outlinewidth\": 0, \"ticks\": \"\"}, \"type\": \"choropleth\"}], \"contour\": [{\"colorbar\": {\"outlinewidth\": 0, \"ticks\": \"\"}, \"colorscale\": [[0.0, \"#0d0887\"], [0.1111111111111111, \"#46039f\"], [0.2222222222222222, \"#7201a8\"], [0.3333333333333333, \"#9c179e\"], [0.4444444444444444, \"#bd3786\"], [0.5555555555555556, \"#d8576b\"], [0.6666666666666666, \"#ed7953\"], [0.7777777777777778, \"#fb9f3a\"], [0.8888888888888888, \"#fdca26\"], [1.0, \"#f0f921\"]], \"type\": \"contour\"}], \"contourcarpet\": [{\"colorbar\": {\"outlinewidth\": 0, \"ticks\": \"\"}, \"type\": \"contourcarpet\"}], \"heatmap\": [{\"colorbar\": {\"outlinewidth\": 0, \"ticks\": \"\"}, \"colorscale\": [[0.0, \"#0d0887\"], [0.1111111111111111, \"#46039f\"], [0.2222222222222222, \"#7201a8\"], [0.3333333333333333, \"#9c179e\"], [0.4444444444444444, \"#bd3786\"], [0.5555555555555556, \"#d8576b\"], [0.6666666666666666, \"#ed7953\"], [0.7777777777777778, \"#fb9f3a\"], [0.8888888888888888, \"#fdca26\"], [1.0, \"#f0f921\"]], \"type\": \"heatmap\"}], \"heatmapgl\": [{\"colorbar\": {\"outlinewidth\": 0, \"ticks\": \"\"}, \"colorscale\": [[0.0, \"#0d0887\"], [0.1111111111111111, \"#46039f\"], [0.2222222222222222, \"#7201a8\"], [0.3333333333333333, \"#9c179e\"], [0.4444444444444444, \"#bd3786\"], [0.5555555555555556, \"#d8576b\"], [0.6666666666666666, \"#ed7953\"], [0.7777777777777778, \"#fb9f3a\"], [0.8888888888888888, \"#fdca26\"], [1.0, \"#f0f921\"]], \"type\": \"heatmapgl\"}], \"histogram\": [{\"marker\": {\"colorbar\": {\"outlinewidth\": 0, \"ticks\": \"\"}}, \"type\": \"histogram\"}], \"histogram2d\": [{\"colorbar\": {\"outlinewidth\": 0, \"ticks\": \"\"}, \"colorscale\": [[0.0, \"#0d0887\"], [0.1111111111111111, \"#46039f\"], [0.2222222222222222, \"#7201a8\"], [0.3333333333333333, \"#9c179e\"], [0.4444444444444444, \"#bd3786\"], [0.5555555555555556, \"#d8576b\"], [0.6666666666666666, \"#ed7953\"], [0.7777777777777778, \"#fb9f3a\"], [0.8888888888888888, \"#fdca26\"], [1.0, \"#f0f921\"]], \"type\": \"histogram2d\"}], \"histogram2dcontour\": [{\"colorbar\": {\"outlinewidth\": 0, \"ticks\": \"\"}, \"colorscale\": [[0.0, \"#0d0887\"], [0.1111111111111111, \"#46039f\"], [0.2222222222222222, \"#7201a8\"], [0.3333333333333333, \"#9c179e\"], [0.4444444444444444, \"#bd3786\"], [0.5555555555555556, \"#d8576b\"], [0.6666666666666666, \"#ed7953\"], [0.7777777777777778, \"#fb9f3a\"], [0.8888888888888888, \"#fdca26\"], [1.0, \"#f0f921\"]], \"type\": \"histogram2dcontour\"}], \"mesh3d\": [{\"colorbar\": {\"outlinewidth\": 0, \"ticks\": \"\"}, \"type\": \"mesh3d\"}], \"parcoords\": [{\"line\": {\"colorbar\": {\"outlinewidth\": 0, \"ticks\": \"\"}}, \"type\": \"parcoords\"}], \"pie\": [{\"automargin\": true, \"type\": \"pie\"}], \"scatter\": [{\"marker\": {\"colorbar\": {\"outlinewidth\": 0, \"ticks\": \"\"}}, \"type\": \"scatter\"}], \"scatter3d\": [{\"line\": {\"colorbar\": {\"outlinewidth\": 0, \"ticks\": \"\"}}, \"marker\": {\"colorbar\": {\"outlinewidth\": 0, \"ticks\": \"\"}}, \"type\": \"scatter3d\"}], \"scattercarpet\": [{\"marker\": {\"colorbar\": {\"outlinewidth\": 0, \"ticks\": \"\"}}, \"type\": \"scattercarpet\"}], \"scattergeo\": [{\"marker\": {\"colorbar\": {\"outlinewidth\": 0, \"ticks\": \"\"}}, \"type\": \"scattergeo\"}], \"scattergl\": [{\"marker\": {\"colorbar\": {\"outlinewidth\": 0, \"ticks\": \"\"}}, \"type\": \"scattergl\"}], \"scattermapbox\": [{\"marker\": {\"colorbar\": {\"outlinewidth\": 0, \"ticks\": \"\"}}, \"type\": \"scattermapbox\"}], \"scatterpolar\": [{\"marker\": {\"colorbar\": {\"outlinewidth\": 0, \"ticks\": \"\"}}, \"type\": \"scatterpolar\"}], \"scatterpolargl\": [{\"marker\": {\"colorbar\": {\"outlinewidth\": 0, \"ticks\": \"\"}}, \"type\": \"scatterpolargl\"}], \"scatterternary\": [{\"marker\": {\"colorbar\": {\"outlinewidth\": 0, \"ticks\": \"\"}}, \"type\": \"scatterternary\"}], \"surface\": [{\"colorbar\": {\"outlinewidth\": 0, \"ticks\": \"\"}, \"colorscale\": [[0.0, \"#0d0887\"], [0.1111111111111111, \"#46039f\"], [0.2222222222222222, \"#7201a8\"], [0.3333333333333333, \"#9c179e\"], [0.4444444444444444, \"#bd3786\"], [0.5555555555555556, \"#d8576b\"], [0.6666666666666666, \"#ed7953\"], [0.7777777777777778, \"#fb9f3a\"], [0.8888888888888888, \"#fdca26\"], [1.0, \"#f0f921\"]], \"type\": \"surface\"}], \"table\": [{\"cells\": {\"fill\": {\"color\": \"#EBF0F8\"}, \"line\": {\"color\": \"white\"}}, \"header\": {\"fill\": {\"color\": \"#C8D4E3\"}, \"line\": {\"color\": \"white\"}}, \"type\": \"table\"}]}, \"layout\": {\"annotationdefaults\": {\"arrowcolor\": \"#2a3f5f\", \"arrowhead\": 0, \"arrowwidth\": 1}, \"autotypenumbers\": \"strict\", \"coloraxis\": {\"colorbar\": {\"outlinewidth\": 0, \"ticks\": \"\"}}, \"colorscale\": {\"diverging\": [[0, \"#8e0152\"], [0.1, \"#c51b7d\"], [0.2, \"#de77ae\"], [0.3, \"#f1b6da\"], [0.4, \"#fde0ef\"], [0.5, \"#f7f7f7\"], [0.6, \"#e6f5d0\"], [0.7, \"#b8e186\"], [0.8, \"#7fbc41\"], [0.9, \"#4d9221\"], [1, \"#276419\"]], \"sequential\": [[0.0, \"#0d0887\"], [0.1111111111111111, \"#46039f\"], [0.2222222222222222, \"#7201a8\"], [0.3333333333333333, \"#9c179e\"], [0.4444444444444444, \"#bd3786\"], [0.5555555555555556, \"#d8576b\"], [0.6666666666666666, \"#ed7953\"], [0.7777777777777778, \"#fb9f3a\"], [0.8888888888888888, \"#fdca26\"], [1.0, \"#f0f921\"]], \"sequentialminus\": [[0.0, \"#0d0887\"], [0.1111111111111111, \"#46039f\"], [0.2222222222222222, \"#7201a8\"], [0.3333333333333333, \"#9c179e\"], [0.4444444444444444, \"#bd3786\"], [0.5555555555555556, \"#d8576b\"], [0.6666666666666666, \"#ed7953\"], [0.7777777777777778, \"#fb9f3a\"], [0.8888888888888888, \"#fdca26\"], [1.0, \"#f0f921\"]]}, \"colorway\": [\"#636efa\", \"#EF553B\", \"#00cc96\", \"#ab63fa\", \"#FFA15A\", \"#19d3f3\", \"#FF6692\", \"#B6E880\", \"#FF97FF\", \"#FECB52\"], \"font\": {\"color\": \"#2a3f5f\"}, \"geo\": {\"bgcolor\": \"white\", \"lakecolor\": \"white\", \"landcolor\": \"#E5ECF6\", \"showlakes\": true, \"showland\": true, \"subunitcolor\": \"white\"}, \"hoverlabel\": {\"align\": \"left\"}, \"hovermode\": \"closest\", \"mapbox\": {\"style\": \"light\"}, \"paper_bgcolor\": \"white\", \"plot_bgcolor\": \"#E5ECF6\", \"polar\": {\"angularaxis\": {\"gridcolor\": \"white\", \"linecolor\": \"white\", \"ticks\": \"\"}, \"bgcolor\": \"#E5ECF6\", \"radialaxis\": {\"gridcolor\": \"white\", \"linecolor\": \"white\", \"ticks\": \"\"}}, \"scene\": {\"xaxis\": {\"backgroundcolor\": \"#E5ECF6\", \"gridcolor\": \"white\", \"gridwidth\": 2, \"linecolor\": \"white\", \"showbackground\": true, \"ticks\": \"\", \"zerolinecolor\": \"white\"}, \"yaxis\": {\"backgroundcolor\": \"#E5ECF6\", \"gridcolor\": \"white\", \"gridwidth\": 2, \"linecolor\": \"white\", \"showbackground\": true, \"ticks\": \"\", \"zerolinecolor\": \"white\"}, \"zaxis\": {\"backgroundcolor\": \"#E5ECF6\", \"gridcolor\": \"white\", \"gridwidth\": 2, \"linecolor\": \"white\", \"showbackground\": true, \"ticks\": \"\", \"zerolinecolor\": \"white\"}}, \"shapedefaults\": {\"line\": {\"color\": \"#2a3f5f\"}}, \"ternary\": {\"aaxis\": {\"gridcolor\": \"white\", \"linecolor\": \"white\", \"ticks\": \"\"}, \"baxis\": {\"gridcolor\": \"white\", \"linecolor\": \"white\", \"ticks\": \"\"}, \"bgcolor\": \"#E5ECF6\", \"caxis\": {\"gridcolor\": \"white\", \"linecolor\": \"white\", \"ticks\": \"\"}}, \"title\": {\"x\": 0.05}, \"xaxis\": {\"automargin\": true, \"gridcolor\": \"white\", \"linecolor\": \"white\", \"ticks\": \"\", \"title\": {\"standoff\": 15}, \"zerolinecolor\": \"white\", \"zerolinewidth\": 2}, \"yaxis\": {\"automargin\": true, \"gridcolor\": \"white\", \"linecolor\": \"white\", \"ticks\": \"\", \"title\": {\"standoff\": 15}, \"zerolinecolor\": \"white\", \"zerolinewidth\": 2}}}, \"title\": {\"text\": \"Free Session Student Has Laptop or Not\"}, \"xaxis\": {\"linecolor\": \"black\", \"linewidth\": 2, \"mirror\": true, \"showline\": true, \"showticklabels\": true, \"tickangle\": 45, \"tickfont\": {\"color\": \"red\", \"size\": 12}, \"title\": {\"text\": \"Students Answer\"}, \"zeroline\": true, \"zerolinecolor\": \"grey\", \"zerolinewidth\": 1}, \"yaxis\": {\"gridcolor\": \"lightgrey\", \"linecolor\": \"black\", \"linewidth\": 2, \"mirror\": true, \"showline\": true, \"title\": {\"text\": \"Total Students\"}, \"zeroline\": true, \"zerolinecolor\": \"grey\", \"zerolinewidth\": 1}},                        {\"responsive\": true}                    ).then(function(){\n",
       "                            \n",
       "var gd = document.getElementById('6a851800-c815-4baf-b799-656d3fc15ae3');\n",
       "var x = new MutationObserver(function (mutations, observer) {{\n",
       "        var display = window.getComputedStyle(gd).display;\n",
       "        if (!display || display === 'none') {{\n",
       "            console.log([gd, 'removed!']);\n",
       "            Plotly.purge(gd);\n",
       "            observer.disconnect();\n",
       "        }}\n",
       "}});\n",
       "\n",
       "// Listen for the removal of the full notebook cells\n",
       "var notebookContainer = gd.closest('#notebook-container');\n",
       "if (notebookContainer) {{\n",
       "    x.observe(notebookContainer, {childList: true});\n",
       "}}\n",
       "\n",
       "// Listen for the clearing of the current output cell\n",
       "var outputEl = gd.closest('.output');\n",
       "if (outputEl) {{\n",
       "    x.observe(outputEl, {childList: true});\n",
       "}}\n",
       "\n",
       "                        })                };                });            </script>        </div>"
      ]
     },
     "metadata": {},
     "output_type": "display_data"
    }
   ],
   "source": [
    "draw_trace_bar_laptop(laptop1,'HavingLaptop','laptopcount','Free Session Student Has Laptop or Not', 'Students Answer','Total Students',\"green\")"
   ]
  },
  {
   "cell_type": "markdown",
   "metadata": {},
   "source": [
    "from the above bar graph we can see that 734 students have their own laptop on the other hand 205 students dont have their own laptop."
   ]
  },
  {
   "cell_type": "code",
   "execution_count": 92,
   "metadata": {},
   "outputs": [
    {
     "data": {
      "text/html": [
       "<div>\n",
       "<style scoped>\n",
       "    .dataframe tbody tr th:only-of-type {\n",
       "        vertical-align: middle;\n",
       "    }\n",
       "\n",
       "    .dataframe tbody tr th {\n",
       "        vertical-align: top;\n",
       "    }\n",
       "\n",
       "    .dataframe thead th {\n",
       "        text-align: right;\n",
       "    }\n",
       "</style>\n",
       "<table border=\"1\" class=\"dataframe\">\n",
       "  <thead>\n",
       "    <tr style=\"text-align: right;\">\n",
       "      <th></th>\n",
       "      <th>Unnamed: 0</th>\n",
       "      <th>Time Stamp</th>\n",
       "      <th>Name</th>\n",
       "      <th>Contact</th>\n",
       "      <th>Email</th>\n",
       "      <th>College</th>\n",
       "      <th>Department</th>\n",
       "      <th>HavingLaptop</th>\n",
       "      <th>Source</th>\n",
       "      <th>Country</th>\n",
       "    </tr>\n",
       "  </thead>\n",
       "  <tbody>\n",
       "    <tr>\n",
       "      <th>0</th>\n",
       "      <td>0</td>\n",
       "      <td>8/24/2020 17:01:39</td>\n",
       "      <td>A.S.M. Raquibul Hasan</td>\n",
       "      <td>01722577922</td>\n",
       "      <td>raquibul.nsu@gmail.com</td>\n",
       "      <td>United International University</td>\n",
       "      <td>others</td>\n",
       "      <td>Yes</td>\n",
       "      <td>Facebook</td>\n",
       "      <td>Bangladesh</td>\n",
       "    </tr>\n",
       "    <tr>\n",
       "      <th>1</th>\n",
       "      <td>1</td>\n",
       "      <td>8/24/2020 10:08:54</td>\n",
       "      <td>Abdullah</td>\n",
       "      <td>NaN</td>\n",
       "      <td>sharif3abdullah@gmail.com</td>\n",
       "      <td>IIT</td>\n",
       "      <td>Engineering</td>\n",
       "      <td>NaN</td>\n",
       "      <td>NaN</td>\n",
       "      <td>Bangladesh</td>\n",
       "    </tr>\n",
       "    <tr>\n",
       "      <th>2</th>\n",
       "      <td>2</td>\n",
       "      <td>8/24/2020 9:20:28</td>\n",
       "      <td>Abdullah Bin Murad</td>\n",
       "      <td>01552443554</td>\n",
       "      <td>abmrifat54@gmail.com</td>\n",
       "      <td>Shahjalal University of Science and Technology</td>\n",
       "      <td>Engineering</td>\n",
       "      <td>Yes</td>\n",
       "      <td>NaN</td>\n",
       "      <td>Bangladesh</td>\n",
       "    </tr>\n",
       "    <tr>\n",
       "      <th>3</th>\n",
       "      <td>3</td>\n",
       "      <td>7/28/2020 12:16:30</td>\n",
       "      <td>Abhijoy Mukherjee</td>\n",
       "      <td>7003206060</td>\n",
       "      <td>abhijoymukherjee01@gmail.com</td>\n",
       "      <td>Asutosh College</td>\n",
       "      <td>Statistics</td>\n",
       "      <td>Yes</td>\n",
       "      <td>Friend</td>\n",
       "      <td>India</td>\n",
       "    </tr>\n",
       "    <tr>\n",
       "      <th>4</th>\n",
       "      <td>4</td>\n",
       "      <td>7/10/2020 13:56:14</td>\n",
       "      <td>Abhipreeti Acharjee</td>\n",
       "      <td>8274839744</td>\n",
       "      <td>deepamandal007@gmail.com</td>\n",
       "      <td>DEPARTMENT OF PURE MATHEMATICS, UNIVERSITY OF ...</td>\n",
       "      <td>PURE MATHEMATICS</td>\n",
       "      <td>Yes</td>\n",
       "      <td>NaN</td>\n",
       "      <td>India</td>\n",
       "    </tr>\n",
       "    <tr>\n",
       "      <th>...</th>\n",
       "      <td>...</td>\n",
       "      <td>...</td>\n",
       "      <td>...</td>\n",
       "      <td>...</td>\n",
       "      <td>...</td>\n",
       "      <td>...</td>\n",
       "      <td>...</td>\n",
       "      <td>...</td>\n",
       "      <td>...</td>\n",
       "      <td>...</td>\n",
       "    </tr>\n",
       "    <tr>\n",
       "      <th>963</th>\n",
       "      <td>963</td>\n",
       "      <td>1/22/2021 22:06:24</td>\n",
       "      <td>Ramanish Banerjee</td>\n",
       "      <td>8017179702</td>\n",
       "      <td>banerjeeramanish@gmail.com</td>\n",
       "      <td>MAULANA AZAD COLLEGE</td>\n",
       "      <td>Honors (BSC/MSC)</td>\n",
       "      <td>Yes</td>\n",
       "      <td>NaN</td>\n",
       "      <td>NaN</td>\n",
       "    </tr>\n",
       "    <tr>\n",
       "      <th>964</th>\n",
       "      <td>964</td>\n",
       "      <td>1/22/2021 22:46:21</td>\n",
       "      <td>Jinia Banerjee</td>\n",
       "      <td>6289719175</td>\n",
       "      <td>jiniabanerjee9727@gmail.com</td>\n",
       "      <td>Maulona Azad College</td>\n",
       "      <td>Honors (BSC/MSC)</td>\n",
       "      <td>No</td>\n",
       "      <td>NaN</td>\n",
       "      <td>NaN</td>\n",
       "    </tr>\n",
       "    <tr>\n",
       "      <th>965</th>\n",
       "      <td>965</td>\n",
       "      <td>1/23/2021 10:57:08</td>\n",
       "      <td>Md Safiqul Islam</td>\n",
       "      <td>8250955315</td>\n",
       "      <td>safiqulislam6006@gmail.com</td>\n",
       "      <td>Maulana Azad College</td>\n",
       "      <td>Honors (BSC/MSC)</td>\n",
       "      <td>Yes</td>\n",
       "      <td>NaN</td>\n",
       "      <td>NaN</td>\n",
       "    </tr>\n",
       "    <tr>\n",
       "      <th>966</th>\n",
       "      <td>966</td>\n",
       "      <td>1/23/2021 12:27:32</td>\n",
       "      <td>Soumojit Chatterjee</td>\n",
       "      <td>8101726672</td>\n",
       "      <td>imsoumojit@yahoo.com</td>\n",
       "      <td>Maulana Azad College</td>\n",
       "      <td>Honors (BSC/MSC)</td>\n",
       "      <td>Yes</td>\n",
       "      <td>NaN</td>\n",
       "      <td>NaN</td>\n",
       "    </tr>\n",
       "    <tr>\n",
       "      <th>967</th>\n",
       "      <td>967</td>\n",
       "      <td>1/23/2021 17:37:35</td>\n",
       "      <td>Debanjan Bhattacharjee</td>\n",
       "      <td>6290909245</td>\n",
       "      <td>debanjanbhattacharjee2002@gmail.com</td>\n",
       "      <td>Maulana Azad College</td>\n",
       "      <td>Honors (BSC/MSC)</td>\n",
       "      <td>Yes</td>\n",
       "      <td>NaN</td>\n",
       "      <td>NaN</td>\n",
       "    </tr>\n",
       "  </tbody>\n",
       "</table>\n",
       "<p>947 rows × 10 columns</p>\n",
       "</div>"
      ],
      "text/plain": [
       "     Unnamed: 0         Time Stamp                     Name      Contact  \\\n",
       "0             0  8/24/2020 17:01:39  A.S.M. Raquibul Hasan   01722577922   \n",
       "1             1  8/24/2020 10:08:54                Abdullah          NaN   \n",
       "2             2   8/24/2020 9:20:28    Abdullah Bin Murad    01552443554   \n",
       "3             3  7/28/2020 12:16:30       Abhijoy Mukherjee   7003206060   \n",
       "4             4  7/10/2020 13:56:14     Abhipreeti Acharjee   8274839744   \n",
       "..          ...                 ...                     ...          ...   \n",
       "963         963  1/22/2021 22:06:24       Ramanish Banerjee   8017179702   \n",
       "964         964  1/22/2021 22:46:21          Jinia Banerjee   6289719175   \n",
       "965         965  1/23/2021 10:57:08        Md Safiqul Islam   8250955315   \n",
       "966         966  1/23/2021 12:27:32     Soumojit Chatterjee   8101726672   \n",
       "967         967  1/23/2021 17:37:35  Debanjan Bhattacharjee   6290909245   \n",
       "\n",
       "                                   Email  \\\n",
       "0                 raquibul.nsu@gmail.com   \n",
       "1              sharif3abdullah@gmail.com   \n",
       "2                   abmrifat54@gmail.com   \n",
       "3           abhijoymukherjee01@gmail.com   \n",
       "4               deepamandal007@gmail.com   \n",
       "..                                   ...   \n",
       "963           banerjeeramanish@gmail.com   \n",
       "964          jiniabanerjee9727@gmail.com   \n",
       "965           safiqulislam6006@gmail.com   \n",
       "966                 imsoumojit@yahoo.com   \n",
       "967  debanjanbhattacharjee2002@gmail.com   \n",
       "\n",
       "                                               College        Department  \\\n",
       "0                     United International University             others   \n",
       "1                                                  IIT       Engineering   \n",
       "2       Shahjalal University of Science and Technology       Engineering   \n",
       "3                                      Asutosh College        Statistics   \n",
       "4    DEPARTMENT OF PURE MATHEMATICS, UNIVERSITY OF ...  PURE MATHEMATICS   \n",
       "..                                                 ...               ...   \n",
       "963                               MAULANA AZAD COLLEGE  Honors (BSC/MSC)   \n",
       "964                               Maulona Azad College  Honors (BSC/MSC)   \n",
       "965                               Maulana Azad College  Honors (BSC/MSC)   \n",
       "966                               Maulana Azad College  Honors (BSC/MSC)   \n",
       "967                               Maulana Azad College  Honors (BSC/MSC)   \n",
       "\n",
       "    HavingLaptop     Source     Country  \n",
       "0            Yes  Facebook   Bangladesh  \n",
       "1            NaN        NaN  Bangladesh  \n",
       "2            Yes        NaN  Bangladesh  \n",
       "3            Yes     Friend       India  \n",
       "4            Yes        NaN       India  \n",
       "..           ...        ...         ...  \n",
       "963          Yes        NaN         NaN  \n",
       "964           No        NaN         NaN  \n",
       "965          Yes        NaN         NaN  \n",
       "966          Yes        NaN         NaN  \n",
       "967          Yes        NaN         NaN  \n",
       "\n",
       "[947 rows x 10 columns]"
      ]
     },
     "execution_count": 92,
     "metadata": {},
     "output_type": "execute_result"
    }
   ],
   "source": [
    "df8"
   ]
  },
  {
   "cell_type": "code",
   "execution_count": 93,
   "metadata": {},
   "outputs": [
    {
     "data": {
      "text/html": [
       "<div>\n",
       "<style scoped>\n",
       "    .dataframe tbody tr th:only-of-type {\n",
       "        vertical-align: middle;\n",
       "    }\n",
       "\n",
       "    .dataframe tbody tr th {\n",
       "        vertical-align: top;\n",
       "    }\n",
       "\n",
       "    .dataframe thead th {\n",
       "        text-align: right;\n",
       "    }\n",
       "</style>\n",
       "<table border=\"1\" class=\"dataframe\">\n",
       "  <thead>\n",
       "    <tr style=\"text-align: right;\">\n",
       "      <th></th>\n",
       "      <th>HavingLaptop</th>\n",
       "      <th>laptopcount</th>\n",
       "    </tr>\n",
       "  </thead>\n",
       "  <tbody>\n",
       "    <tr>\n",
       "      <th>0</th>\n",
       "      <td>No</td>\n",
       "      <td>205</td>\n",
       "    </tr>\n",
       "    <tr>\n",
       "      <th>1</th>\n",
       "      <td>Yes</td>\n",
       "      <td>734</td>\n",
       "    </tr>\n",
       "  </tbody>\n",
       "</table>\n",
       "</div>"
      ],
      "text/plain": [
       "  HavingLaptop  laptopcount\n",
       "0           No          205\n",
       "1          Yes          734"
      ]
     },
     "execution_count": 93,
     "metadata": {},
     "output_type": "execute_result"
    }
   ],
   "source": [
    "laptop1"
   ]
  },
  {
   "cell_type": "code",
   "execution_count": 94,
   "metadata": {},
   "outputs": [
    {
     "data": {
      "text/html": [
       "<div>\n",
       "<style scoped>\n",
       "    .dataframe tbody tr th:only-of-type {\n",
       "        vertical-align: middle;\n",
       "    }\n",
       "\n",
       "    .dataframe tbody tr th {\n",
       "        vertical-align: top;\n",
       "    }\n",
       "\n",
       "    .dataframe thead th {\n",
       "        text-align: right;\n",
       "    }\n",
       "</style>\n",
       "<table border=\"1\" class=\"dataframe\">\n",
       "  <thead>\n",
       "    <tr style=\"text-align: right;\">\n",
       "      <th></th>\n",
       "      <th>Unnamed: 0</th>\n",
       "      <th>Time Stamp</th>\n",
       "      <th>Name</th>\n",
       "      <th>Contact</th>\n",
       "      <th>Email</th>\n",
       "      <th>College</th>\n",
       "      <th>Department</th>\n",
       "      <th>HavingLaptop</th>\n",
       "      <th>Source</th>\n",
       "      <th>Country</th>\n",
       "      <th>laptopcount</th>\n",
       "    </tr>\n",
       "  </thead>\n",
       "  <tbody>\n",
       "    <tr>\n",
       "      <th>7</th>\n",
       "      <td>7</td>\n",
       "      <td>6/24/2020 15:06:51</td>\n",
       "      <td>Abhisek biswas</td>\n",
       "      <td>NaN</td>\n",
       "      <td>amitsrivastav445@gmail.com</td>\n",
       "      <td>J.K College</td>\n",
       "      <td>B.Com (H)</td>\n",
       "      <td>No</td>\n",
       "      <td>Rohan Rakshit</td>\n",
       "      <td>India</td>\n",
       "      <td>0.0</td>\n",
       "    </tr>\n",
       "    <tr>\n",
       "      <th>11</th>\n",
       "      <td>11</td>\n",
       "      <td>7/26/2020 17:51:34</td>\n",
       "      <td>Abhishek Singh</td>\n",
       "      <td>6260303830</td>\n",
       "      <td>as1973240@gmail.com</td>\n",
       "      <td>Global Nature Care Sangathan Group Of Institut...</td>\n",
       "      <td>Civil Engineering</td>\n",
       "      <td>No</td>\n",
       "      <td>Social media</td>\n",
       "      <td>India</td>\n",
       "      <td>0.0</td>\n",
       "    </tr>\n",
       "    <tr>\n",
       "      <th>15</th>\n",
       "      <td>15</td>\n",
       "      <td>6/24/2020 15:23:11</td>\n",
       "      <td>Adarsha Mukherjee</td>\n",
       "      <td>NaN</td>\n",
       "      <td>Subratadhibar002@gmail.com</td>\n",
       "      <td>Purulia zilla school</td>\n",
       "      <td>Atrs</td>\n",
       "      <td>No</td>\n",
       "      <td>Rohan</td>\n",
       "      <td>India</td>\n",
       "      <td>0.0</td>\n",
       "    </tr>\n",
       "    <tr>\n",
       "      <th>26</th>\n",
       "      <td>26</td>\n",
       "      <td>7/27/2020 16:47:11</td>\n",
       "      <td>Amit Pal</td>\n",
       "      <td>8240247637</td>\n",
       "      <td>amitpal9685@gmail.com</td>\n",
       "      <td>Ramakrishna Mission Shilpapitha</td>\n",
       "      <td>Electronics and telecommunication</td>\n",
       "      <td>No</td>\n",
       "      <td>From my friend Rupsa</td>\n",
       "      <td>India</td>\n",
       "      <td>0.0</td>\n",
       "    </tr>\n",
       "    <tr>\n",
       "      <th>29</th>\n",
       "      <td>29</td>\n",
       "      <td>6/24/2020 16:25:25</td>\n",
       "      <td>Amit Srivastav</td>\n",
       "      <td>7384285644</td>\n",
       "      <td>Shreyaduttaxxx@gmail.com</td>\n",
       "      <td>Viswass school &amp; college of nursing</td>\n",
       "      <td>B.sc nursing</td>\n",
       "      <td>No</td>\n",
       "      <td>NaN</td>\n",
       "      <td>India</td>\n",
       "      <td>0.0</td>\n",
       "    </tr>\n",
       "    <tr>\n",
       "      <th>...</th>\n",
       "      <td>...</td>\n",
       "      <td>...</td>\n",
       "      <td>...</td>\n",
       "      <td>...</td>\n",
       "      <td>...</td>\n",
       "      <td>...</td>\n",
       "      <td>...</td>\n",
       "      <td>...</td>\n",
       "      <td>...</td>\n",
       "      <td>...</td>\n",
       "      <td>...</td>\n",
       "    </tr>\n",
       "    <tr>\n",
       "      <th>951</th>\n",
       "      <td>951</td>\n",
       "      <td>1/22/2021 15:54:55</td>\n",
       "      <td>Koyel Basak</td>\n",
       "      <td>7478293697</td>\n",
       "      <td>Koyelbasak2002@gmail.com</td>\n",
       "      <td>Maulana azad college</td>\n",
       "      <td>Honors (BSC/MSC)</td>\n",
       "      <td>No</td>\n",
       "      <td>NaN</td>\n",
       "      <td>NaN</td>\n",
       "      <td>0.0</td>\n",
       "    </tr>\n",
       "    <tr>\n",
       "      <th>954</th>\n",
       "      <td>954</td>\n",
       "      <td>1/22/2021 16:42:36</td>\n",
       "      <td>Rayesha Paul</td>\n",
       "      <td>9123345331</td>\n",
       "      <td>rayeshapaul25@gmail.com</td>\n",
       "      <td>Maulana Azad College</td>\n",
       "      <td>Honors (BSC/MSC)</td>\n",
       "      <td>No</td>\n",
       "      <td>NaN</td>\n",
       "      <td>NaN</td>\n",
       "      <td>0.0</td>\n",
       "    </tr>\n",
       "    <tr>\n",
       "      <th>956</th>\n",
       "      <td>956</td>\n",
       "      <td>1/22/2021 17:31:18</td>\n",
       "      <td>Ankita Sinha</td>\n",
       "      <td>9123713683</td>\n",
       "      <td>ankitasinha06052002@gmail.com</td>\n",
       "      <td>Maulana Azad College</td>\n",
       "      <td>Honors (BSC/MSC)</td>\n",
       "      <td>No</td>\n",
       "      <td>NaN</td>\n",
       "      <td>NaN</td>\n",
       "      <td>0.0</td>\n",
       "    </tr>\n",
       "    <tr>\n",
       "      <th>957</th>\n",
       "      <td>957</td>\n",
       "      <td>1/22/2021 17:54:10</td>\n",
       "      <td>SOUGATA ROY</td>\n",
       "      <td>6291014794</td>\n",
       "      <td>sougataa12@gmail.com</td>\n",
       "      <td>Maulana Azad College</td>\n",
       "      <td>Honors (BSC/MSC)</td>\n",
       "      <td>No</td>\n",
       "      <td>NaN</td>\n",
       "      <td>NaN</td>\n",
       "      <td>0.0</td>\n",
       "    </tr>\n",
       "    <tr>\n",
       "      <th>964</th>\n",
       "      <td>964</td>\n",
       "      <td>1/22/2021 22:46:21</td>\n",
       "      <td>Jinia Banerjee</td>\n",
       "      <td>6289719175</td>\n",
       "      <td>jiniabanerjee9727@gmail.com</td>\n",
       "      <td>Maulona Azad College</td>\n",
       "      <td>Honors (BSC/MSC)</td>\n",
       "      <td>No</td>\n",
       "      <td>NaN</td>\n",
       "      <td>NaN</td>\n",
       "      <td>0.0</td>\n",
       "    </tr>\n",
       "  </tbody>\n",
       "</table>\n",
       "<p>205 rows × 11 columns</p>\n",
       "</div>"
      ],
      "text/plain": [
       "     Unnamed: 0         Time Stamp                Name     Contact  \\\n",
       "7             7  6/24/2020 15:06:51     Abhisek biswas         NaN   \n",
       "11           11  7/26/2020 17:51:34     Abhishek Singh  6260303830   \n",
       "15           15  6/24/2020 15:23:11  Adarsha Mukherjee         NaN   \n",
       "26           26  7/27/2020 16:47:11           Amit Pal  8240247637   \n",
       "29           29  6/24/2020 16:25:25     Amit Srivastav  7384285644   \n",
       "..          ...                 ...                ...         ...   \n",
       "951         951  1/22/2021 15:54:55        Koyel Basak  7478293697   \n",
       "954         954  1/22/2021 16:42:36      Rayesha Paul   9123345331   \n",
       "956         956  1/22/2021 17:31:18      Ankita Sinha   9123713683   \n",
       "957         957  1/22/2021 17:54:10        SOUGATA ROY  6291014794   \n",
       "964         964  1/22/2021 22:46:21     Jinia Banerjee  6289719175   \n",
       "\n",
       "                             Email  \\\n",
       "7       amitsrivastav445@gmail.com   \n",
       "11             as1973240@gmail.com   \n",
       "15      Subratadhibar002@gmail.com   \n",
       "26           amitpal9685@gmail.com   \n",
       "29        Shreyaduttaxxx@gmail.com   \n",
       "..                             ...   \n",
       "951       Koyelbasak2002@gmail.com   \n",
       "954        rayeshapaul25@gmail.com   \n",
       "956  ankitasinha06052002@gmail.com   \n",
       "957           sougataa12@gmail.com   \n",
       "964    jiniabanerjee9727@gmail.com   \n",
       "\n",
       "                                               College  \\\n",
       "7                                          J.K College   \n",
       "11   Global Nature Care Sangathan Group Of Institut...   \n",
       "15                               Purulia zilla school    \n",
       "26                     Ramakrishna Mission Shilpapitha   \n",
       "29                 Viswass school & college of nursing   \n",
       "..                                                 ...   \n",
       "951                              Maulana azad college    \n",
       "954                              Maulana Azad College    \n",
       "956                               Maulana Azad College   \n",
       "957                               Maulana Azad College   \n",
       "964                               Maulona Azad College   \n",
       "\n",
       "                            Department HavingLaptop                Source  \\\n",
       "7                            B.Com (H)           No         Rohan Rakshit   \n",
       "11                   Civil Engineering           No          Social media   \n",
       "15                                Atrs           No                 Rohan   \n",
       "26   Electronics and telecommunication           No  From my friend Rupsa   \n",
       "29                        B.sc nursing           No                   NaN   \n",
       "..                                 ...          ...                   ...   \n",
       "951                   Honors (BSC/MSC)           No                   NaN   \n",
       "954                   Honors (BSC/MSC)           No                   NaN   \n",
       "956                   Honors (BSC/MSC)           No                   NaN   \n",
       "957                   Honors (BSC/MSC)           No                   NaN   \n",
       "964                   Honors (BSC/MSC)           No                   NaN   \n",
       "\n",
       "    Country  laptopcount  \n",
       "7     India          0.0  \n",
       "11    India          0.0  \n",
       "15    India          0.0  \n",
       "26    India          0.0  \n",
       "29    India          0.0  \n",
       "..      ...          ...  \n",
       "951     NaN          0.0  \n",
       "954     NaN          0.0  \n",
       "956     NaN          0.0  \n",
       "957     NaN          0.0  \n",
       "964     NaN          0.0  \n",
       "\n",
       "[205 rows x 11 columns]"
      ]
     },
     "execution_count": 94,
     "metadata": {},
     "output_type": "execute_result"
    }
   ],
   "source": [
    "Nolaptop = df10[df10.laptopcount == 0]\n",
    "Nolaptop"
   ]
  },
  {
   "cell_type": "code",
   "execution_count": 95,
   "metadata": {},
   "outputs": [
    {
     "name": "stdout",
     "output_type": "stream",
     "text": [
      " total participate university where student dont have laptop: 125\n"
     ]
    },
    {
     "data": {
      "text/plain": [
       "array(['J.K College',\n",
       "       'Global Nature Care Sangathan Group Of Institutions',\n",
       "       'Purulia zilla school ', 'Ramakrishna Mission Shilpapitha',\n",
       "       'Viswass school & college of nursing', 'Maulana Azad College ',\n",
       "       'Insitiution of engineering and managment',\n",
       "       'Durgapur Institute Of Advance Technology and Management',\n",
       "       'Asutosh College', 'Kalyani Mahavidyalaya',\n",
       "       'University of Calcutta', 'Lady Brabourne College',\n",
       "       'Jagannath Kishore college,Purulia', 'NSU',\n",
       "       'NARASINHA DUTT COLLEGE',\n",
       "       'NARASINHA DUTT COLLEGE, UNIVERSITY OF CALCUTTA',\n",
       "       'Narasingha Dutt College ', 'Asutosh College ',\n",
       "       'RKMVERI BELUR MATH', 'Kalyani Mahabidyalaya', nan,\n",
       "       'Guru NANAK INSTITUTE OF PHARMACEUTICAL SCIENCE AND TECHNOLOGY',\n",
       "       'Bethune college', 'Jk college', 'Vidyasagar college for women',\n",
       "       'JADAVPUR UNIVERSITY ', 'National power training institute Nagpur',\n",
       "       'Kalyani mahavidyalay', 'Dr. B. C. Roy Engineering college',\n",
       "       'Kalyani Mahavidya', 'N.P.T.I(E.R.)',\n",
       "       ' Uttarpara Amarendra Vidyapith',\n",
       "       'Durgapur institute of advanced and technology management',\n",
       "       'Shahjalal University of Science & Technology   ',\n",
       "       'Narasinha Dutta College', 'Vidyasagar University',\n",
       "       'Vidyasagar collage ', 'RCC institute of information technology',\n",
       "       'Durgapur institute of advance technology and managment',\n",
       "       'Calcutta university ',\n",
       "       'Durgapur institute of advanced technology and managemant rajbandh',\n",
       "       'Durgapur Institute of advanced technology and management ',\n",
       "       'Surendranath college', 'Academy Of Technology',\n",
       "       'Amta Ramsaday College', 'DIATM, Durgapur', 'Jadavpur University',\n",
       "       'BETHUNE COLLEGE',\n",
       "       'Durgapur Institute of Advanced Technology & Management',\n",
       "       'Victoria Institution', 'Narasinha dutt college',\n",
       "       'National power training institute (E.R) Durgapur',\n",
       "       'JADAVPUR UNIVERSITY', 'Lalbaba college ', 'Aliah University ',\n",
       "       'Maulana Azad College, Kolkata', 'Raja Peary Mohan college',\n",
       "       'VIDYASAGAR UNIVERSITY, MEDINIPUR',\n",
       "       'The New Horizons Institute of Technology',\n",
       "       'Jogomaya Devi college ', 'Vivekananda college',\n",
       "       'Vivekananda College ', 'Presidency University', 'Aot',\n",
       "       'National power training institute', 'RKMVERI (BELUR CAMPUS)',\n",
       "       'Dr.B.C.ROY ENGINEERING COLLEGE',\n",
       "       'Vivekananda College,Thakurpukur', 'MAULANA AZAD COLLEGE',\n",
       "       'Future institute of technology ',\n",
       "       'Future Institute of Technology', 'RKMVERI, BELUR MATH',\n",
       "       'Ramakrishna Mission Vivekananda Educational And Research Institute',\n",
       "       'JadavpurUniversity  ', 'Vivekananda College',\n",
       "       'Shibpur Dinobundhoo institution',\n",
       "       'B P poddar institute of Management & Technology ',\n",
       "       \"Durgapur Women's College\", \"Duragpur Women's college\",\n",
       "       \"Durgapur women's college\", 'Durgapur Womens College ',\n",
       "       \"Durgapur Women's College \", \"Durgapur women's collage \",\n",
       "       \"Durgapur Women's College   Kazi Nazrul University\",\n",
       "       \"DURGAPUR WOMEN'S COLLEGE\",\n",
       "       'College name - Durgapur Womens college',\n",
       "       \"Raniganj Girls' College \", 'KAJI najrul invercity',\n",
       "       \"Durgapur woman's college \", \"Durgapur women's college \",\n",
       "       \"Durgapur women's College\", 'DURGAPUR GOVERNMENT COLLEGE',\n",
       "       'Durgapur government college', \"Women's collage\",\n",
       "       \"Durgapur WOMEN'S college \",\n",
       "       'Regent Education And Research Foundation',\n",
       "       'Regent education & research foundation barrackpore', 'RERF',\n",
       "       'Rerf', 'Regent Education and Research Foundation',\n",
       "       'Regent Education and Research Foundation ',\n",
       "       'Regent Education and Research Foundation Group of Institutions',\n",
       "       'Regent Education &Research Foundation',\n",
       "       'Regent Education and Research foundation',\n",
       "       'Regent Education & Research Foundation',\n",
       "       'REGENT EDUCATION & RESEARCH FOUNDATION',\n",
       "       'Regent education and research foundation ',\n",
       "       'Regent education and research foundation', 'RRERF',\n",
       "       'Regent Education and Research foundation ',\n",
       "       'Lady braboune college', 'Lady Brabourne college ',\n",
       "       'Lady brabourne college', 'Lady Brabourne College ',\n",
       "       'Lady Brabourne college', 'Lady Braboune Collage',\n",
       "       'Maulana Azad College', 'Maulana Azad college',\n",
       "       'Moulana azad college', 'Moulana Azad College',\n",
       "       'MAULANA AZAD COLLEGE ', 'maulana azad college',\n",
       "       'Maulana Azad College, University Of Calcutta',\n",
       "       'Maulana azad college ', 'Maulona Azad College'], dtype=object)"
      ]
     },
     "execution_count": 95,
     "metadata": {},
     "output_type": "execute_result"
    }
   ],
   "source": [
    "#students with no laptop \n",
    "Nolaptop_uni = Nolaptop.College.unique()\n",
    "print(f\" total participate university where student dont have laptop: {len(Nolaptop_uni)}\")\n",
    "Nolaptop_uni"
   ]
  },
  {
   "cell_type": "code",
   "execution_count": 96,
   "metadata": {},
   "outputs": [
    {
     "name": "stdout",
     "output_type": "stream",
     "text": [
      "University: J.K College: \n",
      "Department: ['B.Com (H)']\n",
      "\n",
      "University: Global Nature Care Sangathan Group Of Institutions: \n",
      "Department: ['Civil Engineering']\n",
      "\n",
      "University: Purulia zilla school : \n",
      "Department: ['Atrs']\n",
      "\n",
      "University: Ramakrishna Mission Shilpapitha: \n",
      "Department: ['Electronics and telecommunication']\n",
      "\n",
      "University: Viswass school & college of nursing: \n",
      "Department: ['B.sc nursing']\n",
      "\n",
      "University: Maulana Azad College : \n",
      "Department: ['Statistics (H)', 'Honors (BSC/MSC)', 'Honors (BSC/MSC)', 'Honors (BSC/MSC)', 'Honors (BSC/MSC)']\n",
      "\n",
      "University: Insitiution of engineering and managment: \n",
      "Department: ['B. Tech (Cse) ']\n",
      "\n",
      "University: Durgapur Institute Of Advance Technology and Management: \n",
      "Department: ['Btech 4th year on ECE department']\n",
      "\n",
      "University: Asutosh College: \n",
      "Department: ['Statistics Honours Student', 'Bsc. Statistics Honours Student(Final Year)', 'Statistics']\n",
      "\n",
      "University: Kalyani Mahavidyalaya: \n",
      "Department: [nan, 'B.Sc Statistics honours', 'Statistics Honours (B.Sc.)', 'Statistics ']\n",
      "\n",
      "University: University of Calcutta: \n",
      "Department: ['M.sc', 'Pure mathematics']\n",
      "\n",
      "University: Lady Brabourne College: \n",
      "Department: [nan, 'Honors (BSC/MSC)', 'Honors (BSC/MSC)', 'Honors (BSC/MSC)', 'Honors (BSC/MSC)', 'Honors (BSC/MSC)', 'Honors (BSC/MSC)', 'Honors (BSC/MSC)', 'Honors (BSC/MSC)', 'Honors (BSC/MSC)', 'Honors (BSC/MSC)']\n",
      "\n",
      "University: Jagannath Kishore college,Purulia: \n",
      "Department: ['Computer Science']\n",
      "\n",
      "University: NSU: \n",
      "Department: ['Honors (BSC/MSC)']\n",
      "\n",
      "University: NARASINHA DUTT COLLEGE: \n",
      "Department: ['Master of science in applied Mathematics']\n",
      "\n",
      "University: NARASINHA DUTT COLLEGE, UNIVERSITY OF CALCUTTA: \n",
      "Department: ['M.SC. IN APPLIED MATHEMATICS']\n",
      "\n",
      "University: Narasingha Dutt College : \n",
      "Department: ['MSc Mathematics']\n",
      "\n",
      "University: Asutosh College : \n",
      "Department: ['Statistics ']\n",
      "\n",
      "University: RKMVERI BELUR MATH: \n",
      "Department: ['MSC IN MATHEMATICS']\n",
      "\n",
      "University: Kalyani Mahabidyalaya: \n",
      "Department: [nan]\n",
      "\n",
      "University: nan: \n",
      "Department: []\n",
      "\n",
      "University: Guru NANAK INSTITUTE OF PHARMACEUTICAL SCIENCE AND TECHNOLOGY: \n",
      "Department: ['Microbiology']\n",
      "\n",
      "University: Bethune college: \n",
      "Department: ['Honors (BSC/MSC)']\n",
      "\n",
      "University: Jk college: \n",
      "Department: ['Computer science']\n",
      "\n",
      "University: Vidyasagar college for women: \n",
      "Department: ['Mathematics']\n",
      "\n",
      "University: JADAVPUR UNIVERSITY : \n",
      "Department: [' LINEAR ALGEBRA IN MATHEMATICS', 'MATHEMATICS ']\n",
      "\n",
      "University: National power training institute Nagpur: \n",
      "Department: ['Power']\n",
      "\n",
      "University: Kalyani mahavidyalay: \n",
      "Department: ['Statistics']\n",
      "\n",
      "University: Dr. B. C. Roy Engineering college: \n",
      "Department: ['Engineering']\n",
      "\n",
      "University: Kalyani Mahavidya: \n",
      "Department: [nan]\n",
      "\n",
      "University: N.P.T.I(E.R.): \n",
      "Department: ['Engineering']\n",
      "\n",
      "University:  Uttarpara Amarendra Vidyapith: \n",
      "Department: ['H.S passed']\n",
      "\n",
      "University: Durgapur institute of advanced and technology management: \n",
      "Department: ['Byech']\n",
      "\n",
      "University: Shahjalal University of Science & Technology   : \n",
      "Department: ['Engineering']\n",
      "\n",
      "University: Narasinha Dutta College: \n",
      "Department: ['APPLIES MATHEMATICS']\n",
      "\n",
      "University: Vidyasagar University: \n",
      "Department: ['Mathematics (MSC)', 'M.Sc in Mathematics', 'Mathematics']\n",
      "\n",
      "University: Vidyasagar collage : \n",
      "Department: [nan]\n",
      "\n",
      "University: RCC institute of information technology: \n",
      "Department: ['Electrical engineering']\n",
      "\n",
      "University: Durgapur institute of advance technology and managment: \n",
      "Department: ['B-tech in ece']\n",
      "\n",
      "University: Calcutta university : \n",
      "Department: ['Bsc(state )']\n",
      "\n",
      "University: Durgapur institute of advanced technology and managemant rajbandh: \n",
      "Department: [\"B-tech (ECE 2'nd year)\"]\n",
      "\n",
      "University: Durgapur Institute of advanced technology and management : \n",
      "Department: ['Mechanical engineering ']\n",
      "\n",
      "University: Surendranath college: \n",
      "Department: [nan]\n",
      "\n",
      "University: Academy Of Technology: \n",
      "Department: ['Mechanical engineering']\n",
      "\n",
      "University: Amta Ramsaday College: \n",
      "Department: ['Bsc. Hons']\n",
      "\n",
      "University: DIATM, Durgapur: \n",
      "Department: ['Mechanical']\n",
      "\n",
      "University: Jadavpur University: \n",
      "Department: ['Mathematics', 'Mathematics', 'MSc', 'Studying M.sc in mathematics', 'M.sc Mathematics']\n",
      "\n",
      "University: BETHUNE COLLEGE: \n",
      "Department: ['MATHEMATICS ']\n",
      "\n",
      "University: Durgapur Institute of Advanced Technology & Management: \n",
      "Department: ['B.tech (ECE)']\n",
      "\n",
      "University: Victoria Institution: \n",
      "Department: ['Bsc physics honours ']\n",
      "\n",
      "University: Narasinha dutt college: \n",
      "Department: ['Math (H) ']\n",
      "\n",
      "University: National power training institute (E.R) Durgapur: \n",
      "Department: ['Power engineering']\n",
      "\n",
      "University: JADAVPUR UNIVERSITY: \n",
      "Department: ['MATHEMATICS']\n",
      "\n",
      "University: Lalbaba college : \n",
      "Department: ['B.Sc']\n",
      "\n",
      "University: Aliah University : \n",
      "Department: ['Honors (BSC/MSC)']\n",
      "\n",
      "University: Maulana Azad College, Kolkata: \n",
      "Department: ['STATISTICS']\n",
      "\n",
      "University: Raja Peary Mohan college: \n",
      "Department: ['Did my graduation on mathematics']\n",
      "\n",
      "University: VIDYASAGAR UNIVERSITY, MEDINIPUR: \n",
      "Department: ['Msc in applied mathematics']\n",
      "\n",
      "University: The New Horizons Institute of Technology: \n",
      "Department: ['Engineering']\n",
      "\n",
      "University: Jogomaya Devi college : \n",
      "Department: ['Mathematics honours ']\n",
      "\n",
      "University: Vivekananda college: \n",
      "Department: [nan]\n",
      "\n",
      "University: Vivekananda College : \n",
      "Department: ['Honors (BSC/MSC)']\n",
      "\n",
      "University: Presidency University: \n",
      "Department: ['Statistics']\n",
      "\n",
      "University: Aot: \n",
      "Department: ['Mca']\n",
      "\n",
      "University: National power training institute: \n",
      "Department: ['Power plant engineering']\n",
      "\n",
      "University: RKMVERI (BELUR CAMPUS): \n",
      "Department: ['Mathematics ']\n",
      "\n",
      "University: Dr.B.C.ROY ENGINEERING COLLEGE: \n",
      "Department: ['Engineering']\n",
      "\n",
      "University: Vivekananda College,Thakurpukur: \n",
      "Department: ['B.Sc Statistics honours']\n",
      "\n",
      "University: MAULANA AZAD COLLEGE: \n",
      "Department: ['B.sc in Statistics', 'Honors (BSC/MSC)', 'Honors (BSC/MSC)']\n",
      "\n",
      "University: Future institute of technology : \n",
      "Department: ['Electronics and communication Engineering (B.Tech)']\n",
      "\n",
      "University: Future Institute of Technology: \n",
      "Department: ['ECE']\n",
      "\n",
      "University: RKMVERI, BELUR MATH: \n",
      "Department: ['Msc. Mathematics']\n",
      "\n",
      "University: Ramakrishna Mission Vivekananda Educational And Research Institute: \n",
      "Department: ['Mathematics MSc.']\n",
      "\n",
      "University: JadavpurUniversity  : \n",
      "Department: ['Msc Mathematics ']\n",
      "\n",
      "University: Vivekananda College: \n",
      "Department: ['Statistics']\n",
      "\n",
      "University: Shibpur Dinobundhoo institution: \n",
      "Department: ['Honors (BSC/MSC)']\n",
      "\n",
      "University: B P poddar institute of Management & Technology : \n",
      "Department: ['others']\n",
      "\n",
      "University: Durgapur Women's College: \n",
      "Department: ['Honors (BSC/MSC)', 'Honors (BSC/MSC)', 'Honors (BSC/MSC)', 'Honors (BSC/MSC)', 'others', 'others']\n",
      "\n",
      "University: Duragpur Women's college: \n",
      "Department: ['others']\n",
      "\n",
      "University: Durgapur women's college: \n",
      "Department: ['others', 'others', 'others', 'others', 'others', 'others', 'others', 'others', 'Honors (BSC/MSC)']\n",
      "\n",
      "University: Durgapur Womens College : \n",
      "Department: ['Honors (BSC/MSC)']\n",
      "\n",
      "University: Durgapur Women's College : \n",
      "Department: [nan, 'Honors (BSC/MSC)']\n",
      "\n",
      "University: Durgapur women's collage : \n",
      "Department: ['others']\n",
      "\n",
      "University: Durgapur Women's College   Kazi Nazrul University: \n",
      "Department: ['others']\n",
      "\n",
      "University: DURGAPUR WOMEN'S COLLEGE: \n",
      "Department: ['Honors (BSC/MSC)', 'others']\n",
      "\n",
      "University: College name - Durgapur Womens college: \n",
      "Department: ['others']\n",
      "\n",
      "University: Raniganj Girls' College : \n",
      "Department: ['Honors (BSC/MSC)']\n",
      "\n",
      "University: KAJI najrul invercity: \n",
      "Department: ['BCA']\n",
      "\n",
      "University: Durgapur woman's college : \n",
      "Department: ['others']\n",
      "\n",
      "University: Durgapur women's college : \n",
      "Department: ['others']\n",
      "\n",
      "University: Durgapur women's College: \n",
      "Department: ['Honors (BSC/MSC)']\n",
      "\n",
      "University: DURGAPUR GOVERNMENT COLLEGE: \n",
      "Department: ['others']\n",
      "\n",
      "University: Durgapur government college: \n",
      "Department: ['Honors (BSC/MSC)']\n",
      "\n",
      "University: Women's collage: \n",
      "Department: ['others']\n",
      "\n",
      "University: Durgapur WOMEN'S college : \n",
      "Department: ['others']\n",
      "\n",
      "University: Regent Education And Research Foundation: \n",
      "Department: ['Engineering', 'Engineering', 'Engineering']\n",
      "\n",
      "University: Regent education & research foundation barrackpore: \n",
      "Department: ['Engineering']\n",
      "\n",
      "University: RERF: \n",
      "Department: ['Engineering', 'Engineering']\n",
      "\n",
      "University: Rerf: \n",
      "Department: ['Engineering']\n",
      "\n",
      "University: Regent Education and Research Foundation: \n",
      "Department: ['Engineering', 'Engineering', 'Engineering', 'Engineering', 'Engineering']\n",
      "\n",
      "University: Regent Education and Research Foundation : \n",
      "Department: ['Engineering', 'Engineering']\n",
      "\n",
      "University: Regent Education and Research Foundation Group of Institutions: \n",
      "Department: ['Engineering']\n",
      "\n",
      "University: Regent Education &Research Foundation: \n",
      "Department: ['Engineering']\n",
      "\n",
      "University: Regent Education and Research foundation: \n",
      "Department: ['Engineering', 'Engineering']\n",
      "\n",
      "University: Regent Education & Research Foundation: \n",
      "Department: ['Engineering', 'Engineering', nan]\n",
      "\n",
      "University: REGENT EDUCATION & RESEARCH FOUNDATION: \n",
      "Department: ['Engineering']\n",
      "\n",
      "University: Regent education and research foundation : \n",
      "Department: ['Engineering']\n",
      "\n",
      "University: Regent education and research foundation: \n",
      "Department: ['Engineering']\n",
      "\n",
      "University: RRERF: \n",
      "Department: ['Engineering']\n",
      "\n",
      "University: Regent Education and Research foundation : \n",
      "Department: ['Engineering']\n",
      "\n",
      "University: Lady braboune college: \n",
      "Department: ['Honors (BSC/MSC)']\n",
      "\n",
      "University: Lady Brabourne college : \n",
      "Department: ['Honors (BSC/MSC)']\n",
      "\n",
      "University: Lady brabourne college: \n",
      "Department: ['Honors (BSC/MSC)', 'others']\n",
      "\n",
      "University: Lady Brabourne College : \n",
      "Department: ['Honors (BSC/MSC)', 'Honors (BSC/MSC)', 'Honors (BSC/MSC)']\n",
      "\n",
      "University: Lady Brabourne college: \n",
      "Department: ['others', 'Honors (BSC/MSC)']\n",
      "\n",
      "University: Lady Braboune Collage: \n",
      "Department: ['Honors (BSC/MSC)']\n",
      "\n",
      "University: Maulana Azad College: \n",
      "Department: ['Honors (BSC/MSC)', 'Honors (BSC/MSC)', 'Honors (BSC/MSC)', 'Honors (BSC/MSC)', 'Honors (BSC/MSC)', 'Honors (BSC/MSC)', 'Honors (BSC/MSC)', 'Honors (BSC/MSC)', 'Honors (BSC/MSC)', 'Honors (BSC/MSC)', 'Honors (BSC/MSC)', 'Honors (BSC/MSC)', 'Honors (BSC/MSC)', 'Honors (BSC/MSC)', 'Honors (BSC/MSC)', 'Honors (BSC/MSC)', 'Honors (BSC/MSC)']\n",
      "\n",
      "University: Maulana Azad college: \n",
      "Department: ['Honors (BSC/MSC)', 'Honors (BSC/MSC)', 'Honors (BSC/MSC)', 'Honors (BSC/MSC)']\n",
      "\n",
      "University: Moulana azad college: \n",
      "Department: ['Honors (BSC/MSC)']\n",
      "\n",
      "University: Moulana Azad College: \n",
      "Department: ['Honors (BSC/MSC)']\n",
      "\n",
      "University: MAULANA AZAD COLLEGE : \n",
      "Department: ['Honors (BSC/MSC)', 'Honors (BSC/MSC)']\n",
      "\n",
      "University: maulana azad college: \n",
      "Department: ['Honors (BSC/MSC)']\n",
      "\n",
      "University: Maulana Azad College, University Of Calcutta: \n",
      "Department: ['Honors (BSC/MSC)']\n",
      "\n",
      "University: Maulana azad college : \n",
      "Department: ['Honors (BSC/MSC)']\n",
      "\n",
      "University: Maulona Azad College: \n",
      "Department: ['Honors (BSC/MSC)']\n",
      "\n"
     ]
    }
   ],
   "source": [
    "#Total department under a university where student dont have laptop\n",
    "for v in Nolaptop_uni:\n",
    "    departments = Nolaptop.loc[Nolaptop.College == v, 'Department'].values\n",
    "    print(f\"University: {v}: \\nDepartment: {list(departments)}\\n\")"
   ]
  },
  {
   "cell_type": "markdown",
   "metadata": {},
   "source": [
    "students of this department dont have laptop & also showing the university name along with department"
   ]
  },
  {
   "cell_type": "markdown",
   "metadata": {},
   "source": [
    "#their country as well.\n"
   ]
  },
  {
   "cell_type": "code",
   "execution_count": 142,
   "metadata": {},
   "outputs": [
    {
     "data": {
      "text/plain": [
       "array(['India', 'Bangladesh', nan], dtype=object)"
      ]
     },
     "execution_count": 142,
     "metadata": {},
     "output_type": "execute_result"
    }
   ],
   "source": [
    "country = Nolaptop.Country.unique()\n",
    "country"
   ]
  },
  {
   "cell_type": "markdown",
   "metadata": {},
   "source": [
    "# those who didn’t had laptop and from which University"
   ]
  },
  {
   "cell_type": "code",
   "execution_count": 146,
   "metadata": {},
   "outputs": [
    {
     "data": {
      "text/html": [
       "<div>\n",
       "<style scoped>\n",
       "    .dataframe tbody tr th:only-of-type {\n",
       "        vertical-align: middle;\n",
       "    }\n",
       "\n",
       "    .dataframe tbody tr th {\n",
       "        vertical-align: top;\n",
       "    }\n",
       "\n",
       "    .dataframe thead th {\n",
       "        text-align: right;\n",
       "    }\n",
       "</style>\n",
       "<table border=\"1\" class=\"dataframe\">\n",
       "  <thead>\n",
       "    <tr style=\"text-align: right;\">\n",
       "      <th></th>\n",
       "      <th>College</th>\n",
       "      <th>no_laptop_count</th>\n",
       "    </tr>\n",
       "  </thead>\n",
       "  <tbody>\n",
       "    <tr>\n",
       "      <th>0</th>\n",
       "      <td>Uttarpara Amarendra Vidyapith</td>\n",
       "      <td>1</td>\n",
       "    </tr>\n",
       "    <tr>\n",
       "      <th>1</th>\n",
       "      <td>Academy Of Technology</td>\n",
       "      <td>1</td>\n",
       "    </tr>\n",
       "    <tr>\n",
       "      <th>2</th>\n",
       "      <td>Aliah University</td>\n",
       "      <td>1</td>\n",
       "    </tr>\n",
       "    <tr>\n",
       "      <th>3</th>\n",
       "      <td>Amta Ramsaday College</td>\n",
       "      <td>1</td>\n",
       "    </tr>\n",
       "    <tr>\n",
       "      <th>4</th>\n",
       "      <td>Aot</td>\n",
       "      <td>1</td>\n",
       "    </tr>\n",
       "    <tr>\n",
       "      <th>...</th>\n",
       "      <td>...</td>\n",
       "      <td>...</td>\n",
       "    </tr>\n",
       "    <tr>\n",
       "      <th>119</th>\n",
       "      <td>Vivekananda College</td>\n",
       "      <td>1</td>\n",
       "    </tr>\n",
       "    <tr>\n",
       "      <th>120</th>\n",
       "      <td>Vivekananda College,Thakurpukur</td>\n",
       "      <td>1</td>\n",
       "    </tr>\n",
       "    <tr>\n",
       "      <th>121</th>\n",
       "      <td>Vivekananda college</td>\n",
       "      <td>1</td>\n",
       "    </tr>\n",
       "    <tr>\n",
       "      <th>122</th>\n",
       "      <td>Women's collage</td>\n",
       "      <td>1</td>\n",
       "    </tr>\n",
       "    <tr>\n",
       "      <th>123</th>\n",
       "      <td>maulana azad college</td>\n",
       "      <td>1</td>\n",
       "    </tr>\n",
       "  </tbody>\n",
       "</table>\n",
       "<p>124 rows × 2 columns</p>\n",
       "</div>"
      ],
      "text/plain": [
       "                             College  no_laptop_count\n",
       "0      Uttarpara Amarendra Vidyapith                1\n",
       "1              Academy Of Technology                1\n",
       "2                  Aliah University                 1\n",
       "3              Amta Ramsaday College                1\n",
       "4                                Aot                1\n",
       "..                               ...              ...\n",
       "119             Vivekananda College                 1\n",
       "120  Vivekananda College,Thakurpukur                1\n",
       "121              Vivekananda college                1\n",
       "122                  Women's collage                1\n",
       "123             maulana azad college                1\n",
       "\n",
       "[124 rows x 2 columns]"
      ]
     },
     "execution_count": 146,
     "metadata": {},
     "output_type": "execute_result"
    }
   ],
   "source": [
    "#Counting college with no_laptop_student\n",
    "laptop_n = Nolaptop.groupby('College')['College'].agg('count')\n",
    "no_laptop_college= pd.DataFrame(laptop_n)\n",
    "no_laptop_college.rename(columns={\"College\": \"no_laptop_count\"},inplace=True)\n",
    "no_laptop_college.reset_index(inplace=True)\n",
    "no_laptop_college"
   ]
  },
  {
   "cell_type": "code",
   "execution_count": 148,
   "metadata": {},
   "outputs": [
    {
     "data": {
      "application/vnd.plotly.v1+json": {
       "config": {
        "linkText": "Export to plot.ly",
        "plotlyServerURL": "https://plot.ly",
        "showLink": false
       },
       "data": [
        {
         "marker": {
          "color": "lightgreen"
         },
         "text": [
          "Maulana Azad College",
          "Lady Brabourne College",
          "Durgapur women's college",
          "Durgapur Women's College",
          "Maulana Azad College ",
          "Jadavpur University",
          "Regent Education and Research Foundation",
          "Maulana Azad college",
          "Kalyani Mahavidyalaya",
          "Asutosh College",
          "Regent Education & Research Foundation",
          "Lady Brabourne College ",
          "MAULANA AZAD COLLEGE",
          "Vidyasagar University",
          "Regent Education And Research Foundation",
          "RERF",
          "Regent Education and Research Foundation ",
          "Regent Education and Research foundation",
          "Durgapur Women's College ",
          "MAULANA AZAD COLLEGE ",
          "Lady brabourne college",
          "University of Calcutta",
          "DURGAPUR WOMEN'S COLLEGE",
          "JADAVPUR UNIVERSITY ",
          "Lady Brabourne college",
          "National power training institute (E.R) Durgapur",
          "NSU",
          "N.P.T.I(E.R.)",
          "RKMVERI (BELUR CAMPUS)",
          "NARASINHA DUTT COLLEGE",
          "REGENT EDUCATION & RESEARCH FOUNDATION",
          "RCC institute of information technology",
          "NARASINHA DUTT COLLEGE, UNIVERSITY OF CALCUTTA",
          "Purulia zilla school ",
          "Narasinha Dutta College",
          "Narasingha Dutt College ",
          "National power training institute",
          "Presidency University",
          "Narasinha dutt college",
          "National power training institute Nagpur",
          "RKMVERI BELUR MATH",
          "Raniganj Girls' College ",
          "RKMVERI, BELUR MATH",
          "RRERF",
          "Women's collage",
          "Vivekananda college",
          "Vivekananda College,Thakurpukur",
          "Vivekananda College ",
          "Vivekananda College",
          "Viswass school & college of nursing",
          "Vidyasagar college for women",
          "Vidyasagar collage ",
          "Victoria Institution",
          "VIDYASAGAR UNIVERSITY, MEDINIPUR",
          "The New Horizons Institute of Technology",
          "Surendranath college",
          "Shibpur Dinobundhoo institution",
          "Shahjalal University of Science & Technology   ",
          "Rerf",
          "Regent education and research foundation ",
          "Regent education and research foundation",
          "Regent education & research foundation barrackpore",
          "Regent Education and Research foundation ",
          "Regent Education and Research Foundation Group of Institutions",
          "Regent Education &Research Foundation",
          "Moulana Azad College",
          "Ramakrishna Mission Vivekananda Educational And Research Institute",
          "Ramakrishna Mission Shilpapitha",
          "Raja Peary Mohan college",
          "Moulana azad college",
          " Uttarpara Amarendra Vidyapith",
          "Maulona Azad College",
          "Durgapur woman's college ",
          "Durgapur institute of advanced and technology management",
          "Durgapur institute of advance technology and managment",
          "Durgapur government college",
          "Durgapur Womens College ",
          "Durgapur Women's College   Kazi Nazrul University",
          "Durgapur WOMEN'S college ",
          "Durgapur Institute of advanced technology and management ",
          "Durgapur Institute of Advanced Technology & Management",
          "Durgapur Institute Of Advance Technology and Management",
          "Duragpur Women's college",
          "Dr.B.C.ROY ENGINEERING COLLEGE",
          "Dr. B. C. Roy Engineering college",
          "DURGAPUR GOVERNMENT COLLEGE",
          "DIATM, Durgapur",
          "College name - Durgapur Womens college",
          "Calcutta university ",
          "Bethune college",
          "BETHUNE COLLEGE",
          "B P poddar institute of Management & Technology ",
          "Asutosh College ",
          "Aot",
          "Amta Ramsaday College",
          "Aliah University ",
          "Durgapur institute of advanced technology and managemant rajbandh",
          "Durgapur women's College",
          "Maulana azad college ",
          "Durgapur women's collage ",
          "Maulana Azad College, University Of Calcutta",
          "Maulana Azad College, Kolkata",
          "Academy Of Technology",
          "Lalbaba college ",
          "Lady braboune college",
          "Lady Brabourne college ",
          "Lady Braboune Collage",
          "Kalyani mahavidyalay",
          "Kalyani Mahavidya",
          "Kalyani Mahabidyalaya",
          "KAJI najrul invercity",
          "Jogomaya Devi college ",
          "Jk college",
          "Jagannath Kishore college,Purulia",
          "JadavpurUniversity  ",
          "JADAVPUR UNIVERSITY",
          "J.K College",
          "Insitiution of engineering and managment",
          "Guru NANAK INSTITUTE OF PHARMACEUTICAL SCIENCE AND TECHNOLOGY",
          "Global Nature Care Sangathan Group Of Institutions",
          "Future institute of technology ",
          "Future Institute of Technology",
          "Durgapur women's college ",
          "maulana azad college"
         ],
         "type": "bar",
         "x": [
          "Maulana Azad College",
          "Lady Brabourne College",
          "Durgapur women's college",
          "Durgapur Women's College",
          "Maulana Azad College ",
          "Jadavpur University",
          "Regent Education and Research Foundation",
          "Maulana Azad college",
          "Kalyani Mahavidyalaya",
          "Asutosh College",
          "Regent Education & Research Foundation",
          "Lady Brabourne College ",
          "MAULANA AZAD COLLEGE",
          "Vidyasagar University",
          "Regent Education And Research Foundation",
          "RERF",
          "Regent Education and Research Foundation ",
          "Regent Education and Research foundation",
          "Durgapur Women's College ",
          "MAULANA AZAD COLLEGE ",
          "Lady brabourne college",
          "University of Calcutta",
          "DURGAPUR WOMEN'S COLLEGE",
          "JADAVPUR UNIVERSITY ",
          "Lady Brabourne college",
          "National power training institute (E.R) Durgapur",
          "NSU",
          "N.P.T.I(E.R.)",
          "RKMVERI (BELUR CAMPUS)",
          "NARASINHA DUTT COLLEGE",
          "REGENT EDUCATION & RESEARCH FOUNDATION",
          "RCC institute of information technology",
          "NARASINHA DUTT COLLEGE, UNIVERSITY OF CALCUTTA",
          "Purulia zilla school ",
          "Narasinha Dutta College",
          "Narasingha Dutt College ",
          "National power training institute",
          "Presidency University",
          "Narasinha dutt college",
          "National power training institute Nagpur",
          "RKMVERI BELUR MATH",
          "Raniganj Girls' College ",
          "RKMVERI, BELUR MATH",
          "RRERF",
          "Women's collage",
          "Vivekananda college",
          "Vivekananda College,Thakurpukur",
          "Vivekananda College ",
          "Vivekananda College",
          "Viswass school & college of nursing",
          "Vidyasagar college for women",
          "Vidyasagar collage ",
          "Victoria Institution",
          "VIDYASAGAR UNIVERSITY, MEDINIPUR",
          "The New Horizons Institute of Technology",
          "Surendranath college",
          "Shibpur Dinobundhoo institution",
          "Shahjalal University of Science & Technology   ",
          "Rerf",
          "Regent education and research foundation ",
          "Regent education and research foundation",
          "Regent education & research foundation barrackpore",
          "Regent Education and Research foundation ",
          "Regent Education and Research Foundation Group of Institutions",
          "Regent Education &Research Foundation",
          "Moulana Azad College",
          "Ramakrishna Mission Vivekananda Educational And Research Institute",
          "Ramakrishna Mission Shilpapitha",
          "Raja Peary Mohan college",
          "Moulana azad college",
          " Uttarpara Amarendra Vidyapith",
          "Maulona Azad College",
          "Durgapur woman's college ",
          "Durgapur institute of advanced and technology management",
          "Durgapur institute of advance technology and managment",
          "Durgapur government college",
          "Durgapur Womens College ",
          "Durgapur Women's College   Kazi Nazrul University",
          "Durgapur WOMEN'S college ",
          "Durgapur Institute of advanced technology and management ",
          "Durgapur Institute of Advanced Technology & Management",
          "Durgapur Institute Of Advance Technology and Management",
          "Duragpur Women's college",
          "Dr.B.C.ROY ENGINEERING COLLEGE",
          "Dr. B. C. Roy Engineering college",
          "DURGAPUR GOVERNMENT COLLEGE",
          "DIATM, Durgapur",
          "College name - Durgapur Womens college",
          "Calcutta university ",
          "Bethune college",
          "BETHUNE COLLEGE",
          "B P poddar institute of Management & Technology ",
          "Asutosh College ",
          "Aot",
          "Amta Ramsaday College",
          "Aliah University ",
          "Durgapur institute of advanced technology and managemant rajbandh",
          "Durgapur women's College",
          "Maulana azad college ",
          "Durgapur women's collage ",
          "Maulana Azad College, University Of Calcutta",
          "Maulana Azad College, Kolkata",
          "Academy Of Technology",
          "Lalbaba college ",
          "Lady braboune college",
          "Lady Brabourne college ",
          "Lady Braboune Collage",
          "Kalyani mahavidyalay",
          "Kalyani Mahavidya",
          "Kalyani Mahabidyalaya",
          "KAJI najrul invercity",
          "Jogomaya Devi college ",
          "Jk college",
          "Jagannath Kishore college,Purulia",
          "JadavpurUniversity  ",
          "JADAVPUR UNIVERSITY",
          "J.K College",
          "Insitiution of engineering and managment",
          "Guru NANAK INSTITUTE OF PHARMACEUTICAL SCIENCE AND TECHNOLOGY",
          "Global Nature Care Sangathan Group Of Institutions",
          "Future institute of technology ",
          "Future Institute of Technology",
          "Durgapur women's college ",
          "maulana azad college"
         ],
         "y": [
          17,
          11,
          9,
          6,
          5,
          5,
          5,
          4,
          4,
          3,
          3,
          3,
          3,
          3,
          3,
          2,
          2,
          2,
          2,
          2,
          2,
          2,
          2,
          2,
          2,
          1,
          1,
          1,
          1,
          1,
          1,
          1,
          1,
          1,
          1,
          1,
          1,
          1,
          1,
          1,
          1,
          1,
          1,
          1,
          1,
          1,
          1,
          1,
          1,
          1,
          1,
          1,
          1,
          1,
          1,
          1,
          1,
          1,
          1,
          1,
          1,
          1,
          1,
          1,
          1,
          1,
          1,
          1,
          1,
          1,
          1,
          1,
          1,
          1,
          1,
          1,
          1,
          1,
          1,
          1,
          1,
          1,
          1,
          1,
          1,
          1,
          1,
          1,
          1,
          1,
          1,
          1,
          1,
          1,
          1,
          1,
          1,
          1,
          1,
          1,
          1,
          1,
          1,
          1,
          1,
          1,
          1,
          1,
          1,
          1,
          1,
          1,
          1,
          1,
          1,
          1,
          1,
          1,
          1,
          1,
          1,
          1,
          1,
          1
         ]
        }
       ],
       "layout": {
        "hovermode": "closest",
        "paper_bgcolor": "rgba(0, 0, 0, 0)",
        "plot_bgcolor": "rgba(0, 0, 0, 0)",
        "template": {
         "data": {
          "bar": [
           {
            "error_x": {
             "color": "#2a3f5f"
            },
            "error_y": {
             "color": "#2a3f5f"
            },
            "marker": {
             "line": {
              "color": "#E5ECF6",
              "width": 0.5
             }
            },
            "type": "bar"
           }
          ],
          "barpolar": [
           {
            "marker": {
             "line": {
              "color": "#E5ECF6",
              "width": 0.5
             }
            },
            "type": "barpolar"
           }
          ],
          "carpet": [
           {
            "aaxis": {
             "endlinecolor": "#2a3f5f",
             "gridcolor": "white",
             "linecolor": "white",
             "minorgridcolor": "white",
             "startlinecolor": "#2a3f5f"
            },
            "baxis": {
             "endlinecolor": "#2a3f5f",
             "gridcolor": "white",
             "linecolor": "white",
             "minorgridcolor": "white",
             "startlinecolor": "#2a3f5f"
            },
            "type": "carpet"
           }
          ],
          "choropleth": [
           {
            "colorbar": {
             "outlinewidth": 0,
             "ticks": ""
            },
            "type": "choropleth"
           }
          ],
          "contour": [
           {
            "colorbar": {
             "outlinewidth": 0,
             "ticks": ""
            },
            "colorscale": [
             [
              0,
              "#0d0887"
             ],
             [
              0.1111111111111111,
              "#46039f"
             ],
             [
              0.2222222222222222,
              "#7201a8"
             ],
             [
              0.3333333333333333,
              "#9c179e"
             ],
             [
              0.4444444444444444,
              "#bd3786"
             ],
             [
              0.5555555555555556,
              "#d8576b"
             ],
             [
              0.6666666666666666,
              "#ed7953"
             ],
             [
              0.7777777777777778,
              "#fb9f3a"
             ],
             [
              0.8888888888888888,
              "#fdca26"
             ],
             [
              1,
              "#f0f921"
             ]
            ],
            "type": "contour"
           }
          ],
          "contourcarpet": [
           {
            "colorbar": {
             "outlinewidth": 0,
             "ticks": ""
            },
            "type": "contourcarpet"
           }
          ],
          "heatmap": [
           {
            "colorbar": {
             "outlinewidth": 0,
             "ticks": ""
            },
            "colorscale": [
             [
              0,
              "#0d0887"
             ],
             [
              0.1111111111111111,
              "#46039f"
             ],
             [
              0.2222222222222222,
              "#7201a8"
             ],
             [
              0.3333333333333333,
              "#9c179e"
             ],
             [
              0.4444444444444444,
              "#bd3786"
             ],
             [
              0.5555555555555556,
              "#d8576b"
             ],
             [
              0.6666666666666666,
              "#ed7953"
             ],
             [
              0.7777777777777778,
              "#fb9f3a"
             ],
             [
              0.8888888888888888,
              "#fdca26"
             ],
             [
              1,
              "#f0f921"
             ]
            ],
            "type": "heatmap"
           }
          ],
          "heatmapgl": [
           {
            "colorbar": {
             "outlinewidth": 0,
             "ticks": ""
            },
            "colorscale": [
             [
              0,
              "#0d0887"
             ],
             [
              0.1111111111111111,
              "#46039f"
             ],
             [
              0.2222222222222222,
              "#7201a8"
             ],
             [
              0.3333333333333333,
              "#9c179e"
             ],
             [
              0.4444444444444444,
              "#bd3786"
             ],
             [
              0.5555555555555556,
              "#d8576b"
             ],
             [
              0.6666666666666666,
              "#ed7953"
             ],
             [
              0.7777777777777778,
              "#fb9f3a"
             ],
             [
              0.8888888888888888,
              "#fdca26"
             ],
             [
              1,
              "#f0f921"
             ]
            ],
            "type": "heatmapgl"
           }
          ],
          "histogram": [
           {
            "marker": {
             "colorbar": {
              "outlinewidth": 0,
              "ticks": ""
             }
            },
            "type": "histogram"
           }
          ],
          "histogram2d": [
           {
            "colorbar": {
             "outlinewidth": 0,
             "ticks": ""
            },
            "colorscale": [
             [
              0,
              "#0d0887"
             ],
             [
              0.1111111111111111,
              "#46039f"
             ],
             [
              0.2222222222222222,
              "#7201a8"
             ],
             [
              0.3333333333333333,
              "#9c179e"
             ],
             [
              0.4444444444444444,
              "#bd3786"
             ],
             [
              0.5555555555555556,
              "#d8576b"
             ],
             [
              0.6666666666666666,
              "#ed7953"
             ],
             [
              0.7777777777777778,
              "#fb9f3a"
             ],
             [
              0.8888888888888888,
              "#fdca26"
             ],
             [
              1,
              "#f0f921"
             ]
            ],
            "type": "histogram2d"
           }
          ],
          "histogram2dcontour": [
           {
            "colorbar": {
             "outlinewidth": 0,
             "ticks": ""
            },
            "colorscale": [
             [
              0,
              "#0d0887"
             ],
             [
              0.1111111111111111,
              "#46039f"
             ],
             [
              0.2222222222222222,
              "#7201a8"
             ],
             [
              0.3333333333333333,
              "#9c179e"
             ],
             [
              0.4444444444444444,
              "#bd3786"
             ],
             [
              0.5555555555555556,
              "#d8576b"
             ],
             [
              0.6666666666666666,
              "#ed7953"
             ],
             [
              0.7777777777777778,
              "#fb9f3a"
             ],
             [
              0.8888888888888888,
              "#fdca26"
             ],
             [
              1,
              "#f0f921"
             ]
            ],
            "type": "histogram2dcontour"
           }
          ],
          "mesh3d": [
           {
            "colorbar": {
             "outlinewidth": 0,
             "ticks": ""
            },
            "type": "mesh3d"
           }
          ],
          "parcoords": [
           {
            "line": {
             "colorbar": {
              "outlinewidth": 0,
              "ticks": ""
             }
            },
            "type": "parcoords"
           }
          ],
          "pie": [
           {
            "automargin": true,
            "type": "pie"
           }
          ],
          "scatter": [
           {
            "marker": {
             "colorbar": {
              "outlinewidth": 0,
              "ticks": ""
             }
            },
            "type": "scatter"
           }
          ],
          "scatter3d": [
           {
            "line": {
             "colorbar": {
              "outlinewidth": 0,
              "ticks": ""
             }
            },
            "marker": {
             "colorbar": {
              "outlinewidth": 0,
              "ticks": ""
             }
            },
            "type": "scatter3d"
           }
          ],
          "scattercarpet": [
           {
            "marker": {
             "colorbar": {
              "outlinewidth": 0,
              "ticks": ""
             }
            },
            "type": "scattercarpet"
           }
          ],
          "scattergeo": [
           {
            "marker": {
             "colorbar": {
              "outlinewidth": 0,
              "ticks": ""
             }
            },
            "type": "scattergeo"
           }
          ],
          "scattergl": [
           {
            "marker": {
             "colorbar": {
              "outlinewidth": 0,
              "ticks": ""
             }
            },
            "type": "scattergl"
           }
          ],
          "scattermapbox": [
           {
            "marker": {
             "colorbar": {
              "outlinewidth": 0,
              "ticks": ""
             }
            },
            "type": "scattermapbox"
           }
          ],
          "scatterpolar": [
           {
            "marker": {
             "colorbar": {
              "outlinewidth": 0,
              "ticks": ""
             }
            },
            "type": "scatterpolar"
           }
          ],
          "scatterpolargl": [
           {
            "marker": {
             "colorbar": {
              "outlinewidth": 0,
              "ticks": ""
             }
            },
            "type": "scatterpolargl"
           }
          ],
          "scatterternary": [
           {
            "marker": {
             "colorbar": {
              "outlinewidth": 0,
              "ticks": ""
             }
            },
            "type": "scatterternary"
           }
          ],
          "surface": [
           {
            "colorbar": {
             "outlinewidth": 0,
             "ticks": ""
            },
            "colorscale": [
             [
              0,
              "#0d0887"
             ],
             [
              0.1111111111111111,
              "#46039f"
             ],
             [
              0.2222222222222222,
              "#7201a8"
             ],
             [
              0.3333333333333333,
              "#9c179e"
             ],
             [
              0.4444444444444444,
              "#bd3786"
             ],
             [
              0.5555555555555556,
              "#d8576b"
             ],
             [
              0.6666666666666666,
              "#ed7953"
             ],
             [
              0.7777777777777778,
              "#fb9f3a"
             ],
             [
              0.8888888888888888,
              "#fdca26"
             ],
             [
              1,
              "#f0f921"
             ]
            ],
            "type": "surface"
           }
          ],
          "table": [
           {
            "cells": {
             "fill": {
              "color": "#EBF0F8"
             },
             "line": {
              "color": "white"
             }
            },
            "header": {
             "fill": {
              "color": "#C8D4E3"
             },
             "line": {
              "color": "white"
             }
            },
            "type": "table"
           }
          ]
         },
         "layout": {
          "annotationdefaults": {
           "arrowcolor": "#2a3f5f",
           "arrowhead": 0,
           "arrowwidth": 1
          },
          "autotypenumbers": "strict",
          "coloraxis": {
           "colorbar": {
            "outlinewidth": 0,
            "ticks": ""
           }
          },
          "colorscale": {
           "diverging": [
            [
             0,
             "#8e0152"
            ],
            [
             0.1,
             "#c51b7d"
            ],
            [
             0.2,
             "#de77ae"
            ],
            [
             0.3,
             "#f1b6da"
            ],
            [
             0.4,
             "#fde0ef"
            ],
            [
             0.5,
             "#f7f7f7"
            ],
            [
             0.6,
             "#e6f5d0"
            ],
            [
             0.7,
             "#b8e186"
            ],
            [
             0.8,
             "#7fbc41"
            ],
            [
             0.9,
             "#4d9221"
            ],
            [
             1,
             "#276419"
            ]
           ],
           "sequential": [
            [
             0,
             "#0d0887"
            ],
            [
             0.1111111111111111,
             "#46039f"
            ],
            [
             0.2222222222222222,
             "#7201a8"
            ],
            [
             0.3333333333333333,
             "#9c179e"
            ],
            [
             0.4444444444444444,
             "#bd3786"
            ],
            [
             0.5555555555555556,
             "#d8576b"
            ],
            [
             0.6666666666666666,
             "#ed7953"
            ],
            [
             0.7777777777777778,
             "#fb9f3a"
            ],
            [
             0.8888888888888888,
             "#fdca26"
            ],
            [
             1,
             "#f0f921"
            ]
           ],
           "sequentialminus": [
            [
             0,
             "#0d0887"
            ],
            [
             0.1111111111111111,
             "#46039f"
            ],
            [
             0.2222222222222222,
             "#7201a8"
            ],
            [
             0.3333333333333333,
             "#9c179e"
            ],
            [
             0.4444444444444444,
             "#bd3786"
            ],
            [
             0.5555555555555556,
             "#d8576b"
            ],
            [
             0.6666666666666666,
             "#ed7953"
            ],
            [
             0.7777777777777778,
             "#fb9f3a"
            ],
            [
             0.8888888888888888,
             "#fdca26"
            ],
            [
             1,
             "#f0f921"
            ]
           ]
          },
          "colorway": [
           "#636efa",
           "#EF553B",
           "#00cc96",
           "#ab63fa",
           "#FFA15A",
           "#19d3f3",
           "#FF6692",
           "#B6E880",
           "#FF97FF",
           "#FECB52"
          ],
          "font": {
           "color": "#2a3f5f"
          },
          "geo": {
           "bgcolor": "white",
           "lakecolor": "white",
           "landcolor": "#E5ECF6",
           "showlakes": true,
           "showland": true,
           "subunitcolor": "white"
          },
          "hoverlabel": {
           "align": "left"
          },
          "hovermode": "closest",
          "mapbox": {
           "style": "light"
          },
          "paper_bgcolor": "white",
          "plot_bgcolor": "#E5ECF6",
          "polar": {
           "angularaxis": {
            "gridcolor": "white",
            "linecolor": "white",
            "ticks": ""
           },
           "bgcolor": "#E5ECF6",
           "radialaxis": {
            "gridcolor": "white",
            "linecolor": "white",
            "ticks": ""
           }
          },
          "scene": {
           "xaxis": {
            "backgroundcolor": "#E5ECF6",
            "gridcolor": "white",
            "gridwidth": 2,
            "linecolor": "white",
            "showbackground": true,
            "ticks": "",
            "zerolinecolor": "white"
           },
           "yaxis": {
            "backgroundcolor": "#E5ECF6",
            "gridcolor": "white",
            "gridwidth": 2,
            "linecolor": "white",
            "showbackground": true,
            "ticks": "",
            "zerolinecolor": "white"
           },
           "zaxis": {
            "backgroundcolor": "#E5ECF6",
            "gridcolor": "white",
            "gridwidth": 2,
            "linecolor": "white",
            "showbackground": true,
            "ticks": "",
            "zerolinecolor": "white"
           }
          },
          "shapedefaults": {
           "line": {
            "color": "#2a3f5f"
           }
          },
          "ternary": {
           "aaxis": {
            "gridcolor": "white",
            "linecolor": "white",
            "ticks": ""
           },
           "baxis": {
            "gridcolor": "white",
            "linecolor": "white",
            "ticks": ""
           },
           "bgcolor": "#E5ECF6",
           "caxis": {
            "gridcolor": "white",
            "linecolor": "white",
            "ticks": ""
           }
          },
          "title": {
           "x": 0.05
          },
          "xaxis": {
           "automargin": true,
           "gridcolor": "white",
           "linecolor": "white",
           "ticks": "",
           "title": {
            "standoff": 15
           },
           "zerolinecolor": "white",
           "zerolinewidth": 2
          },
          "yaxis": {
           "automargin": true,
           "gridcolor": "white",
           "linecolor": "white",
           "ticks": "",
           "title": {
            "standoff": 15
           },
           "zerolinecolor": "white",
           "zerolinewidth": 2
          }
         }
        },
        "title": {
         "text": "Free Session total Student from University with no laptop "
        },
        "xaxis": {
         "linecolor": "black",
         "linewidth": 2,
         "mirror": true,
         "showline": true,
         "showticklabels": true,
         "tickangle": 45,
         "tickfont": {
          "color": "red",
          "size": 12
         },
         "title": {
          "text": "University Name"
         },
         "zeroline": true,
         "zerolinecolor": "grey",
         "zerolinewidth": 1
        },
        "yaxis": {
         "gridcolor": "lightgrey",
         "linecolor": "black",
         "linewidth": 2,
         "mirror": true,
         "showline": true,
         "title": {
          "text": "Total Students"
         },
         "zeroline": true,
         "zerolinecolor": "grey",
         "zerolinewidth": 1
        }
       }
      },
      "text/html": [
       "<div>                            <div id=\"5d2e4f56-60ae-4886-9921-85b112528c8c\" class=\"plotly-graph-div\" style=\"height:525px; width:100%;\"></div>            <script type=\"text/javascript\">                require([\"plotly\"], function(Plotly) {                    window.PLOTLYENV=window.PLOTLYENV || {};                                    if (document.getElementById(\"5d2e4f56-60ae-4886-9921-85b112528c8c\")) {                    Plotly.newPlot(                        \"5d2e4f56-60ae-4886-9921-85b112528c8c\",                        [{\"marker\": {\"color\": \"lightgreen\"}, \"text\": [\"Maulana Azad College\", \"Lady Brabourne College\", \"Durgapur women's college\", \"Durgapur Women's College\", \"Maulana Azad College \", \"Jadavpur University\", \"Regent Education and Research Foundation\", \"Maulana Azad college\", \"Kalyani Mahavidyalaya\", \"Asutosh College\", \"Regent Education & Research Foundation\", \"Lady Brabourne College \", \"MAULANA AZAD COLLEGE\", \"Vidyasagar University\", \"Regent Education And Research Foundation\", \"RERF\", \"Regent Education and Research Foundation \", \"Regent Education and Research foundation\", \"Durgapur Women's College \", \"MAULANA AZAD COLLEGE \", \"Lady brabourne college\", \"University of Calcutta\", \"DURGAPUR WOMEN'S COLLEGE\", \"JADAVPUR UNIVERSITY \", \"Lady Brabourne college\", \"National power training institute (E.R) Durgapur\", \"NSU\", \"N.P.T.I(E.R.)\", \"RKMVERI (BELUR CAMPUS)\", \"NARASINHA DUTT COLLEGE\", \"REGENT EDUCATION & RESEARCH FOUNDATION\", \"RCC institute of information technology\", \"NARASINHA DUTT COLLEGE, UNIVERSITY OF CALCUTTA\", \"Purulia zilla school \", \"Narasinha Dutta College\", \"Narasingha Dutt College \", \"National power training institute\", \"Presidency University\", \"Narasinha dutt college\", \"National power training institute Nagpur\", \"RKMVERI BELUR MATH\", \"Raniganj Girls' College \", \"RKMVERI, BELUR MATH\", \"RRERF\", \"Women's collage\", \"Vivekananda college\", \"Vivekananda College,Thakurpukur\", \"Vivekananda College \", \"Vivekananda College\", \"Viswass school & college of nursing\", \"Vidyasagar college for women\", \"Vidyasagar collage \", \"Victoria Institution\", \"VIDYASAGAR UNIVERSITY, MEDINIPUR\", \"The New Horizons Institute of Technology\", \"Surendranath college\", \"Shibpur Dinobundhoo institution\", \"Shahjalal University of Science & Technology   \", \"Rerf\", \"Regent education and research foundation \", \"Regent education and research foundation\", \"Regent education & research foundation barrackpore\", \"Regent Education and Research foundation \", \"Regent Education and Research Foundation Group of Institutions\", \"Regent Education &Research Foundation\", \"Moulana Azad College\", \"Ramakrishna Mission Vivekananda Educational And Research Institute\", \"Ramakrishna Mission Shilpapitha\", \"Raja Peary Mohan college\", \"Moulana azad college\", \" Uttarpara Amarendra Vidyapith\", \"Maulona Azad College\", \"Durgapur woman's college \", \"Durgapur institute of advanced and technology management\", \"Durgapur institute of advance technology and managment\", \"Durgapur government college\", \"Durgapur Womens College \", \"Durgapur Women's College   Kazi Nazrul University\", \"Durgapur WOMEN'S college \", \"Durgapur Institute of advanced technology and management \", \"Durgapur Institute of Advanced Technology & Management\", \"Durgapur Institute Of Advance Technology and Management\", \"Duragpur Women's college\", \"Dr.B.C.ROY ENGINEERING COLLEGE\", \"Dr. B. C. Roy Engineering college\", \"DURGAPUR GOVERNMENT COLLEGE\", \"DIATM, Durgapur\", \"College name - Durgapur Womens college\", \"Calcutta university \", \"Bethune college\", \"BETHUNE COLLEGE\", \"B P poddar institute of Management & Technology \", \"Asutosh College \", \"Aot\", \"Amta Ramsaday College\", \"Aliah University \", \"Durgapur institute of advanced technology and managemant rajbandh\", \"Durgapur women's College\", \"Maulana azad college \", \"Durgapur women's collage \", \"Maulana Azad College, University Of Calcutta\", \"Maulana Azad College, Kolkata\", \"Academy Of Technology\", \"Lalbaba college \", \"Lady braboune college\", \"Lady Brabourne college \", \"Lady Braboune Collage\", \"Kalyani mahavidyalay\", \"Kalyani Mahavidya\", \"Kalyani Mahabidyalaya\", \"KAJI najrul invercity\", \"Jogomaya Devi college \", \"Jk college\", \"Jagannath Kishore college,Purulia\", \"JadavpurUniversity  \", \"JADAVPUR UNIVERSITY\", \"J.K College\", \"Insitiution of engineering and managment\", \"Guru NANAK INSTITUTE OF PHARMACEUTICAL SCIENCE AND TECHNOLOGY\", \"Global Nature Care Sangathan Group Of Institutions\", \"Future institute of technology \", \"Future Institute of Technology\", \"Durgapur women's college \", \"maulana azad college\"], \"type\": \"bar\", \"x\": [\"Maulana Azad College\", \"Lady Brabourne College\", \"Durgapur women's college\", \"Durgapur Women's College\", \"Maulana Azad College \", \"Jadavpur University\", \"Regent Education and Research Foundation\", \"Maulana Azad college\", \"Kalyani Mahavidyalaya\", \"Asutosh College\", \"Regent Education & Research Foundation\", \"Lady Brabourne College \", \"MAULANA AZAD COLLEGE\", \"Vidyasagar University\", \"Regent Education And Research Foundation\", \"RERF\", \"Regent Education and Research Foundation \", \"Regent Education and Research foundation\", \"Durgapur Women's College \", \"MAULANA AZAD COLLEGE \", \"Lady brabourne college\", \"University of Calcutta\", \"DURGAPUR WOMEN'S COLLEGE\", \"JADAVPUR UNIVERSITY \", \"Lady Brabourne college\", \"National power training institute (E.R) Durgapur\", \"NSU\", \"N.P.T.I(E.R.)\", \"RKMVERI (BELUR CAMPUS)\", \"NARASINHA DUTT COLLEGE\", \"REGENT EDUCATION & RESEARCH FOUNDATION\", \"RCC institute of information technology\", \"NARASINHA DUTT COLLEGE, UNIVERSITY OF CALCUTTA\", \"Purulia zilla school \", \"Narasinha Dutta College\", \"Narasingha Dutt College \", \"National power training institute\", \"Presidency University\", \"Narasinha dutt college\", \"National power training institute Nagpur\", \"RKMVERI BELUR MATH\", \"Raniganj Girls' College \", \"RKMVERI, BELUR MATH\", \"RRERF\", \"Women's collage\", \"Vivekananda college\", \"Vivekananda College,Thakurpukur\", \"Vivekananda College \", \"Vivekananda College\", \"Viswass school & college of nursing\", \"Vidyasagar college for women\", \"Vidyasagar collage \", \"Victoria Institution\", \"VIDYASAGAR UNIVERSITY, MEDINIPUR\", \"The New Horizons Institute of Technology\", \"Surendranath college\", \"Shibpur Dinobundhoo institution\", \"Shahjalal University of Science & Technology   \", \"Rerf\", \"Regent education and research foundation \", \"Regent education and research foundation\", \"Regent education & research foundation barrackpore\", \"Regent Education and Research foundation \", \"Regent Education and Research Foundation Group of Institutions\", \"Regent Education &Research Foundation\", \"Moulana Azad College\", \"Ramakrishna Mission Vivekananda Educational And Research Institute\", \"Ramakrishna Mission Shilpapitha\", \"Raja Peary Mohan college\", \"Moulana azad college\", \" Uttarpara Amarendra Vidyapith\", \"Maulona Azad College\", \"Durgapur woman's college \", \"Durgapur institute of advanced and technology management\", \"Durgapur institute of advance technology and managment\", \"Durgapur government college\", \"Durgapur Womens College \", \"Durgapur Women's College   Kazi Nazrul University\", \"Durgapur WOMEN'S college \", \"Durgapur Institute of advanced technology and management \", \"Durgapur Institute of Advanced Technology & Management\", \"Durgapur Institute Of Advance Technology and Management\", \"Duragpur Women's college\", \"Dr.B.C.ROY ENGINEERING COLLEGE\", \"Dr. B. C. Roy Engineering college\", \"DURGAPUR GOVERNMENT COLLEGE\", \"DIATM, Durgapur\", \"College name - Durgapur Womens college\", \"Calcutta university \", \"Bethune college\", \"BETHUNE COLLEGE\", \"B P poddar institute of Management & Technology \", \"Asutosh College \", \"Aot\", \"Amta Ramsaday College\", \"Aliah University \", \"Durgapur institute of advanced technology and managemant rajbandh\", \"Durgapur women's College\", \"Maulana azad college \", \"Durgapur women's collage \", \"Maulana Azad College, University Of Calcutta\", \"Maulana Azad College, Kolkata\", \"Academy Of Technology\", \"Lalbaba college \", \"Lady braboune college\", \"Lady Brabourne college \", \"Lady Braboune Collage\", \"Kalyani mahavidyalay\", \"Kalyani Mahavidya\", \"Kalyani Mahabidyalaya\", \"KAJI najrul invercity\", \"Jogomaya Devi college \", \"Jk college\", \"Jagannath Kishore college,Purulia\", \"JadavpurUniversity  \", \"JADAVPUR UNIVERSITY\", \"J.K College\", \"Insitiution of engineering and managment\", \"Guru NANAK INSTITUTE OF PHARMACEUTICAL SCIENCE AND TECHNOLOGY\", \"Global Nature Care Sangathan Group Of Institutions\", \"Future institute of technology \", \"Future Institute of Technology\", \"Durgapur women's college \", \"maulana azad college\"], \"y\": [17, 11, 9, 6, 5, 5, 5, 4, 4, 3, 3, 3, 3, 3, 3, 2, 2, 2, 2, 2, 2, 2, 2, 2, 2, 1, 1, 1, 1, 1, 1, 1, 1, 1, 1, 1, 1, 1, 1, 1, 1, 1, 1, 1, 1, 1, 1, 1, 1, 1, 1, 1, 1, 1, 1, 1, 1, 1, 1, 1, 1, 1, 1, 1, 1, 1, 1, 1, 1, 1, 1, 1, 1, 1, 1, 1, 1, 1, 1, 1, 1, 1, 1, 1, 1, 1, 1, 1, 1, 1, 1, 1, 1, 1, 1, 1, 1, 1, 1, 1, 1, 1, 1, 1, 1, 1, 1, 1, 1, 1, 1, 1, 1, 1, 1, 1, 1, 1, 1, 1, 1, 1, 1, 1]}],                        {\"hovermode\": \"closest\", \"paper_bgcolor\": \"rgba(0, 0, 0, 0)\", \"plot_bgcolor\": \"rgba(0, 0, 0, 0)\", \"template\": {\"data\": {\"bar\": [{\"error_x\": {\"color\": \"#2a3f5f\"}, \"error_y\": {\"color\": \"#2a3f5f\"}, \"marker\": {\"line\": {\"color\": \"#E5ECF6\", \"width\": 0.5}}, \"type\": \"bar\"}], \"barpolar\": [{\"marker\": {\"line\": {\"color\": \"#E5ECF6\", \"width\": 0.5}}, \"type\": \"barpolar\"}], \"carpet\": [{\"aaxis\": {\"endlinecolor\": \"#2a3f5f\", \"gridcolor\": \"white\", \"linecolor\": \"white\", \"minorgridcolor\": \"white\", \"startlinecolor\": \"#2a3f5f\"}, \"baxis\": {\"endlinecolor\": \"#2a3f5f\", \"gridcolor\": \"white\", \"linecolor\": \"white\", \"minorgridcolor\": \"white\", \"startlinecolor\": \"#2a3f5f\"}, \"type\": \"carpet\"}], \"choropleth\": [{\"colorbar\": {\"outlinewidth\": 0, \"ticks\": \"\"}, \"type\": \"choropleth\"}], \"contour\": [{\"colorbar\": {\"outlinewidth\": 0, \"ticks\": \"\"}, \"colorscale\": [[0.0, \"#0d0887\"], [0.1111111111111111, \"#46039f\"], [0.2222222222222222, \"#7201a8\"], [0.3333333333333333, \"#9c179e\"], [0.4444444444444444, \"#bd3786\"], [0.5555555555555556, \"#d8576b\"], [0.6666666666666666, \"#ed7953\"], [0.7777777777777778, \"#fb9f3a\"], [0.8888888888888888, \"#fdca26\"], [1.0, \"#f0f921\"]], \"type\": \"contour\"}], \"contourcarpet\": [{\"colorbar\": {\"outlinewidth\": 0, \"ticks\": \"\"}, \"type\": \"contourcarpet\"}], \"heatmap\": [{\"colorbar\": {\"outlinewidth\": 0, \"ticks\": \"\"}, \"colorscale\": [[0.0, \"#0d0887\"], [0.1111111111111111, \"#46039f\"], [0.2222222222222222, \"#7201a8\"], [0.3333333333333333, \"#9c179e\"], [0.4444444444444444, \"#bd3786\"], [0.5555555555555556, \"#d8576b\"], [0.6666666666666666, \"#ed7953\"], [0.7777777777777778, \"#fb9f3a\"], [0.8888888888888888, \"#fdca26\"], [1.0, \"#f0f921\"]], \"type\": \"heatmap\"}], \"heatmapgl\": [{\"colorbar\": {\"outlinewidth\": 0, \"ticks\": \"\"}, \"colorscale\": [[0.0, \"#0d0887\"], [0.1111111111111111, \"#46039f\"], [0.2222222222222222, \"#7201a8\"], [0.3333333333333333, \"#9c179e\"], [0.4444444444444444, \"#bd3786\"], [0.5555555555555556, \"#d8576b\"], [0.6666666666666666, \"#ed7953\"], [0.7777777777777778, \"#fb9f3a\"], [0.8888888888888888, \"#fdca26\"], [1.0, \"#f0f921\"]], \"type\": \"heatmapgl\"}], \"histogram\": [{\"marker\": {\"colorbar\": {\"outlinewidth\": 0, \"ticks\": \"\"}}, \"type\": \"histogram\"}], \"histogram2d\": [{\"colorbar\": {\"outlinewidth\": 0, \"ticks\": \"\"}, \"colorscale\": [[0.0, \"#0d0887\"], [0.1111111111111111, \"#46039f\"], [0.2222222222222222, \"#7201a8\"], [0.3333333333333333, \"#9c179e\"], [0.4444444444444444, \"#bd3786\"], [0.5555555555555556, \"#d8576b\"], [0.6666666666666666, \"#ed7953\"], [0.7777777777777778, \"#fb9f3a\"], [0.8888888888888888, \"#fdca26\"], [1.0, \"#f0f921\"]], \"type\": \"histogram2d\"}], \"histogram2dcontour\": [{\"colorbar\": {\"outlinewidth\": 0, \"ticks\": \"\"}, \"colorscale\": [[0.0, \"#0d0887\"], [0.1111111111111111, \"#46039f\"], [0.2222222222222222, \"#7201a8\"], [0.3333333333333333, \"#9c179e\"], [0.4444444444444444, \"#bd3786\"], [0.5555555555555556, \"#d8576b\"], [0.6666666666666666, \"#ed7953\"], [0.7777777777777778, \"#fb9f3a\"], [0.8888888888888888, \"#fdca26\"], [1.0, \"#f0f921\"]], \"type\": \"histogram2dcontour\"}], \"mesh3d\": [{\"colorbar\": {\"outlinewidth\": 0, \"ticks\": \"\"}, \"type\": \"mesh3d\"}], \"parcoords\": [{\"line\": {\"colorbar\": {\"outlinewidth\": 0, \"ticks\": \"\"}}, \"type\": \"parcoords\"}], \"pie\": [{\"automargin\": true, \"type\": \"pie\"}], \"scatter\": [{\"marker\": {\"colorbar\": {\"outlinewidth\": 0, \"ticks\": \"\"}}, \"type\": \"scatter\"}], \"scatter3d\": [{\"line\": {\"colorbar\": {\"outlinewidth\": 0, \"ticks\": \"\"}}, \"marker\": {\"colorbar\": {\"outlinewidth\": 0, \"ticks\": \"\"}}, \"type\": \"scatter3d\"}], \"scattercarpet\": [{\"marker\": {\"colorbar\": {\"outlinewidth\": 0, \"ticks\": \"\"}}, \"type\": \"scattercarpet\"}], \"scattergeo\": [{\"marker\": {\"colorbar\": {\"outlinewidth\": 0, \"ticks\": \"\"}}, \"type\": \"scattergeo\"}], \"scattergl\": [{\"marker\": {\"colorbar\": {\"outlinewidth\": 0, \"ticks\": \"\"}}, \"type\": \"scattergl\"}], \"scattermapbox\": [{\"marker\": {\"colorbar\": {\"outlinewidth\": 0, \"ticks\": \"\"}}, \"type\": \"scattermapbox\"}], \"scatterpolar\": [{\"marker\": {\"colorbar\": {\"outlinewidth\": 0, \"ticks\": \"\"}}, \"type\": \"scatterpolar\"}], \"scatterpolargl\": [{\"marker\": {\"colorbar\": {\"outlinewidth\": 0, \"ticks\": \"\"}}, \"type\": \"scatterpolargl\"}], \"scatterternary\": [{\"marker\": {\"colorbar\": {\"outlinewidth\": 0, \"ticks\": \"\"}}, \"type\": \"scatterternary\"}], \"surface\": [{\"colorbar\": {\"outlinewidth\": 0, \"ticks\": \"\"}, \"colorscale\": [[0.0, \"#0d0887\"], [0.1111111111111111, \"#46039f\"], [0.2222222222222222, \"#7201a8\"], [0.3333333333333333, \"#9c179e\"], [0.4444444444444444, \"#bd3786\"], [0.5555555555555556, \"#d8576b\"], [0.6666666666666666, \"#ed7953\"], [0.7777777777777778, \"#fb9f3a\"], [0.8888888888888888, \"#fdca26\"], [1.0, \"#f0f921\"]], \"type\": \"surface\"}], \"table\": [{\"cells\": {\"fill\": {\"color\": \"#EBF0F8\"}, \"line\": {\"color\": \"white\"}}, \"header\": {\"fill\": {\"color\": \"#C8D4E3\"}, \"line\": {\"color\": \"white\"}}, \"type\": \"table\"}]}, \"layout\": {\"annotationdefaults\": {\"arrowcolor\": \"#2a3f5f\", \"arrowhead\": 0, \"arrowwidth\": 1}, \"autotypenumbers\": \"strict\", \"coloraxis\": {\"colorbar\": {\"outlinewidth\": 0, \"ticks\": \"\"}}, \"colorscale\": {\"diverging\": [[0, \"#8e0152\"], [0.1, \"#c51b7d\"], [0.2, \"#de77ae\"], [0.3, \"#f1b6da\"], [0.4, \"#fde0ef\"], [0.5, \"#f7f7f7\"], [0.6, \"#e6f5d0\"], [0.7, \"#b8e186\"], [0.8, \"#7fbc41\"], [0.9, \"#4d9221\"], [1, \"#276419\"]], \"sequential\": [[0.0, \"#0d0887\"], [0.1111111111111111, \"#46039f\"], [0.2222222222222222, \"#7201a8\"], [0.3333333333333333, \"#9c179e\"], [0.4444444444444444, \"#bd3786\"], [0.5555555555555556, \"#d8576b\"], [0.6666666666666666, \"#ed7953\"], [0.7777777777777778, \"#fb9f3a\"], [0.8888888888888888, \"#fdca26\"], [1.0, \"#f0f921\"]], \"sequentialminus\": [[0.0, \"#0d0887\"], [0.1111111111111111, \"#46039f\"], [0.2222222222222222, \"#7201a8\"], [0.3333333333333333, \"#9c179e\"], [0.4444444444444444, \"#bd3786\"], [0.5555555555555556, \"#d8576b\"], [0.6666666666666666, \"#ed7953\"], [0.7777777777777778, \"#fb9f3a\"], [0.8888888888888888, \"#fdca26\"], [1.0, \"#f0f921\"]]}, \"colorway\": [\"#636efa\", \"#EF553B\", \"#00cc96\", \"#ab63fa\", \"#FFA15A\", \"#19d3f3\", \"#FF6692\", \"#B6E880\", \"#FF97FF\", \"#FECB52\"], \"font\": {\"color\": \"#2a3f5f\"}, \"geo\": {\"bgcolor\": \"white\", \"lakecolor\": \"white\", \"landcolor\": \"#E5ECF6\", \"showlakes\": true, \"showland\": true, \"subunitcolor\": \"white\"}, \"hoverlabel\": {\"align\": \"left\"}, \"hovermode\": \"closest\", \"mapbox\": {\"style\": \"light\"}, \"paper_bgcolor\": \"white\", \"plot_bgcolor\": \"#E5ECF6\", \"polar\": {\"angularaxis\": {\"gridcolor\": \"white\", \"linecolor\": \"white\", \"ticks\": \"\"}, \"bgcolor\": \"#E5ECF6\", \"radialaxis\": {\"gridcolor\": \"white\", \"linecolor\": \"white\", \"ticks\": \"\"}}, \"scene\": {\"xaxis\": {\"backgroundcolor\": \"#E5ECF6\", \"gridcolor\": \"white\", \"gridwidth\": 2, \"linecolor\": \"white\", \"showbackground\": true, \"ticks\": \"\", \"zerolinecolor\": \"white\"}, \"yaxis\": {\"backgroundcolor\": \"#E5ECF6\", \"gridcolor\": \"white\", \"gridwidth\": 2, \"linecolor\": \"white\", \"showbackground\": true, \"ticks\": \"\", \"zerolinecolor\": \"white\"}, \"zaxis\": {\"backgroundcolor\": \"#E5ECF6\", \"gridcolor\": \"white\", \"gridwidth\": 2, \"linecolor\": \"white\", \"showbackground\": true, \"ticks\": \"\", \"zerolinecolor\": \"white\"}}, \"shapedefaults\": {\"line\": {\"color\": \"#2a3f5f\"}}, \"ternary\": {\"aaxis\": {\"gridcolor\": \"white\", \"linecolor\": \"white\", \"ticks\": \"\"}, \"baxis\": {\"gridcolor\": \"white\", \"linecolor\": \"white\", \"ticks\": \"\"}, \"bgcolor\": \"#E5ECF6\", \"caxis\": {\"gridcolor\": \"white\", \"linecolor\": \"white\", \"ticks\": \"\"}}, \"title\": {\"x\": 0.05}, \"xaxis\": {\"automargin\": true, \"gridcolor\": \"white\", \"linecolor\": \"white\", \"ticks\": \"\", \"title\": {\"standoff\": 15}, \"zerolinecolor\": \"white\", \"zerolinewidth\": 2}, \"yaxis\": {\"automargin\": true, \"gridcolor\": \"white\", \"linecolor\": \"white\", \"ticks\": \"\", \"title\": {\"standoff\": 15}, \"zerolinecolor\": \"white\", \"zerolinewidth\": 2}}}, \"title\": {\"text\": \"Free Session total Student from University with no laptop \"}, \"xaxis\": {\"linecolor\": \"black\", \"linewidth\": 2, \"mirror\": true, \"showline\": true, \"showticklabels\": true, \"tickangle\": 45, \"tickfont\": {\"color\": \"red\", \"size\": 12}, \"title\": {\"text\": \"University Name\"}, \"zeroline\": true, \"zerolinecolor\": \"grey\", \"zerolinewidth\": 1}, \"yaxis\": {\"gridcolor\": \"lightgrey\", \"linecolor\": \"black\", \"linewidth\": 2, \"mirror\": true, \"showline\": true, \"title\": {\"text\": \"Total Students\"}, \"zeroline\": true, \"zerolinecolor\": \"grey\", \"zerolinewidth\": 1}},                        {\"responsive\": true}                    ).then(function(){\n",
       "                            \n",
       "var gd = document.getElementById('5d2e4f56-60ae-4886-9921-85b112528c8c');\n",
       "var x = new MutationObserver(function (mutations, observer) {{\n",
       "        var display = window.getComputedStyle(gd).display;\n",
       "        if (!display || display === 'none') {{\n",
       "            console.log([gd, 'removed!']);\n",
       "            Plotly.purge(gd);\n",
       "            observer.disconnect();\n",
       "        }}\n",
       "}});\n",
       "\n",
       "// Listen for the removal of the full notebook cells\n",
       "var notebookContainer = gd.closest('#notebook-container');\n",
       "if (notebookContainer) {{\n",
       "    x.observe(notebookContainer, {childList: true});\n",
       "}}\n",
       "\n",
       "// Listen for the clearing of the current output cell\n",
       "var outputEl = gd.closest('.output');\n",
       "if (outputEl) {{\n",
       "    x.observe(outputEl, {childList: true});\n",
       "}}\n",
       "\n",
       "                        })                };                });            </script>        </div>"
      ]
     },
     "metadata": {},
     "output_type": "display_data"
    }
   ],
   "source": [
    "draw_trace_bar_laptop(no_laptop_college,'College','no_laptop_count','Free Session total Student from University with no laptop ', 'University Name','Total Students',\"lightgreen\")"
   ]
  },
  {
   "cell_type": "markdown",
   "metadata": {},
   "source": [
    "# those who didn’t had laptop and from which department "
   ]
  },
  {
   "cell_type": "code",
   "execution_count": 150,
   "metadata": {},
   "outputs": [
    {
     "data": {
      "text/html": [
       "<div>\n",
       "<style scoped>\n",
       "    .dataframe tbody tr th:only-of-type {\n",
       "        vertical-align: middle;\n",
       "    }\n",
       "\n",
       "    .dataframe tbody tr th {\n",
       "        vertical-align: top;\n",
       "    }\n",
       "\n",
       "    .dataframe thead th {\n",
       "        text-align: right;\n",
       "    }\n",
       "</style>\n",
       "<table border=\"1\" class=\"dataframe\">\n",
       "  <thead>\n",
       "    <tr style=\"text-align: right;\">\n",
       "      <th></th>\n",
       "      <th>Department</th>\n",
       "      <th>no_laptop_count</th>\n",
       "    </tr>\n",
       "  </thead>\n",
       "  <tbody>\n",
       "    <tr>\n",
       "      <th>0</th>\n",
       "      <td>LINEAR ALGEBRA IN MATHEMATICS</td>\n",
       "      <td>1</td>\n",
       "    </tr>\n",
       "    <tr>\n",
       "      <th>1</th>\n",
       "      <td>APPLIES MATHEMATICS</td>\n",
       "      <td>1</td>\n",
       "    </tr>\n",
       "    <tr>\n",
       "      <th>2</th>\n",
       "      <td>Atrs</td>\n",
       "      <td>1</td>\n",
       "    </tr>\n",
       "    <tr>\n",
       "      <th>3</th>\n",
       "      <td>B-tech (ECE 2'nd year)</td>\n",
       "      <td>1</td>\n",
       "    </tr>\n",
       "    <tr>\n",
       "      <th>4</th>\n",
       "      <td>B-tech in ece</td>\n",
       "      <td>1</td>\n",
       "    </tr>\n",
       "    <tr>\n",
       "      <th>...</th>\n",
       "      <td>...</td>\n",
       "      <td>...</td>\n",
       "    </tr>\n",
       "    <tr>\n",
       "      <th>62</th>\n",
       "      <td>Statistics Honours (B.Sc.)</td>\n",
       "      <td>1</td>\n",
       "    </tr>\n",
       "    <tr>\n",
       "      <th>63</th>\n",
       "      <td>Statistics Honours Student</td>\n",
       "      <td>1</td>\n",
       "    </tr>\n",
       "    <tr>\n",
       "      <th>64</th>\n",
       "      <td>Ststistics</td>\n",
       "      <td>1</td>\n",
       "    </tr>\n",
       "    <tr>\n",
       "      <th>65</th>\n",
       "      <td>Studying M.sc in mathematics</td>\n",
       "      <td>1</td>\n",
       "    </tr>\n",
       "    <tr>\n",
       "      <th>66</th>\n",
       "      <td>others</td>\n",
       "      <td>23</td>\n",
       "    </tr>\n",
       "  </tbody>\n",
       "</table>\n",
       "<p>67 rows × 2 columns</p>\n",
       "</div>"
      ],
      "text/plain": [
       "                        Department  no_laptop_count\n",
       "0    LINEAR ALGEBRA IN MATHEMATICS                1\n",
       "1              APPLIES MATHEMATICS                1\n",
       "2                             Atrs                1\n",
       "3           B-tech (ECE 2'nd year)                1\n",
       "4                    B-tech in ece                1\n",
       "..                             ...              ...\n",
       "62      Statistics Honours (B.Sc.)                1\n",
       "63      Statistics Honours Student                1\n",
       "64                      Ststistics                1\n",
       "65    Studying M.sc in mathematics                1\n",
       "66                          others               23\n",
       "\n",
       "[67 rows x 2 columns]"
      ]
     },
     "execution_count": 150,
     "metadata": {},
     "output_type": "execute_result"
    }
   ],
   "source": [
    "laptop_n1 = Nolaptop.groupby('Department')['Department'].agg('count')\n",
    "no_laptop_dept= pd.DataFrame(laptop_n1)\n",
    "no_laptop_dept.rename(columns={\"Department\": \"no_laptop_count\"},inplace=True)\n",
    "no_laptop_dept.reset_index(inplace=True)\n",
    "no_laptop_dept"
   ]
  },
  {
   "cell_type": "code",
   "execution_count": 152,
   "metadata": {},
   "outputs": [
    {
     "data": {
      "application/vnd.plotly.v1+json": {
       "config": {
        "linkText": "Export to plot.ly",
        "plotlyServerURL": "https://plot.ly",
        "showLink": false
       },
       "data": [
        {
         "marker": {
          "color": "lightgreen"
         },
         "text": [
          "Honors (BSC/MSC)",
          "Engineering",
          "others",
          "Mathematics",
          "Statistics",
          "Statistics ",
          "B.Sc Statistics honours",
          "MATHEMATICS ",
          "Math (H) ",
          "Master of science in applied Mathematics",
          "Mechanical engineering",
          "MSc Mathematics",
          "MSc",
          "Mathematics ",
          "Mathematics (MSC)",
          "Mathematics MSc.",
          "Mathematics honours ",
          "Mca",
          "Mechanical",
          "Msc Mathematics ",
          "Mechanical engineering ",
          "Microbiology",
          "Msc in applied mathematics",
          "Msc. Mathematics",
          "Power",
          "Power engineering",
          "Power plant engineering",
          "Pure mathematics",
          "STATISTICS",
          "Statistics (H)",
          "Statistics Honours (B.Sc.)",
          "Statistics Honours Student",
          "Ststistics",
          "Studying M.sc in mathematics",
          "MSC IN MATHEMATICS",
          " LINEAR ALGEBRA IN MATHEMATICS",
          "MATHEMATICS",
          "Bsc. Statistics Honours Student(Final Year)",
          "Atrs",
          "B-tech (ECE 2'nd year)",
          "B-tech in ece",
          "B. Tech (Cse) ",
          "B.Com (H)",
          "B.Sc",
          "B.sc in Statistics",
          "B.sc nursing",
          "B.tech (ECE)",
          "BCA",
          "Bsc physics honours ",
          "Bsc(state )",
          "Bsc. Hons",
          "Btech 4th year on ECE department",
          "APPLIES MATHEMATICS",
          "Byech",
          "Civil Engineering",
          "Computer Science",
          "Computer science",
          "Did my graduation on mathematics",
          "ECE",
          "Electrical engineering",
          "Electronics and communication Engineering (B.Tech)",
          "Electronics and telecommunication",
          "H.S passed",
          "M.SC. IN APPLIED MATHEMATICS",
          "M.Sc in Mathematics",
          "M.sc",
          "M.sc Mathematics"
         ],
         "type": "bar",
         "x": [
          "Honors (BSC/MSC)",
          "Engineering",
          "others",
          "Mathematics",
          "Statistics",
          "Statistics ",
          "B.Sc Statistics honours",
          "MATHEMATICS ",
          "Math (H) ",
          "Master of science in applied Mathematics",
          "Mechanical engineering",
          "MSc Mathematics",
          "MSc",
          "Mathematics ",
          "Mathematics (MSC)",
          "Mathematics MSc.",
          "Mathematics honours ",
          "Mca",
          "Mechanical",
          "Msc Mathematics ",
          "Mechanical engineering ",
          "Microbiology",
          "Msc in applied mathematics",
          "Msc. Mathematics",
          "Power",
          "Power engineering",
          "Power plant engineering",
          "Pure mathematics",
          "STATISTICS",
          "Statistics (H)",
          "Statistics Honours (B.Sc.)",
          "Statistics Honours Student",
          "Ststistics",
          "Studying M.sc in mathematics",
          "MSC IN MATHEMATICS",
          " LINEAR ALGEBRA IN MATHEMATICS",
          "MATHEMATICS",
          "Bsc. Statistics Honours Student(Final Year)",
          "Atrs",
          "B-tech (ECE 2'nd year)",
          "B-tech in ece",
          "B. Tech (Cse) ",
          "B.Com (H)",
          "B.Sc",
          "B.sc in Statistics",
          "B.sc nursing",
          "B.tech (ECE)",
          "BCA",
          "Bsc physics honours ",
          "Bsc(state )",
          "Bsc. Hons",
          "Btech 4th year on ECE department",
          "APPLIES MATHEMATICS",
          "Byech",
          "Civil Engineering",
          "Computer Science",
          "Computer science",
          "Did my graduation on mathematics",
          "ECE",
          "Electrical engineering",
          "Electronics and communication Engineering (B.Tech)",
          "Electronics and telecommunication",
          "H.S passed",
          "M.SC. IN APPLIED MATHEMATICS",
          "M.Sc in Mathematics",
          "M.sc",
          "M.sc Mathematics"
         ],
         "y": [
          69,
          30,
          23,
          4,
          4,
          2,
          2,
          2,
          1,
          1,
          1,
          1,
          1,
          1,
          1,
          1,
          1,
          1,
          1,
          1,
          1,
          1,
          1,
          1,
          1,
          1,
          1,
          1,
          1,
          1,
          1,
          1,
          1,
          1,
          1,
          1,
          1,
          1,
          1,
          1,
          1,
          1,
          1,
          1,
          1,
          1,
          1,
          1,
          1,
          1,
          1,
          1,
          1,
          1,
          1,
          1,
          1,
          1,
          1,
          1,
          1,
          1,
          1,
          1,
          1,
          1,
          1
         ]
        }
       ],
       "layout": {
        "hovermode": "closest",
        "paper_bgcolor": "rgba(0, 0, 0, 0)",
        "plot_bgcolor": "rgba(0, 0, 0, 0)",
        "template": {
         "data": {
          "bar": [
           {
            "error_x": {
             "color": "#2a3f5f"
            },
            "error_y": {
             "color": "#2a3f5f"
            },
            "marker": {
             "line": {
              "color": "#E5ECF6",
              "width": 0.5
             }
            },
            "type": "bar"
           }
          ],
          "barpolar": [
           {
            "marker": {
             "line": {
              "color": "#E5ECF6",
              "width": 0.5
             }
            },
            "type": "barpolar"
           }
          ],
          "carpet": [
           {
            "aaxis": {
             "endlinecolor": "#2a3f5f",
             "gridcolor": "white",
             "linecolor": "white",
             "minorgridcolor": "white",
             "startlinecolor": "#2a3f5f"
            },
            "baxis": {
             "endlinecolor": "#2a3f5f",
             "gridcolor": "white",
             "linecolor": "white",
             "minorgridcolor": "white",
             "startlinecolor": "#2a3f5f"
            },
            "type": "carpet"
           }
          ],
          "choropleth": [
           {
            "colorbar": {
             "outlinewidth": 0,
             "ticks": ""
            },
            "type": "choropleth"
           }
          ],
          "contour": [
           {
            "colorbar": {
             "outlinewidth": 0,
             "ticks": ""
            },
            "colorscale": [
             [
              0,
              "#0d0887"
             ],
             [
              0.1111111111111111,
              "#46039f"
             ],
             [
              0.2222222222222222,
              "#7201a8"
             ],
             [
              0.3333333333333333,
              "#9c179e"
             ],
             [
              0.4444444444444444,
              "#bd3786"
             ],
             [
              0.5555555555555556,
              "#d8576b"
             ],
             [
              0.6666666666666666,
              "#ed7953"
             ],
             [
              0.7777777777777778,
              "#fb9f3a"
             ],
             [
              0.8888888888888888,
              "#fdca26"
             ],
             [
              1,
              "#f0f921"
             ]
            ],
            "type": "contour"
           }
          ],
          "contourcarpet": [
           {
            "colorbar": {
             "outlinewidth": 0,
             "ticks": ""
            },
            "type": "contourcarpet"
           }
          ],
          "heatmap": [
           {
            "colorbar": {
             "outlinewidth": 0,
             "ticks": ""
            },
            "colorscale": [
             [
              0,
              "#0d0887"
             ],
             [
              0.1111111111111111,
              "#46039f"
             ],
             [
              0.2222222222222222,
              "#7201a8"
             ],
             [
              0.3333333333333333,
              "#9c179e"
             ],
             [
              0.4444444444444444,
              "#bd3786"
             ],
             [
              0.5555555555555556,
              "#d8576b"
             ],
             [
              0.6666666666666666,
              "#ed7953"
             ],
             [
              0.7777777777777778,
              "#fb9f3a"
             ],
             [
              0.8888888888888888,
              "#fdca26"
             ],
             [
              1,
              "#f0f921"
             ]
            ],
            "type": "heatmap"
           }
          ],
          "heatmapgl": [
           {
            "colorbar": {
             "outlinewidth": 0,
             "ticks": ""
            },
            "colorscale": [
             [
              0,
              "#0d0887"
             ],
             [
              0.1111111111111111,
              "#46039f"
             ],
             [
              0.2222222222222222,
              "#7201a8"
             ],
             [
              0.3333333333333333,
              "#9c179e"
             ],
             [
              0.4444444444444444,
              "#bd3786"
             ],
             [
              0.5555555555555556,
              "#d8576b"
             ],
             [
              0.6666666666666666,
              "#ed7953"
             ],
             [
              0.7777777777777778,
              "#fb9f3a"
             ],
             [
              0.8888888888888888,
              "#fdca26"
             ],
             [
              1,
              "#f0f921"
             ]
            ],
            "type": "heatmapgl"
           }
          ],
          "histogram": [
           {
            "marker": {
             "colorbar": {
              "outlinewidth": 0,
              "ticks": ""
             }
            },
            "type": "histogram"
           }
          ],
          "histogram2d": [
           {
            "colorbar": {
             "outlinewidth": 0,
             "ticks": ""
            },
            "colorscale": [
             [
              0,
              "#0d0887"
             ],
             [
              0.1111111111111111,
              "#46039f"
             ],
             [
              0.2222222222222222,
              "#7201a8"
             ],
             [
              0.3333333333333333,
              "#9c179e"
             ],
             [
              0.4444444444444444,
              "#bd3786"
             ],
             [
              0.5555555555555556,
              "#d8576b"
             ],
             [
              0.6666666666666666,
              "#ed7953"
             ],
             [
              0.7777777777777778,
              "#fb9f3a"
             ],
             [
              0.8888888888888888,
              "#fdca26"
             ],
             [
              1,
              "#f0f921"
             ]
            ],
            "type": "histogram2d"
           }
          ],
          "histogram2dcontour": [
           {
            "colorbar": {
             "outlinewidth": 0,
             "ticks": ""
            },
            "colorscale": [
             [
              0,
              "#0d0887"
             ],
             [
              0.1111111111111111,
              "#46039f"
             ],
             [
              0.2222222222222222,
              "#7201a8"
             ],
             [
              0.3333333333333333,
              "#9c179e"
             ],
             [
              0.4444444444444444,
              "#bd3786"
             ],
             [
              0.5555555555555556,
              "#d8576b"
             ],
             [
              0.6666666666666666,
              "#ed7953"
             ],
             [
              0.7777777777777778,
              "#fb9f3a"
             ],
             [
              0.8888888888888888,
              "#fdca26"
             ],
             [
              1,
              "#f0f921"
             ]
            ],
            "type": "histogram2dcontour"
           }
          ],
          "mesh3d": [
           {
            "colorbar": {
             "outlinewidth": 0,
             "ticks": ""
            },
            "type": "mesh3d"
           }
          ],
          "parcoords": [
           {
            "line": {
             "colorbar": {
              "outlinewidth": 0,
              "ticks": ""
             }
            },
            "type": "parcoords"
           }
          ],
          "pie": [
           {
            "automargin": true,
            "type": "pie"
           }
          ],
          "scatter": [
           {
            "marker": {
             "colorbar": {
              "outlinewidth": 0,
              "ticks": ""
             }
            },
            "type": "scatter"
           }
          ],
          "scatter3d": [
           {
            "line": {
             "colorbar": {
              "outlinewidth": 0,
              "ticks": ""
             }
            },
            "marker": {
             "colorbar": {
              "outlinewidth": 0,
              "ticks": ""
             }
            },
            "type": "scatter3d"
           }
          ],
          "scattercarpet": [
           {
            "marker": {
             "colorbar": {
              "outlinewidth": 0,
              "ticks": ""
             }
            },
            "type": "scattercarpet"
           }
          ],
          "scattergeo": [
           {
            "marker": {
             "colorbar": {
              "outlinewidth": 0,
              "ticks": ""
             }
            },
            "type": "scattergeo"
           }
          ],
          "scattergl": [
           {
            "marker": {
             "colorbar": {
              "outlinewidth": 0,
              "ticks": ""
             }
            },
            "type": "scattergl"
           }
          ],
          "scattermapbox": [
           {
            "marker": {
             "colorbar": {
              "outlinewidth": 0,
              "ticks": ""
             }
            },
            "type": "scattermapbox"
           }
          ],
          "scatterpolar": [
           {
            "marker": {
             "colorbar": {
              "outlinewidth": 0,
              "ticks": ""
             }
            },
            "type": "scatterpolar"
           }
          ],
          "scatterpolargl": [
           {
            "marker": {
             "colorbar": {
              "outlinewidth": 0,
              "ticks": ""
             }
            },
            "type": "scatterpolargl"
           }
          ],
          "scatterternary": [
           {
            "marker": {
             "colorbar": {
              "outlinewidth": 0,
              "ticks": ""
             }
            },
            "type": "scatterternary"
           }
          ],
          "surface": [
           {
            "colorbar": {
             "outlinewidth": 0,
             "ticks": ""
            },
            "colorscale": [
             [
              0,
              "#0d0887"
             ],
             [
              0.1111111111111111,
              "#46039f"
             ],
             [
              0.2222222222222222,
              "#7201a8"
             ],
             [
              0.3333333333333333,
              "#9c179e"
             ],
             [
              0.4444444444444444,
              "#bd3786"
             ],
             [
              0.5555555555555556,
              "#d8576b"
             ],
             [
              0.6666666666666666,
              "#ed7953"
             ],
             [
              0.7777777777777778,
              "#fb9f3a"
             ],
             [
              0.8888888888888888,
              "#fdca26"
             ],
             [
              1,
              "#f0f921"
             ]
            ],
            "type": "surface"
           }
          ],
          "table": [
           {
            "cells": {
             "fill": {
              "color": "#EBF0F8"
             },
             "line": {
              "color": "white"
             }
            },
            "header": {
             "fill": {
              "color": "#C8D4E3"
             },
             "line": {
              "color": "white"
             }
            },
            "type": "table"
           }
          ]
         },
         "layout": {
          "annotationdefaults": {
           "arrowcolor": "#2a3f5f",
           "arrowhead": 0,
           "arrowwidth": 1
          },
          "autotypenumbers": "strict",
          "coloraxis": {
           "colorbar": {
            "outlinewidth": 0,
            "ticks": ""
           }
          },
          "colorscale": {
           "diverging": [
            [
             0,
             "#8e0152"
            ],
            [
             0.1,
             "#c51b7d"
            ],
            [
             0.2,
             "#de77ae"
            ],
            [
             0.3,
             "#f1b6da"
            ],
            [
             0.4,
             "#fde0ef"
            ],
            [
             0.5,
             "#f7f7f7"
            ],
            [
             0.6,
             "#e6f5d0"
            ],
            [
             0.7,
             "#b8e186"
            ],
            [
             0.8,
             "#7fbc41"
            ],
            [
             0.9,
             "#4d9221"
            ],
            [
             1,
             "#276419"
            ]
           ],
           "sequential": [
            [
             0,
             "#0d0887"
            ],
            [
             0.1111111111111111,
             "#46039f"
            ],
            [
             0.2222222222222222,
             "#7201a8"
            ],
            [
             0.3333333333333333,
             "#9c179e"
            ],
            [
             0.4444444444444444,
             "#bd3786"
            ],
            [
             0.5555555555555556,
             "#d8576b"
            ],
            [
             0.6666666666666666,
             "#ed7953"
            ],
            [
             0.7777777777777778,
             "#fb9f3a"
            ],
            [
             0.8888888888888888,
             "#fdca26"
            ],
            [
             1,
             "#f0f921"
            ]
           ],
           "sequentialminus": [
            [
             0,
             "#0d0887"
            ],
            [
             0.1111111111111111,
             "#46039f"
            ],
            [
             0.2222222222222222,
             "#7201a8"
            ],
            [
             0.3333333333333333,
             "#9c179e"
            ],
            [
             0.4444444444444444,
             "#bd3786"
            ],
            [
             0.5555555555555556,
             "#d8576b"
            ],
            [
             0.6666666666666666,
             "#ed7953"
            ],
            [
             0.7777777777777778,
             "#fb9f3a"
            ],
            [
             0.8888888888888888,
             "#fdca26"
            ],
            [
             1,
             "#f0f921"
            ]
           ]
          },
          "colorway": [
           "#636efa",
           "#EF553B",
           "#00cc96",
           "#ab63fa",
           "#FFA15A",
           "#19d3f3",
           "#FF6692",
           "#B6E880",
           "#FF97FF",
           "#FECB52"
          ],
          "font": {
           "color": "#2a3f5f"
          },
          "geo": {
           "bgcolor": "white",
           "lakecolor": "white",
           "landcolor": "#E5ECF6",
           "showlakes": true,
           "showland": true,
           "subunitcolor": "white"
          },
          "hoverlabel": {
           "align": "left"
          },
          "hovermode": "closest",
          "mapbox": {
           "style": "light"
          },
          "paper_bgcolor": "white",
          "plot_bgcolor": "#E5ECF6",
          "polar": {
           "angularaxis": {
            "gridcolor": "white",
            "linecolor": "white",
            "ticks": ""
           },
           "bgcolor": "#E5ECF6",
           "radialaxis": {
            "gridcolor": "white",
            "linecolor": "white",
            "ticks": ""
           }
          },
          "scene": {
           "xaxis": {
            "backgroundcolor": "#E5ECF6",
            "gridcolor": "white",
            "gridwidth": 2,
            "linecolor": "white",
            "showbackground": true,
            "ticks": "",
            "zerolinecolor": "white"
           },
           "yaxis": {
            "backgroundcolor": "#E5ECF6",
            "gridcolor": "white",
            "gridwidth": 2,
            "linecolor": "white",
            "showbackground": true,
            "ticks": "",
            "zerolinecolor": "white"
           },
           "zaxis": {
            "backgroundcolor": "#E5ECF6",
            "gridcolor": "white",
            "gridwidth": 2,
            "linecolor": "white",
            "showbackground": true,
            "ticks": "",
            "zerolinecolor": "white"
           }
          },
          "shapedefaults": {
           "line": {
            "color": "#2a3f5f"
           }
          },
          "ternary": {
           "aaxis": {
            "gridcolor": "white",
            "linecolor": "white",
            "ticks": ""
           },
           "baxis": {
            "gridcolor": "white",
            "linecolor": "white",
            "ticks": ""
           },
           "bgcolor": "#E5ECF6",
           "caxis": {
            "gridcolor": "white",
            "linecolor": "white",
            "ticks": ""
           }
          },
          "title": {
           "x": 0.05
          },
          "xaxis": {
           "automargin": true,
           "gridcolor": "white",
           "linecolor": "white",
           "ticks": "",
           "title": {
            "standoff": 15
           },
           "zerolinecolor": "white",
           "zerolinewidth": 2
          },
          "yaxis": {
           "automargin": true,
           "gridcolor": "white",
           "linecolor": "white",
           "ticks": "",
           "title": {
            "standoff": 15
           },
           "zerolinecolor": "white",
           "zerolinewidth": 2
          }
         }
        },
        "title": {
         "text": "Free Session total Student from Department with no laptop "
        },
        "xaxis": {
         "linecolor": "black",
         "linewidth": 2,
         "mirror": true,
         "showline": true,
         "showticklabels": true,
         "tickangle": 45,
         "tickfont": {
          "color": "red",
          "size": 12
         },
         "title": {
          "text": "Department Name"
         },
         "zeroline": true,
         "zerolinecolor": "grey",
         "zerolinewidth": 1
        },
        "yaxis": {
         "gridcolor": "lightgrey",
         "linecolor": "black",
         "linewidth": 2,
         "mirror": true,
         "showline": true,
         "title": {
          "text": "Total Students"
         },
         "zeroline": true,
         "zerolinecolor": "grey",
         "zerolinewidth": 1
        }
       }
      },
      "text/html": [
       "<div>                            <div id=\"f7cba815-a49c-44b0-83d2-189007ab247f\" class=\"plotly-graph-div\" style=\"height:525px; width:100%;\"></div>            <script type=\"text/javascript\">                require([\"plotly\"], function(Plotly) {                    window.PLOTLYENV=window.PLOTLYENV || {};                                    if (document.getElementById(\"f7cba815-a49c-44b0-83d2-189007ab247f\")) {                    Plotly.newPlot(                        \"f7cba815-a49c-44b0-83d2-189007ab247f\",                        [{\"marker\": {\"color\": \"lightgreen\"}, \"text\": [\"Honors (BSC/MSC)\", \"Engineering\", \"others\", \"Mathematics\", \"Statistics\", \"Statistics \", \"B.Sc Statistics honours\", \"MATHEMATICS \", \"Math (H) \", \"Master of science in applied Mathematics\", \"Mechanical engineering\", \"MSc Mathematics\", \"MSc\", \"Mathematics \", \"Mathematics (MSC)\", \"Mathematics MSc.\", \"Mathematics honours \", \"Mca\", \"Mechanical\", \"Msc Mathematics \", \"Mechanical engineering \", \"Microbiology\", \"Msc in applied mathematics\", \"Msc. Mathematics\", \"Power\", \"Power engineering\", \"Power plant engineering\", \"Pure mathematics\", \"STATISTICS\", \"Statistics (H)\", \"Statistics Honours (B.Sc.)\", \"Statistics Honours Student\", \"Ststistics\", \"Studying M.sc in mathematics\", \"MSC IN MATHEMATICS\", \" LINEAR ALGEBRA IN MATHEMATICS\", \"MATHEMATICS\", \"Bsc. Statistics Honours Student(Final Year)\", \"Atrs\", \"B-tech (ECE 2'nd year)\", \"B-tech in ece\", \"B. Tech (Cse) \", \"B.Com (H)\", \"B.Sc\", \"B.sc in Statistics\", \"B.sc nursing\", \"B.tech (ECE)\", \"BCA\", \"Bsc physics honours \", \"Bsc(state )\", \"Bsc. Hons\", \"Btech 4th year on ECE department\", \"APPLIES MATHEMATICS\", \"Byech\", \"Civil Engineering\", \"Computer Science\", \"Computer science\", \"Did my graduation on mathematics\", \"ECE\", \"Electrical engineering\", \"Electronics and communication Engineering (B.Tech)\", \"Electronics and telecommunication\", \"H.S passed\", \"M.SC. IN APPLIED MATHEMATICS\", \"M.Sc in Mathematics\", \"M.sc\", \"M.sc Mathematics\"], \"type\": \"bar\", \"x\": [\"Honors (BSC/MSC)\", \"Engineering\", \"others\", \"Mathematics\", \"Statistics\", \"Statistics \", \"B.Sc Statistics honours\", \"MATHEMATICS \", \"Math (H) \", \"Master of science in applied Mathematics\", \"Mechanical engineering\", \"MSc Mathematics\", \"MSc\", \"Mathematics \", \"Mathematics (MSC)\", \"Mathematics MSc.\", \"Mathematics honours \", \"Mca\", \"Mechanical\", \"Msc Mathematics \", \"Mechanical engineering \", \"Microbiology\", \"Msc in applied mathematics\", \"Msc. Mathematics\", \"Power\", \"Power engineering\", \"Power plant engineering\", \"Pure mathematics\", \"STATISTICS\", \"Statistics (H)\", \"Statistics Honours (B.Sc.)\", \"Statistics Honours Student\", \"Ststistics\", \"Studying M.sc in mathematics\", \"MSC IN MATHEMATICS\", \" LINEAR ALGEBRA IN MATHEMATICS\", \"MATHEMATICS\", \"Bsc. Statistics Honours Student(Final Year)\", \"Atrs\", \"B-tech (ECE 2'nd year)\", \"B-tech in ece\", \"B. Tech (Cse) \", \"B.Com (H)\", \"B.Sc\", \"B.sc in Statistics\", \"B.sc nursing\", \"B.tech (ECE)\", \"BCA\", \"Bsc physics honours \", \"Bsc(state )\", \"Bsc. Hons\", \"Btech 4th year on ECE department\", \"APPLIES MATHEMATICS\", \"Byech\", \"Civil Engineering\", \"Computer Science\", \"Computer science\", \"Did my graduation on mathematics\", \"ECE\", \"Electrical engineering\", \"Electronics and communication Engineering (B.Tech)\", \"Electronics and telecommunication\", \"H.S passed\", \"M.SC. IN APPLIED MATHEMATICS\", \"M.Sc in Mathematics\", \"M.sc\", \"M.sc Mathematics\"], \"y\": [69, 30, 23, 4, 4, 2, 2, 2, 1, 1, 1, 1, 1, 1, 1, 1, 1, 1, 1, 1, 1, 1, 1, 1, 1, 1, 1, 1, 1, 1, 1, 1, 1, 1, 1, 1, 1, 1, 1, 1, 1, 1, 1, 1, 1, 1, 1, 1, 1, 1, 1, 1, 1, 1, 1, 1, 1, 1, 1, 1, 1, 1, 1, 1, 1, 1, 1]}],                        {\"hovermode\": \"closest\", \"paper_bgcolor\": \"rgba(0, 0, 0, 0)\", \"plot_bgcolor\": \"rgba(0, 0, 0, 0)\", \"template\": {\"data\": {\"bar\": [{\"error_x\": {\"color\": \"#2a3f5f\"}, \"error_y\": {\"color\": \"#2a3f5f\"}, \"marker\": {\"line\": {\"color\": \"#E5ECF6\", \"width\": 0.5}}, \"type\": \"bar\"}], \"barpolar\": [{\"marker\": {\"line\": {\"color\": \"#E5ECF6\", \"width\": 0.5}}, \"type\": \"barpolar\"}], \"carpet\": [{\"aaxis\": {\"endlinecolor\": \"#2a3f5f\", \"gridcolor\": \"white\", \"linecolor\": \"white\", \"minorgridcolor\": \"white\", \"startlinecolor\": \"#2a3f5f\"}, \"baxis\": {\"endlinecolor\": \"#2a3f5f\", \"gridcolor\": \"white\", \"linecolor\": \"white\", \"minorgridcolor\": \"white\", \"startlinecolor\": \"#2a3f5f\"}, \"type\": \"carpet\"}], \"choropleth\": [{\"colorbar\": {\"outlinewidth\": 0, \"ticks\": \"\"}, \"type\": \"choropleth\"}], \"contour\": [{\"colorbar\": {\"outlinewidth\": 0, \"ticks\": \"\"}, \"colorscale\": [[0.0, \"#0d0887\"], [0.1111111111111111, \"#46039f\"], [0.2222222222222222, \"#7201a8\"], [0.3333333333333333, \"#9c179e\"], [0.4444444444444444, \"#bd3786\"], [0.5555555555555556, \"#d8576b\"], [0.6666666666666666, \"#ed7953\"], [0.7777777777777778, \"#fb9f3a\"], [0.8888888888888888, \"#fdca26\"], [1.0, \"#f0f921\"]], \"type\": \"contour\"}], \"contourcarpet\": [{\"colorbar\": {\"outlinewidth\": 0, \"ticks\": \"\"}, \"type\": \"contourcarpet\"}], \"heatmap\": [{\"colorbar\": {\"outlinewidth\": 0, \"ticks\": \"\"}, \"colorscale\": [[0.0, \"#0d0887\"], [0.1111111111111111, \"#46039f\"], [0.2222222222222222, \"#7201a8\"], [0.3333333333333333, \"#9c179e\"], [0.4444444444444444, \"#bd3786\"], [0.5555555555555556, \"#d8576b\"], [0.6666666666666666, \"#ed7953\"], [0.7777777777777778, \"#fb9f3a\"], [0.8888888888888888, \"#fdca26\"], [1.0, \"#f0f921\"]], \"type\": \"heatmap\"}], \"heatmapgl\": [{\"colorbar\": {\"outlinewidth\": 0, \"ticks\": \"\"}, \"colorscale\": [[0.0, \"#0d0887\"], [0.1111111111111111, \"#46039f\"], [0.2222222222222222, \"#7201a8\"], [0.3333333333333333, \"#9c179e\"], [0.4444444444444444, \"#bd3786\"], [0.5555555555555556, \"#d8576b\"], [0.6666666666666666, \"#ed7953\"], [0.7777777777777778, \"#fb9f3a\"], [0.8888888888888888, \"#fdca26\"], [1.0, \"#f0f921\"]], \"type\": \"heatmapgl\"}], \"histogram\": [{\"marker\": {\"colorbar\": {\"outlinewidth\": 0, \"ticks\": \"\"}}, \"type\": \"histogram\"}], \"histogram2d\": [{\"colorbar\": {\"outlinewidth\": 0, \"ticks\": \"\"}, \"colorscale\": [[0.0, \"#0d0887\"], [0.1111111111111111, \"#46039f\"], [0.2222222222222222, \"#7201a8\"], [0.3333333333333333, \"#9c179e\"], [0.4444444444444444, \"#bd3786\"], [0.5555555555555556, \"#d8576b\"], [0.6666666666666666, \"#ed7953\"], [0.7777777777777778, \"#fb9f3a\"], [0.8888888888888888, \"#fdca26\"], [1.0, \"#f0f921\"]], \"type\": \"histogram2d\"}], \"histogram2dcontour\": [{\"colorbar\": {\"outlinewidth\": 0, \"ticks\": \"\"}, \"colorscale\": [[0.0, \"#0d0887\"], [0.1111111111111111, \"#46039f\"], [0.2222222222222222, \"#7201a8\"], [0.3333333333333333, \"#9c179e\"], [0.4444444444444444, \"#bd3786\"], [0.5555555555555556, \"#d8576b\"], [0.6666666666666666, \"#ed7953\"], [0.7777777777777778, \"#fb9f3a\"], [0.8888888888888888, \"#fdca26\"], [1.0, \"#f0f921\"]], \"type\": \"histogram2dcontour\"}], \"mesh3d\": [{\"colorbar\": {\"outlinewidth\": 0, \"ticks\": \"\"}, \"type\": \"mesh3d\"}], \"parcoords\": [{\"line\": {\"colorbar\": {\"outlinewidth\": 0, \"ticks\": \"\"}}, \"type\": \"parcoords\"}], \"pie\": [{\"automargin\": true, \"type\": \"pie\"}], \"scatter\": [{\"marker\": {\"colorbar\": {\"outlinewidth\": 0, \"ticks\": \"\"}}, \"type\": \"scatter\"}], \"scatter3d\": [{\"line\": {\"colorbar\": {\"outlinewidth\": 0, \"ticks\": \"\"}}, \"marker\": {\"colorbar\": {\"outlinewidth\": 0, \"ticks\": \"\"}}, \"type\": \"scatter3d\"}], \"scattercarpet\": [{\"marker\": {\"colorbar\": {\"outlinewidth\": 0, \"ticks\": \"\"}}, \"type\": \"scattercarpet\"}], \"scattergeo\": [{\"marker\": {\"colorbar\": {\"outlinewidth\": 0, \"ticks\": \"\"}}, \"type\": \"scattergeo\"}], \"scattergl\": [{\"marker\": {\"colorbar\": {\"outlinewidth\": 0, \"ticks\": \"\"}}, \"type\": \"scattergl\"}], \"scattermapbox\": [{\"marker\": {\"colorbar\": {\"outlinewidth\": 0, \"ticks\": \"\"}}, \"type\": \"scattermapbox\"}], \"scatterpolar\": [{\"marker\": {\"colorbar\": {\"outlinewidth\": 0, \"ticks\": \"\"}}, \"type\": \"scatterpolar\"}], \"scatterpolargl\": [{\"marker\": {\"colorbar\": {\"outlinewidth\": 0, \"ticks\": \"\"}}, \"type\": \"scatterpolargl\"}], \"scatterternary\": [{\"marker\": {\"colorbar\": {\"outlinewidth\": 0, \"ticks\": \"\"}}, \"type\": \"scatterternary\"}], \"surface\": [{\"colorbar\": {\"outlinewidth\": 0, \"ticks\": \"\"}, \"colorscale\": [[0.0, \"#0d0887\"], [0.1111111111111111, \"#46039f\"], [0.2222222222222222, \"#7201a8\"], [0.3333333333333333, \"#9c179e\"], [0.4444444444444444, \"#bd3786\"], [0.5555555555555556, \"#d8576b\"], [0.6666666666666666, \"#ed7953\"], [0.7777777777777778, \"#fb9f3a\"], [0.8888888888888888, \"#fdca26\"], [1.0, \"#f0f921\"]], \"type\": \"surface\"}], \"table\": [{\"cells\": {\"fill\": {\"color\": \"#EBF0F8\"}, \"line\": {\"color\": \"white\"}}, \"header\": {\"fill\": {\"color\": \"#C8D4E3\"}, \"line\": {\"color\": \"white\"}}, \"type\": \"table\"}]}, \"layout\": {\"annotationdefaults\": {\"arrowcolor\": \"#2a3f5f\", \"arrowhead\": 0, \"arrowwidth\": 1}, \"autotypenumbers\": \"strict\", \"coloraxis\": {\"colorbar\": {\"outlinewidth\": 0, \"ticks\": \"\"}}, \"colorscale\": {\"diverging\": [[0, \"#8e0152\"], [0.1, \"#c51b7d\"], [0.2, \"#de77ae\"], [0.3, \"#f1b6da\"], [0.4, \"#fde0ef\"], [0.5, \"#f7f7f7\"], [0.6, \"#e6f5d0\"], [0.7, \"#b8e186\"], [0.8, \"#7fbc41\"], [0.9, \"#4d9221\"], [1, \"#276419\"]], \"sequential\": [[0.0, \"#0d0887\"], [0.1111111111111111, \"#46039f\"], [0.2222222222222222, \"#7201a8\"], [0.3333333333333333, \"#9c179e\"], [0.4444444444444444, \"#bd3786\"], [0.5555555555555556, \"#d8576b\"], [0.6666666666666666, \"#ed7953\"], [0.7777777777777778, \"#fb9f3a\"], [0.8888888888888888, \"#fdca26\"], [1.0, \"#f0f921\"]], \"sequentialminus\": [[0.0, \"#0d0887\"], [0.1111111111111111, \"#46039f\"], [0.2222222222222222, \"#7201a8\"], [0.3333333333333333, \"#9c179e\"], [0.4444444444444444, \"#bd3786\"], [0.5555555555555556, \"#d8576b\"], [0.6666666666666666, \"#ed7953\"], [0.7777777777777778, \"#fb9f3a\"], [0.8888888888888888, \"#fdca26\"], [1.0, \"#f0f921\"]]}, \"colorway\": [\"#636efa\", \"#EF553B\", \"#00cc96\", \"#ab63fa\", \"#FFA15A\", \"#19d3f3\", \"#FF6692\", \"#B6E880\", \"#FF97FF\", \"#FECB52\"], \"font\": {\"color\": \"#2a3f5f\"}, \"geo\": {\"bgcolor\": \"white\", \"lakecolor\": \"white\", \"landcolor\": \"#E5ECF6\", \"showlakes\": true, \"showland\": true, \"subunitcolor\": \"white\"}, \"hoverlabel\": {\"align\": \"left\"}, \"hovermode\": \"closest\", \"mapbox\": {\"style\": \"light\"}, \"paper_bgcolor\": \"white\", \"plot_bgcolor\": \"#E5ECF6\", \"polar\": {\"angularaxis\": {\"gridcolor\": \"white\", \"linecolor\": \"white\", \"ticks\": \"\"}, \"bgcolor\": \"#E5ECF6\", \"radialaxis\": {\"gridcolor\": \"white\", \"linecolor\": \"white\", \"ticks\": \"\"}}, \"scene\": {\"xaxis\": {\"backgroundcolor\": \"#E5ECF6\", \"gridcolor\": \"white\", \"gridwidth\": 2, \"linecolor\": \"white\", \"showbackground\": true, \"ticks\": \"\", \"zerolinecolor\": \"white\"}, \"yaxis\": {\"backgroundcolor\": \"#E5ECF6\", \"gridcolor\": \"white\", \"gridwidth\": 2, \"linecolor\": \"white\", \"showbackground\": true, \"ticks\": \"\", \"zerolinecolor\": \"white\"}, \"zaxis\": {\"backgroundcolor\": \"#E5ECF6\", \"gridcolor\": \"white\", \"gridwidth\": 2, \"linecolor\": \"white\", \"showbackground\": true, \"ticks\": \"\", \"zerolinecolor\": \"white\"}}, \"shapedefaults\": {\"line\": {\"color\": \"#2a3f5f\"}}, \"ternary\": {\"aaxis\": {\"gridcolor\": \"white\", \"linecolor\": \"white\", \"ticks\": \"\"}, \"baxis\": {\"gridcolor\": \"white\", \"linecolor\": \"white\", \"ticks\": \"\"}, \"bgcolor\": \"#E5ECF6\", \"caxis\": {\"gridcolor\": \"white\", \"linecolor\": \"white\", \"ticks\": \"\"}}, \"title\": {\"x\": 0.05}, \"xaxis\": {\"automargin\": true, \"gridcolor\": \"white\", \"linecolor\": \"white\", \"ticks\": \"\", \"title\": {\"standoff\": 15}, \"zerolinecolor\": \"white\", \"zerolinewidth\": 2}, \"yaxis\": {\"automargin\": true, \"gridcolor\": \"white\", \"linecolor\": \"white\", \"ticks\": \"\", \"title\": {\"standoff\": 15}, \"zerolinecolor\": \"white\", \"zerolinewidth\": 2}}}, \"title\": {\"text\": \"Free Session total Student from Department with no laptop \"}, \"xaxis\": {\"linecolor\": \"black\", \"linewidth\": 2, \"mirror\": true, \"showline\": true, \"showticklabels\": true, \"tickangle\": 45, \"tickfont\": {\"color\": \"red\", \"size\": 12}, \"title\": {\"text\": \"Department Name\"}, \"zeroline\": true, \"zerolinecolor\": \"grey\", \"zerolinewidth\": 1}, \"yaxis\": {\"gridcolor\": \"lightgrey\", \"linecolor\": \"black\", \"linewidth\": 2, \"mirror\": true, \"showline\": true, \"title\": {\"text\": \"Total Students\"}, \"zeroline\": true, \"zerolinecolor\": \"grey\", \"zerolinewidth\": 1}},                        {\"responsive\": true}                    ).then(function(){\n",
       "                            \n",
       "var gd = document.getElementById('f7cba815-a49c-44b0-83d2-189007ab247f');\n",
       "var x = new MutationObserver(function (mutations, observer) {{\n",
       "        var display = window.getComputedStyle(gd).display;\n",
       "        if (!display || display === 'none') {{\n",
       "            console.log([gd, 'removed!']);\n",
       "            Plotly.purge(gd);\n",
       "            observer.disconnect();\n",
       "        }}\n",
       "}});\n",
       "\n",
       "// Listen for the removal of the full notebook cells\n",
       "var notebookContainer = gd.closest('#notebook-container');\n",
       "if (notebookContainer) {{\n",
       "    x.observe(notebookContainer, {childList: true});\n",
       "}}\n",
       "\n",
       "// Listen for the clearing of the current output cell\n",
       "var outputEl = gd.closest('.output');\n",
       "if (outputEl) {{\n",
       "    x.observe(outputEl, {childList: true});\n",
       "}}\n",
       "\n",
       "                        })                };                });            </script>        </div>"
      ]
     },
     "metadata": {},
     "output_type": "display_data"
    }
   ],
   "source": [
    "draw_trace_bar_laptop(no_laptop_dept,'Department','no_laptop_count','Free Session total Student from Department with no laptop ', 'Department Name','Total Students',\"lightgreen\")"
   ]
  },
  {
   "cell_type": "markdown",
   "metadata": {},
   "source": [
    "# Find out all types of source of communication. Show which type is the winner. (visualize them) (from free session dataset)"
   ]
  },
  {
   "cell_type": "code",
   "execution_count": 153,
   "metadata": {},
   "outputs": [
    {
     "data": {
      "text/html": [
       "<div>\n",
       "<style scoped>\n",
       "    .dataframe tbody tr th:only-of-type {\n",
       "        vertical-align: middle;\n",
       "    }\n",
       "\n",
       "    .dataframe tbody tr th {\n",
       "        vertical-align: top;\n",
       "    }\n",
       "\n",
       "    .dataframe thead th {\n",
       "        text-align: right;\n",
       "    }\n",
       "</style>\n",
       "<table border=\"1\" class=\"dataframe\">\n",
       "  <thead>\n",
       "    <tr style=\"text-align: right;\">\n",
       "      <th></th>\n",
       "      <th>Unnamed: 0</th>\n",
       "      <th>Time Stamp</th>\n",
       "      <th>Name</th>\n",
       "      <th>Contact</th>\n",
       "      <th>Email</th>\n",
       "      <th>College</th>\n",
       "      <th>Department</th>\n",
       "      <th>HavingLaptop</th>\n",
       "      <th>Source</th>\n",
       "      <th>Country</th>\n",
       "    </tr>\n",
       "  </thead>\n",
       "  <tbody>\n",
       "    <tr>\n",
       "      <th>1</th>\n",
       "      <td>1</td>\n",
       "      <td>8/24/2020 10:08:54</td>\n",
       "      <td>Abdullah</td>\n",
       "      <td>NaN</td>\n",
       "      <td>sharif3abdullah@gmail.com</td>\n",
       "      <td>IIT</td>\n",
       "      <td>Engineering</td>\n",
       "      <td>NaN</td>\n",
       "      <td>NaN</td>\n",
       "      <td>Bangladesh</td>\n",
       "    </tr>\n",
       "    <tr>\n",
       "      <th>2</th>\n",
       "      <td>2</td>\n",
       "      <td>8/24/2020 9:20:28</td>\n",
       "      <td>Abdullah Bin Murad</td>\n",
       "      <td>01552443554</td>\n",
       "      <td>abmrifat54@gmail.com</td>\n",
       "      <td>Shahjalal University of Science and Technology</td>\n",
       "      <td>Engineering</td>\n",
       "      <td>Yes</td>\n",
       "      <td>NaN</td>\n",
       "      <td>Bangladesh</td>\n",
       "    </tr>\n",
       "    <tr>\n",
       "      <th>4</th>\n",
       "      <td>4</td>\n",
       "      <td>7/10/2020 13:56:14</td>\n",
       "      <td>Abhipreeti Acharjee</td>\n",
       "      <td>8274839744</td>\n",
       "      <td>deepamandal007@gmail.com</td>\n",
       "      <td>DEPARTMENT OF PURE MATHEMATICS, UNIVERSITY OF ...</td>\n",
       "      <td>PURE MATHEMATICS</td>\n",
       "      <td>Yes</td>\n",
       "      <td>NaN</td>\n",
       "      <td>India</td>\n",
       "    </tr>\n",
       "    <tr>\n",
       "      <th>13</th>\n",
       "      <td>13</td>\n",
       "      <td>8/24/2020 18:28:59</td>\n",
       "      <td>Abu Nadif</td>\n",
       "      <td>01730011811</td>\n",
       "      <td>abunadif141414@gmail.com</td>\n",
       "      <td>AIUB</td>\n",
       "      <td>Engineering</td>\n",
       "      <td>Yes</td>\n",
       "      <td>NaN</td>\n",
       "      <td>Bangladesh</td>\n",
       "    </tr>\n",
       "    <tr>\n",
       "      <th>21</th>\n",
       "      <td>21</td>\n",
       "      <td>7/26/2020 20:25:34</td>\n",
       "      <td>Ajay Kumar Srivastva</td>\n",
       "      <td>7365842980</td>\n",
       "      <td>subhamsrivastava804@gmail.com</td>\n",
       "      <td>DIATM</td>\n",
       "      <td>CSE</td>\n",
       "      <td>Yes</td>\n",
       "      <td>NaN</td>\n",
       "      <td>India</td>\n",
       "    </tr>\n",
       "    <tr>\n",
       "      <th>...</th>\n",
       "      <td>...</td>\n",
       "      <td>...</td>\n",
       "      <td>...</td>\n",
       "      <td>...</td>\n",
       "      <td>...</td>\n",
       "      <td>...</td>\n",
       "      <td>...</td>\n",
       "      <td>...</td>\n",
       "      <td>...</td>\n",
       "      <td>...</td>\n",
       "    </tr>\n",
       "    <tr>\n",
       "      <th>963</th>\n",
       "      <td>963</td>\n",
       "      <td>1/22/2021 22:06:24</td>\n",
       "      <td>Ramanish Banerjee</td>\n",
       "      <td>8017179702</td>\n",
       "      <td>banerjeeramanish@gmail.com</td>\n",
       "      <td>MAULANA AZAD COLLEGE</td>\n",
       "      <td>Honors (BSC/MSC)</td>\n",
       "      <td>Yes</td>\n",
       "      <td>NaN</td>\n",
       "      <td>NaN</td>\n",
       "    </tr>\n",
       "    <tr>\n",
       "      <th>964</th>\n",
       "      <td>964</td>\n",
       "      <td>1/22/2021 22:46:21</td>\n",
       "      <td>Jinia Banerjee</td>\n",
       "      <td>6289719175</td>\n",
       "      <td>jiniabanerjee9727@gmail.com</td>\n",
       "      <td>Maulona Azad College</td>\n",
       "      <td>Honors (BSC/MSC)</td>\n",
       "      <td>No</td>\n",
       "      <td>NaN</td>\n",
       "      <td>NaN</td>\n",
       "    </tr>\n",
       "    <tr>\n",
       "      <th>965</th>\n",
       "      <td>965</td>\n",
       "      <td>1/23/2021 10:57:08</td>\n",
       "      <td>Md Safiqul Islam</td>\n",
       "      <td>8250955315</td>\n",
       "      <td>safiqulislam6006@gmail.com</td>\n",
       "      <td>Maulana Azad College</td>\n",
       "      <td>Honors (BSC/MSC)</td>\n",
       "      <td>Yes</td>\n",
       "      <td>NaN</td>\n",
       "      <td>NaN</td>\n",
       "    </tr>\n",
       "    <tr>\n",
       "      <th>966</th>\n",
       "      <td>966</td>\n",
       "      <td>1/23/2021 12:27:32</td>\n",
       "      <td>Soumojit Chatterjee</td>\n",
       "      <td>8101726672</td>\n",
       "      <td>imsoumojit@yahoo.com</td>\n",
       "      <td>Maulana Azad College</td>\n",
       "      <td>Honors (BSC/MSC)</td>\n",
       "      <td>Yes</td>\n",
       "      <td>NaN</td>\n",
       "      <td>NaN</td>\n",
       "    </tr>\n",
       "    <tr>\n",
       "      <th>967</th>\n",
       "      <td>967</td>\n",
       "      <td>1/23/2021 17:37:35</td>\n",
       "      <td>Debanjan Bhattacharjee</td>\n",
       "      <td>6290909245</td>\n",
       "      <td>debanjanbhattacharjee2002@gmail.com</td>\n",
       "      <td>Maulana Azad College</td>\n",
       "      <td>Honors (BSC/MSC)</td>\n",
       "      <td>Yes</td>\n",
       "      <td>NaN</td>\n",
       "      <td>NaN</td>\n",
       "    </tr>\n",
       "  </tbody>\n",
       "</table>\n",
       "<p>515 rows × 10 columns</p>\n",
       "</div>"
      ],
      "text/plain": [
       "     Unnamed: 0         Time Stamp                     Name      Contact  \\\n",
       "1             1  8/24/2020 10:08:54                Abdullah          NaN   \n",
       "2             2   8/24/2020 9:20:28    Abdullah Bin Murad    01552443554   \n",
       "4             4  7/10/2020 13:56:14     Abhipreeti Acharjee   8274839744   \n",
       "13           13  8/24/2020 18:28:59               Abu Nadif  01730011811   \n",
       "21           21  7/26/2020 20:25:34    Ajay Kumar Srivastva   7365842980   \n",
       "..          ...                 ...                     ...          ...   \n",
       "963         963  1/22/2021 22:06:24       Ramanish Banerjee   8017179702   \n",
       "964         964  1/22/2021 22:46:21          Jinia Banerjee   6289719175   \n",
       "965         965  1/23/2021 10:57:08        Md Safiqul Islam   8250955315   \n",
       "966         966  1/23/2021 12:27:32     Soumojit Chatterjee   8101726672   \n",
       "967         967  1/23/2021 17:37:35  Debanjan Bhattacharjee   6290909245   \n",
       "\n",
       "                                   Email  \\\n",
       "1              sharif3abdullah@gmail.com   \n",
       "2                   abmrifat54@gmail.com   \n",
       "4               deepamandal007@gmail.com   \n",
       "13              abunadif141414@gmail.com   \n",
       "21         subhamsrivastava804@gmail.com   \n",
       "..                                   ...   \n",
       "963           banerjeeramanish@gmail.com   \n",
       "964          jiniabanerjee9727@gmail.com   \n",
       "965           safiqulislam6006@gmail.com   \n",
       "966                 imsoumojit@yahoo.com   \n",
       "967  debanjanbhattacharjee2002@gmail.com   \n",
       "\n",
       "                                               College        Department  \\\n",
       "1                                                  IIT       Engineering   \n",
       "2       Shahjalal University of Science and Technology       Engineering   \n",
       "4    DEPARTMENT OF PURE MATHEMATICS, UNIVERSITY OF ...  PURE MATHEMATICS   \n",
       "13                                                AIUB       Engineering   \n",
       "21                                               DIATM               CSE   \n",
       "..                                                 ...               ...   \n",
       "963                               MAULANA AZAD COLLEGE  Honors (BSC/MSC)   \n",
       "964                               Maulona Azad College  Honors (BSC/MSC)   \n",
       "965                               Maulana Azad College  Honors (BSC/MSC)   \n",
       "966                               Maulana Azad College  Honors (BSC/MSC)   \n",
       "967                               Maulana Azad College  Honors (BSC/MSC)   \n",
       "\n",
       "    HavingLaptop Source     Country  \n",
       "1            NaN    NaN  Bangladesh  \n",
       "2            Yes    NaN  Bangladesh  \n",
       "4            Yes    NaN       India  \n",
       "13           Yes    NaN  Bangladesh  \n",
       "21           Yes    NaN       India  \n",
       "..           ...    ...         ...  \n",
       "963          Yes    NaN         NaN  \n",
       "964           No    NaN         NaN  \n",
       "965          Yes    NaN         NaN  \n",
       "966          Yes    NaN         NaN  \n",
       "967          Yes    NaN         NaN  \n",
       "\n",
       "[515 rows x 10 columns]"
      ]
     },
     "execution_count": 153,
     "metadata": {},
     "output_type": "execute_result"
    }
   ],
   "source": [
    "#visualaising the nan value of Source column\n",
    "df8[df8['Source'].isnull()]"
   ]
  },
  {
   "cell_type": "code",
   "execution_count": 154,
   "metadata": {},
   "outputs": [
    {
     "data": {
      "text/html": [
       "<div>\n",
       "<style scoped>\n",
       "    .dataframe tbody tr th:only-of-type {\n",
       "        vertical-align: middle;\n",
       "    }\n",
       "\n",
       "    .dataframe tbody tr th {\n",
       "        vertical-align: top;\n",
       "    }\n",
       "\n",
       "    .dataframe thead th {\n",
       "        text-align: right;\n",
       "    }\n",
       "</style>\n",
       "<table border=\"1\" class=\"dataframe\">\n",
       "  <thead>\n",
       "    <tr style=\"text-align: right;\">\n",
       "      <th></th>\n",
       "      <th>Unnamed: 0</th>\n",
       "      <th>Time Stamp</th>\n",
       "      <th>Name</th>\n",
       "      <th>Contact</th>\n",
       "      <th>Email</th>\n",
       "      <th>College</th>\n",
       "      <th>Department</th>\n",
       "      <th>HavingLaptop</th>\n",
       "      <th>Source</th>\n",
       "      <th>Country</th>\n",
       "    </tr>\n",
       "  </thead>\n",
       "  <tbody>\n",
       "    <tr>\n",
       "      <th>0</th>\n",
       "      <td>0</td>\n",
       "      <td>8/24/2020 17:01:39</td>\n",
       "      <td>A.S.M. Raquibul Hasan</td>\n",
       "      <td>01722577922</td>\n",
       "      <td>raquibul.nsu@gmail.com</td>\n",
       "      <td>United International University</td>\n",
       "      <td>others</td>\n",
       "      <td>Yes</td>\n",
       "      <td>Facebook</td>\n",
       "      <td>Bangladesh</td>\n",
       "    </tr>\n",
       "    <tr>\n",
       "      <th>3</th>\n",
       "      <td>3</td>\n",
       "      <td>7/28/2020 12:16:30</td>\n",
       "      <td>Abhijoy Mukherjee</td>\n",
       "      <td>7003206060</td>\n",
       "      <td>abhijoymukherjee01@gmail.com</td>\n",
       "      <td>Asutosh College</td>\n",
       "      <td>Statistics</td>\n",
       "      <td>Yes</td>\n",
       "      <td>Friend</td>\n",
       "      <td>India</td>\n",
       "    </tr>\n",
       "    <tr>\n",
       "      <th>5</th>\n",
       "      <td>5</td>\n",
       "      <td>7/28/2020 13:14:59</td>\n",
       "      <td>Abhiraj Bhattacharya</td>\n",
       "      <td>6289897311</td>\n",
       "      <td>abhattacharyya2001@gmail.com</td>\n",
       "      <td>Vivekananda College</td>\n",
       "      <td>B.Sc statistics</td>\n",
       "      <td>Yes</td>\n",
       "      <td>Friend</td>\n",
       "      <td>India</td>\n",
       "    </tr>\n",
       "    <tr>\n",
       "      <th>6</th>\n",
       "      <td>6</td>\n",
       "      <td>8/20/2020 11:18:50</td>\n",
       "      <td>Abhirup Boxi</td>\n",
       "      <td>9932801949</td>\n",
       "      <td>abhirupboxi99@gmail.com</td>\n",
       "      <td>Future institute of engineering and management</td>\n",
       "      <td>Engineering</td>\n",
       "      <td>Yes</td>\n",
       "      <td>Friend</td>\n",
       "      <td>India</td>\n",
       "    </tr>\n",
       "    <tr>\n",
       "      <th>7</th>\n",
       "      <td>7</td>\n",
       "      <td>6/24/2020 15:06:51</td>\n",
       "      <td>Abhisek biswas</td>\n",
       "      <td>NaN</td>\n",
       "      <td>amitsrivastav445@gmail.com</td>\n",
       "      <td>J.K College</td>\n",
       "      <td>B.Com (H)</td>\n",
       "      <td>No</td>\n",
       "      <td>Rohan Rakshit</td>\n",
       "      <td>India</td>\n",
       "    </tr>\n",
       "    <tr>\n",
       "      <th>...</th>\n",
       "      <td>...</td>\n",
       "      <td>...</td>\n",
       "      <td>...</td>\n",
       "      <td>...</td>\n",
       "      <td>...</td>\n",
       "      <td>...</td>\n",
       "      <td>...</td>\n",
       "      <td>...</td>\n",
       "      <td>...</td>\n",
       "      <td>...</td>\n",
       "    </tr>\n",
       "    <tr>\n",
       "      <th>518</th>\n",
       "      <td>518</td>\n",
       "      <td>9/18/2020 12:49:50</td>\n",
       "      <td>Subarna Kar</td>\n",
       "      <td>9614655512</td>\n",
       "      <td>subarnakar1122@gmail.com</td>\n",
       "      <td>B.P Poddar Institute of Management and Technology</td>\n",
       "      <td>others</td>\n",
       "      <td>Yes</td>\n",
       "      <td>College</td>\n",
       "      <td>NaN</td>\n",
       "    </tr>\n",
       "    <tr>\n",
       "      <th>519</th>\n",
       "      <td>519</td>\n",
       "      <td>9/18/2020 12:20:26</td>\n",
       "      <td>Subhashree Saha</td>\n",
       "      <td>8910529117</td>\n",
       "      <td>subhashree552000@gmail.com</td>\n",
       "      <td>Bethune college</td>\n",
       "      <td>Honors (BSC/MSC)</td>\n",
       "      <td>Yes</td>\n",
       "      <td>Friends</td>\n",
       "      <td>NaN</td>\n",
       "    </tr>\n",
       "    <tr>\n",
       "      <th>521</th>\n",
       "      <td>521</td>\n",
       "      <td>9/18/2020 20:06:47</td>\n",
       "      <td>Sujit Ghosh</td>\n",
       "      <td>7631143747</td>\n",
       "      <td>ghoshsujit075@gmail.com</td>\n",
       "      <td>B.P.PODDAR INSTITUTE OF MANAGEMENT AND TECHNOLOGY</td>\n",
       "      <td>others</td>\n",
       "      <td>Yes</td>\n",
       "      <td>College</td>\n",
       "      <td>NaN</td>\n",
       "    </tr>\n",
       "    <tr>\n",
       "      <th>523</th>\n",
       "      <td>523</td>\n",
       "      <td>9/18/2020 11:53:52</td>\n",
       "      <td>Susmita Saha</td>\n",
       "      <td>8906420700</td>\n",
       "      <td>susmita.saha1126@gmail.com</td>\n",
       "      <td>Bp Poddar Institute of management and technology</td>\n",
       "      <td>others</td>\n",
       "      <td>Yes</td>\n",
       "      <td>Department</td>\n",
       "      <td>NaN</td>\n",
       "    </tr>\n",
       "    <tr>\n",
       "      <th>525</th>\n",
       "      <td>525</td>\n",
       "      <td>9/18/2020 12:19:20</td>\n",
       "      <td>Tamali Basak</td>\n",
       "      <td>8777205197</td>\n",
       "      <td>tamalibasak89@gmail.com</td>\n",
       "      <td>B P PODDAR INSTITUTE OF MANAGEMENT AND TECHNOLOGY</td>\n",
       "      <td>others</td>\n",
       "      <td>Yes</td>\n",
       "      <td>I got to know about this from my college's ma'am.</td>\n",
       "      <td>NaN</td>\n",
       "    </tr>\n",
       "  </tbody>\n",
       "</table>\n",
       "<p>432 rows × 10 columns</p>\n",
       "</div>"
      ],
      "text/plain": [
       "     Unnamed: 0         Time Stamp                     Name      Contact  \\\n",
       "0             0  8/24/2020 17:01:39  A.S.M. Raquibul Hasan   01722577922   \n",
       "3             3  7/28/2020 12:16:30       Abhijoy Mukherjee   7003206060   \n",
       "5             5  7/28/2020 13:14:59    Abhiraj Bhattacharya   6289897311   \n",
       "6             6  8/20/2020 11:18:50            Abhirup Boxi   9932801949   \n",
       "7             7  6/24/2020 15:06:51          Abhisek biswas          NaN   \n",
       "..          ...                 ...                     ...          ...   \n",
       "518         518  9/18/2020 12:49:50             Subarna Kar   9614655512   \n",
       "519         519  9/18/2020 12:20:26         Subhashree Saha   8910529117   \n",
       "521         521  9/18/2020 20:06:47             Sujit Ghosh   7631143747   \n",
       "523         523  9/18/2020 11:53:52            Susmita Saha   8906420700   \n",
       "525         525  9/18/2020 12:19:20            Tamali Basak   8777205197   \n",
       "\n",
       "                            Email  \\\n",
       "0          raquibul.nsu@gmail.com   \n",
       "3    abhijoymukherjee01@gmail.com   \n",
       "5    abhattacharyya2001@gmail.com   \n",
       "6         abhirupboxi99@gmail.com   \n",
       "7      amitsrivastav445@gmail.com   \n",
       "..                            ...   \n",
       "518      subarnakar1122@gmail.com   \n",
       "519    subhashree552000@gmail.com   \n",
       "521       ghoshsujit075@gmail.com   \n",
       "523    susmita.saha1126@gmail.com   \n",
       "525       tamalibasak89@gmail.com   \n",
       "\n",
       "                                               College        Department  \\\n",
       "0                     United International University             others   \n",
       "3                                      Asutosh College        Statistics   \n",
       "5                                  Vivekananda College   B.Sc statistics   \n",
       "6       Future institute of engineering and management       Engineering   \n",
       "7                                          J.K College         B.Com (H)   \n",
       "..                                                 ...               ...   \n",
       "518  B.P Poddar Institute of Management and Technology            others   \n",
       "519                                    Bethune college  Honors (BSC/MSC)   \n",
       "521  B.P.PODDAR INSTITUTE OF MANAGEMENT AND TECHNOLOGY            others   \n",
       "523   Bp Poddar Institute of management and technology            others   \n",
       "525  B P PODDAR INSTITUTE OF MANAGEMENT AND TECHNOLOGY            others   \n",
       "\n",
       "    HavingLaptop                                             Source  \\\n",
       "0            Yes                                          Facebook    \n",
       "3            Yes                                             Friend   \n",
       "5            Yes                                             Friend   \n",
       "6            Yes                                             Friend   \n",
       "7             No                                      Rohan Rakshit   \n",
       "..           ...                                                ...   \n",
       "518          Yes                                            College   \n",
       "519          Yes                                            Friends   \n",
       "521          Yes                                            College   \n",
       "523          Yes                                         Department   \n",
       "525          Yes  I got to know about this from my college's ma'am.   \n",
       "\n",
       "        Country  \n",
       "0    Bangladesh  \n",
       "3         India  \n",
       "5         India  \n",
       "6         India  \n",
       "7         India  \n",
       "..          ...  \n",
       "518         NaN  \n",
       "519         NaN  \n",
       "521         NaN  \n",
       "523         NaN  \n",
       "525         NaN  \n",
       "\n",
       "[432 rows x 10 columns]"
      ]
     },
     "execution_count": 154,
     "metadata": {},
     "output_type": "execute_result"
    }
   ],
   "source": [
    "#Removing nan value for source of communication\n",
    "df_c = df8.dropna(subset=['Source'])\n",
    "df_c"
   ]
  },
  {
   "cell_type": "code",
   "execution_count": 155,
   "metadata": {},
   "outputs": [
    {
     "data": {
      "text/html": [
       "<div>\n",
       "<style scoped>\n",
       "    .dataframe tbody tr th:only-of-type {\n",
       "        vertical-align: middle;\n",
       "    }\n",
       "\n",
       "    .dataframe tbody tr th {\n",
       "        vertical-align: top;\n",
       "    }\n",
       "\n",
       "    .dataframe thead th {\n",
       "        text-align: right;\n",
       "    }\n",
       "</style>\n",
       "<table border=\"1\" class=\"dataframe\">\n",
       "  <thead>\n",
       "    <tr style=\"text-align: right;\">\n",
       "      <th></th>\n",
       "      <th>Source</th>\n",
       "      <th>Source_count</th>\n",
       "    </tr>\n",
       "  </thead>\n",
       "  <tbody>\n",
       "    <tr>\n",
       "      <th>0</th>\n",
       "      <td>college Senior</td>\n",
       "      <td>1</td>\n",
       "    </tr>\n",
       "    <tr>\n",
       "      <th>1</th>\n",
       "      <td>A Friend</td>\n",
       "      <td>1</td>\n",
       "    </tr>\n",
       "    <tr>\n",
       "      <th>2</th>\n",
       "      <td>A friend</td>\n",
       "      <td>2</td>\n",
       "    </tr>\n",
       "    <tr>\n",
       "      <th>3</th>\n",
       "      <td>A status was posted by a senior of my dept.See...</td>\n",
       "      <td>1</td>\n",
       "    </tr>\n",
       "    <tr>\n",
       "      <th>4</th>\n",
       "      <td>A whatsapp group</td>\n",
       "      <td>1</td>\n",
       "    </tr>\n",
       "    <tr>\n",
       "      <th>...</th>\n",
       "      <td>...</td>\n",
       "      <td>...</td>\n",
       "    </tr>\n",
       "    <tr>\n",
       "      <th>206</th>\n",
       "      <td>friend</td>\n",
       "      <td>4</td>\n",
       "    </tr>\n",
       "    <tr>\n",
       "      <th>207</th>\n",
       "      <td>friends</td>\n",
       "      <td>1</td>\n",
       "    </tr>\n",
       "    <tr>\n",
       "      <th>208</th>\n",
       "      <td>newspaper</td>\n",
       "      <td>1</td>\n",
       "    </tr>\n",
       "    <tr>\n",
       "      <th>209</th>\n",
       "      <td>whatapp group</td>\n",
       "      <td>1</td>\n",
       "    </tr>\n",
       "    <tr>\n",
       "      <th>210</th>\n",
       "      <td>whatsapp group</td>\n",
       "      <td>1</td>\n",
       "    </tr>\n",
       "  </tbody>\n",
       "</table>\n",
       "<p>211 rows × 2 columns</p>\n",
       "</div>"
      ],
      "text/plain": [
       "                                                Source  Source_count\n",
       "0                                       college Senior             1\n",
       "1                                             A Friend             1\n",
       "2                                             A friend             2\n",
       "3    A status was posted by a senior of my dept.See...             1\n",
       "4                                     A whatsapp group             1\n",
       "..                                                 ...           ...\n",
       "206                                             friend             4\n",
       "207                                            friends             1\n",
       "208                                         newspaper              1\n",
       "209                                      whatapp group             1\n",
       "210                                    whatsapp group              1\n",
       "\n",
       "[211 rows x 2 columns]"
      ]
     },
     "execution_count": 155,
     "metadata": {},
     "output_type": "execute_result"
    }
   ],
   "source": [
    "Communication_Source = df_c.groupby('Source')['Source'].agg('count')\n",
    "Communication_Source1= pd.DataFrame(Communication_Source)\n",
    "Communication_Source1.rename(columns={\"Source\": \"Source_count\"},inplace=True)\n",
    "Communication_Source1.reset_index(inplace=True)\n",
    "Communication_Source1"
   ]
  },
  {
   "cell_type": "code",
   "execution_count": 157,
   "metadata": {},
   "outputs": [
    {
     "data": {
      "text/html": [
       "<div>\n",
       "<style scoped>\n",
       "    .dataframe tbody tr th:only-of-type {\n",
       "        vertical-align: middle;\n",
       "    }\n",
       "\n",
       "    .dataframe tbody tr th {\n",
       "        vertical-align: top;\n",
       "    }\n",
       "\n",
       "    .dataframe thead th {\n",
       "        text-align: right;\n",
       "    }\n",
       "</style>\n",
       "<table border=\"1\" class=\"dataframe\">\n",
       "  <thead>\n",
       "    <tr style=\"text-align: right;\">\n",
       "      <th></th>\n",
       "      <th>Source</th>\n",
       "      <th>Source_count</th>\n",
       "    </tr>\n",
       "  </thead>\n",
       "  <tbody>\n",
       "    <tr>\n",
       "      <th>57</th>\n",
       "      <td>Friend</td>\n",
       "      <td>66</td>\n",
       "    </tr>\n",
       "    <tr>\n",
       "      <th>11</th>\n",
       "      <td>College</td>\n",
       "      <td>27</td>\n",
       "    </tr>\n",
       "    <tr>\n",
       "      <th>63</th>\n",
       "      <td>Friends</td>\n",
       "      <td>26</td>\n",
       "    </tr>\n",
       "    <tr>\n",
       "      <th>39</th>\n",
       "      <td>Facebook</td>\n",
       "      <td>18</td>\n",
       "    </tr>\n",
       "    <tr>\n",
       "      <th>193</th>\n",
       "      <td>Whatsapp</td>\n",
       "      <td>11</td>\n",
       "    </tr>\n",
       "    <tr>\n",
       "      <th>...</th>\n",
       "      <td>...</td>\n",
       "      <td>...</td>\n",
       "    </tr>\n",
       "    <tr>\n",
       "      <th>83</th>\n",
       "      <td>From varsity group</td>\n",
       "      <td>1</td>\n",
       "    </tr>\n",
       "    <tr>\n",
       "      <th>85</th>\n",
       "      <td>Ftiend</td>\n",
       "      <td>1</td>\n",
       "    </tr>\n",
       "    <tr>\n",
       "      <th>86</th>\n",
       "      <td>Get notified through friends</td>\n",
       "      <td>1</td>\n",
       "    </tr>\n",
       "    <tr>\n",
       "      <th>87</th>\n",
       "      <td>Group invite link</td>\n",
       "      <td>1</td>\n",
       "    </tr>\n",
       "    <tr>\n",
       "      <th>210</th>\n",
       "      <td>whatsapp group</td>\n",
       "      <td>1</td>\n",
       "    </tr>\n",
       "  </tbody>\n",
       "</table>\n",
       "<p>211 rows × 2 columns</p>\n",
       "</div>"
      ],
      "text/plain": [
       "                           Source  Source_count\n",
       "57                         Friend            66\n",
       "11                        College            27\n",
       "63                        Friends            26\n",
       "39                       Facebook            18\n",
       "193                      Whatsapp            11\n",
       "..                            ...           ...\n",
       "83            From varsity group              1\n",
       "85                         Ftiend             1\n",
       "86   Get notified through friends             1\n",
       "87              Group invite link             1\n",
       "210               whatsapp group              1\n",
       "\n",
       "[211 rows x 2 columns]"
      ]
     },
     "execution_count": 157,
     "metadata": {},
     "output_type": "execute_result"
    }
   ],
   "source": [
    "Communication_Source1.sort_values(\"Source_count\", ascending=False)"
   ]
  },
  {
   "cell_type": "code",
   "execution_count": 158,
   "metadata": {},
   "outputs": [],
   "source": [
    "def draw_trace_bar_Source(data,data_index, feature, title, xlab, ylab,color='Blue'):\n",
    "    '''\n",
    "    this is the function created using plotly for draw a trace bar where\n",
    "    data is main dataframe\n",
    "    data index is x label values\n",
    "    feature is y label values\n",
    "    '''\n",
    "    data = data.sort_values(feature, ascending=False)\n",
    "    trace = go.Bar(\n",
    "            x = data[data_index],\n",
    "            y = data[feature],\n",
    "            marker=dict(color=color),\n",
    "            text=data[data_index]\n",
    "        )\n",
    "    data = [trace]\n",
    "\n",
    "    layout = dict(title = title,\n",
    "              xaxis = dict(title = xlab, showticklabels=True, tickangle=45, \n",
    "                           zeroline=True, zerolinewidth=1, zerolinecolor='grey',\n",
    "                           showline=True, linewidth=2, linecolor='black', mirror=True,\n",
    "                          tickfont=dict(\n",
    "                            size=12,\n",
    "                            color='red'),), \n",
    "              yaxis = dict(title = ylab, gridcolor='lightgrey', zeroline=True, zerolinewidth=1, zerolinecolor='grey',\n",
    "                          showline=True, linewidth=2, linecolor='black', mirror=True),\n",
    "              plot_bgcolor = 'rgba(0, 0, 0, 0)', paper_bgcolor = 'rgba(0, 0, 0, 0)',\n",
    "              hovermode = 'closest'\n",
    "             )\n",
    "    fig = dict(data = data, layout = layout)\n",
    "    iplot(fig, filename='draw_trace')"
   ]
  },
  {
   "cell_type": "code",
   "execution_count": 159,
   "metadata": {},
   "outputs": [
    {
     "data": {
      "application/vnd.plotly.v1+json": {
       "config": {
        "linkText": "Export to plot.ly",
        "plotlyServerURL": "https://plot.ly",
        "showLink": false
       },
       "data": [
        {
         "marker": {
          "color": "lightgreen"
         },
         "text": [
          "Friend",
          "College",
          "Friends",
          "Facebook",
          "Whatsapp",
          "Friend ",
          "Facebook ",
          "My friend",
          "Social media",
          "Friends ",
          "Krishnamita Banerjee",
          "Professor",
          "Sanghamitra Majumder",
          "friend",
          "Whatsapp group",
          "Internet",
          "WhatsApp group",
          "Rohan",
          "From my friend",
          "Facebook Event",
          "Teacher",
          "From a friend",
          "Facebook Ads",
          "Rajeswari pal",
          "Facebook post ",
          "Fb",
          "From whatsapp group",
          "From a friend ",
          "LinkedIn",
          "Friend circle",
          "WhatsApp",
          "My friend ",
          "A friend",
          "Nairanjana Sarkar",
          "Ankita Ghosh",
          "By a friend",
          "By college",
          "facebook",
          "college",
          "Rohan Rakshit",
          "College whatsapp group",
          "Other students",
          "TDM sir",
          "Ritick Sarkar ",
          "One of my friend ",
          "Rittick Npti",
          "Surjo ghosh",
          "Sudip Nandi",
          "Subhra roy",
          "One of my friend informed me about this",
          "Rajeshwari Pal",
          "Subham sah/Manish Kumar",
          "Student of our Institution",
          "Statistics tuition sir (Tulsidas Mukherjee)",
          "Statistics tuition sir",
          "Professor ",
          "Source of reference ",
          "Sanghamitra Majumdar",
          "Soumya brata Mahapatra",
          "One of my friends",
          "Soumya Dutta",
          "SANGHAMITRA MAJUMDER",
          "Rajeswari  pal",
          "One of my friends ",
          "Softanbees free boot camp program",
          "Social Media",
          "Snehashis Debnath",
          "Sister",
          "Pritama Roy",
          "One of my teacher told me about this",
          "Online",
          "Softanbees free boot camp program .",
          " college Senior",
          "TEACHERS",
          "Whatsapp Group",
          "Via friend ",
          "Watsapp",
          "Webminar",
          "What's app reference",
          "Whats app group",
          "WhatsApp ",
          "WhatsApp Group",
          "WhatsApp link",
          "Whatsapp ",
          "Whatsapp Group ",
          "TM sir Group ",
          "Whatsapp chat",
          "Whatsapp group ",
          "Whatsapp group  ",
          "Yes ",
          "email",
          "fb",
          "friends",
          "newspaper ",
          "whatapp group",
          "Via friend",
          "Via WhatsApp message of one of my friend",
          "University friend ",
          "University faculty",
          "Through a friend",
          "Through a friend ",
          "Through college",
          "Tuition batch",
          "Tuition group ",
          "Tuition sir",
          "Nil",
          "Tuition teacher",
          "Tuition teacher ",
          "Tulshi Sir",
          "Tulshidas Mukhopadhyay, Kolkata",
          "Tulshidas Mukhopadhyay,Kolkata",
          "Tulsi Das Mukherjee",
          "Tulsidas Mukherjee ",
          "Tulsidas Sir",
          "Tution Sir",
          "Tution sir",
          "Tution teacher prof Tulsidas Mukherjee",
          "Tutor",
          "No",
          "Mail id",
          "Naser Abdullah Alam ",
          "Debarchan Mukherjee",
          "Department",
          "Dont know",
          "E-Leader",
          "EDC, Diatm",
          "Email ",
          "Entrepreneurship Development Cell, DIATM",
          "FRIEND",
          "FRIEND ",
          "Facebook  ",
          "Facebook Groups",
          "Facebook event",
          "Facebook event ad",
          "Facebook group",
          "Facebook job group page ",
          "Facebook page",
          "Facebook post from a classmate",
          "Fb ",
          "Freind",
          "Freinds",
          "Deepa Mondal",
          "DIATM collage",
          "Friend's suggestions",
          "Cse/eee group Bangladesh ",
          "A status was posted by a senior of my dept.Seeing this I would like to ",
          "A whatsapp group",
          "AIUB course solution",
          "COLLEGE",
          "COLLEGE FRIEND",
          "College ",
          "College Campus",
          "College Faculty",
          "College Friends",
          "College Friends ",
          "College Group",
          "College WhatsApp group ",
          "College facility",
          "College faculties",
          "College group",
          "College teacher",
          "College teacher informed us",
          "College, HOD ",
          "Comilla University   ",
          "Fried",
          "Friend(Ankita Ghosh)",
          "Nairanjana sarkar",
          "I find this program via facebook event. ",
          "Ijaz Mahamud Fuad",
          "Instagram",
          "Jobs  for nsuers",
          "Jobs for nsuers",
          "Krisnomita Banerjee",
          "Link from a friend",
          "Link from friend",
          "Lisha Ghosh ",
          "MD. Rezwan Hosaain Naeem",
          "Mail",
          "A Friend",
          "Manish",
          "Monojit Saha",
          "Mr. Tulshi Das Mukherjee",
          "My College Friend",
          "My Friend",
          "My friend told me",
          "My friend...",
          "My niece",
          "I got to know about this from my college's ma'am.",
          "I came to know about this from my friend",
          "Friend.",
          "HOD of our college's statistics department, PP sir",
          "Friends' suggestion   ",
          "Frined",
          "Frnd",
          "From a Friend",
          "From classmate ",
          "From friends",
          "From friends circle",
          "From my friend Rupsa",
          "From my statistics teacher.",
          "From one of my friends who have joined this program ",
          "From teachers",
          "From teachers of our MCA department.",
          "From the college",
          "From the whatsapp group",
          "From tuition",
          "From varsity group ",
          "Ftiend",
          "Get notified through friends",
          "Group invite link",
          "whatsapp group "
         ],
         "type": "bar",
         "x": [
          "Friend",
          "College",
          "Friends",
          "Facebook",
          "Whatsapp",
          "Friend ",
          "Facebook ",
          "My friend",
          "Social media",
          "Friends ",
          "Krishnamita Banerjee",
          "Professor",
          "Sanghamitra Majumder",
          "friend",
          "Whatsapp group",
          "Internet",
          "WhatsApp group",
          "Rohan",
          "From my friend",
          "Facebook Event",
          "Teacher",
          "From a friend",
          "Facebook Ads",
          "Rajeswari pal",
          "Facebook post ",
          "Fb",
          "From whatsapp group",
          "From a friend ",
          "LinkedIn",
          "Friend circle",
          "WhatsApp",
          "My friend ",
          "A friend",
          "Nairanjana Sarkar",
          "Ankita Ghosh",
          "By a friend",
          "By college",
          "facebook",
          "college",
          "Rohan Rakshit",
          "College whatsapp group",
          "Other students",
          "TDM sir",
          "Ritick Sarkar ",
          "One of my friend ",
          "Rittick Npti",
          "Surjo ghosh",
          "Sudip Nandi",
          "Subhra roy",
          "One of my friend informed me about this",
          "Rajeshwari Pal",
          "Subham sah/Manish Kumar",
          "Student of our Institution",
          "Statistics tuition sir (Tulsidas Mukherjee)",
          "Statistics tuition sir",
          "Professor ",
          "Source of reference ",
          "Sanghamitra Majumdar",
          "Soumya brata Mahapatra",
          "One of my friends",
          "Soumya Dutta",
          "SANGHAMITRA MAJUMDER",
          "Rajeswari  pal",
          "One of my friends ",
          "Softanbees free boot camp program",
          "Social Media",
          "Snehashis Debnath",
          "Sister",
          "Pritama Roy",
          "One of my teacher told me about this",
          "Online",
          "Softanbees free boot camp program .",
          " college Senior",
          "TEACHERS",
          "Whatsapp Group",
          "Via friend ",
          "Watsapp",
          "Webminar",
          "What's app reference",
          "Whats app group",
          "WhatsApp ",
          "WhatsApp Group",
          "WhatsApp link",
          "Whatsapp ",
          "Whatsapp Group ",
          "TM sir Group ",
          "Whatsapp chat",
          "Whatsapp group ",
          "Whatsapp group  ",
          "Yes ",
          "email",
          "fb",
          "friends",
          "newspaper ",
          "whatapp group",
          "Via friend",
          "Via WhatsApp message of one of my friend",
          "University friend ",
          "University faculty",
          "Through a friend",
          "Through a friend ",
          "Through college",
          "Tuition batch",
          "Tuition group ",
          "Tuition sir",
          "Nil",
          "Tuition teacher",
          "Tuition teacher ",
          "Tulshi Sir",
          "Tulshidas Mukhopadhyay, Kolkata",
          "Tulshidas Mukhopadhyay,Kolkata",
          "Tulsi Das Mukherjee",
          "Tulsidas Mukherjee ",
          "Tulsidas Sir",
          "Tution Sir",
          "Tution sir",
          "Tution teacher prof Tulsidas Mukherjee",
          "Tutor",
          "No",
          "Mail id",
          "Naser Abdullah Alam ",
          "Debarchan Mukherjee",
          "Department",
          "Dont know",
          "E-Leader",
          "EDC, Diatm",
          "Email ",
          "Entrepreneurship Development Cell, DIATM",
          "FRIEND",
          "FRIEND ",
          "Facebook  ",
          "Facebook Groups",
          "Facebook event",
          "Facebook event ad",
          "Facebook group",
          "Facebook job group page ",
          "Facebook page",
          "Facebook post from a classmate",
          "Fb ",
          "Freind",
          "Freinds",
          "Deepa Mondal",
          "DIATM collage",
          "Friend's suggestions",
          "Cse/eee group Bangladesh ",
          "A status was posted by a senior of my dept.Seeing this I would like to ",
          "A whatsapp group",
          "AIUB course solution",
          "COLLEGE",
          "COLLEGE FRIEND",
          "College ",
          "College Campus",
          "College Faculty",
          "College Friends",
          "College Friends ",
          "College Group",
          "College WhatsApp group ",
          "College facility",
          "College faculties",
          "College group",
          "College teacher",
          "College teacher informed us",
          "College, HOD ",
          "Comilla University   ",
          "Fried",
          "Friend(Ankita Ghosh)",
          "Nairanjana sarkar",
          "I find this program via facebook event. ",
          "Ijaz Mahamud Fuad",
          "Instagram",
          "Jobs  for nsuers",
          "Jobs for nsuers",
          "Krisnomita Banerjee",
          "Link from a friend",
          "Link from friend",
          "Lisha Ghosh ",
          "MD. Rezwan Hosaain Naeem",
          "Mail",
          "A Friend",
          "Manish",
          "Monojit Saha",
          "Mr. Tulshi Das Mukherjee",
          "My College Friend",
          "My Friend",
          "My friend told me",
          "My friend...",
          "My niece",
          "I got to know about this from my college's ma'am.",
          "I came to know about this from my friend",
          "Friend.",
          "HOD of our college's statistics department, PP sir",
          "Friends' suggestion   ",
          "Frined",
          "Frnd",
          "From a Friend",
          "From classmate ",
          "From friends",
          "From friends circle",
          "From my friend Rupsa",
          "From my statistics teacher.",
          "From one of my friends who have joined this program ",
          "From teachers",
          "From teachers of our MCA department.",
          "From the college",
          "From the whatsapp group",
          "From tuition",
          "From varsity group ",
          "Ftiend",
          "Get notified through friends",
          "Group invite link",
          "whatsapp group "
         ],
         "y": [
          66,
          27,
          26,
          18,
          11,
          10,
          9,
          6,
          6,
          5,
          4,
          4,
          4,
          4,
          3,
          3,
          3,
          3,
          3,
          3,
          3,
          3,
          2,
          2,
          2,
          2,
          2,
          2,
          2,
          2,
          2,
          2,
          2,
          2,
          2,
          2,
          2,
          2,
          2,
          2,
          2,
          1,
          1,
          1,
          1,
          1,
          1,
          1,
          1,
          1,
          1,
          1,
          1,
          1,
          1,
          1,
          1,
          1,
          1,
          1,
          1,
          1,
          1,
          1,
          1,
          1,
          1,
          1,
          1,
          1,
          1,
          1,
          1,
          1,
          1,
          1,
          1,
          1,
          1,
          1,
          1,
          1,
          1,
          1,
          1,
          1,
          1,
          1,
          1,
          1,
          1,
          1,
          1,
          1,
          1,
          1,
          1,
          1,
          1,
          1,
          1,
          1,
          1,
          1,
          1,
          1,
          1,
          1,
          1,
          1,
          1,
          1,
          1,
          1,
          1,
          1,
          1,
          1,
          1,
          1,
          1,
          1,
          1,
          1,
          1,
          1,
          1,
          1,
          1,
          1,
          1,
          1,
          1,
          1,
          1,
          1,
          1,
          1,
          1,
          1,
          1,
          1,
          1,
          1,
          1,
          1,
          1,
          1,
          1,
          1,
          1,
          1,
          1,
          1,
          1,
          1,
          1,
          1,
          1,
          1,
          1,
          1,
          1,
          1,
          1,
          1,
          1,
          1,
          1,
          1,
          1,
          1,
          1,
          1,
          1,
          1,
          1,
          1,
          1,
          1,
          1,
          1,
          1,
          1,
          1,
          1,
          1,
          1,
          1,
          1,
          1,
          1,
          1,
          1,
          1,
          1,
          1,
          1,
          1,
          1,
          1,
          1,
          1,
          1,
          1,
          1,
          1,
          1,
          1,
          1,
          1
         ]
        }
       ],
       "layout": {
        "hovermode": "closest",
        "paper_bgcolor": "rgba(0, 0, 0, 0)",
        "plot_bgcolor": "rgba(0, 0, 0, 0)",
        "template": {
         "data": {
          "bar": [
           {
            "error_x": {
             "color": "#2a3f5f"
            },
            "error_y": {
             "color": "#2a3f5f"
            },
            "marker": {
             "line": {
              "color": "#E5ECF6",
              "width": 0.5
             }
            },
            "type": "bar"
           }
          ],
          "barpolar": [
           {
            "marker": {
             "line": {
              "color": "#E5ECF6",
              "width": 0.5
             }
            },
            "type": "barpolar"
           }
          ],
          "carpet": [
           {
            "aaxis": {
             "endlinecolor": "#2a3f5f",
             "gridcolor": "white",
             "linecolor": "white",
             "minorgridcolor": "white",
             "startlinecolor": "#2a3f5f"
            },
            "baxis": {
             "endlinecolor": "#2a3f5f",
             "gridcolor": "white",
             "linecolor": "white",
             "minorgridcolor": "white",
             "startlinecolor": "#2a3f5f"
            },
            "type": "carpet"
           }
          ],
          "choropleth": [
           {
            "colorbar": {
             "outlinewidth": 0,
             "ticks": ""
            },
            "type": "choropleth"
           }
          ],
          "contour": [
           {
            "colorbar": {
             "outlinewidth": 0,
             "ticks": ""
            },
            "colorscale": [
             [
              0,
              "#0d0887"
             ],
             [
              0.1111111111111111,
              "#46039f"
             ],
             [
              0.2222222222222222,
              "#7201a8"
             ],
             [
              0.3333333333333333,
              "#9c179e"
             ],
             [
              0.4444444444444444,
              "#bd3786"
             ],
             [
              0.5555555555555556,
              "#d8576b"
             ],
             [
              0.6666666666666666,
              "#ed7953"
             ],
             [
              0.7777777777777778,
              "#fb9f3a"
             ],
             [
              0.8888888888888888,
              "#fdca26"
             ],
             [
              1,
              "#f0f921"
             ]
            ],
            "type": "contour"
           }
          ],
          "contourcarpet": [
           {
            "colorbar": {
             "outlinewidth": 0,
             "ticks": ""
            },
            "type": "contourcarpet"
           }
          ],
          "heatmap": [
           {
            "colorbar": {
             "outlinewidth": 0,
             "ticks": ""
            },
            "colorscale": [
             [
              0,
              "#0d0887"
             ],
             [
              0.1111111111111111,
              "#46039f"
             ],
             [
              0.2222222222222222,
              "#7201a8"
             ],
             [
              0.3333333333333333,
              "#9c179e"
             ],
             [
              0.4444444444444444,
              "#bd3786"
             ],
             [
              0.5555555555555556,
              "#d8576b"
             ],
             [
              0.6666666666666666,
              "#ed7953"
             ],
             [
              0.7777777777777778,
              "#fb9f3a"
             ],
             [
              0.8888888888888888,
              "#fdca26"
             ],
             [
              1,
              "#f0f921"
             ]
            ],
            "type": "heatmap"
           }
          ],
          "heatmapgl": [
           {
            "colorbar": {
             "outlinewidth": 0,
             "ticks": ""
            },
            "colorscale": [
             [
              0,
              "#0d0887"
             ],
             [
              0.1111111111111111,
              "#46039f"
             ],
             [
              0.2222222222222222,
              "#7201a8"
             ],
             [
              0.3333333333333333,
              "#9c179e"
             ],
             [
              0.4444444444444444,
              "#bd3786"
             ],
             [
              0.5555555555555556,
              "#d8576b"
             ],
             [
              0.6666666666666666,
              "#ed7953"
             ],
             [
              0.7777777777777778,
              "#fb9f3a"
             ],
             [
              0.8888888888888888,
              "#fdca26"
             ],
             [
              1,
              "#f0f921"
             ]
            ],
            "type": "heatmapgl"
           }
          ],
          "histogram": [
           {
            "marker": {
             "colorbar": {
              "outlinewidth": 0,
              "ticks": ""
             }
            },
            "type": "histogram"
           }
          ],
          "histogram2d": [
           {
            "colorbar": {
             "outlinewidth": 0,
             "ticks": ""
            },
            "colorscale": [
             [
              0,
              "#0d0887"
             ],
             [
              0.1111111111111111,
              "#46039f"
             ],
             [
              0.2222222222222222,
              "#7201a8"
             ],
             [
              0.3333333333333333,
              "#9c179e"
             ],
             [
              0.4444444444444444,
              "#bd3786"
             ],
             [
              0.5555555555555556,
              "#d8576b"
             ],
             [
              0.6666666666666666,
              "#ed7953"
             ],
             [
              0.7777777777777778,
              "#fb9f3a"
             ],
             [
              0.8888888888888888,
              "#fdca26"
             ],
             [
              1,
              "#f0f921"
             ]
            ],
            "type": "histogram2d"
           }
          ],
          "histogram2dcontour": [
           {
            "colorbar": {
             "outlinewidth": 0,
             "ticks": ""
            },
            "colorscale": [
             [
              0,
              "#0d0887"
             ],
             [
              0.1111111111111111,
              "#46039f"
             ],
             [
              0.2222222222222222,
              "#7201a8"
             ],
             [
              0.3333333333333333,
              "#9c179e"
             ],
             [
              0.4444444444444444,
              "#bd3786"
             ],
             [
              0.5555555555555556,
              "#d8576b"
             ],
             [
              0.6666666666666666,
              "#ed7953"
             ],
             [
              0.7777777777777778,
              "#fb9f3a"
             ],
             [
              0.8888888888888888,
              "#fdca26"
             ],
             [
              1,
              "#f0f921"
             ]
            ],
            "type": "histogram2dcontour"
           }
          ],
          "mesh3d": [
           {
            "colorbar": {
             "outlinewidth": 0,
             "ticks": ""
            },
            "type": "mesh3d"
           }
          ],
          "parcoords": [
           {
            "line": {
             "colorbar": {
              "outlinewidth": 0,
              "ticks": ""
             }
            },
            "type": "parcoords"
           }
          ],
          "pie": [
           {
            "automargin": true,
            "type": "pie"
           }
          ],
          "scatter": [
           {
            "marker": {
             "colorbar": {
              "outlinewidth": 0,
              "ticks": ""
             }
            },
            "type": "scatter"
           }
          ],
          "scatter3d": [
           {
            "line": {
             "colorbar": {
              "outlinewidth": 0,
              "ticks": ""
             }
            },
            "marker": {
             "colorbar": {
              "outlinewidth": 0,
              "ticks": ""
             }
            },
            "type": "scatter3d"
           }
          ],
          "scattercarpet": [
           {
            "marker": {
             "colorbar": {
              "outlinewidth": 0,
              "ticks": ""
             }
            },
            "type": "scattercarpet"
           }
          ],
          "scattergeo": [
           {
            "marker": {
             "colorbar": {
              "outlinewidth": 0,
              "ticks": ""
             }
            },
            "type": "scattergeo"
           }
          ],
          "scattergl": [
           {
            "marker": {
             "colorbar": {
              "outlinewidth": 0,
              "ticks": ""
             }
            },
            "type": "scattergl"
           }
          ],
          "scattermapbox": [
           {
            "marker": {
             "colorbar": {
              "outlinewidth": 0,
              "ticks": ""
             }
            },
            "type": "scattermapbox"
           }
          ],
          "scatterpolar": [
           {
            "marker": {
             "colorbar": {
              "outlinewidth": 0,
              "ticks": ""
             }
            },
            "type": "scatterpolar"
           }
          ],
          "scatterpolargl": [
           {
            "marker": {
             "colorbar": {
              "outlinewidth": 0,
              "ticks": ""
             }
            },
            "type": "scatterpolargl"
           }
          ],
          "scatterternary": [
           {
            "marker": {
             "colorbar": {
              "outlinewidth": 0,
              "ticks": ""
             }
            },
            "type": "scatterternary"
           }
          ],
          "surface": [
           {
            "colorbar": {
             "outlinewidth": 0,
             "ticks": ""
            },
            "colorscale": [
             [
              0,
              "#0d0887"
             ],
             [
              0.1111111111111111,
              "#46039f"
             ],
             [
              0.2222222222222222,
              "#7201a8"
             ],
             [
              0.3333333333333333,
              "#9c179e"
             ],
             [
              0.4444444444444444,
              "#bd3786"
             ],
             [
              0.5555555555555556,
              "#d8576b"
             ],
             [
              0.6666666666666666,
              "#ed7953"
             ],
             [
              0.7777777777777778,
              "#fb9f3a"
             ],
             [
              0.8888888888888888,
              "#fdca26"
             ],
             [
              1,
              "#f0f921"
             ]
            ],
            "type": "surface"
           }
          ],
          "table": [
           {
            "cells": {
             "fill": {
              "color": "#EBF0F8"
             },
             "line": {
              "color": "white"
             }
            },
            "header": {
             "fill": {
              "color": "#C8D4E3"
             },
             "line": {
              "color": "white"
             }
            },
            "type": "table"
           }
          ]
         },
         "layout": {
          "annotationdefaults": {
           "arrowcolor": "#2a3f5f",
           "arrowhead": 0,
           "arrowwidth": 1
          },
          "autotypenumbers": "strict",
          "coloraxis": {
           "colorbar": {
            "outlinewidth": 0,
            "ticks": ""
           }
          },
          "colorscale": {
           "diverging": [
            [
             0,
             "#8e0152"
            ],
            [
             0.1,
             "#c51b7d"
            ],
            [
             0.2,
             "#de77ae"
            ],
            [
             0.3,
             "#f1b6da"
            ],
            [
             0.4,
             "#fde0ef"
            ],
            [
             0.5,
             "#f7f7f7"
            ],
            [
             0.6,
             "#e6f5d0"
            ],
            [
             0.7,
             "#b8e186"
            ],
            [
             0.8,
             "#7fbc41"
            ],
            [
             0.9,
             "#4d9221"
            ],
            [
             1,
             "#276419"
            ]
           ],
           "sequential": [
            [
             0,
             "#0d0887"
            ],
            [
             0.1111111111111111,
             "#46039f"
            ],
            [
             0.2222222222222222,
             "#7201a8"
            ],
            [
             0.3333333333333333,
             "#9c179e"
            ],
            [
             0.4444444444444444,
             "#bd3786"
            ],
            [
             0.5555555555555556,
             "#d8576b"
            ],
            [
             0.6666666666666666,
             "#ed7953"
            ],
            [
             0.7777777777777778,
             "#fb9f3a"
            ],
            [
             0.8888888888888888,
             "#fdca26"
            ],
            [
             1,
             "#f0f921"
            ]
           ],
           "sequentialminus": [
            [
             0,
             "#0d0887"
            ],
            [
             0.1111111111111111,
             "#46039f"
            ],
            [
             0.2222222222222222,
             "#7201a8"
            ],
            [
             0.3333333333333333,
             "#9c179e"
            ],
            [
             0.4444444444444444,
             "#bd3786"
            ],
            [
             0.5555555555555556,
             "#d8576b"
            ],
            [
             0.6666666666666666,
             "#ed7953"
            ],
            [
             0.7777777777777778,
             "#fb9f3a"
            ],
            [
             0.8888888888888888,
             "#fdca26"
            ],
            [
             1,
             "#f0f921"
            ]
           ]
          },
          "colorway": [
           "#636efa",
           "#EF553B",
           "#00cc96",
           "#ab63fa",
           "#FFA15A",
           "#19d3f3",
           "#FF6692",
           "#B6E880",
           "#FF97FF",
           "#FECB52"
          ],
          "font": {
           "color": "#2a3f5f"
          },
          "geo": {
           "bgcolor": "white",
           "lakecolor": "white",
           "landcolor": "#E5ECF6",
           "showlakes": true,
           "showland": true,
           "subunitcolor": "white"
          },
          "hoverlabel": {
           "align": "left"
          },
          "hovermode": "closest",
          "mapbox": {
           "style": "light"
          },
          "paper_bgcolor": "white",
          "plot_bgcolor": "#E5ECF6",
          "polar": {
           "angularaxis": {
            "gridcolor": "white",
            "linecolor": "white",
            "ticks": ""
           },
           "bgcolor": "#E5ECF6",
           "radialaxis": {
            "gridcolor": "white",
            "linecolor": "white",
            "ticks": ""
           }
          },
          "scene": {
           "xaxis": {
            "backgroundcolor": "#E5ECF6",
            "gridcolor": "white",
            "gridwidth": 2,
            "linecolor": "white",
            "showbackground": true,
            "ticks": "",
            "zerolinecolor": "white"
           },
           "yaxis": {
            "backgroundcolor": "#E5ECF6",
            "gridcolor": "white",
            "gridwidth": 2,
            "linecolor": "white",
            "showbackground": true,
            "ticks": "",
            "zerolinecolor": "white"
           },
           "zaxis": {
            "backgroundcolor": "#E5ECF6",
            "gridcolor": "white",
            "gridwidth": 2,
            "linecolor": "white",
            "showbackground": true,
            "ticks": "",
            "zerolinecolor": "white"
           }
          },
          "shapedefaults": {
           "line": {
            "color": "#2a3f5f"
           }
          },
          "ternary": {
           "aaxis": {
            "gridcolor": "white",
            "linecolor": "white",
            "ticks": ""
           },
           "baxis": {
            "gridcolor": "white",
            "linecolor": "white",
            "ticks": ""
           },
           "bgcolor": "#E5ECF6",
           "caxis": {
            "gridcolor": "white",
            "linecolor": "white",
            "ticks": ""
           }
          },
          "title": {
           "x": 0.05
          },
          "xaxis": {
           "automargin": true,
           "gridcolor": "white",
           "linecolor": "white",
           "ticks": "",
           "title": {
            "standoff": 15
           },
           "zerolinecolor": "white",
           "zerolinewidth": 2
          },
          "yaxis": {
           "automargin": true,
           "gridcolor": "white",
           "linecolor": "white",
           "ticks": "",
           "title": {
            "standoff": 15
           },
           "zerolinecolor": "white",
           "zerolinewidth": 2
          }
         }
        },
        "title": {
         "text": "Free Session Student Source of communication "
        },
        "xaxis": {
         "linecolor": "black",
         "linewidth": 2,
         "mirror": true,
         "showline": true,
         "showticklabels": true,
         "tickangle": 45,
         "tickfont": {
          "color": "red",
          "size": 12
         },
         "title": {
          "text": "Source of Communication"
         },
         "zeroline": true,
         "zerolinecolor": "grey",
         "zerolinewidth": 1
        },
        "yaxis": {
         "gridcolor": "lightgrey",
         "linecolor": "black",
         "linewidth": 2,
         "mirror": true,
         "showline": true,
         "title": {
          "text": "Total Students"
         },
         "zeroline": true,
         "zerolinecolor": "grey",
         "zerolinewidth": 1
        }
       }
      },
      "text/html": [
       "<div>                            <div id=\"39d233ca-25a9-490d-adff-09573c5766ac\" class=\"plotly-graph-div\" style=\"height:525px; width:100%;\"></div>            <script type=\"text/javascript\">                require([\"plotly\"], function(Plotly) {                    window.PLOTLYENV=window.PLOTLYENV || {};                                    if (document.getElementById(\"39d233ca-25a9-490d-adff-09573c5766ac\")) {                    Plotly.newPlot(                        \"39d233ca-25a9-490d-adff-09573c5766ac\",                        [{\"marker\": {\"color\": \"lightgreen\"}, \"text\": [\"Friend\", \"College\", \"Friends\", \"Facebook\", \"Whatsapp\", \"Friend \", \"Facebook \", \"My friend\", \"Social media\", \"Friends \", \"Krishnamita Banerjee\", \"Professor\", \"Sanghamitra Majumder\", \"friend\", \"Whatsapp group\", \"Internet\", \"WhatsApp group\", \"Rohan\", \"From my friend\", \"Facebook Event\", \"Teacher\", \"From a friend\", \"Facebook Ads\", \"Rajeswari pal\", \"Facebook post \", \"Fb\", \"From whatsapp group\", \"From a friend \", \"LinkedIn\", \"Friend circle\", \"WhatsApp\", \"My friend \", \"A friend\", \"Nairanjana Sarkar\", \"Ankita Ghosh\", \"By a friend\", \"By college\", \"facebook\", \"college\", \"Rohan Rakshit\", \"College whatsapp group\", \"Other students\", \"TDM sir\", \"Ritick Sarkar \", \"One of my friend \", \"Rittick Npti\", \"Surjo ghosh\", \"Sudip Nandi\", \"Subhra roy\", \"One of my friend informed me about this\", \"Rajeshwari Pal\", \"Subham sah/Manish Kumar\", \"Student of our Institution\", \"Statistics tuition sir (Tulsidas Mukherjee)\", \"Statistics tuition sir\", \"Professor \", \"Source of reference \", \"Sanghamitra Majumdar\", \"Soumya brata Mahapatra\", \"One of my friends\", \"Soumya Dutta\", \"SANGHAMITRA MAJUMDER\", \"Rajeswari  pal\", \"One of my friends \", \"Softanbees free boot camp program\", \"Social Media\", \"Snehashis Debnath\", \"Sister\", \"Pritama Roy\", \"One of my teacher told me about this\", \"Online\", \"Softanbees free boot camp program .\", \" college Senior\", \"TEACHERS\", \"Whatsapp Group\", \"Via friend \", \"Watsapp\", \"Webminar\", \"What's app reference\", \"Whats app group\", \"WhatsApp \", \"WhatsApp Group\", \"WhatsApp link\", \"Whatsapp \", \"Whatsapp Group \", \"TM sir Group \", \"Whatsapp chat\", \"Whatsapp group \", \"Whatsapp group  \", \"Yes \", \"email\", \"fb\", \"friends\", \"newspaper \", \"whatapp group\", \"Via friend\", \"Via WhatsApp message of one of my friend\", \"University friend \", \"University faculty\", \"Through a friend\", \"Through a friend \", \"Through college\", \"Tuition batch\", \"Tuition group \", \"Tuition sir\", \"Nil\", \"Tuition teacher\", \"Tuition teacher \", \"Tulshi Sir\", \"Tulshidas Mukhopadhyay, Kolkata\", \"Tulshidas Mukhopadhyay,Kolkata\", \"Tulsi Das Mukherjee\", \"Tulsidas Mukherjee \", \"Tulsidas Sir\", \"Tution Sir\", \"Tution sir\", \"Tution teacher prof Tulsidas Mukherjee\", \"Tutor\", \"No\", \"Mail id\", \"Naser Abdullah Alam \", \"Debarchan Mukherjee\", \"Department\", \"Dont know\", \"E-Leader\", \"EDC, Diatm\", \"Email \", \"Entrepreneurship Development Cell, DIATM\", \"FRIEND\", \"FRIEND \", \"Facebook  \", \"Facebook Groups\", \"Facebook event\", \"Facebook event ad\", \"Facebook group\", \"Facebook job group page \", \"Facebook page\", \"Facebook post from a classmate\", \"Fb \", \"Freind\", \"Freinds\", \"Deepa Mondal\", \"DIATM collage\", \"Friend's suggestions\", \"Cse/eee group Bangladesh \", \"A status was posted by a senior of my dept.Seeing this I would like to \", \"A whatsapp group\", \"AIUB course solution\", \"COLLEGE\", \"COLLEGE FRIEND\", \"College \", \"College Campus\", \"College Faculty\", \"College Friends\", \"College Friends \", \"College Group\", \"College WhatsApp group \", \"College facility\", \"College faculties\", \"College group\", \"College teacher\", \"College teacher informed us\", \"College, HOD \", \"Comilla University   \", \"Fried\", \"Friend(Ankita Ghosh)\", \"Nairanjana sarkar\", \"I find this program via facebook event. \", \"Ijaz Mahamud Fuad\", \"Instagram\", \"Jobs  for nsuers\", \"Jobs for nsuers\", \"Krisnomita Banerjee\", \"Link from a friend\", \"Link from friend\", \"Lisha Ghosh \", \"MD. Rezwan Hosaain Naeem\", \"Mail\", \"A Friend\", \"Manish\", \"Monojit Saha\", \"Mr. Tulshi Das Mukherjee\", \"My College Friend\", \"My Friend\", \"My friend told me\", \"My friend...\", \"My niece\", \"I got to know about this from my college's ma'am.\", \"I came to know about this from my friend\", \"Friend.\", \"HOD of our college's statistics department, PP sir\", \"Friends' suggestion   \", \"Frined\", \"Frnd\", \"From a Friend\", \"From classmate \", \"From friends\", \"From friends circle\", \"From my friend Rupsa\", \"From my statistics teacher.\", \"From one of my friends who have joined this program \", \"From teachers\", \"From teachers of our MCA department.\", \"From the college\", \"From the whatsapp group\", \"From tuition\", \"From varsity group \", \"Ftiend\", \"Get notified through friends\", \"Group invite link\", \"whatsapp group \"], \"type\": \"bar\", \"x\": [\"Friend\", \"College\", \"Friends\", \"Facebook\", \"Whatsapp\", \"Friend \", \"Facebook \", \"My friend\", \"Social media\", \"Friends \", \"Krishnamita Banerjee\", \"Professor\", \"Sanghamitra Majumder\", \"friend\", \"Whatsapp group\", \"Internet\", \"WhatsApp group\", \"Rohan\", \"From my friend\", \"Facebook Event\", \"Teacher\", \"From a friend\", \"Facebook Ads\", \"Rajeswari pal\", \"Facebook post \", \"Fb\", \"From whatsapp group\", \"From a friend \", \"LinkedIn\", \"Friend circle\", \"WhatsApp\", \"My friend \", \"A friend\", \"Nairanjana Sarkar\", \"Ankita Ghosh\", \"By a friend\", \"By college\", \"facebook\", \"college\", \"Rohan Rakshit\", \"College whatsapp group\", \"Other students\", \"TDM sir\", \"Ritick Sarkar \", \"One of my friend \", \"Rittick Npti\", \"Surjo ghosh\", \"Sudip Nandi\", \"Subhra roy\", \"One of my friend informed me about this\", \"Rajeshwari Pal\", \"Subham sah/Manish Kumar\", \"Student of our Institution\", \"Statistics tuition sir (Tulsidas Mukherjee)\", \"Statistics tuition sir\", \"Professor \", \"Source of reference \", \"Sanghamitra Majumdar\", \"Soumya brata Mahapatra\", \"One of my friends\", \"Soumya Dutta\", \"SANGHAMITRA MAJUMDER\", \"Rajeswari  pal\", \"One of my friends \", \"Softanbees free boot camp program\", \"Social Media\", \"Snehashis Debnath\", \"Sister\", \"Pritama Roy\", \"One of my teacher told me about this\", \"Online\", \"Softanbees free boot camp program .\", \" college Senior\", \"TEACHERS\", \"Whatsapp Group\", \"Via friend \", \"Watsapp\", \"Webminar\", \"What's app reference\", \"Whats app group\", \"WhatsApp \", \"WhatsApp Group\", \"WhatsApp link\", \"Whatsapp \", \"Whatsapp Group \", \"TM sir Group \", \"Whatsapp chat\", \"Whatsapp group \", \"Whatsapp group  \", \"Yes \", \"email\", \"fb\", \"friends\", \"newspaper \", \"whatapp group\", \"Via friend\", \"Via WhatsApp message of one of my friend\", \"University friend \", \"University faculty\", \"Through a friend\", \"Through a friend \", \"Through college\", \"Tuition batch\", \"Tuition group \", \"Tuition sir\", \"Nil\", \"Tuition teacher\", \"Tuition teacher \", \"Tulshi Sir\", \"Tulshidas Mukhopadhyay, Kolkata\", \"Tulshidas Mukhopadhyay,Kolkata\", \"Tulsi Das Mukherjee\", \"Tulsidas Mukherjee \", \"Tulsidas Sir\", \"Tution Sir\", \"Tution sir\", \"Tution teacher prof Tulsidas Mukherjee\", \"Tutor\", \"No\", \"Mail id\", \"Naser Abdullah Alam \", \"Debarchan Mukherjee\", \"Department\", \"Dont know\", \"E-Leader\", \"EDC, Diatm\", \"Email \", \"Entrepreneurship Development Cell, DIATM\", \"FRIEND\", \"FRIEND \", \"Facebook  \", \"Facebook Groups\", \"Facebook event\", \"Facebook event ad\", \"Facebook group\", \"Facebook job group page \", \"Facebook page\", \"Facebook post from a classmate\", \"Fb \", \"Freind\", \"Freinds\", \"Deepa Mondal\", \"DIATM collage\", \"Friend's suggestions\", \"Cse/eee group Bangladesh \", \"A status was posted by a senior of my dept.Seeing this I would like to \", \"A whatsapp group\", \"AIUB course solution\", \"COLLEGE\", \"COLLEGE FRIEND\", \"College \", \"College Campus\", \"College Faculty\", \"College Friends\", \"College Friends \", \"College Group\", \"College WhatsApp group \", \"College facility\", \"College faculties\", \"College group\", \"College teacher\", \"College teacher informed us\", \"College, HOD \", \"Comilla University   \", \"Fried\", \"Friend(Ankita Ghosh)\", \"Nairanjana sarkar\", \"I find this program via facebook event. \", \"Ijaz Mahamud Fuad\", \"Instagram\", \"Jobs  for nsuers\", \"Jobs for nsuers\", \"Krisnomita Banerjee\", \"Link from a friend\", \"Link from friend\", \"Lisha Ghosh \", \"MD. Rezwan Hosaain Naeem\", \"Mail\", \"A Friend\", \"Manish\", \"Monojit Saha\", \"Mr. Tulshi Das Mukherjee\", \"My College Friend\", \"My Friend\", \"My friend told me\", \"My friend...\", \"My niece\", \"I got to know about this from my college's ma'am.\", \"I came to know about this from my friend\", \"Friend.\", \"HOD of our college's statistics department, PP sir\", \"Friends' suggestion   \", \"Frined\", \"Frnd\", \"From a Friend\", \"From classmate \", \"From friends\", \"From friends circle\", \"From my friend Rupsa\", \"From my statistics teacher.\", \"From one of my friends who have joined this program \", \"From teachers\", \"From teachers of our MCA department.\", \"From the college\", \"From the whatsapp group\", \"From tuition\", \"From varsity group \", \"Ftiend\", \"Get notified through friends\", \"Group invite link\", \"whatsapp group \"], \"y\": [66, 27, 26, 18, 11, 10, 9, 6, 6, 5, 4, 4, 4, 4, 3, 3, 3, 3, 3, 3, 3, 3, 2, 2, 2, 2, 2, 2, 2, 2, 2, 2, 2, 2, 2, 2, 2, 2, 2, 2, 2, 1, 1, 1, 1, 1, 1, 1, 1, 1, 1, 1, 1, 1, 1, 1, 1, 1, 1, 1, 1, 1, 1, 1, 1, 1, 1, 1, 1, 1, 1, 1, 1, 1, 1, 1, 1, 1, 1, 1, 1, 1, 1, 1, 1, 1, 1, 1, 1, 1, 1, 1, 1, 1, 1, 1, 1, 1, 1, 1, 1, 1, 1, 1, 1, 1, 1, 1, 1, 1, 1, 1, 1, 1, 1, 1, 1, 1, 1, 1, 1, 1, 1, 1, 1, 1, 1, 1, 1, 1, 1, 1, 1, 1, 1, 1, 1, 1, 1, 1, 1, 1, 1, 1, 1, 1, 1, 1, 1, 1, 1, 1, 1, 1, 1, 1, 1, 1, 1, 1, 1, 1, 1, 1, 1, 1, 1, 1, 1, 1, 1, 1, 1, 1, 1, 1, 1, 1, 1, 1, 1, 1, 1, 1, 1, 1, 1, 1, 1, 1, 1, 1, 1, 1, 1, 1, 1, 1, 1, 1, 1, 1, 1, 1, 1, 1, 1, 1, 1, 1, 1]}],                        {\"hovermode\": \"closest\", \"paper_bgcolor\": \"rgba(0, 0, 0, 0)\", \"plot_bgcolor\": \"rgba(0, 0, 0, 0)\", \"template\": {\"data\": {\"bar\": [{\"error_x\": {\"color\": \"#2a3f5f\"}, \"error_y\": {\"color\": \"#2a3f5f\"}, \"marker\": {\"line\": {\"color\": \"#E5ECF6\", \"width\": 0.5}}, \"type\": \"bar\"}], \"barpolar\": [{\"marker\": {\"line\": {\"color\": \"#E5ECF6\", \"width\": 0.5}}, \"type\": \"barpolar\"}], \"carpet\": [{\"aaxis\": {\"endlinecolor\": \"#2a3f5f\", \"gridcolor\": \"white\", \"linecolor\": \"white\", \"minorgridcolor\": \"white\", \"startlinecolor\": \"#2a3f5f\"}, \"baxis\": {\"endlinecolor\": \"#2a3f5f\", \"gridcolor\": \"white\", \"linecolor\": \"white\", \"minorgridcolor\": \"white\", \"startlinecolor\": \"#2a3f5f\"}, \"type\": \"carpet\"}], \"choropleth\": [{\"colorbar\": {\"outlinewidth\": 0, \"ticks\": \"\"}, \"type\": \"choropleth\"}], \"contour\": [{\"colorbar\": {\"outlinewidth\": 0, \"ticks\": \"\"}, \"colorscale\": [[0.0, \"#0d0887\"], [0.1111111111111111, \"#46039f\"], [0.2222222222222222, \"#7201a8\"], [0.3333333333333333, \"#9c179e\"], [0.4444444444444444, \"#bd3786\"], [0.5555555555555556, \"#d8576b\"], [0.6666666666666666, \"#ed7953\"], [0.7777777777777778, \"#fb9f3a\"], [0.8888888888888888, \"#fdca26\"], [1.0, \"#f0f921\"]], \"type\": \"contour\"}], \"contourcarpet\": [{\"colorbar\": {\"outlinewidth\": 0, \"ticks\": \"\"}, \"type\": \"contourcarpet\"}], \"heatmap\": [{\"colorbar\": {\"outlinewidth\": 0, \"ticks\": \"\"}, \"colorscale\": [[0.0, \"#0d0887\"], [0.1111111111111111, \"#46039f\"], [0.2222222222222222, \"#7201a8\"], [0.3333333333333333, \"#9c179e\"], [0.4444444444444444, \"#bd3786\"], [0.5555555555555556, \"#d8576b\"], [0.6666666666666666, \"#ed7953\"], [0.7777777777777778, \"#fb9f3a\"], [0.8888888888888888, \"#fdca26\"], [1.0, \"#f0f921\"]], \"type\": \"heatmap\"}], \"heatmapgl\": [{\"colorbar\": {\"outlinewidth\": 0, \"ticks\": \"\"}, \"colorscale\": [[0.0, \"#0d0887\"], [0.1111111111111111, \"#46039f\"], [0.2222222222222222, \"#7201a8\"], [0.3333333333333333, \"#9c179e\"], [0.4444444444444444, \"#bd3786\"], [0.5555555555555556, \"#d8576b\"], [0.6666666666666666, \"#ed7953\"], [0.7777777777777778, \"#fb9f3a\"], [0.8888888888888888, \"#fdca26\"], [1.0, \"#f0f921\"]], \"type\": \"heatmapgl\"}], \"histogram\": [{\"marker\": {\"colorbar\": {\"outlinewidth\": 0, \"ticks\": \"\"}}, \"type\": \"histogram\"}], \"histogram2d\": [{\"colorbar\": {\"outlinewidth\": 0, \"ticks\": \"\"}, \"colorscale\": [[0.0, \"#0d0887\"], [0.1111111111111111, \"#46039f\"], [0.2222222222222222, \"#7201a8\"], [0.3333333333333333, \"#9c179e\"], [0.4444444444444444, \"#bd3786\"], [0.5555555555555556, \"#d8576b\"], [0.6666666666666666, \"#ed7953\"], [0.7777777777777778, \"#fb9f3a\"], [0.8888888888888888, \"#fdca26\"], [1.0, \"#f0f921\"]], \"type\": \"histogram2d\"}], \"histogram2dcontour\": [{\"colorbar\": {\"outlinewidth\": 0, \"ticks\": \"\"}, \"colorscale\": [[0.0, \"#0d0887\"], [0.1111111111111111, \"#46039f\"], [0.2222222222222222, \"#7201a8\"], [0.3333333333333333, \"#9c179e\"], [0.4444444444444444, \"#bd3786\"], [0.5555555555555556, \"#d8576b\"], [0.6666666666666666, \"#ed7953\"], [0.7777777777777778, \"#fb9f3a\"], [0.8888888888888888, \"#fdca26\"], [1.0, \"#f0f921\"]], \"type\": \"histogram2dcontour\"}], \"mesh3d\": [{\"colorbar\": {\"outlinewidth\": 0, \"ticks\": \"\"}, \"type\": \"mesh3d\"}], \"parcoords\": [{\"line\": {\"colorbar\": {\"outlinewidth\": 0, \"ticks\": \"\"}}, \"type\": \"parcoords\"}], \"pie\": [{\"automargin\": true, \"type\": \"pie\"}], \"scatter\": [{\"marker\": {\"colorbar\": {\"outlinewidth\": 0, \"ticks\": \"\"}}, \"type\": \"scatter\"}], \"scatter3d\": [{\"line\": {\"colorbar\": {\"outlinewidth\": 0, \"ticks\": \"\"}}, \"marker\": {\"colorbar\": {\"outlinewidth\": 0, \"ticks\": \"\"}}, \"type\": \"scatter3d\"}], \"scattercarpet\": [{\"marker\": {\"colorbar\": {\"outlinewidth\": 0, \"ticks\": \"\"}}, \"type\": \"scattercarpet\"}], \"scattergeo\": [{\"marker\": {\"colorbar\": {\"outlinewidth\": 0, \"ticks\": \"\"}}, \"type\": \"scattergeo\"}], \"scattergl\": [{\"marker\": {\"colorbar\": {\"outlinewidth\": 0, \"ticks\": \"\"}}, \"type\": \"scattergl\"}], \"scattermapbox\": [{\"marker\": {\"colorbar\": {\"outlinewidth\": 0, \"ticks\": \"\"}}, \"type\": \"scattermapbox\"}], \"scatterpolar\": [{\"marker\": {\"colorbar\": {\"outlinewidth\": 0, \"ticks\": \"\"}}, \"type\": \"scatterpolar\"}], \"scatterpolargl\": [{\"marker\": {\"colorbar\": {\"outlinewidth\": 0, \"ticks\": \"\"}}, \"type\": \"scatterpolargl\"}], \"scatterternary\": [{\"marker\": {\"colorbar\": {\"outlinewidth\": 0, \"ticks\": \"\"}}, \"type\": \"scatterternary\"}], \"surface\": [{\"colorbar\": {\"outlinewidth\": 0, \"ticks\": \"\"}, \"colorscale\": [[0.0, \"#0d0887\"], [0.1111111111111111, \"#46039f\"], [0.2222222222222222, \"#7201a8\"], [0.3333333333333333, \"#9c179e\"], [0.4444444444444444, \"#bd3786\"], [0.5555555555555556, \"#d8576b\"], [0.6666666666666666, \"#ed7953\"], [0.7777777777777778, \"#fb9f3a\"], [0.8888888888888888, \"#fdca26\"], [1.0, \"#f0f921\"]], \"type\": \"surface\"}], \"table\": [{\"cells\": {\"fill\": {\"color\": \"#EBF0F8\"}, \"line\": {\"color\": \"white\"}}, \"header\": {\"fill\": {\"color\": \"#C8D4E3\"}, \"line\": {\"color\": \"white\"}}, \"type\": \"table\"}]}, \"layout\": {\"annotationdefaults\": {\"arrowcolor\": \"#2a3f5f\", \"arrowhead\": 0, \"arrowwidth\": 1}, \"autotypenumbers\": \"strict\", \"coloraxis\": {\"colorbar\": {\"outlinewidth\": 0, \"ticks\": \"\"}}, \"colorscale\": {\"diverging\": [[0, \"#8e0152\"], [0.1, \"#c51b7d\"], [0.2, \"#de77ae\"], [0.3, \"#f1b6da\"], [0.4, \"#fde0ef\"], [0.5, \"#f7f7f7\"], [0.6, \"#e6f5d0\"], [0.7, \"#b8e186\"], [0.8, \"#7fbc41\"], [0.9, \"#4d9221\"], [1, \"#276419\"]], \"sequential\": [[0.0, \"#0d0887\"], [0.1111111111111111, \"#46039f\"], [0.2222222222222222, \"#7201a8\"], [0.3333333333333333, \"#9c179e\"], [0.4444444444444444, \"#bd3786\"], [0.5555555555555556, \"#d8576b\"], [0.6666666666666666, \"#ed7953\"], [0.7777777777777778, \"#fb9f3a\"], [0.8888888888888888, \"#fdca26\"], [1.0, \"#f0f921\"]], \"sequentialminus\": [[0.0, \"#0d0887\"], [0.1111111111111111, \"#46039f\"], [0.2222222222222222, \"#7201a8\"], [0.3333333333333333, \"#9c179e\"], [0.4444444444444444, \"#bd3786\"], [0.5555555555555556, \"#d8576b\"], [0.6666666666666666, \"#ed7953\"], [0.7777777777777778, \"#fb9f3a\"], [0.8888888888888888, \"#fdca26\"], [1.0, \"#f0f921\"]]}, \"colorway\": [\"#636efa\", \"#EF553B\", \"#00cc96\", \"#ab63fa\", \"#FFA15A\", \"#19d3f3\", \"#FF6692\", \"#B6E880\", \"#FF97FF\", \"#FECB52\"], \"font\": {\"color\": \"#2a3f5f\"}, \"geo\": {\"bgcolor\": \"white\", \"lakecolor\": \"white\", \"landcolor\": \"#E5ECF6\", \"showlakes\": true, \"showland\": true, \"subunitcolor\": \"white\"}, \"hoverlabel\": {\"align\": \"left\"}, \"hovermode\": \"closest\", \"mapbox\": {\"style\": \"light\"}, \"paper_bgcolor\": \"white\", \"plot_bgcolor\": \"#E5ECF6\", \"polar\": {\"angularaxis\": {\"gridcolor\": \"white\", \"linecolor\": \"white\", \"ticks\": \"\"}, \"bgcolor\": \"#E5ECF6\", \"radialaxis\": {\"gridcolor\": \"white\", \"linecolor\": \"white\", \"ticks\": \"\"}}, \"scene\": {\"xaxis\": {\"backgroundcolor\": \"#E5ECF6\", \"gridcolor\": \"white\", \"gridwidth\": 2, \"linecolor\": \"white\", \"showbackground\": true, \"ticks\": \"\", \"zerolinecolor\": \"white\"}, \"yaxis\": {\"backgroundcolor\": \"#E5ECF6\", \"gridcolor\": \"white\", \"gridwidth\": 2, \"linecolor\": \"white\", \"showbackground\": true, \"ticks\": \"\", \"zerolinecolor\": \"white\"}, \"zaxis\": {\"backgroundcolor\": \"#E5ECF6\", \"gridcolor\": \"white\", \"gridwidth\": 2, \"linecolor\": \"white\", \"showbackground\": true, \"ticks\": \"\", \"zerolinecolor\": \"white\"}}, \"shapedefaults\": {\"line\": {\"color\": \"#2a3f5f\"}}, \"ternary\": {\"aaxis\": {\"gridcolor\": \"white\", \"linecolor\": \"white\", \"ticks\": \"\"}, \"baxis\": {\"gridcolor\": \"white\", \"linecolor\": \"white\", \"ticks\": \"\"}, \"bgcolor\": \"#E5ECF6\", \"caxis\": {\"gridcolor\": \"white\", \"linecolor\": \"white\", \"ticks\": \"\"}}, \"title\": {\"x\": 0.05}, \"xaxis\": {\"automargin\": true, \"gridcolor\": \"white\", \"linecolor\": \"white\", \"ticks\": \"\", \"title\": {\"standoff\": 15}, \"zerolinecolor\": \"white\", \"zerolinewidth\": 2}, \"yaxis\": {\"automargin\": true, \"gridcolor\": \"white\", \"linecolor\": \"white\", \"ticks\": \"\", \"title\": {\"standoff\": 15}, \"zerolinecolor\": \"white\", \"zerolinewidth\": 2}}}, \"title\": {\"text\": \"Free Session Student Source of communication \"}, \"xaxis\": {\"linecolor\": \"black\", \"linewidth\": 2, \"mirror\": true, \"showline\": true, \"showticklabels\": true, \"tickangle\": 45, \"tickfont\": {\"color\": \"red\", \"size\": 12}, \"title\": {\"text\": \"Source of Communication\"}, \"zeroline\": true, \"zerolinecolor\": \"grey\", \"zerolinewidth\": 1}, \"yaxis\": {\"gridcolor\": \"lightgrey\", \"linecolor\": \"black\", \"linewidth\": 2, \"mirror\": true, \"showline\": true, \"title\": {\"text\": \"Total Students\"}, \"zeroline\": true, \"zerolinecolor\": \"grey\", \"zerolinewidth\": 1}},                        {\"responsive\": true}                    ).then(function(){\n",
       "                            \n",
       "var gd = document.getElementById('39d233ca-25a9-490d-adff-09573c5766ac');\n",
       "var x = new MutationObserver(function (mutations, observer) {{\n",
       "        var display = window.getComputedStyle(gd).display;\n",
       "        if (!display || display === 'none') {{\n",
       "            console.log([gd, 'removed!']);\n",
       "            Plotly.purge(gd);\n",
       "            observer.disconnect();\n",
       "        }}\n",
       "}});\n",
       "\n",
       "// Listen for the removal of the full notebook cells\n",
       "var notebookContainer = gd.closest('#notebook-container');\n",
       "if (notebookContainer) {{\n",
       "    x.observe(notebookContainer, {childList: true});\n",
       "}}\n",
       "\n",
       "// Listen for the clearing of the current output cell\n",
       "var outputEl = gd.closest('.output');\n",
       "if (outputEl) {{\n",
       "    x.observe(outputEl, {childList: true});\n",
       "}}\n",
       "\n",
       "                        })                };                });            </script>        </div>"
      ]
     },
     "metadata": {},
     "output_type": "display_data"
    }
   ],
   "source": [
    "draw_trace_bar_Source(Communication_Source1,'Source','Source_count','Free Session Student Source of communication ', 'Source of Communication','Total Students',\"lightgreen\")"
   ]
  },
  {
   "cell_type": "code",
   "execution_count": null,
   "metadata": {},
   "outputs": [],
   "source": []
  }
 ],
 "metadata": {
  "kernelspec": {
   "display_name": "Python 3",
   "language": "python",
   "name": "python3"
  },
  "language_info": {
   "codemirror_mode": {
    "name": "ipython",
    "version": 3
   },
   "file_extension": ".py",
   "mimetype": "text/x-python",
   "name": "python",
   "nbconvert_exporter": "python",
   "pygments_lexer": "ipython3",
   "version": "3.8.5"
  }
 },
 "nbformat": 4,
 "nbformat_minor": 4
}
