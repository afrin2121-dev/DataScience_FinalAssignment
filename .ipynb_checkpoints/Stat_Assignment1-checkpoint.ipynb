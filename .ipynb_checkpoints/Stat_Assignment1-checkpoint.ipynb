{
 "cells": [
  {
   "cell_type": "code",
   "execution_count": 3,
   "metadata": {},
   "outputs": [],
   "source": [
    "import numpy as np\n",
    "import math\n",
    "import statistics\n",
    "import scipy.stats\n",
    "import pandas as pd\n"
   ]
  },
  {
   "cell_type": "code",
   "execution_count": 5,
   "metadata": {},
   "outputs": [
    {
     "name": "stdout",
     "output_type": "stream",
     "text": [
      "6.939514089790045\n"
     ]
    }
   ],
   "source": [
    "#problem 1\n",
    "\"\"\"\n",
    ">>Calculation of Growth Factor decreasing for Realistic Stereo shop\n",
    ">>Base price 300\n",
    ">> During $ months Decreased cost: 275, 250, 240, 225\n",
    "\"\"\"\n",
    "a=275/300\n",
    "b=250/275\n",
    "c=240/250\n",
    "d=225/240\n",
    "\n",
    "arr=np.array([a,b,c,d])\n",
    "\n",
    "g=scipy.stats.gmean(arr)\n",
    "\n",
    "result = (1-g)*100\n",
    "print(result)"
   ]
  },
  {
   "cell_type": "code",
   "execution_count": 6,
   "metadata": {},
   "outputs": [
    {
     "name": "stdout",
     "output_type": "stream",
     "text": [
      "enter a number and say \"stop\" to end: 23\n",
      "enter a number and say \"stop\" to end: 35\n",
      "enter a number and say \"stop\" to end: 34\n",
      "enter a number and say \"stop\" to end: 12\n",
      "enter a number and say \"stop\" to end: 12\n",
      "enter a number and say \"stop\" to end: stop\n",
      "mean: 23.2\n",
      "median: 23\n",
      "mode: 12\n"
     ]
    }
   ],
   "source": [
    "#problem 2\n",
    "\"\"\"\n",
    " >>Calculation of Mean Median Mode\n",
    " >>This Calculation has been shown through function\n",
    " >>Mean is the average of the entered value, Median is the middle value after sorting and Mode is the highest frequency value.\n",
    " >>Enter  your number one by one that you want to calculate\n",
    " >>If you want to end the entering write \"stop\"\n",
    " \"\"\"\n",
    "def mean(L):\n",
    "    total = 0\n",
    "    for x in L:\n",
    "        total += x\n",
    "    mean = total / len(L)\n",
    "    return mean\n",
    "\n",
    "\n",
    "def median(L):\n",
    "    L.sort()\n",
    "    if len(L)%2 != 0:\n",
    "        median = L[int(len(L)/2)]\n",
    "    else:\n",
    "        median = L[(int(len(L)/2)) - 1] +  L[int(len(L)/2)]\n",
    "        median = median/2\n",
    "    return median\n",
    "\n",
    "\n",
    "def mode(L):\n",
    "    counter = 0\n",
    "    num = L[0]\n",
    "\n",
    "    for i in L:\n",
    "        curr_frequency = L.count(i)\n",
    "        if(curr_frequency > counter):\n",
    "            counter = curr_frequency\n",
    "            num = i\n",
    "        if len(set(L)) == len(L):\n",
    "            return 'there is no mode'\n",
    "\n",
    "    return num\n",
    "\n",
    "number_list=[]\n",
    "while(True):\n",
    "    ask = input('enter a number and say \"stop\" to end: ')\n",
    "\n",
    "    if ask == 'stop':\n",
    "        break\n",
    "    number_list.append(int(ask))\n",
    "\n",
    "\n",
    "mean = str(mean(number_list))\n",
    "median = str(median(number_list))\n",
    "mode = str(mode(number_list))\n",
    "\n",
    "print('mean: '+ mean + '\\n' + 'median: ' + median + '\\n' + 'mode: ' + mode)\n"
   ]
  },
  {
   "cell_type": "code",
   "execution_count": 7,
   "metadata": {},
   "outputs": [
    {
     "name": "stdout",
     "output_type": "stream",
     "text": [
      "Mode of last week cars age: 6\n",
      "Mean of last week cars age: 5.5\n"
     ]
    }
   ],
   "source": [
    "#problem 3\n",
    "\"\"\"\n",
    ">>Here the ages in years of the cars worked on by village autohaus last week:5,6,3,6,11,7,9,10,2,4,10,6,2,1,5 \n",
    ">>Compute the mode for this data set \n",
    ">>compute the mean of the data set \n",
    ">> Compare parts (a) and (b) and comment on which is the better measure of the central tendency of the data\n",
    "\"\"\"\n",
    "\n",
    "ages_of_cars = [5,6,3,6,11,7,9,10,2,4,6,2,1,5]\n",
    "mode_of_cars = statistics.mode(ages_of_cars)\n",
    "mean_of_cars = statistics.mean(ages_of_cars)\n",
    "print(f\"Mode of last week cars age: {mode_of_cars}\")\n",
    "print(f\"Mean of last week cars age: {mean_of_cars}\")\n",
    "\n",
    "#A measure of central tendency is a single value that attempts to describe a set of data by identifying the central position\n",
    "#within that set of data. if we look into this dataset there is no outliers. So mean wont be affected. And if we look into \n",
    "#the result the mean value is more accurate. So I think for this case Mean is better measure of the central tendency of the data.\n"
   ]
  },
  {
   "cell_type": "code",
   "execution_count": 12,
   "metadata": {},
   "outputs": [
    {
     "name": "stdout",
     "output_type": "stream",
     "text": [
      "55.2\n",
      "3\n"
     ]
    }
   ],
   "source": [
    "#problem 4\n",
    "\"\"\"\n",
    ">>Talent ltd., a Hollywood casting company, is selecting a group of extras for a movie. The ages of the first 20 men to be\n",
    "interviewed are: 50,56,55,49,52,57,56,57,56,59,54,55,61,60,51,59,62,52,54,49 The director of the movie wants men whose ages\n",
    "are fairly tightly grouped around 55 years. Being a statistics buff of sorts, the director suggests that a standard deviation\n",
    "of 3 years would be acceptable. Does this group of extras qualify?\n",
    "\n",
    "\"\"\"\n",
    "age_of_men = [50,56,55,49,52,57,56,57,56,59,54,55,61,60,51,59,62,52,54,49]\n",
    "mean_of_age_of_men = statistics.mean(age_of_men)\n",
    "print(mean_of_age_of_men)\n",
    "Standard_diviation = statistics.stdev(age_of_men)\n",
    "print(Standard_diviation)"
   ]
  },
  {
   "cell_type": "code",
   "execution_count": 13,
   "metadata": {},
   "outputs": [
    {
     "name": "stdout",
     "output_type": "stream",
     "text": [
      "3\n"
     ]
    }
   ],
   "source": [
    "#As we can see that that the standard deviation is near to 3. So This group will be acceptable for the movie.\n",
    "print(int(Standard_diviation))\n",
    "#So as we can see if we convert it into integer value it will give us the exact standard deviation that the director wants."
   ]
  },
  {
   "cell_type": "code",
   "execution_count": 15,
   "metadata": {},
   "outputs": [
    {
     "name": "stdout",
     "output_type": "stream",
     "text": [
      "0.875\n",
      "0.9354143466934853\n"
     ]
    }
   ],
   "source": [
    "#problem 5\n",
    "\"\"\"\n",
    ">> Number of cars: 0, 0.5, 1.0, 1.5, 2.0, 2.5 Frequency: 2, 14, 23, 7, 4, 2 \n",
    ">>(a) Calulate the variance and the standard deviation \n",
    ">>(b) Since the distribution is roughly bell shaped, how many of the obserations should theoretically fall between 0.5 and 1.5?\n",
    ">>Between 0 and 2? How many actually do fall in those intervals?\n",
    "\n",
    "\"\"\"\n",
    "number_of_cars = [0, 0.5, 1.0, 1.5, 2.0, 2.5]\n",
    "frequency = [2, 14, 23, 7, 4, 2]\n",
    "Mean_of_cars=statistics.mean(number_of_cars)\n",
    "Variance = statistics.variance(number_of_cars)\n",
    "print(Variance)\n",
    "Standard_Deviation = statistics.stdev(number_of_cars)\n",
    "print(Standard_Deviation)"
   ]
  },
  {
   "cell_type": "code",
   "execution_count": null,
   "metadata": {},
   "outputs": [],
   "source": []
  }
 ],
 "metadata": {
  "kernelspec": {
   "display_name": "Python 3",
   "language": "python",
   "name": "python3"
  },
  "language_info": {
   "codemirror_mode": {
    "name": "ipython",
    "version": 3
   },
   "file_extension": ".py",
   "mimetype": "text/x-python",
   "name": "python",
   "nbconvert_exporter": "python",
   "pygments_lexer": "ipython3",
   "version": "3.8.5"
  }
 },
 "nbformat": 4,
 "nbformat_minor": 4
}
