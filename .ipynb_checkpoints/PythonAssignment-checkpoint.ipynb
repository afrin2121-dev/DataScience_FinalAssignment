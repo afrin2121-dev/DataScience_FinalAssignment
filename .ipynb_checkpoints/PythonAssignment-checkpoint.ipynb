{
 "cells": [
  {
   "cell_type": "code",
   "execution_count": 4,
   "metadata": {},
   "outputs": [
    {
     "name": "stdout",
     "output_type": "stream",
     "text": [
      "Please enter your work hours-50\n",
      "Sorry!you didn't get any overtime, work hard!\n"
     ]
    }
   ],
   "source": [
    "work_hours=int(input(\"Please enter your work hours: \"))\n",
    "hourly_salary=1500\n",
    "if(work_hours>=40):\n",
    "    overtime_salary=hourly_salary*0.05\n",
    "    print(\"Congratulations you got overtime payment BDT: \",overtime_salary)\n",
    "else:\n",
    "    print(\"Sorry!you didn't get any overtime, work hard!\")"
   ]
  },
  {
   "cell_type": "code",
   "execution_count": 23,
   "metadata": {},
   "outputs": [
    {
     "name": "stdout",
     "output_type": "stream",
     "text": [
      "Please enter your gifts number: -1\n",
      "Don't input Negative value!!\n"
     ]
    }
   ],
   "source": [
    "gift_number=float(input(\"Please enter your gifts number: \"))\n",
    "\n",
    "if(gift_number>0 and gift_number>=10 and gift_number%2==0):\n",
    "    print(\"congratulations!!You got a Gold chain on behalf of king. Thank you from King\")\n",
    "elif(gift_number>0 and gift_number>=4 and gift_number%2!=0):\n",
    "    print(\"congratulations!!You got a Silver chain on behalf of king. Thank you from King\")\n",
    "elif(gift_number>0 and gift_number>=4 and gift_number<10):\n",
    "    print(\"congratulations!!You got a Silver chain on behalf of king. Thank you from King\")\n",
    "elif(gift_number>0 and gift_number<4):\n",
    "    print(\"congratulations!!You got a Mug on behalf of king. Thank you from King\")\n",
    "else:\n",
    "    print(\"Don't input Negative value!!\")\n",
    "    \n"
   ]
  },
  {
   "cell_type": "code",
   "execution_count": 2,
   "metadata": {},
   "outputs": [
    {
     "name": "stdout",
     "output_type": "stream",
     "text": [
      "0.6100143732276846\n"
     ]
    }
   ],
   "source": [
    "import math \n",
    "\n",
    "value= (4*math.cos(30))+(3*math.tan(25))*(math.pi/180)\n",
    "print(value)\n",
    "\n",
    "\n"
   ]
  },
  {
   "cell_type": "code",
   "execution_count": 5,
   "metadata": {},
   "outputs": [
    {
     "name": "stdout",
     "output_type": "stream",
     "text": [
      "Input shorter length of triangle:\n",
      "perpendicular side: 4\n",
      "base side: 3\n",
      "Hypogonuse side: 5\n",
      "Hypotenuse of your triangle:  5.0\n",
      "pythagorus theorem is proved\n"
     ]
    }
   ],
   "source": [
    "from math import sqrt\n",
    "print(\"Input shorter length of triangle:\")\n",
    "a=float(input(\"perpendicular side: \"))\n",
    "b=float(input(\"base side: \"))\n",
    "c=float(input(\"Hypogonuse side: \"))\n",
    "d=sqrt(a**2+b**2)\n",
    "print(\"Hypotenuse of your triangle: \",d)\n",
    "if(d==c):\n",
    "        print(\"pythagorus theorem is proved\")\n",
    "else:\n",
    "        print(\"Try again!\")\n",
    "        \n"
   ]
  },
  {
   "cell_type": "code",
   "execution_count": null,
   "metadata": {},
   "outputs": [],
   "source": []
  },
  {
   "cell_type": "code",
   "execution_count": null,
   "metadata": {},
   "outputs": [],
   "source": []
  },
  {
   "cell_type": "code",
   "execution_count": null,
   "metadata": {},
   "outputs": [],
   "source": []
  },
  {
   "cell_type": "code",
   "execution_count": null,
   "metadata": {},
   "outputs": [],
   "source": []
  }
 ],
 "metadata": {
  "kernelspec": {
   "display_name": "Python 3",
   "language": "python",
   "name": "python3"
  },
  "language_info": {
   "codemirror_mode": {
    "name": "ipython",
    "version": 3
   },
   "file_extension": ".py",
   "mimetype": "text/x-python",
   "name": "python",
   "nbconvert_exporter": "python",
   "pygments_lexer": "ipython3",
   "version": "3.8.5"
  }
 },
 "nbformat": 4,
 "nbformat_minor": 4
}
